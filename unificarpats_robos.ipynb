{
 "cells": [
  {
   "cell_type": "code",
   "execution_count": 8,
   "metadata": {
    "Collapsed": "false"
   },
   "outputs": [],
   "source": [
    "import pandas as pd\n",
    "import numpy as npdd"
   ]
  },
  {
   "cell_type": "code",
   "execution_count": 26,
   "metadata": {
    "Collapsed": "false"
   },
   "outputs": [],
   "source": [
    "pats = pd.read_csv('C:/Users/ilcarbo/Documents/DATA/backup cagadas/pats_final.csv')"
   ]
  },
  {
   "cell_type": "code",
   "execution_count": 35,
   "metadata": {
    "Collapsed": "false"
   },
   "outputs": [],
   "source": [
    "robos = pd.read_csv('C:/Users/ilcarbo/Documents/DATA/backup cagadas/robos_reg.csv')"
   ]
  },
  {
   "cell_type": "code",
   "execution_count": 69,
   "metadata": {
    "Collapsed": "false"
   },
   "outputs": [],
   "source": [
    "# me tengo que quedar solo con los robos de autos patentados en 18 y 19\n",
    "robos['año_pat'] = robos['fecha_inscripcion_inicial'].apply(lambda x: x.split('-')[0])"
   ]
  },
  {
   "cell_type": "code",
   "execution_count": 80,
   "metadata": {
    "Collapsed": "false"
   },
   "outputs": [],
   "source": [
    "robos18_19 = robos[(robos['año_pat'] == '2018') | (robos['año_pat'] == '2019')]"
   ]
  },
  {
   "cell_type": "code",
   "execution_count": 81,
   "metadata": {
    "Collapsed": "false"
   },
   "outputs": [],
   "source": [
    "# tiro los \"anio origen\" = 20\n",
    "robos18_19.drop(robos[robos['automotor_anio_modelo'] == 20].index, axis = 0, inplace= True)"
   ]
  },
  {
   "cell_type": "code",
   "execution_count": 100,
   "metadata": {
    "Collapsed": "false"
   },
   "outputs": [],
   "source": [
    "# cambio genero 'No identificado' por 'No aplica'\n",
    "robos18_19['titular_genero'].replace('No identificado', 'No aplica', inplace= True)"
   ]
  },
  {
   "cell_type": "code",
   "execution_count": 90,
   "metadata": {
    "Collapsed": "false"
   },
   "outputs": [],
   "source": [
    "# tiro los uso \"no declarado\"\n",
    "pats.drop(pats[pats['automotor_uso_descripcion'] == 'No declarado'].index, axis = 0, inplace= True)"
   ]
  },
  {
   "cell_type": "code",
   "execution_count": 110,
   "metadata": {
    "Collapsed": "false"
   },
   "outputs": [],
   "source": [
    "# tiro los años delirantes de patentamientos\n",
    "pats.drop(pats[pats['titular_anio_nacimiento'] > 2019].index, axis = 0, inplace= True)"
   ]
  },
  {
   "cell_type": "code",
   "execution_count": 115,
   "metadata": {
    "Collapsed": "false"
   },
   "outputs": [],
   "source": [
    "# Rehago la limpieza de nacionalidades\n",
    "pats['titular_pais_nacimiento'] = pats['titular_pais_nacimiento'].map(lambda x: x.upper())\n",
    "robos18_19['titular_pais_nacimiento'] = robos18_19['titular_pais_nacimiento'].map(lambda x: x.upper())"
   ]
  },
  {
   "cell_type": "code",
   "execution_count": 118,
   "metadata": {
    "Collapsed": "false"
   },
   "outputs": [],
   "source": [
    "pats['titular_pais_nacimiento'] = pats['titular_pais_nacimiento'].str.normalize('NFKD').str.encode('ascii', errors='ignore').str.decode('utf-8')\n",
    "robos18_19['titular_pais_nacimiento'] = robos18_19['titular_pais_nacimiento'].str.normalize('NFKD').str.encode('ascii', errors='ignore').str.decode('utf-8')"
   ]
  },
  {
   "cell_type": "code",
   "execution_count": 119,
   "metadata": {
    "Collapsed": "false"
   },
   "outputs": [],
   "source": [
    "pats['titular_pais_nacimiento'].replace(to_replace= '.*ARG.*', value= 'ARGENTINA', regex= True, inplace= True)\n",
    "pats['titular_pais_nacimiento'].replace(to_replace= '.*URU.*', value= 'URUGUAY', regex= True, inplace= True)\n",
    "pats['titular_pais_nacimiento'].replace(to_replace= '.*CHI.*', value= 'CHILE', regex= True, inplace= True)\n",
    "pats['titular_pais_nacimiento'].replace(to_replace= '.*EEUU.*', value= 'ESTADOS UNIDOS', regex= True, inplace= True)\n",
    "# Cambiar \"NO APLICA\" y \"NO IDENTIFICADO\" por NaN // REEMPLAZAR POR NO IDENTIFICADO?\n",
    "pats['titular_pais_nacimiento'] = pats['titular_pais_nacimiento'].replace('NO APLICA', np.nan)\n",
    "pats['titular_pais_nacimiento'] = pats['titular_pais_nacimiento'].replace('NO IDENTIFICADO', np.nan)"
   ]
  },
  {
   "cell_type": "code",
   "execution_count": 120,
   "metadata": {
    "Collapsed": "false"
   },
   "outputs": [],
   "source": [
    "robos18_19['titular_pais_nacimiento'].replace(to_replace= '.*ARG.*', value= 'ARGENTINA', regex= True, inplace= True)\n",
    "robos18_19['titular_pais_nacimiento'].replace(to_replace= '.*URU.*', value= 'URUGUAY', regex= True, inplace= True)\n",
    "robos18_19['titular_pais_nacimiento'].replace(to_replace= '.*CHI.*', value= 'CHILE', regex= True, inplace= True)\n",
    "robos18_19['titular_pais_nacimiento'].replace(to_replace= '.*EEUU.*', value= 'ESTADOS UNIDOS', regex= True, inplace= True)\n",
    "# Cambiar \"NO APLICA\" y \"NO IDENTIFICADO\" por NaN // REEMPLAZAR POR NO IDENTIFICADO?\n",
    "robos18_19['titular_pais_nacimiento'] = robos18_19['titular_pais_nacimiento'].replace('NO APLICA', np.nan)\n",
    "robos18_19['titular_pais_nacimiento'] = robos18_19['titular_pais_nacimiento'].replace('NO IDENTIFICADO', np.nan)"
   ]
  },
  {
   "cell_type": "code",
   "execution_count": 124,
   "metadata": {
    "Collapsed": "false"
   },
   "outputs": [],
   "source": [
    "# termino de borrar duplicados y nans\n",
    "robos18_19.drop('año_pat', axis = 1, inplace= True)"
   ]
  },
  {
   "cell_type": "code",
   "execution_count": 134,
   "metadata": {
    "Collapsed": "false"
   },
   "outputs": [
    {
     "data": {
      "text/plain": [
       "(991192, 18)"
      ]
     },
     "execution_count": 134,
     "metadata": {},
     "output_type": "execute_result"
    }
   ],
   "source": [
    "pats.shape"
   ]
  },
  {
   "cell_type": "code",
   "execution_count": 127,
   "metadata": {
    "Collapsed": "false"
   },
   "outputs": [],
   "source": [
    "pats.drop_duplicates(inplace = True)"
   ]
  },
  {
   "cell_type": "code",
   "execution_count": 133,
   "metadata": {
    "Collapsed": "false"
   },
   "outputs": [],
   "source": [
    "pats.dropna(inplace = True)"
   ]
  },
  {
   "cell_type": "code",
   "execution_count": 136,
   "metadata": {
    "Collapsed": "false"
   },
   "outputs": [
    {
     "data": {
      "text/plain": [
       "(1113, 18)"
      ]
     },
     "execution_count": 136,
     "metadata": {},
     "output_type": "execute_result"
    }
   ],
   "source": [
    "robos18_19.shape"
   ]
  },
  {
   "cell_type": "code",
   "execution_count": 130,
   "metadata": {
    "Collapsed": "false"
   },
   "outputs": [],
   "source": [
    "robos18_19.drop_duplicates(inplace = True)"
   ]
  },
  {
   "cell_type": "code",
   "execution_count": 135,
   "metadata": {
    "Collapsed": "false"
   },
   "outputs": [],
   "source": [
    "robos18_19.dropna(inplace = True)"
   ]
  },
  {
   "cell_type": "markdown",
   "metadata": {
    "Collapsed": "false"
   },
   "source": [
    "-----------------------------------"
   ]
  },
  {
   "cell_type": "code",
   "execution_count": 137,
   "metadata": {
    "Collapsed": "false"
   },
   "outputs": [],
   "source": [
    "unif = pd.concat([pats, robos18_19], ignore_index = True)"
   ]
  },
  {
   "cell_type": "code",
   "execution_count": 138,
   "metadata": {
    "Collapsed": "false"
   },
   "outputs": [
    {
     "data": {
      "text/plain": [
       "(992305, 18)"
      ]
     },
     "execution_count": 138,
     "metadata": {},
     "output_type": "execute_result"
    }
   ],
   "source": [
    "unif.shape"
   ]
  },
  {
   "cell_type": "code",
   "execution_count": 140,
   "metadata": {
    "Collapsed": "false"
   },
   "outputs": [],
   "source": [
    "# sacar los patentados que fueron robados para que quede solo trámite de robado\n",
    "#unif = unif[unif.drop(['tramite_tipo', 'tramite_fecha'],axis=1).duplicated(keep = False)].sort_values(by= ['fecha_inscripcion_inicial', 'automotor_marca_descripcion', 'tramite_fecha'])\n",
    "unif.sort_values(by= ['fecha_inscripcion_inicial', 'automotor_marca_descripcion', 'tramite_fecha'], inplace= True)\n",
    "unif.drop_duplicates(subset=unif.columns.difference(['tramite_tipo', 'tramite_fecha']), keep= 'last', inplace = True)"
   ]
  },
  {
   "cell_type": "code",
   "execution_count": 141,
   "metadata": {
    "Collapsed": "false"
   },
   "outputs": [
    {
     "data": {
      "text/plain": [
       "(991268, 18)"
      ]
     },
     "execution_count": 141,
     "metadata": {},
     "output_type": "execute_result"
    }
   ],
   "source": [
    "unif.shape"
   ]
  },
  {
   "cell_type": "code",
   "execution_count": 144,
   "metadata": {
    "Collapsed": "false"
   },
   "outputs": [
    {
     "data": {
      "text/plain": [
       "PATENTADO                   990155\n",
       "DENUNCIA DE ROBO O HURTO      1113\n",
       "Name: tramite_tipo, dtype: int64"
      ]
     },
     "execution_count": 144,
     "metadata": {},
     "output_type": "execute_result"
    }
   ],
   "source": [
    "unif.tramite_tipo.value_counts()"
   ]
  },
  {
   "cell_type": "code",
   "execution_count": 145,
   "metadata": {
    "Collapsed": "false"
   },
   "outputs": [],
   "source": [
    "unif.to_csv('C:/Users/ilcarbo/Documents/DATA/backup cagadas/patentados_robados_juntos_sindups.csv', index= False)"
   ]
  },
  {
   "cell_type": "code",
   "execution_count": null,
   "metadata": {
    "Collapsed": "false"
   },
   "outputs": [],
   "source": []
  }
 ],
 "metadata": {
  "kernelspec": {
   "display_name": "Python 3",
   "language": "python",
   "name": "python3"
  },
  "language_info": {
   "codemirror_mode": {
    "name": "ipython",
    "version": 3
   },
   "file_extension": ".py",
   "mimetype": "text/x-python",
   "name": "python",
   "nbconvert_exporter": "python",
   "pygments_lexer": "ipython3",
   "version": "3.7.1"
  }
 },
 "nbformat": 4,
 "nbformat_minor": 4
}
