{
 "cells": [
  {
   "cell_type": "markdown",
   "metadata": {},
   "source": [
    "# Imports"
   ]
  },
  {
   "cell_type": "code",
   "execution_count": 1,
   "metadata": {},
   "outputs": [],
   "source": [
    "import pandas as pd\n",
    "import numpy as np"
   ]
  },
  {
   "cell_type": "code",
   "execution_count": 9,
   "metadata": {},
   "outputs": [],
   "source": [
    "#glob para manipulación de archivos\n",
    "import glob"
   ]
  },
  {
   "cell_type": "markdown",
   "metadata": {},
   "source": [
    "## Dataset import and setup"
   ]
  },
  {
   "cell_type": "code",
   "execution_count": 15,
   "metadata": {},
   "outputs": [],
   "source": [
    "# importar y concatenar files 2018\n",
    "path = './robos18'\n",
    "all_files = glob.glob(path + \"/*.csv\")\n",
    "\n",
    "df_list18 = []\n",
    "for file in all_files:\n",
    "    df = pd.read_csv(file, parse_dates= ['tramite_fecha', 'fecha_inscripcion_inicial'])\n",
    "    df_list18.append(df)\n",
    "    \n",
    "robos_total18 = pd.concat(df_list18, axis = 0, ignore_index= True)"
   ]
  },
  {
   "cell_type": "code",
   "execution_count": 23,
   "metadata": {},
   "outputs": [
    {
     "data": {
      "text/plain": [
       "(36814, 25)"
      ]
     },
     "execution_count": 23,
     "metadata": {},
     "output_type": "execute_result"
    }
   ],
   "source": [
    "np.shape(robos_total18)"
   ]
  },
  {
   "cell_type": "code",
   "execution_count": 16,
   "metadata": {},
   "outputs": [],
   "source": [
    "# importar y concatenar files 2019\n",
    "path = './robos19'\n",
    "all_files = glob.glob(path + \"/*.csv\")\n",
    "\n",
    "df_list19 = []\n",
    "for file in all_files:\n",
    "    df = pd.read_csv(file, parse_dates= ['tramite_fecha', 'fecha_inscripcion_inicial'])\n",
    "    df_list19.append(df)\n",
    "\n",
    "#hay discrepancias entre los nombres de las dos últimas columnas (titular provincia y pais id)\n",
    "#cambio el nombre de todas por el mismo que figura en los de 2018\n",
    "for df in df_list19:\n",
    "    df.rename(columns={ df.columns[-2]: \"titular_domicilio_provincia_indec_id\" }, inplace = True)\n",
    "    df.rename(columns={ df.columns[-1]: \"titular_pais_nacimiento_indec_id\" }, inplace = True)\n",
    "    \n",
    "robos_total19 = pd.concat(df_list19, axis = 0, ignore_index= True)"
   ]
  },
  {
   "cell_type": "code",
   "execution_count": 43,
   "metadata": {},
   "outputs": [
    {
     "data": {
      "text/plain": [
       "(21413, 25)"
      ]
     },
     "execution_count": 43,
     "metadata": {},
     "output_type": "execute_result"
    }
   ],
   "source": [
    "np.shape(robos_total19)"
   ]
  },
  {
   "cell_type": "code",
   "execution_count": 17,
   "metadata": {},
   "outputs": [],
   "source": [
    "#generar dataset completo concatenando 2018 y 2019\n",
    "robos_full = pd.concat([robos_total18, robos_total19], axis= 0, ignore_index= True)"
   ]
  },
  {
   "cell_type": "code",
   "execution_count": 45,
   "metadata": {},
   "outputs": [
    {
     "data": {
      "text/plain": [
       "(58227, 25)"
      ]
     },
     "execution_count": 45,
     "metadata": {},
     "output_type": "execute_result"
    }
   ],
   "source": [
    "np.shape(robos_full)"
   ]
  },
  {
   "cell_type": "code",
   "execution_count": 46,
   "metadata": {},
   "outputs": [
    {
     "data": {
      "text/html": [
       "<div>\n",
       "<style scoped>\n",
       "    .dataframe tbody tr th:only-of-type {\n",
       "        vertical-align: middle;\n",
       "    }\n",
       "\n",
       "    .dataframe tbody tr th {\n",
       "        vertical-align: top;\n",
       "    }\n",
       "\n",
       "    .dataframe thead th {\n",
       "        text-align: right;\n",
       "    }\n",
       "</style>\n",
       "<table border=\"1\" class=\"dataframe\">\n",
       "  <thead>\n",
       "    <tr style=\"text-align: right;\">\n",
       "      <th></th>\n",
       "      <th>tramite_tipo</th>\n",
       "      <th>tramite_fecha</th>\n",
       "      <th>fecha_inscripcion_inicial</th>\n",
       "      <th>registro_seccional_codigo</th>\n",
       "      <th>registro_seccional_descripcion</th>\n",
       "      <th>registro_seccional_provincia</th>\n",
       "      <th>automotor_origen</th>\n",
       "      <th>automotor_anio_modelo</th>\n",
       "      <th>automotor_tipo_codigo</th>\n",
       "      <th>automotor_tipo_descripcion</th>\n",
       "      <th>...</th>\n",
       "      <th>automotor_uso_descripcion</th>\n",
       "      <th>titular_tipo_persona</th>\n",
       "      <th>titular_domicilio_localidad</th>\n",
       "      <th>titular_domicilio_provincia</th>\n",
       "      <th>titular_genero</th>\n",
       "      <th>titular_anio_nacimiento</th>\n",
       "      <th>titular_pais_nacimiento</th>\n",
       "      <th>titular_porcentaje_titularidad</th>\n",
       "      <th>titular_domicilio_provincia_indec_id</th>\n",
       "      <th>titular_pais_nacimiento_indec_id</th>\n",
       "    </tr>\n",
       "  </thead>\n",
       "  <tbody>\n",
       "    <tr>\n",
       "      <td>0</td>\n",
       "      <td>DENUNCIA DE ROBO O HURTO</td>\n",
       "      <td>2018-08-09</td>\n",
       "      <td>1994-01-18</td>\n",
       "      <td>1005</td>\n",
       "      <td>AVELLANEDA Nº 2</td>\n",
       "      <td>Buenos Aires</td>\n",
       "      <td>Nacional</td>\n",
       "      <td>1994.0</td>\n",
       "      <td>NaN</td>\n",
       "      <td>SEDAN</td>\n",
       "      <td>...</td>\n",
       "      <td>Privado</td>\n",
       "      <td>Física</td>\n",
       "      <td>VILLA DOMINICO-AVELLANEDA</td>\n",
       "      <td>BUENOS AIRES</td>\n",
       "      <td>No identificado</td>\n",
       "      <td>1967.0</td>\n",
       "      <td>Argentina</td>\n",
       "      <td>100</td>\n",
       "      <td>6</td>\n",
       "      <td>ARG</td>\n",
       "    </tr>\n",
       "    <tr>\n",
       "      <td>1</td>\n",
       "      <td>DENUNCIA DE ROBO O HURTO</td>\n",
       "      <td>2018-08-15</td>\n",
       "      <td>2000-10-12</td>\n",
       "      <td>1010</td>\n",
       "      <td>BALCARCE</td>\n",
       "      <td>Buenos Aires</td>\n",
       "      <td>Nacional</td>\n",
       "      <td>2000.0</td>\n",
       "      <td>NaN</td>\n",
       "      <td>BERLINA 3 PTAS.</td>\n",
       "      <td>...</td>\n",
       "      <td>Privado</td>\n",
       "      <td>Física</td>\n",
       "      <td>BALCARCE</td>\n",
       "      <td>BUENOS AIRES</td>\n",
       "      <td>Femenino</td>\n",
       "      <td>1934.0</td>\n",
       "      <td>Argentina</td>\n",
       "      <td>50</td>\n",
       "      <td>6</td>\n",
       "      <td>ARG</td>\n",
       "    </tr>\n",
       "    <tr>\n",
       "      <td>2</td>\n",
       "      <td>DENUNCIA DE ROBO O HURTO</td>\n",
       "      <td>2018-08-16</td>\n",
       "      <td>1994-11-10</td>\n",
       "      <td>1045</td>\n",
       "      <td>LA PLATA Nº 03</td>\n",
       "      <td>Buenos Aires</td>\n",
       "      <td>Nacional</td>\n",
       "      <td>1994.0</td>\n",
       "      <td>NaN</td>\n",
       "      <td>FURGON VIDRIADO</td>\n",
       "      <td>...</td>\n",
       "      <td>Privado</td>\n",
       "      <td>Física</td>\n",
       "      <td>LA PLATA</td>\n",
       "      <td>BUENOS AIRES</td>\n",
       "      <td>Masculino</td>\n",
       "      <td>1991.0</td>\n",
       "      <td>Argentina</td>\n",
       "      <td>100</td>\n",
       "      <td>6</td>\n",
       "      <td>ARG</td>\n",
       "    </tr>\n",
       "    <tr>\n",
       "      <td>3</td>\n",
       "      <td>DENUNCIA DE ROBO O HURTO</td>\n",
       "      <td>2018-08-27</td>\n",
       "      <td>2008-12-01</td>\n",
       "      <td>1058</td>\n",
       "      <td>MAR DEL PLATA Nº 01</td>\n",
       "      <td>Buenos Aires</td>\n",
       "      <td>Nacional</td>\n",
       "      <td>2008.0</td>\n",
       "      <td>NaN</td>\n",
       "      <td>FURGON 600</td>\n",
       "      <td>...</td>\n",
       "      <td>Privado</td>\n",
       "      <td>Física</td>\n",
       "      <td>MAR DEL PLATA</td>\n",
       "      <td>BUENOS AIRES</td>\n",
       "      <td>Femenino</td>\n",
       "      <td>1947.0</td>\n",
       "      <td>Argentina</td>\n",
       "      <td>100</td>\n",
       "      <td>6</td>\n",
       "      <td>ARG</td>\n",
       "    </tr>\n",
       "    <tr>\n",
       "      <td>4</td>\n",
       "      <td>DENUNCIA DE ROBO O HURTO</td>\n",
       "      <td>2018-08-16</td>\n",
       "      <td>1991-07-12</td>\n",
       "      <td>1062</td>\n",
       "      <td>MERLO Nº 1</td>\n",
       "      <td>Buenos Aires</td>\n",
       "      <td>Nacional</td>\n",
       "      <td>1991.0</td>\n",
       "      <td>NaN</td>\n",
       "      <td>BERLINA 5 PTAS</td>\n",
       "      <td>...</td>\n",
       "      <td>Privado</td>\n",
       "      <td>Física</td>\n",
       "      <td>LIBERTAD</td>\n",
       "      <td>BUENOS AIRES</td>\n",
       "      <td>Masculino</td>\n",
       "      <td>1941.0</td>\n",
       "      <td>Argentina</td>\n",
       "      <td>100</td>\n",
       "      <td>6</td>\n",
       "      <td>ARG</td>\n",
       "    </tr>\n",
       "  </tbody>\n",
       "</table>\n",
       "<p>5 rows × 25 columns</p>\n",
       "</div>"
      ],
      "text/plain": [
       "               tramite_tipo tramite_fecha fecha_inscripcion_inicial  \\\n",
       "0  DENUNCIA DE ROBO O HURTO    2018-08-09                1994-01-18   \n",
       "1  DENUNCIA DE ROBO O HURTO    2018-08-15                2000-10-12   \n",
       "2  DENUNCIA DE ROBO O HURTO    2018-08-16                1994-11-10   \n",
       "3  DENUNCIA DE ROBO O HURTO    2018-08-27                2008-12-01   \n",
       "4  DENUNCIA DE ROBO O HURTO    2018-08-16                1991-07-12   \n",
       "\n",
       "   registro_seccional_codigo registro_seccional_descripcion  \\\n",
       "0                       1005                AVELLANEDA Nº 2   \n",
       "1                       1010                       BALCARCE   \n",
       "2                       1045                 LA PLATA Nº 03   \n",
       "3                       1058            MAR DEL PLATA Nº 01   \n",
       "4                       1062                     MERLO Nº 1   \n",
       "\n",
       "  registro_seccional_provincia automotor_origen  automotor_anio_modelo  \\\n",
       "0                 Buenos Aires         Nacional                 1994.0   \n",
       "1                 Buenos Aires         Nacional                 2000.0   \n",
       "2                 Buenos Aires         Nacional                 1994.0   \n",
       "3                 Buenos Aires         Nacional                 2008.0   \n",
       "4                 Buenos Aires         Nacional                 1991.0   \n",
       "\n",
       "   automotor_tipo_codigo automotor_tipo_descripcion  ...  \\\n",
       "0                    NaN                      SEDAN  ...   \n",
       "1                    NaN            BERLINA 3 PTAS.  ...   \n",
       "2                    NaN            FURGON VIDRIADO  ...   \n",
       "3                    NaN                 FURGON 600  ...   \n",
       "4                    NaN             BERLINA 5 PTAS  ...   \n",
       "\n",
       "  automotor_uso_descripcion titular_tipo_persona titular_domicilio_localidad  \\\n",
       "0                   Privado               Física   VILLA DOMINICO-AVELLANEDA   \n",
       "1                   Privado               Física                    BALCARCE   \n",
       "2                   Privado               Física                    LA PLATA   \n",
       "3                   Privado               Física               MAR DEL PLATA   \n",
       "4                   Privado               Física                    LIBERTAD   \n",
       "\n",
       "  titular_domicilio_provincia   titular_genero titular_anio_nacimiento  \\\n",
       "0                BUENOS AIRES  No identificado                  1967.0   \n",
       "1                BUENOS AIRES         Femenino                  1934.0   \n",
       "2                BUENOS AIRES        Masculino                  1991.0   \n",
       "3                BUENOS AIRES         Femenino                  1947.0   \n",
       "4                BUENOS AIRES        Masculino                  1941.0   \n",
       "\n",
       "  titular_pais_nacimiento titular_porcentaje_titularidad  \\\n",
       "0               Argentina                            100   \n",
       "1               Argentina                             50   \n",
       "2               Argentina                            100   \n",
       "3               Argentina                            100   \n",
       "4               Argentina                            100   \n",
       "\n",
       "  titular_domicilio_provincia_indec_id titular_pais_nacimiento_indec_id  \n",
       "0                                    6                              ARG  \n",
       "1                                    6                              ARG  \n",
       "2                                    6                              ARG  \n",
       "3                                    6                              ARG  \n",
       "4                                    6                              ARG  \n",
       "\n",
       "[5 rows x 25 columns]"
      ]
     },
     "execution_count": 46,
     "metadata": {},
     "output_type": "execute_result"
    }
   ],
   "source": [
    "robos_full.head()"
   ]
  },
  {
   "cell_type": "code",
   "execution_count": 47,
   "metadata": {},
   "outputs": [
    {
     "data": {
      "text/plain": [
       "array(['DENUNCIA DE ROBO O HURTO', 'COMUNICACIÓN DE RECUPERO'],\n",
       "      dtype=object)"
      ]
     },
     "execution_count": 47,
     "metadata": {},
     "output_type": "execute_result"
    }
   ],
   "source": [
    "robos_full.tramite_tipo.unique()"
   ]
  },
  {
   "cell_type": "code",
   "execution_count": 18,
   "metadata": {},
   "outputs": [
    {
     "name": "stdout",
     "output_type": "stream",
     "text": [
      "robados tiene 55554 registros\n",
      "robados tiene 2673 registros\n"
     ]
    }
   ],
   "source": [
    "# Separar dataset \"robo/hurto\" de \"recupero\"\n",
    "robados = robos_full[robos_full['tramite_tipo'] == 'DENUNCIA DE ROBO O HURTO']\n",
    "recuperados = robos_full[robos_full['tramite_tipo'] == 'COMUNICACIÓN DE RECUPERO']\n",
    "print(f'robados tiene {np.shape(robados)[0]} registros')\n",
    "print(f'robados tiene {np.shape(recuperados)[0]} registros')"
   ]
  },
  {
   "cell_type": "code",
   "execution_count": 19,
   "metadata": {},
   "outputs": [
    {
     "name": "stderr",
     "output_type": "stream",
     "text": [
      "/home/ilcarbo/anaconda3/lib/python3.7/site-packages/ipykernel_launcher.py:2: SettingWithCopyWarning: \n",
      "A value is trying to be set on a copy of a slice from a DataFrame.\n",
      "Try using .loc[row_indexer,col_indexer] = value instead\n",
      "\n",
      "See the caveats in the documentation: http://pandas.pydata.org/pandas-docs/stable/user_guide/indexing.html#returning-a-view-versus-a-copy\n",
      "  \n",
      "/home/ilcarbo/anaconda3/lib/python3.7/site-packages/ipykernel_launcher.py:3: SettingWithCopyWarning: \n",
      "A value is trying to be set on a copy of a slice from a DataFrame.\n",
      "Try using .loc[row_indexer,col_indexer] = value instead\n",
      "\n",
      "See the caveats in the documentation: http://pandas.pydata.org/pandas-docs/stable/user_guide/indexing.html#returning-a-view-versus-a-copy\n",
      "  This is separate from the ipykernel package so we can avoid doing imports until\n",
      "/home/ilcarbo/anaconda3/lib/python3.7/site-packages/ipykernel_launcher.py:4: SettingWithCopyWarning: \n",
      "A value is trying to be set on a copy of a slice from a DataFrame.\n",
      "Try using .loc[row_indexer,col_indexer] = value instead\n",
      "\n",
      "See the caveats in the documentation: http://pandas.pydata.org/pandas-docs/stable/user_guide/indexing.html#returning-a-view-versus-a-copy\n",
      "  after removing the cwd from sys.path.\n"
     ]
    }
   ],
   "source": [
    "# agregar columna año, mes y día de la semana a robados\n",
    "robados['año'] = robados['tramite_fecha'].dt.year\n",
    "robados['mes'] = robados['tramite_fecha'].dt.month\n",
    "robados['dia_semana'] = robados['tramite_fecha'].dt.weekday"
   ]
  },
  {
   "cell_type": "code",
   "execution_count": 21,
   "metadata": {},
   "outputs": [],
   "source": [
    "# guardar los csvs para laburarlos directamente\n",
    "robos_full.to_csv('./curados/robos1819_total.csv', index=False, encoding='utf-8-sig')\n",
    "robados.to_csv('./curados/robados.csv', index=False, encoding='utf-8-sig')\n",
    "recuperados.to_csv('./curados/recuperados.csv', index=False, encoding='utf-8-sig')"
   ]
  },
  {
   "cell_type": "markdown",
   "metadata": {},
   "source": [
    "-----------------------------------------"
   ]
  },
  {
   "cell_type": "code",
   "execution_count": null,
   "metadata": {},
   "outputs": [],
   "source": []
  }
 ],
 "metadata": {
  "kernelspec": {
   "display_name": "Python 3",
   "language": "python",
   "name": "python3"
  },
  "language_info": {
   "codemirror_mode": {
    "name": "ipython",
    "version": 3
   },
   "file_extension": ".py",
   "mimetype": "text/x-python",
   "name": "python",
   "nbconvert_exporter": "python",
   "pygments_lexer": "ipython3",
   "version": "3.7.1"
  }
 },
 "nbformat": 4,
 "nbformat_minor": 2
}
