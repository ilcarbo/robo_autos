{
 "cells": [
  {
   "cell_type": "markdown",
   "metadata": {
    "Collapsed": "false"
   },
   "source": [
    "# Imports"
   ]
  },
  {
   "cell_type": "code",
   "execution_count": 1,
   "metadata": {
    "Collapsed": "false"
   },
   "outputs": [],
   "source": [
    "import pandas as pd\n",
    "import numpy as np\n",
    "import matplotlib.pyplot as plt\n",
    "import matplotlib.colors as clrs\n",
    "import seaborn as sns\n",
    "import datetime\n",
    "\n",
    "pd.options.display.max_columns = 999\n",
    "%matplotlib inline\n",
    "\n",
    "import warnings\n",
    "warnings.filterwarnings('ignore')"
   ]
  },
  {
   "cell_type": "markdown",
   "metadata": {
    "Collapsed": "false"
   },
   "source": [
    "# Cargar los csvs como pandas dataframes"
   ]
  },
  {
   "cell_type": "code",
   "execution_count": 3,
   "metadata": {
    "Collapsed": "false"
   },
   "outputs": [
    {
     "data": {
      "text/html": [
       "<div>\n",
       "<style scoped>\n",
       "    .dataframe tbody tr th:only-of-type {\n",
       "        vertical-align: middle;\n",
       "    }\n",
       "\n",
       "    .dataframe tbody tr th {\n",
       "        vertical-align: top;\n",
       "    }\n",
       "\n",
       "    .dataframe thead th {\n",
       "        text-align: right;\n",
       "    }\n",
       "</style>\n",
       "<table border=\"1\" class=\"dataframe\">\n",
       "  <thead>\n",
       "    <tr style=\"text-align: right;\">\n",
       "      <th></th>\n",
       "      <th>tramite_tipo</th>\n",
       "      <th>tramite_fecha</th>\n",
       "      <th>fecha_inscripcion_inicial</th>\n",
       "      <th>registro_seccional_descripcion</th>\n",
       "      <th>registro_seccional_provincia</th>\n",
       "      <th>automotor_origen</th>\n",
       "      <th>automotor_anio_modelo</th>\n",
       "      <th>automotor_tipo_descripcion</th>\n",
       "      <th>automotor_marca_descripcion</th>\n",
       "      <th>automotor_modelo_descripcion</th>\n",
       "      <th>automotor_uso_descripcion</th>\n",
       "      <th>titular_tipo_persona</th>\n",
       "      <th>titular_domicilio_localidad</th>\n",
       "      <th>titular_domicilio_provincia</th>\n",
       "      <th>titular_genero</th>\n",
       "      <th>titular_anio_nacimiento</th>\n",
       "      <th>titular_pais_nacimiento</th>\n",
       "      <th>titular_porcentaje_titularidad</th>\n",
       "    </tr>\n",
       "  </thead>\n",
       "  <tbody>\n",
       "    <tr>\n",
       "      <td>0</td>\n",
       "      <td>DENUNCIA DE ROBO O HURTO</td>\n",
       "      <td>2018-01-17</td>\n",
       "      <td>2000-10-05</td>\n",
       "      <td>ESTEBAN ECHEVERRIA Nº 1</td>\n",
       "      <td>Buenos Aires</td>\n",
       "      <td>Nacional</td>\n",
       "      <td>2000.0</td>\n",
       "      <td>SEDAN 4 P</td>\n",
       "      <td>CHEVROLET</td>\n",
       "      <td>CORSA</td>\n",
       "      <td>Privado</td>\n",
       "      <td>Física</td>\n",
       "      <td>MONTE GRANDE</td>\n",
       "      <td>BUENOS AIRES</td>\n",
       "      <td>Masculino</td>\n",
       "      <td>1981.0</td>\n",
       "      <td>ARGENTINA</td>\n",
       "      <td>100</td>\n",
       "    </tr>\n",
       "    <tr>\n",
       "      <td>1</td>\n",
       "      <td>DENUNCIA DE ROBO O HURTO</td>\n",
       "      <td>2018-01-03</td>\n",
       "      <td>2007-11-22</td>\n",
       "      <td>LANUS Nº 1</td>\n",
       "      <td>Buenos Aires</td>\n",
       "      <td>Nacional</td>\n",
       "      <td>2007.0</td>\n",
       "      <td>FURGON</td>\n",
       "      <td>PEUGEOT</td>\n",
       "      <td>PARTNER</td>\n",
       "      <td>Privado</td>\n",
       "      <td>Física</td>\n",
       "      <td>VALENTIN ALSINA</td>\n",
       "      <td>BUENOS AIRES</td>\n",
       "      <td>Femenino</td>\n",
       "      <td>1990.0</td>\n",
       "      <td>ARGENTINA</td>\n",
       "      <td>100</td>\n",
       "    </tr>\n",
       "    <tr>\n",
       "      <td>2</td>\n",
       "      <td>DENUNCIA DE ROBO O HURTO</td>\n",
       "      <td>2018-01-12</td>\n",
       "      <td>1995-02-01</td>\n",
       "      <td>MAR DEL PLATA Nº 02</td>\n",
       "      <td>Buenos Aires</td>\n",
       "      <td>Nacional</td>\n",
       "      <td>1995.0</td>\n",
       "      <td>SEDAN 4 P</td>\n",
       "      <td>RENAULT</td>\n",
       "      <td>RENAULT 19</td>\n",
       "      <td>Privado</td>\n",
       "      <td>Física</td>\n",
       "      <td>UNIDAD TURISTICA CHAPADMALAL</td>\n",
       "      <td>BUENOS AIRES</td>\n",
       "      <td>Masculino</td>\n",
       "      <td>1986.0</td>\n",
       "      <td>ARGENTINA</td>\n",
       "      <td>100</td>\n",
       "    </tr>\n",
       "    <tr>\n",
       "      <td>3</td>\n",
       "      <td>DENUNCIA DE ROBO O HURTO</td>\n",
       "      <td>2018-01-02</td>\n",
       "      <td>1999-09-28</td>\n",
       "      <td>NECOCHEA Nº 1</td>\n",
       "      <td>Buenos Aires</td>\n",
       "      <td>Nacional</td>\n",
       "      <td>1999.0</td>\n",
       "      <td>SEDAN 3 P</td>\n",
       "      <td>RENAULT</td>\n",
       "      <td>CLIO</td>\n",
       "      <td>Privado</td>\n",
       "      <td>Física</td>\n",
       "      <td>NECOCHEA BS.AS.</td>\n",
       "      <td>BUENOS AIRES</td>\n",
       "      <td>No identificado</td>\n",
       "      <td>1964.0</td>\n",
       "      <td>NO IDENTIFICADO</td>\n",
       "      <td>100</td>\n",
       "    </tr>\n",
       "    <tr>\n",
       "      <td>4</td>\n",
       "      <td>DENUNCIA DE ROBO O HURTO</td>\n",
       "      <td>2018-01-09</td>\n",
       "      <td>2006-09-07</td>\n",
       "      <td>PILAR Nº 1</td>\n",
       "      <td>Buenos Aires</td>\n",
       "      <td>Nacional</td>\n",
       "      <td>2006.0</td>\n",
       "      <td>FURGON</td>\n",
       "      <td>PEUGEOT</td>\n",
       "      <td>PARTNER</td>\n",
       "      <td>Privado</td>\n",
       "      <td>Física</td>\n",
       "      <td>PTE. DERQUI</td>\n",
       "      <td>BUENOS AIRES</td>\n",
       "      <td>Femenino</td>\n",
       "      <td>1961.0</td>\n",
       "      <td>ARGENTINA</td>\n",
       "      <td>100</td>\n",
       "    </tr>\n",
       "  </tbody>\n",
       "</table>\n",
       "</div>"
      ],
      "text/plain": [
       "               tramite_tipo tramite_fecha fecha_inscripcion_inicial  \\\n",
       "0  DENUNCIA DE ROBO O HURTO    2018-01-17                2000-10-05   \n",
       "1  DENUNCIA DE ROBO O HURTO    2018-01-03                2007-11-22   \n",
       "2  DENUNCIA DE ROBO O HURTO    2018-01-12                1995-02-01   \n",
       "3  DENUNCIA DE ROBO O HURTO    2018-01-02                1999-09-28   \n",
       "4  DENUNCIA DE ROBO O HURTO    2018-01-09                2006-09-07   \n",
       "\n",
       "  registro_seccional_descripcion registro_seccional_provincia  \\\n",
       "0        ESTEBAN ECHEVERRIA Nº 1                 Buenos Aires   \n",
       "1                     LANUS Nº 1                 Buenos Aires   \n",
       "2            MAR DEL PLATA Nº 02                 Buenos Aires   \n",
       "3                  NECOCHEA Nº 1                 Buenos Aires   \n",
       "4                     PILAR Nº 1                 Buenos Aires   \n",
       "\n",
       "  automotor_origen  automotor_anio_modelo automotor_tipo_descripcion  \\\n",
       "0         Nacional                 2000.0                  SEDAN 4 P   \n",
       "1         Nacional                 2007.0                     FURGON   \n",
       "2         Nacional                 1995.0                  SEDAN 4 P   \n",
       "3         Nacional                 1999.0                  SEDAN 3 P   \n",
       "4         Nacional                 2006.0                     FURGON   \n",
       "\n",
       "  automotor_marca_descripcion automotor_modelo_descripcion  \\\n",
       "0                   CHEVROLET                        CORSA   \n",
       "1                     PEUGEOT                      PARTNER   \n",
       "2                     RENAULT                   RENAULT 19   \n",
       "3                     RENAULT                         CLIO   \n",
       "4                     PEUGEOT                      PARTNER   \n",
       "\n",
       "  automotor_uso_descripcion titular_tipo_persona  \\\n",
       "0                   Privado               Física   \n",
       "1                   Privado               Física   \n",
       "2                   Privado               Física   \n",
       "3                   Privado               Física   \n",
       "4                   Privado               Física   \n",
       "\n",
       "    titular_domicilio_localidad titular_domicilio_provincia   titular_genero  \\\n",
       "0                  MONTE GRANDE                BUENOS AIRES        Masculino   \n",
       "1               VALENTIN ALSINA                BUENOS AIRES         Femenino   \n",
       "2  UNIDAD TURISTICA CHAPADMALAL                BUENOS AIRES        Masculino   \n",
       "3               NECOCHEA BS.AS.                BUENOS AIRES  No identificado   \n",
       "4                   PTE. DERQUI                BUENOS AIRES         Femenino   \n",
       "\n",
       "   titular_anio_nacimiento titular_pais_nacimiento  \\\n",
       "0                   1981.0               ARGENTINA   \n",
       "1                   1990.0               ARGENTINA   \n",
       "2                   1986.0               ARGENTINA   \n",
       "3                   1964.0         NO IDENTIFICADO   \n",
       "4                   1961.0               ARGENTINA   \n",
       "\n",
       "   titular_porcentaje_titularidad  \n",
       "0                             100  \n",
       "1                             100  \n",
       "2                             100  \n",
       "3                             100  \n",
       "4                             100  "
      ]
     },
     "execution_count": 3,
     "metadata": {},
     "output_type": "execute_result"
    }
   ],
   "source": [
    "robados = pd.read_csv('./curados/para_EDA.csv', parse_dates= ['tramite_fecha', 'fecha_inscripcion_inicial'])\n",
    "robados.head()"
   ]
  },
  {
   "cell_type": "code",
   "execution_count": 4,
   "metadata": {
    "Collapsed": "false"
   },
   "outputs": [
    {
     "data": {
      "text/plain": [
       "tramite_tipo                              object\n",
       "tramite_fecha                     datetime64[ns]\n",
       "fecha_inscripcion_inicial         datetime64[ns]\n",
       "registro_seccional_descripcion            object\n",
       "registro_seccional_provincia              object\n",
       "automotor_origen                          object\n",
       "automotor_anio_modelo                    float64\n",
       "automotor_tipo_descripcion                object\n",
       "automotor_marca_descripcion               object\n",
       "automotor_modelo_descripcion              object\n",
       "automotor_uso_descripcion                 object\n",
       "titular_tipo_persona                      object\n",
       "titular_domicilio_localidad               object\n",
       "titular_domicilio_provincia               object\n",
       "titular_genero                            object\n",
       "titular_anio_nacimiento                  float64\n",
       "titular_pais_nacimiento                   object\n",
       "titular_porcentaje_titularidad             int64\n",
       "dtype: object"
      ]
     },
     "execution_count": 4,
     "metadata": {},
     "output_type": "execute_result"
    }
   ],
   "source": [
    "robados.dtypes"
   ]
  },
  {
   "cell_type": "markdown",
   "metadata": {
    "Collapsed": "false"
   },
   "source": [
    "## EDA"
   ]
  },
  {
   "cell_type": "markdown",
   "metadata": {
    "Collapsed": "false"
   },
   "source": [
    "### Robos por año"
   ]
  },
  {
   "cell_type": "code",
   "execution_count": 5,
   "metadata": {
    "Collapsed": "false"
   },
   "outputs": [],
   "source": [
    "# Creo una nueva columna en la que esté codificado el día de la de semana\n",
    "robados[\"anio\"] = robados[\"tramite_fecha\"].dt.year"
   ]
  },
  {
   "cell_type": "code",
   "execution_count": 6,
   "metadata": {
    "Collapsed": "false"
   },
   "outputs": [
    {
     "data": {
      "image/png": "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\n",
      "text/plain": [
       "<Figure size 720x432 with 1 Axes>"
      ]
     },
     "metadata": {
      "needs_background": "light"
     },
     "output_type": "display_data"
    }
   ],
   "source": [
    "#dia_semana_pivot = pd.pivot_table(robados, values = 'tramite_tipo', columns = 'dia_semana',fill_value=0, aggfunc = 'count')\n",
    "plt.figure(figsize=(10,6))\n",
    "ax = sns.countplot(x=\"anio\", data=robados, palette=\"Set3\")\n",
    "ax.set_xticklabels(ax.get_xticklabels(), rotation=40, ha=\"right\")\n",
    "plt.title(\"Cantidad de tramites (robos) por mes\")\n",
    "plt.show()"
   ]
  },
  {
   "cell_type": "markdown",
   "metadata": {
    "Collapsed": "false"
   },
   "source": [
    "### Robos por mes del año"
   ]
  },
  {
   "cell_type": "code",
   "execution_count": 7,
   "metadata": {
    "Collapsed": "false"
   },
   "outputs": [],
   "source": [
    "# Creo una nueva columna en la que esté codificado el día de la de semana\n",
    "robados[\"mes_idx\"] = robados[\"tramite_fecha\"].dt.month"
   ]
  },
  {
   "cell_type": "code",
   "execution_count": 8,
   "metadata": {
    "Collapsed": "false"
   },
   "outputs": [],
   "source": [
    "# Armo una función que codifique los días de la semana \n",
    "def label_month(month_code):\n",
    "    if (month_code==1):\n",
    "        return \"Enero\"\n",
    "    elif (month_code==2):\n",
    "        return \"Febrero\"\n",
    "    elif (month_code==3):\n",
    "        return \"Marzo\"\n",
    "    elif (month_code==4):\n",
    "        return \"Abril\"\n",
    "    elif (month_code==5):\n",
    "        return \"Mayo\"\n",
    "    elif (month_code==6):\n",
    "        return \"Junio\"\n",
    "    elif (month_code==7):\n",
    "        return \"Julio\"\n",
    "    elif (month_code==8):\n",
    "        return \"Agosto\"\n",
    "    elif (month_code==9):\n",
    "        return \"Septiembre\"\n",
    "    elif (month_code==10):\n",
    "        return \"Octubre\"\n",
    "    elif (month_code==11):\n",
    "        return \"Noviembre\"\n",
    "    elif (month_code==12):\n",
    "        return \"Diciembre\""
   ]
  },
  {
   "cell_type": "code",
   "execution_count": 9,
   "metadata": {
    "Collapsed": "false"
   },
   "outputs": [],
   "source": [
    "# Aplico la funcion a una nueva columna \"dia_semana\"\n",
    "robados[\"mes\"] = robados[\"mes_idx\"].apply(lambda x: label_month(x))"
   ]
  },
  {
   "cell_type": "code",
   "execution_count": 10,
   "metadata": {
    "Collapsed": "false"
   },
   "outputs": [],
   "source": [
    "robados[\"mes_anio\"] = robados[\"mes\"].astype(str).str.cat(robados[\"anio\"].astype(str), sep =\" \") "
   ]
  },
  {
   "cell_type": "code",
   "execution_count": 11,
   "metadata": {
    "Collapsed": "false"
   },
   "outputs": [
    {
     "data": {
      "image/png": "iVBORw0KGgoAAAANSUhEUgAAAmoAAAG5CAYAAAA+kBhjAAAABHNCSVQICAgIfAhkiAAAAAlwSFlzAAALEgAACxIB0t1+/AAAADh0RVh0U29mdHdhcmUAbWF0cGxvdGxpYiB2ZXJzaW9uMy4xLjEsIGh0dHA6Ly9tYXRwbG90bGliLm9yZy8QZhcZAAAgAElEQVR4nOzde9xlY/nH8c93jPOZGacxjBjncppQSSRnoUJUckyKoiNKESEdkGMRoRJShJ+SlHQSo6SkmFDkNCKGULh+f1z3btbs2c/Ms/ez937WPL7v12te86y1117XWmuvfe9r3fe97qWIwMzMzMzqZ9Rwb4CZmZmZteZEzczMzKymnKiZmZmZ1ZQTNTMzM7OacqJmZmZmVlNO1MzMzMxqyoma2Qgm6SuSPjWL10PSKh2u+z5JbxrksntL+kUncYaDpB9I2qtPsb4taecO3zuhfIaju7xNN0taq5vrNLPOOFEz6zNJ75A0WdLTkh4qScEmXVjvTMlQRBwYEccOdd3DSdINkvbvZ8yI2DYiLijxe5ZkSnoVsA7w/V6sfwi+CBwz3BthZk7UzPpK0oeBU4DjgaWBFYAzgZ2Gc7vmZN2uTeqz9wLfigFGHh/GfbsS2FzSsr0ONId/fmY950TNrE8kLUrWUhwUEd+LiGci4r8RcVVEfKwss6GkX0v6V6ltO13SPJV1hKQDJd0t6QlJZyitAXwFeE2pqftXWf58SZ+tvP9jZb0PStq3afu2l/Q7SU9Jul/S0U2v7ynpb5L+KemTs9nXJSVdWdZ1M7By0+urS7pO0uOS/iJptwHWcxzweuD0sl+nV47DQZLuBu4u875ctvspSbdKen1lPUdL+o6kb0qaJukPklaVdISkR8v7tqosf4Ok/WdxXOeV9EVJf5f0SGlinr+8NkbS1eUzfFzSzyUNVNZuC/ysEndvSb+UdLKkx4GjJY2SdGQ59o9KurCcS1X7ls/0IUkfqaxvXkmnlNceLH/PO7vtjIjngFuBrWihsp2nSXpS0p8lbVF5fbny+T8uaYqk9zR9FpeVz+IpYO8W6z9f0pnK2uanS6xlyvY/UeKt1xTvu5KmSrpX0gcrr22orMF+qnxWJw3wWZjVkhM1s/55DTAfcPkslnkR+BAwpiy/BfD+pmV2AF5NNpntBmwdEXcCBwK/joiFImKx5hVL2gb4KLAlMBFo7l/2DPBuYDFge+B9Kn2nJK0JnAXsCSwHLAksP4v9OAN4DlgW2Lf8a2zHgsB1wEXAUsAewJlq0ScqIj4J/Bw4uOzXwZWXdwY2AtYs07cA6wJLlHV/R9J8leXfDHwDWBz4HXAtWQaOIxPor7aIP9BxPRFYtcRbpazj0+W1jwAPAGPJWtNPADPVmJXjsBLwl6aXNgLuKcfmODKR2RvYHHgFsBBwetN7Nic/062AwzW97+AngY3Ldq4DbAgcOcjtvLO8ZyCN7RwDHAV8T9IS5bVvl3UvB+wCHF9N5Mga5MvIc+1bA6x/t7KtY4DngV8Dvy3TlwEnAZTk8irg9+TnsAVwqKSty3q+DHw5IhYhLxguncU+mdWOEzWz/lkSeCwiXhhogYi4NSJuiogXIuI+Mnl4Q9Nin4uIf0XE34Gfkj/Cg7Eb8PWI+GNEPAMc3RT7hoj4Q0S8FBG3kz+2jdi7AFdHxI0R8TzwKeClVkEkzQW8Dfh0qTX8I3BBZZEdgPsi4utlP38LfLfEaMcJEfF4RDxbtv+bEfHPss4vAfMCq1WW/3lEXFuO/3fIBOVzEfFf4GJggqSZEtwW+yfgPcCHSvxpZFP27mWR/5IJ6oqlxvTnAzRtNmJNa5r/YEScVvbjWeCdwEkRcU9EPA0cAeyuGZsMP1OO9R+Ar5PJL+W9x0TEoxExFfgMmWwPZjunVbaxlUeBU8p7LyETzu0ljQc2AQ6LiOci4jbga5W4kInvFeVce3aA9V9evg/PkRc3z0XEhRHxInAJ0KhRezUwNiKOiYj/RMQ9wDnM+HmsImlMRDwdETfNYp/MaseJmln//BMYo1n0ySnNcVdLerg0Cx1P1iBUPVz5+99kDctgLAfcX5n+W1PsjST9tDQfPUnWJI1p9d6S6P1zgDhjgdGziLUisFFpcvtXaU58J7DMIPejobp+JH1E0p2lKe5fwKLMeOweqfz9LJk0v1iZhsEdy7HAAsCtle3/YZkP8AVgCvAjSfdIOnyA9fyr/L/wrPaLPPbV4/c38vguPcB7/lbeM9B7G6/NbjsXrmxjK/9oSuwa614OaCSw1dfGDbC9A2n+vJqnG5/VisByTefTJ5h+fPYjaz//LOkWSTsMIrZZbThRM+ufX5PNgbMaiuEs4M/AxNJU8wlAg1x/yw7pFQ8B4yvTKzS9fhHZiXx8RCxK9s1Sq/dKWoCsIWxlKvDCLGLdD/wsIhar/FsoIt43wPoG2q//zVf2RzuMrDVcvDRRPsngj92sNMd/jEwU1qps/6IRsRBAREyLiI9ExCvI5tYPNzX7UZZ7BvgrmUTMKt6DZDLSsAJ5fKuJS/OxfnAW731wkNu5BtmcOJBxpXaxed0PAktIWrjptX9Upmd3rrbjfuDepvNp4YjYDiAi7o6IPcim5BOBy0qzs9kcwYmaWZ9ExJNkP6YzJO0saQFJc0vaVtLny2ILA08BT0taHRgoeWnlEWB5VW4+aHIpsLekNUuidVTT6wuTNSHPSdoQeEfltcuAHSRtUtZ/DAOUH6WW6ntkR/gFSv+26phkVwOrKm9OmLv8e7Wy4/5A+/WKgXf7f9v+Apkkjpb0aWCR2bxnsGY4rhHxEtm0drKkpQAkjWv0iZK0g6RVShLzFNnv8MXWq+YaZm7abvZt4EOSVpK0EFnLeklTE/qnyrFeC9iHbBpsvPdISWMljSHPv2/ObjuVNxxsQPYlHMhSwAfL57crmdhdExH3A78CTpA0n3IIkv0YuC/aUN0MPCXpMEnzS5pL0tqSXl325V2SxpbPrVFDONDnYVY7TtTM+igiTgI+THaSnkrWBhwMXFEW+SiZIE0jk4FLWqxmID8B7gAelvRYi9g/IIcG+QnZ5PWTpkXeDxwjaRr5g35p5b13AAeRtW4PAU+QncUHcjDZNPUwcD7Zb6qxrmlkp/fdydqXh8majnkHWNeXgV3K3X6nDrDMtcAPgLvIZrbnGFzz2mC0Oq6HkcfwptJE/WOm94ebWKafJmtRz4yIGwZY99nAO5tqppqdR94EcSNwL7lvH2ha5mdle64HvhgRPyrzPwtMBm4H/kB2xm/cBTyr7dwRuCEiGjVzrfymrOMx8qaHXSKi0Ry+BzCB/HwvB46KiFklfR0rFwZvJvtq3lu252tk0zfANsAdkp4mz6XdS783szmCWvdxNTOzfpB0EXBpRFwx24X7RNJvgP3KjSCtXt8b2D8ihjxQs5nNmgcaNDMbRhHxjtkv1V8RsdFwb4OZJTd9mpmZmdWUmz7NzMzMaso1amZmZmY15UTNzMzMrKZG5M0EY8aMiQkTJgz3ZpiZmZnN1q233vpYRIxt9dqITNQmTJjA5MmTh3szzMzMzGZL0t8Ges1Nn2ZmZmY15UTNzMzMrKacqJmZmZnVlBM1MzMzs5pyomZmZmZWU07UzMzMzGrKiZqZmZlZTTlRMzMzM6spJ2pmZmZmNeVEzczMzKymnKiZmZmZ1ZQTNTMzM7OacqJmZmZmVlOjh3sDzGzonv3jg11f5/xrL9f1dZqZWXtco2ZmZmZWU07UzMzMzGrKiZqZmZlZTTlRMzMzM6spJ2pmZmZmNeVEzczMzKymnKiZmZmZ1ZQTNTMzM7OacqJmZmZmVlN+MoFZD11x2xFdX+fO657Q9XWamVk9uUbNzMzMrKacqJmZmZnVlBM1MzMzs5pyomZmZmZWU07UzMzMzGrKiZqZmZlZTTlRMzMzM6spj6NmZmZmc6Rn//hg19c5/9rLdX2dQ+FEzWrhC1fc3JP1fmznDXuyXuu9a068pifr3e6w7XqyXjOzXnDTp5mZmVlNOVEzMzMzqyk3fZqZmQ0Td/uw2XGNmpmZmVlNuUbNzMzMuuaK247oyXp3XveEnqy37npWoyZpPkk3S/q9pDskfabMX0nSbyTdLekSSfOU+fOW6Snl9QmVdR1R5v9F0ta92mYzMzOzOull0+fzwBsjYh1gXWAbSRsDJwInR8RE4Algv7L8fsATEbEKcHJZDklrArsDawHbAGdKmquH221mZmZWCz1L1CI9XSbnLv8CeCNwWZl/AbBz+XunMk15fQtJKvMvjojnI+JeYArgXpJmZmY24vX0ZgJJc0m6DXgUuA74K/CviHihLPIAMK78PQ64H6C8/iSwZHV+i/dUYx0gabKkyVOnTu3F7piZmZn1VU8TtYh4MSLWBZYna8HWaLVY+V8DvDbQ/OZYZ0fEpIiYNHbs2E432czMzKw2+nLXZ0T8S9INwMbAYpJGl1qz5YHGg7oeAMYDD0gaDSwKPF6Z31B9z2yddcuNQ9+BJu979aZdX6eZWTe57DMbGXp51+dYSYuVv+cH3gTcCfwU2KUsthfw/fL3lWWa8vpPIiLK/N3LXaErAROB3owQaGZmZlYjvaxRWxa4oNyhOQq4NCKulvQn4GJJnwV+B5xblj8X+IakKWRN2u4AEXGHpEuBPwEvAAdFxIs93G4zM3uZm3ryZ7u+zrEfOrLr67SRr2eJWkTcDqzXYv49tLhrMyKeA3YdYF3HAcd1exvNzMzM6sxPJjAzMzObjbvuuqvr61x11VVnu4yf9WlmZmZWU07UzMzMzGrKiZqZmZlZTTlRMzMzM6spJ2pmZmZmNeW7Ps3MbI5w40/v7Po6N9281ZMNzerDiZrNkgd9NDMzGz5u+jQzMzOrKdeozYF6Uf0PbgIwMzOrG9eomZmZmdWUa9TMzGxInn32+q6vc/75t+j6Os3mRK5RMzMzM6spJ2pmZmZmNeVEzczMzKymnKiZmZmZ1ZQTNTMzM7OacqJmZmZmVlMensPMXvZue+iWrq9z3WVf3fV1mtnLj2vUzMzMzGrKiZqZmZlZTTlRMzMzM6sp91Gzl52pV3+86+scu8Pnu77Ourrrrru6vs5VV1216+s0MxsJXKNmZmZmVlNO1MzMzMxqyomamZmZWU05UTMzMzOrKSdqZmZmZjXlRM3MzMysppyomZmZmdWUEzUzMzOzmnKiZmZmZlZTTtTMzMzMasqJmpmZmVlNOVEzMzMzqyknamZmZmY15UTNzMzMrKacqJmZmZnVVM8SNUnjJf1U0p2S7pB0SJl/tKR/SLqt/Nuu8p4jJE2R9BdJW1fmb1PmTZF0eK+22czMzKxORvdw3S8AH4mI30paGLhV0nXltZMj4ovVhSWtCewOrAUsB/xY0qrl5TOALYEHgFskXRkRf+rhtpuZmZkNu54lahHxEPBQ+XuapDuBcbN4y07AxRHxPHCvpCnAhuW1KRFxD4Cki8uyTtTMzMxsROtLHzVJE4D1gN+UWQdLul3SeZIWL/PGAfdX3vZAmTfQ/OYYB0iaLGny1KlTu7wHZmZmZv3Xy6ZPACQtBHwXODQinpJ0FnAsEOX/LwH7Amrx9qB1MhkzzYg4GzgbYNKkSTO93g/PPnt919c5//xbdH2dZmZmNmfoaaImaW4ySftWRHwPICIeqbx+DnB1mXwAGF95+/LAg+XvgeabmZmZjVi9vOtTwLnAnRFxUmX+spXF3gL8sfx9JbC7pHklrQRMBG4GbgEmSlpJ0jzkDQdX9mq7zczMzOqilzVqrwP2BP4g6bYy7xPAHpLWJZsv7wPeCxARd0i6lLxJ4AXgoIh4EUDSwcC1wFzAeRFxRw+328ysJx7/2zE9We8SK366J+s1s+HXy7s+f0HrfmfXzOI9xwHHtZh/zazeZ2ZmZjYS+ckEZmZmZjXlRM3MzMysppyomZmZmdVUz8dRMzMzs+E39eqPd32dY3f4fNfXaTNyjZqZmZlZTTlRMzMzM6spJ2pmZmZmNeVEzczMzKymnKiZmZmZ1ZQTNTMzM7OacqJmZmZmVlNO1MzMzMxqyomamZmZWU05UTMzMzOrKSdqZmZmZjXlRM3MzMysppyomZmZmdWUEzUzMzOzmnKiZmZmZlZTTtTMzMzMasqJmpmZmVlNOVEzMzMzqyknamZmZmY15UTNzMzMrKacqJmZmZnVlBM1MzMzs5pyomZmZmZWU07UzMzMzGrKiZqZmZlZTTlRMzMzM6spJ2pmZmZmNeVEzczMzKymnKiZmZmZ1ZQTNTMzM7OacqJmZmZmVlNO1MzMzMxqyomamZmZWU05UTMzMzOrqZ4lapLGS/qppDsl3SHpkDJ/CUnXSbq7/L94mS9Jp0qaIul2SetX1rVXWf5uSXv1apvNzMzM6qSXNWovAB+JiDWAjYGDJK0JHA5cHxETgevLNMC2wMTy7wDgLMjEDjgK2AjYEDiqkdyZmZmZjWQ9S9Qi4qGI+G35expwJzAO2Am4oCx2AbBz+Xsn4MJINwGLSVoW2Bq4LiIej4gngOuAbXq13WZmZmZ10Zc+apImAOsBvwGWjoiHIJM5YKmy2Djg/srbHijzBprfHOMASZMlTZ46dWq3d8HMzMys73qeqElaCPgucGhEPDWrRVvMi1nMn3FGxNkRMSkiJo0dO7azjTUzMzOrkZ4mapLmJpO0b0XE98rsR0qTJuX/R8v8B4DxlbcvDzw4i/lmZmZmI1ov7/oUcC5wZ0ScVHnpSqBx5+ZewPcr899d7v7cGHiyNI1eC2wlafFyE8FWZZ6ZmZnZiDa6h+t+HbAn8AdJt5V5nwA+B1wqaT/g78Cu5bVrgO2AKcC/gX0AIuJxSccCt5TljomIx3u43WZmZma10LNELSJ+Qev+ZQBbtFg+gIMGWNd5wHnd2zozMzOz+vOTCczMzMxqyomamZmZWU05UTMzMzOrKSdqZmZmZjXlRM3MzMysppyomZmZmdWUEzUzMzOzmnKiZmZmZlZTg0rUJF0/mHlmZmZm1j2zfDKBpPmABYAx5TmbjScNLAIs1+NtMzMzM3tZm90jpN4LHEomZbcyPVF7Cjijh9tlZmZm9rI3y0QtIr4MfFnSByLitD5tk5mZmZkxyIeyR8Rpkl4LTKi+JyIu7NF2mZmZmb3sDSpRk/QNYGXgNuDFMjsAJ2pmZmZmPTKoRA2YBKwZEdHLjTEzMzOz6QY7jtofgWV6uSFmZmZmNqPB1qiNAf4k6Wbg+cbMiNixJ1tlZmZmZoNO1I7u5UaYmZmZ2cwGe9fnz3q9IWZmZmY2o8He9TmNvMsTYB5gbuCZiFikVxtmZmZm9nI32Bq1havTknYGNuzJFpmZmZkZMPi7PmcQEVcAb+zytpiZmZlZxWCbPt9amRxFjqvmMdXMzMzMemiwd32+ufL3C8B9wE5d3xozMzMz+5/B9lHbp9cbYmZmZmYzGlQfNUnLS7pc0qOSHpH0XUnL93rjzMzMzF7OBnszwdeBK4HlgHHAVWWemZmZmfXIYBO1sRHx9Yh4ofw7Hxjbw+0yMzMze9kbbKL2mKR3SZqr/HsX8M9ebpiZmZnZy91gE7V9gd2Ah4GHgF0A32BgZmZm1kODHZ7jWGCviHgCQNISwBfJBM7MzMzMemCwNWqvaiRpABHxOLBebzbJzMzMzGDwidooSYs3JkqN2mBr48zMzMysA4NNtr4E/ErSZeSjo3YDjuvZVpmZmZnZoJ9McKGkyeSD2AW8NSL+1NMtMzMzM3uZG3TzZUnMnJyZmZmZ9clg+6iZmZmZWZ85UTMzMzOrqZ4lapLOKw9x/2Nl3tGS/iHptvJvu8prR0iaIukvkrauzN+mzJsi6fBeba+ZmZlZ3fSyRu18YJsW80+OiHXLv2sAJK0J7A6sVd5zZuNxVcAZwLbAmsAeZVkzMzOzEa9nY6FFxI2SJgxy8Z2AiyPieeBeSVOADctrUyLiHgBJF5dlfVODmZmZjXjD0UftYEm3l6bRxiC644D7K8s8UOYNNN/MzMxsxOt3onYWsDKwLvlw9y+V+WqxbMxi/kwkHSBpsqTJU6dO7ca2mpmZmQ2rviZqEfFIRLwYES8B5zC9efMBYHxl0eWBB2cxv9W6z46ISRExaezYsd3feDMzM7M+62uiJmnZyuRbgMYdoVcCu0uaV9JKwETgZuAWYKKklSTNQ95wcGU/t9nMzMxsuPTsZgJJ3wY2A8ZIegA4CthM0rpk8+V9wHsBIuIOSZeSNwm8ABwUES+W9RwMXAvMBZwXEXf0apvNzMzM6qSXd33u0WL2ubNY/jhaPOi9DOFxTRc3zczMzGyO4CcTmJmZmdWUEzUzMzOzmnKiZmZmZlZTTtTMzMzMasqJmpmZmVlNOVEzMzMzqyknamZmZmY15UTNzMzMrKacqJmZmZnVlBM1MzMzs5pyomZmZmZWU07UzMzMzGrKiZqZmZlZTTlRMzMzM6spJ2pmZmZmNeVEzczMzKymnKiZmZmZ1ZQTNTMzM7OacqJmZmZmVlNO1MzMzMxqyomamZmZWU05UTMzMzOrKSdqZmZmZjXlRM3MzMysppyomZmZmdWUEzUzMzOzmnKiZmZmZlZTTtTMzMzMasqJmpmZmVlNOVEzMzMzqyknamZmZmY15UTNzMzMrKacqJmZmZnVlBM1MzMzs5pyomZmZmZWU07UzMzMzGrKiZqZmZlZTTlRMzMzM6upniVqks6T9KikP1bmLSHpOkl3l/8XL/Ml6VRJUyTdLmn9ynv2KsvfLWmvXm2vmZmZWd30skbtfGCbpnmHA9dHxETg+jINsC0wsfw7ADgLMrEDjgI2AjYEjmokd2ZmZmYjXc8StYi4EXi8afZOwAXl7wuAnSvzL4x0E7CYpGWBrYHrIuLxiHgCuI6Zkz8zMzOzEanffdSWjoiHAMr/S5X544D7K8s9UOYNNN/MzMxsxKvLzQRqMS9mMX/mFUgHSJosafLUqVO7unFmZmZmw6HfidojpUmT8v+jZf4DwPjKcssDD85i/kwi4uyImBQRk8aOHdv1DTczMzPrt34nalcCjTs39wK+X5n/7nL358bAk6Vp9FpgK0mLl5sItirzzMzMzEa80b1asaRvA5sBYyQ9QN69+TngUkn7AX8Hdi2LXwNsB0wB/g3sAxARj0s6FrilLHdMRDTfoGBmZmY2IvUsUYuIPQZ4aYsWywZw0ADrOQ84r4ubZmZmZjZHqMvNBGZmZmbWxImamZmZWU05UTMzMzOrKSdqZmZmZjXlRM3MzMysppyomZmZmdWUEzUzMzOzmnKiZmZmZlZTTtTMzMzMasqJmpmZmVlNOVEzMzMzqyknamZmZmY15UTNzMzMrKacqJmZmZnVlBM1MzMzs5pyomZmZmZWU07UzMzMzGrKiZqZmZlZTTlRMzMzM6spJ2pmZmZmNeVEzczMzKymnKiZmZmZ1ZQTNTMzM7OacqJmZmZmVlNO1MzMzMxqyomamZmZWU05UTMzMzOrKSdqZmZmZjXlRM3MzMysppyomZmZmdWUEzUzMzOzmnKiZmZmZlZTTtTMzMzMasqJmpmZmVlNOVEzMzMzqyknamZmZmY15UTNzMzMrKacqJmZmZnV1LAkapLuk/QHSbdJmlzmLSHpOkl3l/8XL/Ml6VRJUyTdLmn94dhmMzMzs34bzhq1zSNi3YiYVKYPB66PiInA9WUaYFtgYvl3AHBW37fUzMzMbBjUqelzJ+CC8vcFwM6V+RdGuglYTNKyw7GBZmZmZv00XIlaAD+SdKukA8q8pSPiIYDy/1Jl/jjg/sp7HyjzzMzMzEa00cMU93UR8aCkpYDrJP15FsuqxbyYaaFM+A4AWGGFFbqzlWZmZmbDaFhq1CLiwfL/o8DlwIbAI40mzfL/o2XxB4DxlbcvDzzYYp1nR8SkiJg0duzYXm6+mZmZWV/0PVGTtKCkhRt/A1sBfwSuBPYqi+0FfL/8fSXw7nL358bAk40mUjMzM7ORbDiaPpcGLpfUiH9RRPxQ0i3ApZL2A/4O7FqWvwbYDpgC/BvYp/+bbGZmZtZ/fU/UIuIeYJ0W8/8JbNFifgAH9WHTzMzMzGqlTsNzmJmZmVmFEzUzMzOzmnKiZmZmZlZTTtTMzMzMasqJmpmZmVlNOVEzMzMzqyknamZmZmY15UTNzMzMrKacqJmZmZnVlBM1MzMzs5pyomZmZmZWU07UzMzMzGrKiZqZmZlZTTlRMzMzM6spJ2pmZmZmNeVEzczMzKymnKiZmZmZ1ZQTNTMzM7OacqJmZmZmVlNO1MzMzMxqyomamZmZWU05UTMzMzOrKSdqZmZmZjXlRM3MzMysppyomZmZmdWUEzUzMzOzmnKiZmZmZlZTTtTMzMzMasqJmpmZmVlNOVEzMzMzqyknamZmZmY15UTNzMzMrKacqJmZmZnVlBM1MzMzs5pyomZmZmZWU07UzMzMzGrKiZqZmZlZTTlRMzMzM6upOSZRk7SNpL9ImiLp8OHeHjMzM7NemyMSNUlzAWcA2wJrAntIWnN4t8rMzMyst+aIRA3YEJgSEfdExH+Ai4GdhnmbzMzMzHpqTknUxgH3V6YfKPPMzMzMRixFxHBvw2xJ2hXYOiL2L9N7AhtGxAcqyxwAHFAmVwP+0kGoMcBjQ9zcOsXpZ6yRuE/9jOV9mjNijcR96mcs79OcEWsk7lM/Y3USZ8WIGNvqhdFD356+eAAYX5leHniwukBEnA2cPZQgkiZHxKShrKNOcfoZayTuUz9jeZ/mjFgjcZ/6Gcv7NGfEGon71M9Y3Y4zpzR93gJMlLSSpHmA3YErh3mbzMzMzHpqjqhRi4gXJB0MXAvMBZwXEXcM82aZmZmZ9dQckagBRMQ1wDU9DjOkptMaxulnrJG4T/2M5X2aM2KNxH3qZyzv05wRayTuUz9jdTXOHHEzgZmZmdnL0ZzSR83MzMzsZceJWg9I0kiON9KM1OMnyd9vG9FG8Hd3RO5XP4zEY/eyKcglvVnSTpJW7XGcbYDDJO3Vyzgl1mqSlgAW7kOsvpz8kvaQtL+kpfsQa6KkRSMiepnUSFqkV+tuEWtvSW+XtEJEvNSrz03S7pK278W6m+JMlHRi+e5O6EO8Bcqd5X1NdHv4Oa0vaa1erHs4NcqHGEF9dyS9SdL60Nv9kjSPpNHl756W643vUnpaIuwAACAASURBVK+V3/eVJS1RyvO5ehhrUq/ziJlijqDzfECSTgE2Bu4jB6H7NPBEt78MkvYHDgVOBU4D3hER3+1mjEqs9wIHAbcCfwc+FxHP9ijWRsDewC+AmyPi7h7FOQeYCDwCjI+I1/YoziLA94FpwOrAuhHx7x7FejPwMfLY/S4ivtOLOCXWOcArgD8AbwZWj4j/SlK3znVJ85PH7mnys/peRBzVjXW3iLU1cBLwY/Ji5JaIOKsXsUq8PYFdyDvL94+Ih7t57JpifRX4N/DviPhkt9dfYpwGrFPi/AS4NSKu70WsEu+NwDzAtIj4ZQ/jHATsCNwF/BK4NiKe6FGs9YCNgJ8Cj0TEv3oU5xxgVeBvZAXK8RHxpy7HWAT4LnncxgIHRsTj3YzRFG8HYAfgV8DtEXFbj+KcR5Z7NwJbAVtGxLRuf3dL2XcV8Dg5lut3gG9FxKPdijGQEV+jJmkTYNWI2JhMNsYB8/YgSVsQ2Bn4QBl899CcrTHdjFNibQXsTz7v9FJgTA+TtD2A88jkaXNgsx7F2R5YISI2i4i3Aw9LWqXLMSRpIfJZsTdGxI5kortHN+NU4u0GnAicDDwL9KxmQ9JOwDIRsUVEHAr8CFgQun51/lHg/oh4K3m+T5C0aBfXD4CkuYHtgUMi4hDyc1pE0qhe1AKUC5+DgSOAfwBnQvdrNiTNL+kHwLzAZcCGkl7TzRglzuuAlSJiU7LcWxx4v6ReXfzsD5wOrAKcWo5nL+K8CdiHLP+uIy/Aj+pF7aek3ckf41eQF8VHSVquB3G2JS9M3xAR7yZ/l0+TtEGX1q/y+/RN4OcRcRD5SMYfdbuMrcTchekXWSsCH1A+Yajbcd5M/v5tFhGfJgfHv1HSfKVmrZtlxYeBeyJiN+CdwJ7ARyQt38UYLY34RA14EVhN0sJkdr8WWZAcJWntbgQohUQAfwU2Lj+apwBvAX5TrjS7Wc08DrgtIu4lazY2lfRRSXt3af3A/6qtNwH2ioijyZqasZIWalSdd9EDwL8lbS7pwyXuVyQdJ2nNbgSI9DRwD/CzMnte8vw4plwxdUX5rFcDjomIy4HbgHUkvabRFDXU86Hp/S8Af5e0pqRPAu8CvibpG0OJ0cK9wLzKJvcjgDWAq5TNrS0ff9KJiPgvWcC/Q9I44D1k4nYBcHy34lQsA1xQajEuBO4tPwLdthTwYETsXWqdHgTmafwod7GMELCMpIUj4mHgZvJc36XbPyySFiAvGvePiNOBD5Jl7N49KCdWACZHxP0RcSXwJLAhcGQ3g5QLhU2At0fEx4FvAOsBn5E0Xzdjka08j2h60/4ZwALAmyTNPdRzolxs/Bt4GLi8zPsIsChwqKR5h7L+AawBfDoiLiOHqlgYOEjSZkNdcdPxGE3+7jacCywJfBm6fqH1CDBV0oLlt/dKYF2yxrWnzcgjMlErVw8ARMSvgf8DzgfOAnYlmyZfJAutuYcQZ+ES46XSdNYoDI8B9omIdwJfAk6UNKRavKaT4GpgT0lfI5s0zgKeAbbt5pVsRPyH/LH8aPkh+QBZo/YV4PNDXX8p4Bv+STZj7EdeMa9R/l4G2KIsP9TEZlSpUfs3sI+kG8kmgEuA15FN4l1RPuupwPmS3k8mGI+RCdSJktboQiFS7Yfxe7LZ6TBgL7JZck9gVUlHDyVI04/tFHI/vgGsEREbkj8sOwMrDzHOKM3Yn+89ZE3QBcAPS+3QacAqkrYcSqxKzLnKeTUNeK2kz5LNGy8An5Z0Urd+mEucBYH1Je1TkuhNyeaaqyXtNJRagGq5B9xJNtedXi4M9iGf8DIPWUZ1RblInYtMAgAoCeh1wLuBlcpyHX93m977c2AtZW01ZOL7PTIpXbHTGM3KhcJKZBcCIuIW4G5gPjIRHZKmsu8Z4HmyxnMP4JNkE+VbgI2HWk6Uz2hh8tx7jaQJylrc35BJ7pD3p4WngP1LUvMIWUv9a2DXUgYPRXO5t0WpqNgNeD/5zO8NlF0nhqSp7HuCLI8OlrQjmaD9BjhE0tw97S8ZESPqH/nj/nXg1U3zNyKvmBvTuwNnDCHOVmRz1u4tXvss+QVrTP8AWHsIsV5NNqXOV5m3PPnjeHiZnpc8QY8Y4vFbEFiyMr0I8LWyDx8q89Yhk5s3DiHO0eQP4vJN89ckq+jnLtPbk827cw0h1mHAopXpZclE5tvAmmXeUmT/kDWHEGd54HVN8/YAPkM2iTfifIFM5IfyOX2O7LNVnTcXmeAeXZn3euAcYFSHcc4haysWbJr/buAzlenTgY8PYX9WJvuYnAQsUJk/N3mxs2ll3rnNx7mDeBOBJSrTKwLbkUnhx8q8JYA7gLcNMdaGTdO7AwcCk4GFyrydyRrrRTqMMVO5R9bonkrWaBxR5p1H9k3qeH/KehZumj6+HLuPAxcBnyIvWC8bYpwZyj4yUXob8Beyr+R5ZM3QdWRf06HEai77NiQTw+PLMbyoxD5hiHGOpqnsI2vvDiYvgvcr8z4G7DuEOM3l3iZkhcUlZKXC6mR5+61yXDsqI8q6Zyj7yAvgr5Q43yPL8ElkU/K8Q4jTqtzbhLzIPrtxvIATqmVGh7EaZd9ClXlvB44jfzu2KvMuBtYfSqzZ/RtRNWolg/4cedW4laSJlZdvK8vsU6ZfSzY5jG73aq9UUe9PKZAkTSrzR5UMfB6yOfJVkg4hT9qHB1jd7GLtQP6AvZG8WgAgIh4gOzVuIWnJiHie/OJ1fLek8qaBX5N9MRYtcZ4C3ks2F/6+zPs98B+yZqrTfdqBTAL3k7R45eVpZI3NjqWG4O1kc9tLHcQZLeki8kt7TuWlRyJviLiTrLGDPJZ/AZ5rN06JtSV5fD5erd6PiG+T+7RCmX6U/GHpuElI2cS9MfCcpP+rvPQS+WOziaTVJS1J/sg9GhGdHL+PkbWZWwLbaMY7uO4DRkvauJzza5LNeJ3sz4JkP75/kefUQY3XIms2fgd8QtI4Zf/M9ckaiI5I2o78rK9oXDFHxN8in35yFfC4pHkiO1pf22mcEus84JfK5nxKrIvJH69bIpviIa/Mf0cH+9Wi3Fu1xPlLRHwQ+GBEnFAWH01ekHSsfAaPKvtwNXySPFb/Be6MiGPJ79y9Q4hTLfsOAoiI5yJv0NoEOCgi9o2IJ8kam6G0jrQq+24ucR8D/hoR7wCuJ7u3dHSnfYuyb4kS6xeRzcYfiIhzy+KbkrU47cZoWe5FxC+AQ8iWke0i4s9kN5rHy3Ftu4wo8WYq+yJiakQcSPZpPSsidouIyWST7jIDrmzWcfamRblXjt0xwPsi4rwyewPyGHekqezbutE8HBGXRN78s29E/EjZZ3EMWXb1zIhK1IA/kzVdJ5EHbydJS5XX5iYLkoMk/QSYABwQES9ESYvb8ChwWkTsR9Y2fU3SMpFNoC+QGfZqwLFle7aLiMc63KfnyKrpU8hmrOqwH5PJK/6fSjqfvAL8XCdBSsHzSfLH4nFmTApfJK8sjywJwLvIpPDJTmKRP/K7kFenrwPe1WgKiIj7yb4AO5FNN09HxGEdfEaQydGvyMRocUknlRiNAukZstr6TPKH8oaIuKfdICXR3xj4KnAF8HbN2K/uu2Rz13GSjgReCdzQwf40/AF4f0S8Hlhe0qnwvz54k4Hbyau+a8nOr23fVai8vf0W4FVkDeBBZLNJo8y4l2xOOaws97OI+GYnOxMRz5D93d4L3ASsLGnfyiI/AP5EXvkfB7y37Gfbyo/whsBbye/xmU2LjCLvKNxf0slkYX1Th7G2IM+9bYA9JL2l8VpJ2NeW9A1lx/9vAP8sF1ztai73dqyUe0TEc5KWl/RjMpH/YSf7U/ZpAi0uUsu5d1FEnFySNMhaw2U6uRguqmXfxGrZVxKBB5TDqZxF9j2+q8N9ai77qhcKt0fESRFxYpn1TjJx+28nsZi57HtnUzOoJI2X9Afypp3LO4jRstwrpkXEoxHxmLLv9JfJ8qQjsyv7IuLGiLiuLPsZYDE6SD6LluWeCmAuSatK+i0wJSKu7nCfWpV9G2vGG1b+o7wx51fAjzv53WhLL6vr+vGPPBlXYnoTwlzl/23JL/j7qFTTk81er+4w1rbAWi3mn07eZTd/0/wlO4lTeX9j+JS5ySuRPcnq3e2altuN7IOiIcabSHbE3I78ATug8tpiZOL5QzKBWrnNdS8HvIamJkyyaeOGsg+N5g2RP5ivrCw36KbPps97bPl/DJnUHty07KbkD8+Wzce9zf1bkGw+WB04ivzRXKqx7WRH5NPKubJEmT/opgbyynftynTjPF8CeIisXaguvxCVZtzBHj/yrr0JLc7BQ8jOs+tUXpuvfK7rVua1s0/bknfUzV+ZtwD5Y3g2sHPT8stSaRYdwnm+ciXW7yjdByqv718+w3Oav9MdxGo0rb+NTKCrx28RsunuQuAjba53MOXegpXll203xgBxFwBeX/7+ENlSsUyZHl2+twuXc/1W8o68TuIMtux7K5kk9LLsG0XWVp5ADrOzSpvrHkzZN3dl/kLALtX4g4zTTrm3KNnPeKauOx0cu1mVfaPI8vxwsvxYos11t1vurQps3+6xK8sOuuwr89cHdmpevhf/erLSfv0jqzdvJ+9kuRB4a9Pre5JXDFuQfZ066tdCNl3+mWxn/x3Zd2D9pmWuIptv1ipf9CU7+eBKrB+XdZ3Y9NoyZD+Gs8sJvCiw2BCP4R7klcMilXnzkf1ozgZ2bVp+iXZO/vKe7clmxh+RNz68p+n13cprq5Md4fduer2dL9uHyX4QZ5J96aoF4PpkTdDmZfr1Ld4/qM+M/FE6heyrtVXTaxuVQvCYgdZNe4nn28i7Yq8uBcZmTfu1MVm7+Spg6xaf2WAL+kPL+X092edjs6bXTyKTl4XImo5XdXLsyrLfIWsxzyGvSKuvLV3O8y+RNUXHU+lr08E5viDZZ+qjZd2jK6+tRt4gsUeZHmpitg2wL01lUXntELLPziJlet7GudRmjHbLvU2Gsk9lnYO6SG2ca53EZPBl33JkktvxOVHWObuyb5em5bcA5mkzRjtl37vJO+yrrw/2Aqudcu8N5f/qMu18dzsp+8Z2sE/tlHtb0dSXlPZ+NwZb9i1Iln1rN73esyQtYg5O1MrJcgVZvT4XeXfOIzT9+ALvIH8QnqbDzu9kU8gp5e/Xkh1mzwBe0bTc1BJn7w5iqBQ+15IdGNcArgG+27TcK8o+/5jsz7NZh/u0QCkgfkx2+vwlM/6AjS1xvlSO4Vl0mBSSHVh3KH/vTDZhfbBpmf3Jpqi7qNSktRlne7KJbLWy3SeR43BVl9ma7J/0E7JTbVsFb1nHYuX955VjdD8zXgGL7Nvw2XKe3E7eIfm/19v8nL4JbFSmjyj7tWt1XeW4vlSO30od7NMYsnl7fDl+B5CF40ZNy11ADrB8E7B4h5/Tm4DrKtPfIccUG1WZN3c5ds8Bp3YSp6xncfKH8vNk8+JZLc6J7chah4PIYVs26DDWruRV/gfL5/BRKmUEWStzPNkUfjz5PW/3h79v5V5ZTzsXqWuSiUJb5QSdl32bd7hPnZR9nd7kcT49LvvoU7lX1tNJ2Vet2R/sRWNfyr2yjr6VfZ3+61ugnmx89sfarDK9J1lQLluZd0k5iScMIc5+wC8q068k79z5DNOb67YnO1O/doj7dCGVmgoywz+haZmvlhNmyyHE2Rq4uinu92m6yipfyGeBT3UYZz7yimibMr0gOXDuFcC2leXOIfsFLF6m274DqXxOn6/E2YksZN/ZtNzTVO4A7iDOePKHpFFYbEX+mL2mabkzyWFHhnLnlsjmlneV6fnJhOILlUJsVNnPGyjNXbR5hUf+CN5AKcBL4fV+MoFaprLcbcAllelOPqe1ynm1VGXej4CTKtObkTes7NnpsSvrWRX4duVY7kj+gOzftNxVZJ/FXTqMI/KHpPE5rU3ehXkosFzT9+FpMonq9MKnL+VeWU/PL1Ir63DZF+1/p+hTuVfW0Zeyjz6Ve+U9fSv7Oj7u/QrUtQ2esdA7Dri46fXjgIsq04dQGdaijTgbUMnQyez+oMr0lqXQWLJMvwlYusN9ajQXzF8KweoVSmPYiEbTzJLkFeDEIR7HdcgbIao/lv8HnFmZ3oms0di2zXWPIpsqFi3T+5NXIWPK9KKlcPk0WXOyFLBb5f3tNAtWa2HWJm+w2KASZ0+yNmUsOYTJoVQK3nZiVc9B8kd4bab3mTiQvKprJO4bkx2TN6q8b7DNqvOQTXSNc+sdZBKwSpleBvgiJdkgb41/T+X9g2pKI5swq80+3wbOrkyPL9+nd1SO714dfk5rA+PK30uTNwhsVXl9cbKjdeNHbRxDHIKjrGcJckDMN1X2eTeyD9U6Zd4byTv+1hlirPeTZcJiZfp1ZBKwY5legOyE/41OzrnK3z0r91rE7elFKi77Oir7GIZyr3Ee0qOyjz6Ve2XZvpV93fjXt0BD3tA8+X5AXvl+gzIGDXnV+NnKchPLF34oY7WcRzaB/JC8tRjyyvJrVPqDkFn4Vp3GKes4jrz62JW8AnszebW9cmWZRpX5AmW6o/ZwskPrRLL5ZCzZ1LBD5fX5yUEdG1X1Y4DV2ozRuOPo22Tfn0YB9UXg3MpyW9BijKV2vgDAG5g+Uv2GZd5hZL+ZRgfnNchq7dXK9CIdxtqz/FupTJ8KnN60zNfJZ/T975wt/7fTV2JVckiCi8mr8VeVAunzZFNao5PwVuSPVvMNLIMt6F9Hdva+jNLERCZH36PSNEP27fr0ED+n48u23kjWyIwmh135Ldk3pzFm3kfIkeCHWla8r3xnXl2ZPhdYsXKOnk/5ESZ/fNrum1Y+lz3Ji7r5yFHKTy2fTaPG4T3ATZX3tDXeEn0s9yrr6stFKi77OvpO0cdyryzf87KPPpV7Zdm+lX3d+jdHDM8haQVyQMNfkB0MXyI7lkJ+cHtLOrCMePwKsvPkAq3WNZs480i6AHgxIt5AnpwbK58X+jPyRNpH0jslLVNidDqW2ELKZ/4tTY5BsxPw5oi4iuwDcIak1cri/wSei/Lg8ChnS5vxvko2mXyd/FI/QfbPOE7SOmXcqGfJAnjuEuexiPhLGzEmklem34qIPcjmrG+Vl08nx926qEwvAiwsaUz11v3IoUAGE2sfssD4Gdmh9KIy9MLl5Lhln5A0OiLuJMewe0VZ/1Pl/Woj1qVkYrEj8ElJa5B3MW0g6eOVMZWuIT+rxr48KWlUDHJ8IkmvJAuLr5Hn9/XAoZFj5t1AXn1/otwmvhjZBDTDsAeD2acy7ta5ZM3IO8hhXw6LiH+QndB3k3RgWXwu8rFhozv8nL4ITIqIxpMfXkl2Sr+E7AfyeWBn5WOi3kbeMdgR5eN2vkv+4G8AfF/SePKceBD4kKRFIuLvZL+1jcq+PBhtPitX+czJq8ibBw4Fjox86PTDZOKySVn3OeSYYyuV6d+2EaMv5V5TzPPIWoyzyrAXkP3T1pP01rIP15F9eTYo0z+OHH1+sDFc9nVY9vWz3CvL97zs61e5V2L1rezrqn5nhp38IzupfqQyvTLwR6ZfPUwir/ouIjtMbt9hnMXIuw6rHUtPpdzBRF51bUV2Qv0pZQTzDmPtzoxXWYcA11SmT2T6rft30tQBtY04Igugy8r0xuRVy7pl+nDyCmZv8kf0dkq/gA5irUvldm+yOetSpjdvLED+OF9ANkdt1GGcZcrnsl5l3tmUfjtkNfU55BXlJZQHencY6xhKkxL5xT0X+GiZXpW8Mv8i2X/iDpo68bYZazMqfXzIpwpUm7NeVfbzhyVW253eyz7szIzNjlsCX65Mb1yO2aXle7Zsu3Eq69qjxed0ZGV6f7Lfya+ALwwhzmiyI/pplXnHU5p7yCTmJPJia8dy/u3WYay1ynoaw1RsQiYB85PNc8eSicCRZCfo39NBfzT6VO6Vdc1TvpfnlOmx5M0Dm5C1eu8mE9N3lu/fzXR4Nyku+zoq++hjuVfW15eyjz6Ue5V96FvZ181/w74BgzzAczO9o+W8ZDXlz5nx8RiNEY/HDTFWo7q60XRxLjN3PF6YpkeodBBnFDOO2bISWWVeHftoZfKHbqZhJNqMtTMz3nX4FSqP+yGvLI4hr9IOG0KceZix38d4sjmh2iFzFNk/YOHGdIexJpUvXqOfxBU0dTwn+85U+3900vF9ApVhCchxm05nenPdquX4nklT590O96t6rMaTfaeWaFpmPE3DIbQZY2zTd2c38uKjOnzImPI9a3wPOu3TMhdlfK0yfQLlUWTN+9SFY7dJ0/E7hKbkj0ycjqXDH+SyjoWazqvFyX5Ia1am1yebIs+ublObcfpZ7vXzItVlX3T83e1LuVfeN4E+lX30odwr7+tb2dfNfx0/xqafIh8j80T5+3lJj5Ej1j9ZRhF+LXBrRHT0mKamWI0nCAgI8gr5rwCSPkoOFTCtC3FeIjtPNyxGtsM/U2KtEBF/bcQeoiuBqFRFP0vlUTURcVGJOTYipnYaJPIh7o+Wdc1VYjwcEQ+XKvLXRsS15N1HtNMs2CLW5LKORpX0fZTH1UhaNiIeioj/PWZE0lzRQZV1RNzXNGtJsrBojEz+t4i4S9KVjX0Z4n5Vz+GFyQ66jysfB7VpRFwe+fSGjuO0+IyfIEfyDkmrAC9FZaTtTo9difViY1vLrOeBxry3AA9FxE3keElD9csoJWtxD/kMz+r2nMAQlKajpyVdXqZHk+fzg+SDqAGejIjfSvp9p8etbGs/y71/Sfq/iHih7GOQdxCuTt5M8CzwI0m/Lst3XAa67BvSd7cv5V6JdV/TrJ6Vff0o90qcvpV93TRH9FFrYWlgWukX8BPyqqvtvmLVdudmlRPhLuBZSeeS1aQdnSCDsDjZARVJ3wDeNqvta0fko62C6e36z5L9GZC0j6TXlPmdPuaqVcwXyeEO7pK0HtnXYKPm7epCnMYP81LAM8pn6d0gaaVu9isohS/k5/+3Mu84sn9Vc3+JQe/XbD7jacBNklYm+79M6DTObARwv6TNyT5Rr2yKM9j+HwOWJ03b+oKkT5Aj2/+1vB4t39iGFuuYCLxQtu38cm50JUbjxyrykXGjKM/7k7QucIqkJXpQwHel3BtI00UqNF2klr5c07pxodrEZV/7MfpS7kFvyr6alHvQpbKv12qXqM2qsC+vi6zu34Dsb3BFRBzfQZy5Wv04VE7KhvXJqv6pEbF1KZjbjjWIxR4HXql8Ht9zkc/Ma/vHS9m5+IJWr1VOuv+SnVlPIqt+by+vDyqeihbzmz+75clHW10EfDHywbltmd35ULEQ+fiSw8lbtu9t9/g1xxqgwHuK7ID6TfLOqu9E6jQ5m1WBNTf5/MurgZMj4uTBxihxWh67FufjBPJZh8eTfUW+306cxjorV9UzdWivbMv8ZJ+0lcmxsDqqxRjkd2oaMKp8VqOig2f/NZ/nA/zAzE+eF7uTfat+HflA93bi9KXca1pfS928SHXZ11nZ189yr1W8XpR9/Sr3Sqy+lX19EcPc9trqH9kOfyR5h85CNN2STV69/okWj2lpM86y5N0mJwCfqcxvPJ9MZD+NoQxY2uibszg5AvqatGjzJm/Zfgk4sMM4jfb0xchOkIfOYltOIwcT/eIQj982ZJ+PE5k+1k21rX88eUX02uZtaOfYlb+3JZ+XuWqr9ZCjvd/I9LG62h3wtdHnYxR5p1Q1dnWfPlw+p8NabWebMbcjO/++nzJgZFPc9chO269qtS1txHkf2S/rmFlsx3VMH75C7cSpnHsi+2SdQXY+X7HFsgcD5w/xvGucx/ORTZvLDnBOvL98Vp8YSpzy9ypkX7v5Wrw2PzlC+2SGMOA1/Sv3Wva5aZ5P9t15FvjcED8nl30tzs9Bnnc9Lfeqnzt9KvvoU7lX3tfTsq9f/4Z9A1qcDJuRV3L7lQP45ebCj+xM2fZz3priLEeO4/SxEvMmyphp1WUpDz0e4v69iuxYegE5uvEhNI3sXZbr9G6WUeTdN40Rm9cimyze0rzfZfoAmp6l10HMt5bjtxs5xMIfqDyEvLJc46HRHY/iXNZ/C1nI3kkO99AcZ2umF8btjhPU+KxXIu8+vIa862frymujKsvsXT0XO9ynvcoxey85bMWtTL8brVpoLdg8r804R5X9mUD2xziqxTKLM72w7nR/FiSHCPhwKfzuJ4dcGNJ3ZxbxVifH3PpsOXYbtlhmZ8pgs0OM9UFyiIxjy7k40+N3yA7Vy7W53r6UewPE7vlFalmfy77Ov7s9Lfeqx4c+lX30qdwr7+1L2dePf8O/ATNfIXyocUDJwv84Sjbc/KVrM061UHxF+fCqIxGPLgVlNwr25ivTLwD7lb+3JEf13rubx4/sgLko5ccR2IHs97HeUI9dq/eTBe7HKtOnUHm4dtPxbqd2Zn7ySqtxZ9Ta5Lg6jZqMfchxdFoOqNjOl43KjzvZrHQh00e9Ppy8Wt5ssOfubGI138F0GDMOuHkgmeg09rPT4zdDoU3W0CxBDiZ7PZU704a4P9XtW7h8V79AXgBdTnn0T/k8h3yFSlMhTg4N8EbyzrP7qQyU285+DCLWm8kmmAXJcZ6uqX6WtPlA9YG2kR6VewN8Xj27SG3+/uGyb7BPI+lbuVeW70vZR5/Kvabzoadl33D8G9Y+apIU0/u1fFXSe8hOncuUO1ieIQvHPSSNi3JEO4wT5e8PkCMdrwy8XtLS8L9OwRcyxH571btEJL1V0mLklfDqJc515EOU3zqUOGX91btfxgO7AMdI2jyyP84ZwLmSloqIGGoH3dI940hJy5L7tFTjtYg4FPiPcuBSqp9Vm5/biuSt2c9Lmo+sap8WEc+VzsxfJztSNwbfnKF/RLTX+XNfSYuUv18kf8Aadx9+lSw8N4LWfXqaYw9E0gbANpImSTpXOfjpKuSYVA0/JfvqqKy77ePX+D5JWoocsPRNZJ+mK0q8rSPiUUnv1vQBum7vWgAAHpRJREFURdven+o2SdqVrJlZlum31f8gIo4oi76HbJLqWPU8L52/lyZr0+Yjh3U4LCIukdQY3LPjzsaNWMrBr5ckf8SuIptQViQfI/O4pBVLrE76rPal3GuK1/i8XkEOJTE5Ir4QETeQw5psIWnHsk9R/n+6zTgu++i47OtnuQd9KPv6Ve41trFfZd9wGNZErXyB5pF0FPBs5Cjed5WX3yBpXrI/wV1UbqnuJA6ApA+RnSCPjIjryavjH0paUdLy5PgzHQ9ZUgqPRkF1CtkOP468+g9JW5RFvwc8VwqyjlUK+83JvkFfLzE/KmmtyE6YvwR+oAFunmgjVpT3v46s8v8m+SXcXdKiZRsWpfMnNTS+qH8mH/L7GeDDEfEnYJxy9Oj/lMWfowxb0GGsN5dYBwI7STooIp4nB1ScJGl8RDxRplcpn2vbx65SwN1Fjiz/ffIq8V7yqnw1SYeXZVYnLx4W6PRHpXyfViObd34fET9m+uNYDokceuFdJfa8ncSokrQd2ZSxb0RMIZtnriIHeEXSt8hR+tv6wW9WOc/3JLf9IWBTslP9thFxkXKYjE9J2nCosSSNIQv4LcmhD44lxxPbMiKmKocVeUv5Qe0kRl/KPejfRarLvs7Kvn6WeyVez8u+fpd7ZX/6Wvb1XfS5Co+Zq5E3JQcb/E5l3l5kVn8tOTr2Ph3GatXxsrmT4hnkc/9uoTIKeKf7RV6B/5DsV3AV+Vy2sWQBeT1ZpfxHygjPXYj3KbLvR7XT6ufJ5wI2+k10PJBjef8Ypg9y+BrglPL3duWYXkx2pO7ouactPqfGCNLnkJ1plyH7nXyOvKvu55RnHnYQaxyZSOxbpt9ENilsTF6BfaHsz6bkFW6no6I3dzZvPJz5nUx/RuIa5Ijy55GdxNt+CDml6a1yPnyNHL1758oy55CF1uVkx+M1Otynat+YMWT/sIeY/nDzVcgmvBvI51OeM5TzrnocyR/ibzF9UNmVyTGk3kc2T/4S+HwX4o0vn9OHy/RiZF+ai8rndXA5vm0NxEofy70B4n+I7Ee3RJn+UomxInmH4q+pPBC9k33DZV9H53ZlumflXll/z8s+/r+9M4/ba7r2+HeliUhCYh5CYh5uFUHVLCRaDW1Nty0VU4IqFdWBiplSVTVPVaEaralKUGNpKbcUF1EtV6/bW3RW19jWtO4fv3W8J08G73Oe8X2zfp/P+TxneM5eZ9jnt/dae62128R7UU7buK/TS3uFzfoSV6MnWuvjaAij7GcyAkVBzeZ4WqfMtZHPQmHyvx71qsuT1A4GRjfh/t6PSP3zsX0WMa0LstSth3r8ExqQMbBme3WkyR1Ss/+qqLhVooCKxnEAIvH74r7GI5P/fSUiXApNRlxMa1PJryDWj0GO2+Nie3fkhLxuXMeOyH9itsi7XsoqfBe2Qib3HWJ7b+TgOgqR2dEoouvgiu+o7GexP1IGFgq501E29IJcCplL1J5bp8w1S3V5OtLMyxm4V47vqe5nx6zZ1BdDRDsCzVl4WizF9Q+K/Ss2+C0NqtmeDDwPjC3t2wi4IOp5Uzo1iCPuAB4o7Vse+btchqwDdXESneG9timpUVZyXwVf0lhvKe/FOS3nPjrAe3Fuy7ivW5bOCJUT6/3IDH5uvLTJSJvcuolydkNRJYeiiJYJKCroLjTR7IJNlLUxIvhyb/5cYiqP+Pg+0ED5qwMbltaPQXMWDkBzo73OrCS8KDC+gpyy1aRwXF0Z+CQyZX8EEftsU8g08gGgia3vBg5DWnkRtXVQkNaGc7vOOuUsHb/F1CHFMz056kURbbRg6ZyqUVvHIS1u9dK+nYNM9oz6skMVOagxmhLrl6FG+HJgUrz7OxEJD53XO+6FnGXiu5yA5jP8L9ToPwNsiLTvU1FHpuGoKUTqw0rrx6GggQHIKfheSlMNNfh+ti6tT0R50BZCDfAdwNdq/t9Q6D5t4r2SvLYoqST3NVIH28J7cW5buI8W8l78vy3c101L+wXCDoS5Pz64R5FT8LLIRH4FFeetY1YtZRjyu1goPrRHgY3j2ASkRazfpHtaD/m7HRzbhUn2FGAPNET0YyqG1iMrxcHxcW0fH8FZaHqU85Fz9SSUNbryHKQ1RHUlmuf0MmCV2DcWDTU9DXyv9pk3cG83I82+0Hg+jobPNoj3dwIlS0odZRs9mqQh7fQS5BAOajivIxoqRJTnN3AvZY1yMXocWUehjsCZaDjgY7F+RgOyNkP+KmejTtJw1Gl6MMpfO9YbTpER5V+ANO1dYt8X41tdhZhEGdizCbIuRcNm45D14qyog5eihvki4MomyBkHXEPP/IW3IIK/CHUCVkedwn0blRXyWsZ7c5HXFiWV5L6q8lrGe1FW27iPNvJeyGgb93XL0noBs5vgt4gP65yoHMW49TBkCq1bE4rzyx/aRDQ8cwPSFn5Gjx9NoUWMbeCeakPQ10Y9+luBRUr7v4iyo1/chOe4HDJ/P0A0iMgR82DgxNi+igqNGIr4WTLWhyMfmSPjQ5uJGsyyFr4ucrJeu8F7KoYQDory1ojtoch0/iBqyAZXLH82f46QdQHKig8i/Wn0DO0NqSirMOkPp8en5YvAC1H+KagDMj2ODSqd29tQ99q8Rp9C0WEHlv6zLTAj1icTykkT6t9U1LmYVNo3jZ5Ga+uqz65GznDUQP6aHsVqBeTf9JXYfooGUzwg36l94x6KDtRAFKX6DWRV+yhK8zCSBob0Y7slvDcnebRQSSW5r2Huo8W8F2W1hftoA+/VyGk793XD0h4h+hhGol71ZkgrObd0fF9Ezg2ZJYOgDgQujO1z0GTJRQVaPwhlrQZkFBVlCNKwtkDDCmugHv4Rpf/uU96uIGt8+WNF/i23MGvOnm3jQ5ilIveyfENa9uvILL1g3NdHgjTuCNKaBvyo5tzzgI/WKWtOGl5BvKfHuyn+sxiyBlS1ru6Iws4XRtaFY0rHDo+68W9Is72dUrb3qvUQWWl+gqwjRyNH9DXosTIUCTLLSkVv8yyVtdY16NHCj0ETmxfHVkIJK5vih4E6F59D1qwzkf9H4dA/hlL+rQZk1Db+K6BUAYXj9iAUPVZ811WtM7Wdp5Hx/J6lR5ErHOu3KrYbuK928V5blFSS+4pze819tJn3ooy2ch8t5L3a/9JG7uumpfUClKPneXrMyYNRMsfvB6kchiJRNq9QdvGBFpX8DpQioBiLXyXkXhOV/1Fgjybc0+ooAudk5LT6ndg/FpnjZ5vCpIKMg5DGcC6wW2n/WnE/R8X2KKT1rVRP5S+V9z40xHMvpWlVUHTbubH+KaQdH1+6hoepw++EeWt442P7OmDa3N5zhXs7L975hyk5bSOH7dujboymxuepoqxVUETbWNSAnBB1vMhO/m3UAVi1Qtlla8lUpOnfSiStjPowE5n/T0dRTgtUrQ+l9SHIb+tyRMZLo47FtShR5cM0GMFXkjUSNSKFk/PG8S0X72yneGcL03jH5hOxLIca6G/GUlhWrqViBGRJRst4by7yWq6kRjnJfXVwHx3gvTi3LdxHC3kvzm8b93Xz0vwCpWUVPd6dkAa+JSLi04Fvx7HJQVwX0bgz65D4XRl4iVmHZwajTtohxBQcFcr/FKGVIMvCGWgsvAjlfwI4O47vgUhy8QY/tK2DQCag4Zcp9EwhMhaFbd8YH3ndc+QRjpaoMT46ns/Zpfs8FJHxEiiqby96nE2HURoO6IWs99LwzkWa0mDkpL59g/WhrIHdEh/2eNQAbxr7j4iPfLXSf6vOQ2rIV2dGad9yKDR8u1g/jWoRl+WO0/KocRyCfDMuKtWJ+1Ey0V3n9BzqfH5r0jOty5Lx7r8f+1dDUWNn0cBwXc3zWxY1KqejlBv7xXf272iuyQvj3fXagjuPZ7gXSklwVnxDi6HG5nKUruI85DtUlw8XbeY92qSkktxXmftoM++V60WsN537aBPvlet2rLeF+7p1aW5hPUkHB8f2A4j8Fo2PfBTSyE9qUM5epUp3CGpEDgo5m6IEm80KFBiEiP0vxHg4siyMRprVjmio5nng0DjesIUmynkI+Zgsj8b9/xNZOAYjAr2y3vtEfji3IifWRWLfDkhL3gyZjndEWuqVSGO9rHx+xXt5Lw3vKtSo9boD+B7yyoT1RHzYOyDiPx91NqpqeWUC2Q1ZK4bG+ylbAC6lNF1K7bm9vQfk/3E70k6vjX0DUGNyZryrIcBnK8pZvrQ+IurWm8CisW8FlPT1UtQIbwms1KR3Mxal2fhcbG+FhlEKy9pU5DdU1zyac5G1FbJmFZ2ZM4FHYn195AS9fwUZbeG9uchumZJKcl/D3EebeW8Odb5p3EebeK98D7SY+/rK0qyKsTgKOZ9Ws3+RIKzPFg8fOZ/+jHnMI/YesoaiYYMb0Bj1tVFpvo163Euh0Nw/07wJjCchIr6OnqiZdYHzYn0F1FmczXxdUV7hC7IzkbAx7vPBII/vBGlVdXx/Gg0tHIVIcAkUebYdsgbcSI+2skLtddUpq+XWrV48x+WAv0Y92TDuu9G8ZcvEe/g9ingcjSwAP0OWoPXjfY1r8B6WQVaKo+P9PEPkDEMdge8GaQ0snVOv5nogSoA6Bbgz9p2NMnwX/9kTRQ82JVlpSe7/IiL+DT0dw4nIQrQValwbmk8TOdXfhDoXT1HqjCEeuT3W62q8aCPvlcpum5IaMpL7vNI31THeq3mOTeU+2sR7JVkt5b6+sjSlQgQp3VPa9wV6xvQ3ige8bWy/j0gQ2OALPAxNubFB7Fsl9hWRYZcDB1UsfxFKob0oLPyq+NCuQ1aAVZEmdijS/j7T9JcjOT+J8ovoumVRGPegBspdDEUbnYMI8YEgqL1K728GauDqdtSdg7yWWbd6Uz/jdys0p9zapWNVgwaWRZ2W3VG28lvimY2O+5qBiHnHBq53QJDR5fF8lov92yDfpq1je1UqJpdlVg35OdRpWrK07xbUkVkeNcb7NfG9HIasDSOQleYMovGP418nrGwNynk/agx3j+2paOhxXOk/M6nTd4vO8F7LlVSS+5rGfXSQ98rXTZO4jxbyXs31tpz7+trSrAqxOZpUeN0gkPuYVRvZDYXrrlmx/HcTTdLjkzESDYn8sPS/XWkwx1IQ6uNI6zqCIHAUqfMFpNHeEB/8pkgb+2wjMt/jei4D7m1BuRsDLyMfiY3jozg5ji1BhJA3UV7LrFu9eafxewDwQypaaErlrYzyUS1QepZ3U5pyhR6/jF4nSWXWjlMxjLYJakh2pcdPZhIablqu9P9K6SNQ4781cqB+upZkUQftRuBbzXj/pe1rUWO/YnxzaxHh/E2Ws3Z8y1+N7VVQQs4TgI3mdE4dslrKe3OR2TIlleQ+aDL30UHeK95p/DbMfbSI98rXGest5b6+uDSzQkyOD/zGuRzfmwZC3aOM7ZFj8dGoFz8GhVafEscPRFrfQlXJN8rZMAh4BhpWOBtFtOyHNM6jowI1za9gHteyAdKYl2zknuZS9v4oMqyIdluq5nhTPwBaYN2qUH8ur4eskB/E5ZSGrFBjeTEyxxc+Qt9EisMmVZ4ds2rf58c7nx7v/dMhb3yJeBuKSowy1kBO23vF9ubICrRZbI+K39kyfFe8r3Km/MHxfRWTJBvyfbsGdd4qT/8T69vSk59qAhoSXDG21wse2ZPGZxtoKe/RRiU1yknu8+ZyHx3mvZBTF/fRJt6rPYc2cV9fW5pdGY4HHi9tL4C0sUrZvcsNBDJT/xI1Lo/Gy1sCRVs9j7Tz7xGNSxPuZVeU/XgVpH0/gczwA5FfxlRCI2rpC1LE0J00OGwyj/K/ATzVtgrXZOtWHXKLKYi2q+OcgdFQ3Y8cjS+gJ+z8UBTNtzfyVZqO/JWuq/O6hpZIz6IOn46sFr8FjotjU9HQyaa191WnvKLRXxb5hu1Zs/+A+L5OQRa25aqQ7xzkzitT/q5x7wNpILt8SdZ01NG4kJ40C0ejaYCKdBXvb2LdairvzUVGW5TUKCu5r/myOsJ7IbMu7msH70VZbeW+vry0olLMiIo4FPW0z6pYzhVEJFGpgmyDsoU/BKwX+xdAk70e1owGpeYaTgN+GetrRGMzvNlyenEdlTNU97L8O2mBn8l7yKzbutUEmVWCIXZHVqeFka/ON+hxEt8HObQWEWmjglB6ldohCOnLzDpcNhVZLq4kUjrE/kHIj6tqRvlNUANf+Hssi9JQFMMv5fn9Po7SBzSSPmIcPdaKYfGuW5EpfySzRq1+Evh6rN+GHJ+LTuhVlAIkmly3msJ7pfI6pqSGzOS+1shrO++F3HoVupbxXpTRNu7rD0urKsWT1EzvUMe5iyP/ldpIqs8jTfwOeqbg2BaNk7fMfIyixa7v9IvqTwsVrFsdvt6b6RkO/AHwBrI4FSkkFkVDRo9QZ3qHaHCXJsLZUfTUi8Dk0n+OQMOGVYMfrka+JNdFQ/8xZBm5DA0vFVamxVEi2IYaYzR0uXesDwuyv5HWTOd2ALBFaXs31Dm7mtKsCURnDtimhfWkMu/VlNNxJTXKT+5r7vNM3pu1/JZzX39ZWvWCRxCRGXWeN6dIqknRqGyJJuQt5ikrMpd/suUPSWbYizr9stpwn20zJbdTVgPXaCVy3R9Fiv0CJX49iZ7knkOpIyErsgItVlo/Eg1rrYmmdvkLspYMQ74idxNzQ9Z5/QOj0b80tgchn4+HovzjkHVmcpDhLyk5Bld8ZuVQ+a8Qeb1Q+o8/0aRM+czqfDya8NcCPoA0/fJUTSehPHAttQZV5b3S+V2lpIac5L4+KKfBa2wJ70XZbeG+/rYUQwJdAzPbHCWeHI+SD45HzoN/MbODkSPwSFRRjnL329pwTYsis+udrZaV6D6Y2TZIu7zT3SfEvmHAG+7+Zmwv4O5v9KKs4aiRXQbV5V+h+j4REd+5yP/ocBQl9irKHfS2mZnX8cGa2ftQJOVX3P2vZjbI3d80sykoaeg2qOO2EUrBcau7n9/b8uchdw2kfX8QDaNOR6k/jo57vBdFEH7L3adXKP997v52rC/j7n8yswfRMNZxKD/W+1GHbU2UFHOiu/+5wVtrGcxsAPLhe8Xdt4x9k9A9rQB8DU1AfoeZbYySih7j7te0+LqS++ZTNJP34r9t477+hq7rqAGY2WQ0fHGTu3+i5tgI5F/zd3f/SyeuLzH/wcxOBZ5193PMbKC7vxX76yYQM9sW+RQ9C0yITtQ6iLD+D/k3vWZmi7v7C3HOu52TOuQshTpFn3L3R2s6ODej7+v82F7U3V+sp/ySnAHu/k5p+yCU5uPDZvYl1FGajnIg7YcsfT9394cqyCrfw4XAS+5+uJktjny1volSioxFFqcB7n58lftqN7pRSU3M32gm78V5beG+/oaBnb6AOcHdp5nZaOREC0BhDXD3l9BUKYlEO/EUsIGZDXH3fxQ7e0tWNcT2AIoKHAKMNbOb3H2mmd2ICOsAMzsXhfIXHaG6iSoa+KuAPczsv939FTNb2N1fQUleXy/9t1InLc59p2bXjcAaZrYsmlPzZOTk/4q7n1NFhpkt5O6vhnY9IMpd2N0PiGt4wcz2QEO9f3f3GWiosM/A3e81s8OR+8dNhWUtjp2TSmqiA2iI96Az3NffMKDTFzA3uPuxwDNm9uPYfrPDl5SYvzEd+FGZrHoDMzMQsZnZODM7HkWZHYGmWhmLIiRBk03fhSY5/ldBbnPoCNWDGcjpfL8o65XYvy7wVgPlvntvsX6MmR1nZguj/FRLI2vQWyjkfnkUPVhFzjDgSDNbFd59HiNQJBhmNjgI/WE0vHq2mS1Svr6+AnefhvzpVir2mdmgOPaSuz+ZnbREG1GJ96AruK/foCuHPssws98Cd7n7/p2+lkSiKsxsU+QcOx1Nt/JH4HMoanEUcuZ/HkVP1U2K7yF7O5T3aAiK/NwPeMLd922gzAHu/k6hLZvZWig7/x9Qhv7HUKDCbu7+BzNbqmoHw8wWABZEofvru/v1YSmc5u63l/63mbvfZ2Yj3f0PVe+tG2BmM1BgxvadvpZEohF0kvv6C/pCRy2dWRN9Gma2N8o3dLW7XxL77kZOuieY2YfRNE4ntoqowtJ1CPAKGoK8pIGyik7aasj68wTKT3aDmW2Borh+CnwIzQ/6WEU5q8b1egzj7oOiwPdCaQGmAF9FediORZnM93X3f1a9t25CKqmJvo5u4L7+gK7vqCUSfQ21zq9mNgZNjXIPmlPwZTNbBTnVbhd+l3M8t5tgZku4+99ifW2UuPMypCGfChzr7peY2ShgD5QYcyd3/1UFWd9DTvPDUVqRLyNL3RSUqmci6rBthiYj/yuaCqsrn10VpJKa6Gvor9zXaXStj1oi0RcRQ4Fvm9kyZnaOmX0G+CeyZn0I2NzMBiOfrX+gNBbvoluJKixlx8QQJyjZ5V3ufrq7X4ES5R5nZmu5+7Oo47Z2vZ00M1vczK4D3oxhv92R8/G1KHT/YjQf6beA77j7HijB7MRufXZV4e4vZict0VfQX7mvG5AdtUSiiQh/rTEo/9BTaD7L6e7+IPIP+xpwHrIQndOHzP1voijRnSPtx4LApsVBd38EuAFNE4W7v1XvEGREc/4EWMTdJ8fu59z9IjRR89Xu/hoKIlg4fkEdt0Qi0UH0Y+7rOLKjlkg0CDObaGabFNF5KNnqFODHaNqf80ApFtB8kEsDR0YKia6FmQ2P3F64+/0ognQJFCBwO/BHM7vKzIaa2cpE3rKq8iLCawqwjimpK2jYE3c/Bvi9mU2KQIHTUOetrlQBiUSieeiv3NdtyI5aItEAzOwM4AvIlF+Q1cooz9cPgK+6+3fNbLSZbeHuJ6P57A4MH6SuhGlWg/8A7jGz08xsFzTF1M3ACma2q7vvCAxGPijXo6HIXzQi191/juauvNE068C/Ij0HKLfSa/G/x9z9iUZkJRKJ6uiv3NeNyI5aIlERZnYUmuz7g+7+qLsXCWS/g8jrVteUP8ugbPnrxfEvAc97A0lmW43wF9kHeBlN+TIGuA35l/wNGBNWr53QXJQ7u/u3myR7Gpoi6a7Yfi0OLQB07TRQicT8gv7Mfd2IjPpMJCrCzE4Hfu3uF0enZSTyy5iJIiG/i6KdNgKucPdTO3WtVWFmu6OEtSujCMstUMTlP9AMIZPd/dctkn09cjjeG8128KS7H9QKWYlEoveYH7ivm5AdtUSiIszs0yhFxKvI0vQ7YBjgaDL0h5FP19Dw8ZptXsy+gCDlce4+JrbHoU7bxsAOHvP/tUj2k8DqwMHufl6r5CQSid5jfuG+bkF21BKJigjfqfHALoicnnH358xsKvCiu19Q8/9KExl3AyJT/gLuPqHNckegXGI/bafcRCIxd8xP3NcNyI5aItFkRB6we9z9jPf8cx9CZMr/qbvv1+lrSSQS3Yf+yn2dRgYTJBJNgJktZGbrmNmtSKPsj0S1IXBlpy8ikUh0D+YT7uso0qKWSDQBZrYiClV/wd1PjH05JUoikejXSO5rPbKjlkg0CWY23N1fjvV0nE0kEvMFkvtai+yoJRJNRjrOJhKJ+RHJfa1BdtQSiUQikUgkuhQZTJBIJBKJRCLRpciOWiKRSCQSiUSXIjtqiUQikUgkEl2K7KglEolEIpFIdCmyo5ZIJBJtgpkdYGZ7dvo6EolE30FGfSYSiUQikUh0KdKilkgk+h3MbEUze9LMLjazX5nZ981sGzO7z8yeNrMPmdkwM7vEzB40s0fMbIc4dy0z+6WZPWpmM81stXnIud7MHjazJ8xs/9L+V83sJDN7zMzuN7OlY/9xZvblWB8Tx2aa2XVmtmirn0sikeh7yI5aIpHor1gVOAtYB1gT+AywOfBlYCpwJHCXu28IbA1808yGAQcAZ7n7GOCDwHPzkDHJ3TeI/00xs8Vj/zDgfndfF7gHmNNE9t8DDnf3dYDHgWMbudlEItE/MbDTF5BIJBItwv+4++MAZvYEcKe7u5k9DqwILA98orBwAQsCo4FfAEea2fLAj9z96XnImGJmO8X6KGA14AXgDeCm2P8w8OHySWY2AljE3e+OXZcB11S+00Qi0W+RHbVEItFf8a/S+jul7XcQ970N7OLuT9Wc9xszewDYHrjNzPZ197tqCzezrYBtgE3c/XUz+xnq7AG8WZpK522SaxOJREXk0GcikZhfcRtwsJkZgJmtF78rA8+4+9nADWjodE4YAbwYnbQ1gY17K9jdXwJeNLMtYtcewN3zOCWRSMynSC0vkUjMrzgROBOYGZ213wEfAz4NTDSzN4E/ASfM5fxbgQPMbCbwFHB/nfL3Ai40s6HAM8A+dd9BIpHo98j0HIlEIpFIJBJdihz6TCQSiUQikehS5NBnIpFIzAORcuPOORwa7+4vtPt6EonE/IUc+kwkEolEIpHoUuTQZyKRSCQSiUSXIjtqiUQikUgkEl2K7KglEolEIpFIdCmyo5ZIJBKJRCLRpciOWiKRSCQSiUSX4v8B2JaP/QEh2MkAAAAASUVORK5CYII=\n",
      "text/plain": [
       "<Figure size 720x432 with 1 Axes>"
      ]
     },
     "metadata": {
      "needs_background": "light"
     },
     "output_type": "display_data"
    }
   ],
   "source": [
    "# Ploteamos en un countplot la cantidad de tramites por mes\n",
    "plt.figure(figsize=(10,6))\n",
    "ax = sns.countplot(x=\"mes_anio\", data=robados, palette=\"Set3\")\n",
    "ax.set_xticklabels(ax.get_xticklabels(), rotation=40, ha=\"right\")\n",
    "plt.title(\"Cantidad de tramites (robos) por mes\")\n",
    "plt.show()"
   ]
  },
  {
   "cell_type": "markdown",
   "metadata": {
    "Collapsed": "false"
   },
   "source": [
    "Ahora lo que podemos hacer es combinar los meses pero dividir por dos los que aparecen dos veces."
   ]
  },
  {
   "cell_type": "code",
   "execution_count": 12,
   "metadata": {
    "Collapsed": "false"
   },
   "outputs": [],
   "source": [
    "# Armamos un pivot con la cantidad de tramites por mes\n",
    "mes_pivot = pd.pivot_table(robados, values = 'tramite_tipo', columns = 'mes',fill_value=0, aggfunc = 'count')"
   ]
  },
  {
   "cell_type": "code",
   "execution_count": 13,
   "metadata": {
    "Collapsed": "false"
   },
   "outputs": [],
   "source": [
    "# OReordenamos los meses\n",
    "cols = [\"Enero\", \"Febrero\", \"Marzo\", \"Abril\", \"Mayo\", \"Junio\", \"Julio\", \n",
    "        \"Agosto\", \"Septiembre\", \"Octubre\", \"Noviembre\", \"Diciembre\"]\n",
    "mes_pivot = mes_pivot[cols]\n",
    "# Dividimos por dos los meses que aparecen dos veces\n",
    "mes_pivot[cols[0:9]] = mes_pivot[cols[0:9]]/2"
   ]
  },
  {
   "cell_type": "code",
   "execution_count": 14,
   "metadata": {
    "Collapsed": "false"
   },
   "outputs": [
    {
     "data": {
      "image/png": "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\n",
      "text/plain": [
       "<Figure size 720x432 with 1 Axes>"
      ]
     },
     "metadata": {
      "needs_background": "light"
     },
     "output_type": "display_data"
    }
   ],
   "source": [
    "# Convertimos el pivot de mes a formato long para poder plotear con sns\n",
    "long_mes_pivot = pd.melt(mes_pivot)\n",
    "\n",
    "# Ploteamos un barplot con la cantidad de tramites por mes\n",
    "plt.figure(figsize=(10,6))\n",
    "ax = sns.barplot(y = \"value\", x = \"mes\", data = long_mes_pivot,\n",
    "            palette=\"Set3\")\n",
    "ax.set_xticklabels(ax.get_xticklabels(), rotation=40, ha=\"right\")\n",
    "plt.title(\"Cantidad de tramites por mes\")\n",
    "plt.show()"
   ]
  },
  {
   "cell_type": "markdown",
   "metadata": {
    "Collapsed": "false"
   },
   "source": [
    "### Robos por día de la semana"
   ]
  },
  {
   "cell_type": "code",
   "execution_count": 15,
   "metadata": {
    "Collapsed": "false"
   },
   "outputs": [],
   "source": [
    "# Creo una nueva columna en la que esté codificado el día de la de semana\n",
    "robados[\"dia_semana_idx\"] = robados[\"tramite_fecha\"].dt.dayofweek"
   ]
  },
  {
   "cell_type": "code",
   "execution_count": 16,
   "metadata": {
    "Collapsed": "false"
   },
   "outputs": [],
   "source": [
    "# Armo una función que codifique los días de la semana \n",
    "def label_weekday(day_code):\n",
    "    if (day_code==0):\n",
    "        return \"Lunes\"\n",
    "    elif (day_code==1):\n",
    "        return \"Martes\"\n",
    "    elif (day_code==2):\n",
    "        return \"Miercoles\"\n",
    "    elif (day_code==3):\n",
    "        return \"Jueves\"\n",
    "    elif (day_code==4):\n",
    "        return \"Viernes\"\n",
    "    elif (day_code==5):\n",
    "        return \"Sabado\"\n",
    "    elif (day_code==6):\n",
    "        return \"Domingo\""
   ]
  },
  {
   "cell_type": "code",
   "execution_count": 17,
   "metadata": {
    "Collapsed": "false"
   },
   "outputs": [],
   "source": [
    "# Aplico la funcion a una nueva columna \"dia_semana\"\n",
    "robados[\"dia_semana\"] = robados[\"dia_semana_idx\"].apply(lambda x: label_weekday(x))"
   ]
  },
  {
   "cell_type": "markdown",
   "metadata": {
    "Collapsed": "false"
   },
   "source": [
    "Ahora creamos una tabla pivote para resumir la cantidad de robos por dia de la semana."
   ]
  },
  {
   "cell_type": "code",
   "execution_count": 18,
   "metadata": {
    "Collapsed": "false"
   },
   "outputs": [
    {
     "data": {
      "image/png": "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\n",
      "text/plain": [
       "<Figure size 720x432 with 1 Axes>"
      ]
     },
     "metadata": {
      "needs_background": "light"
     },
     "output_type": "display_data"
    }
   ],
   "source": [
    "#dia_semana_pivot = pd.pivot_table(robados, values = 'tramite_tipo', columns = 'dia_semana',fill_value=0, aggfunc = 'count')\n",
    "plt.figure(figsize=(10,6))\n",
    "ax = sns.countplot(x=\"dia_semana\", data=robados, palette=\"Set3\")\n",
    "ax.set_xticklabels(ax.get_xticklabels(), rotation=40, ha=\"right\")\n",
    "plt.title(\"Cantidad de tramites por dia de la semana\")\n",
    "plt.show()"
   ]
  },
  {
   "cell_type": "markdown",
   "metadata": {
    "Collapsed": "false"
   },
   "source": [
    "### Robos por marca"
   ]
  },
  {
   "cell_type": "code",
   "execution_count": 22,
   "metadata": {
    "Collapsed": "false"
   },
   "outputs": [
    {
     "data": {
      "image/png": "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\n",
      "text/plain": [
       "<Figure size 1296x432 with 1 Axes>"
      ]
     },
     "metadata": {
      "needs_background": "light"
     },
     "output_type": "display_data"
    }
   ],
   "source": [
    "# Robos absolutos por marca\n",
    "plt.figure(figsize = (18,6))\n",
    "ax = sns.countplot(x = \"automotor_marca_descripcion\", \n",
    "                   data = robados, \n",
    "                   palette = \"Set3\",\n",
    "                   order = robados[\"automotor_marca_descripcion\"].value_counts().index)\n",
    "ax.set_xticklabels(ax.get_xticklabels(), rotation=40, ha=\"right\")\n",
    "plt.title(\"Cantidad de tramites por marca\")\n",
    "plt.show()"
   ]
  },
  {
   "cell_type": "code",
   "execution_count": 2,
   "metadata": {
    "Collapsed": "false"
   },
   "outputs": [],
   "source": [
    "# Robos relativos a patentamientos\n",
    "robos_relat = pd.read_csv('curados./robos_por_marca.csv')"
   ]
  },
  {
   "cell_type": "code",
   "execution_count": 8,
   "metadata": {
    "Collapsed": "false"
   },
   "outputs": [
    {
     "data": {
      "text/plain": [
       "Text(0.5, 1.0, 'Cantidad de robos por marca C/ 100.000 patentados')"
      ]
     },
     "execution_count": 8,
     "metadata": {},
     "output_type": "execute_result"
    },
    {
     "data": {
      "image/png": "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\n",
      "text/plain": [
       "<Figure size 720x576 with 1 Axes>"
      ]
     },
     "metadata": {
      "needs_background": "light"
     },
     "output_type": "display_data"
    }
   ],
   "source": [
    "plt.figure(figsize = (10,8))\n",
    "ax = sns.barplot(robos_relat.marca, robos_relat.rob_c_100m)\n",
    "ax.set_xticklabels(ax.get_xticklabels(), rotation=40, ha=\"right\")\n",
    "plt.title(\"Cantidad de robos por marca C/ 100.000 patentados\")"
   ]
  },
  {
   "cell_type": "markdown",
   "metadata": {
    "Collapsed": "false"
   },
   "source": [
    "# Robos por año"
   ]
  },
  {
   "cell_type": "code",
   "execution_count": 23,
   "metadata": {
    "Collapsed": "false"
   },
   "outputs": [
    {
     "data": {
      "image/png": "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\n",
      "text/plain": [
       "<Figure size 1440x720 with 1 Axes>"
      ]
     },
     "metadata": {
      "needs_background": "light"
     },
     "output_type": "display_data"
    }
   ],
   "source": [
    "plt.figure(figsize=(20,10))\n",
    "ax = sns.countplot(x=\"automotor_anio_modelo\", data=robados, palette=\"Set3\")\n",
    "ax.set_xticklabels(ax.get_xticklabels(), rotation=40, ha=\"right\")\n",
    "plt.title(\"Robos por año\")\n",
    "plt.show()"
   ]
  },
  {
   "cell_type": "markdown",
   "metadata": {
    "Collapsed": "false"
   },
   "source": [
    "### Robos por modelo"
   ]
  },
  {
   "cell_type": "code",
   "execution_count": 9,
   "metadata": {
    "Collapsed": "false"
   },
   "outputs": [],
   "source": [
    "por_mod = pd.read_csv('./curados/robos_por_modelo.csv')"
   ]
  },
  {
   "cell_type": "code",
   "execution_count": 12,
   "metadata": {
    "Collapsed": "false"
   },
   "outputs": [
    {
     "data": {
      "text/plain": [
       "Text(0.5, 1.0, 'Cantidad de robos por modelo C/ 100.000 patentados')"
      ]
     },
     "execution_count": 12,
     "metadata": {},
     "output_type": "execute_result"
    },
    {
     "data": {
      "image/png": "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\n",
      "text/plain": [
       "<Figure size 720x576 with 1 Axes>"
      ]
     },
     "metadata": {
      "needs_background": "light"
     },
     "output_type": "display_data"
    }
   ],
   "source": [
    "plt.figure(figsize = (10,8))\n",
    "ax = sns.barplot(por_mod.modelo[0:10], por_mod.rob_c_100m[0:10])\n",
    "ax.set_xticklabels(ax.get_xticklabels(), rotation=40, ha=\"right\")\n",
    "plt.title(\"Cantidad de robos por modelo C/ 100.000 patentados\")"
   ]
  },
  {
   "cell_type": "code",
   "execution_count": 24,
   "metadata": {
    "Collapsed": "false"
   },
   "outputs": [
    {
     "data": {
      "text/plain": [
       "(318,)"
      ]
     },
     "execution_count": 24,
     "metadata": {},
     "output_type": "execute_result"
    }
   ],
   "source": [
    "# Arreglo las marcas que están mal codificadas\n",
    "np.shape(robados[\"automotor_modelo_descripcion\"].unique())"
   ]
  },
  {
   "cell_type": "markdown",
   "metadata": {
    "Collapsed": "false"
   },
   "source": [
    "Acá la cosa se complica un poco más y que, como podemos ver, hay 8684 modelos distintos, muchos de esos repetidos con pequeñas variaciones (por ejemplo: XXX). \n",
    "\n",
    "En este caso tenemos como dato los 59 modelos con más patentamientos en los años 2018 y 2019 que, si bien no son directamente la composición del parque automotor, nos dan una idea grosera de la frecuencia relativa de cada uno de ellos. Por supuesto que este dato tiene claras limitaciones, por ejemplo, uno de los autos que más se encuentra en el parque automotor argentino es el Fiat Duna, sin embargo, no vamos a encontrar ninguna patentado en el período 2018-19.\n",
    "\n",
    "Para poder combinar ambos datos vamos a acomodar los modelos del dataframe *robados* tratando de encontrar a estos 59 modelos."
   ]
  },
  {
   "cell_type": "markdown",
   "metadata": {
    "Collapsed": "false"
   },
   "source": [
    "### Robos por provincia"
   ]
  },
  {
   "cell_type": "code",
   "execution_count": 75,
   "metadata": {
    "Collapsed": "false"
   },
   "outputs": [
    {
     "data": {
      "image/png": "iVBORw0KGgoAAAANSUhEUgAAAooAAAHbCAYAAABMTrtDAAAABHNCSVQICAgIfAhkiAAAAAlwSFlzAAALEgAACxIB0t1+/AAAADh0RVh0U29mdHdhcmUAbWF0cGxvdGxpYiB2ZXJzaW9uMy4xLjEsIGh0dHA6Ly9tYXRwbG90bGliLm9yZy8QZhcZAAAgAElEQVR4nOzdeZgdVZn48e9LQlhkCxDWAEEMIwEVNCzussgmA6iooLIIiiIoKirgAigioyibICNqWFxYBheQgUFGYNCfCgRhQGCUiI5kQAmyiOsM+P7+OOfalZvqTt9Od3rh+3me+3TVqapTp+rW8tY5p25HZiJJkiR1W2a0CyBJkqSxyUBRkiRJrQwUJUmS1MpAUZIkSa0MFCVJktTKQFGSJEmtDBQlDSgi/jkiPjrA9IyIZw0x719FxE6DnPegiPjBUNYzGiLi6og4cCmt66KI2HuIy86o3+HkYS7TzRGx+XDmORZFxIYR8YeImLSE+Qx4nkmjxUBRGoci4o0RMbfeoB6sQclLhiHfRYKxzHxHZp64pHmPpoi4ISLeujTXmZm7ZeYFdf0jFuRGxHOB5wGXj0T+S+AzwMdHa+URcX5E/G89Rx6JiGsj4tnDvZ7M/HVmrpSZTy1hPuP+PNPEZKAojTMR8T7gdOCTwNrAhsDngb1Gs1zj2XDXpi1lbwe+lv3894RR3LYrgO0jYt2RXtEA2/jpzFwJmA48BJzf4/LS056BojSORMSqlFqawzPzm5n5x8z8v8z8TmZ+oM6zTUT8KCIeq7WNZ0XElEYeGRHviIh7I+LRiDg7is2AfwZeWGthHqvznx8Rn2gs/4Ga7wMRcXBX+V4VEbdFxO8j4v6IOKFr+v4R8d8R8buI+PBitnWNiLii5nUzsEnX9GfXWqJHIuJnEfH6fvI5CXgpcFbdrrMa++HwiLgXuLemnVHL/fuIuDUiXtrI54SI+JeI+GpEPBERd0bEphFxbEQ8VJfbuTH/DRHx1gH263IR8ZmI+HVE/LY2Pa5Qp60ZEVfW7/CRiPh+RPR3vd4N+I/Geg+KiP8XEadFxCPACRGxTER8pO77hyLiwnosNR1cv9MHI+KoRn7LRcTpddoDdXi5xZUzM/8C3ArsTItGOT8XEY9HxH9FxI6N6evV7/+RiJgXEW/r+i4uq9/F74GD+tk31LL8Cfg6sEV/yy9mO++JiD0a658cEQ9HxPOjq+m+fu8n1m17IiK+GxFrNpZ9SUT8sO6z+yPioJr+9/MsIqbW/bogyjl6ZURMH2gbpZFioCiNLy8Elge+NcA8TwHvBdas8+8IvLNrnj2ArSlNlq8HdsnMe4B3AD+qTWmrdWccEbsC7wdeCcwEuvsX/hE4AFgNeBVwWNS+cxExCzgH2B9YD1iDUtPTn7OBvwDrAgfXT6cczwCupdz81wL2Az4fLX3iMvPDwPeBI+p2HdGYvDewLTCrjt8CbAmsXvP+l4hYvjH/PwJfAaYCtwHXUK6j61MC+C+0rL+//fopYNO6vmfVPI6r044C5gPTKLXGHwIWqTGs+2Fj4Gddk7YF7qv75iRKIHUQsD3wTGAl4KyuZbanfKc7A8dEX9/RDwPb1XI+D9gG+Mggy3lPXaY/nXKuCRwPfDMiVq/TLqp5rwfsA3yyGUhSatAvoxxrXxtgHUTESsCbKN9Zf8sPtJ0XUY6xjl2AhzPzJ/2s8o3AWyj7fwrlnCEiNgSuBj5H2WdbAre3LL8McB6wEaXF4M8s+n1JS4WBojS+rEG5QT3Z3wyZeWtm/jgzn8zMX1GCl5d3zfZPmflYZv4auJ5ywxqM1wPnZeZPM/OPwAld674hM+/MzL9l5h2UG2xn3fsAV2bmjZn5V+CjwN/aVhLlxYDXAsfVWtOfAhc0ZtkD+FVmnle38yfAN+o6enFyZj6SmX+u5f9qZv6u5vlZYDngHxrzfz8zr6n7/18oN/t/ysz/Ay4GZkTEIgF2y/YF8DbgvXX9T1C6EuxbZ/k/SoC8Ua0x/n4/TcuddT3Rlf5AZn6ubsefKUHSqZl5X2b+ATgW2DcWbnL9WN3Xd1KClE5g9Cbg45n5UGYuAD5GCfYHU84nGmVs8xBwel32EkrA+6qI2AB4CXB0Zv4lM28HvtRYL5TA+9v1WPtzP/m/v9bgzqMExwcNsPxA2/l1YM+IWLGOv7Gm9ee8zPx5zfdS+s6vNwH/npkX1W3+Xd22hdT0b2Tmn+qxcRKLnsPSUmGgKI0vvwPWjAH6VNXm0Csj4je1We2TlBqbpt80hv9EuYkOxnrA/Y3x/+5a97YRcX1tMnucUpO2ZtuyNdD8XT/rmQZMHmBdGwHb1ua7x2ow8CZgnUFuR0czfyLiqNrM+HjNc1UW3ne/bQz/mRK0P9UYh8Hty2nAisCtjfL/W00HOIUS3Hw3Iu6LiGP6yeex+nflgbaLsu+b+++/Kft37X6W+e+6TH/LdqYtrpwrN8rY5n+6AstO3usBnQC6OW39fsrbn89k5mqZuU5m7pmZvxhg+X63MzPnUWpH/7EGi3sycKDY3/m1AfCLRWdfWESsGBFfqF0Ffg/cCKwWS/hmtTQUBorS+PIjSnPsQD+Fcg7wX8DMzFyF0hwYg8y/9YWIhgcpN7uODbumf53yEsMGmbkqpW9etC1bb7hr9LOeBcCTA6zrfuA/ahDQ+ayUmYf1k19/2/X39Cj9EY+m1JpOrU3EjzP4fTeQ7vU/TAksN2+Uf9X64gWZ+URmHpWZz6Q0d7+vq9mVOt8fKYHHpotZ3wOU4LpjQ8r+bQa+3fv6gQGWfWCQ5dwM+M/ucjesX2tXu/N+AFg9IlbumvY/jfHFHauLM5h99EBjvNP8vBdwdw0ee3U/XX1t+3EUpSZ723oOv6ymD8exKPXEQFEaRzLzcUo/trMjYu9a87BsROwWEZ+us60M/B74Q5SfA+kveGrzW2B6NF5+6XIppeP/rBroHd81fWVKTdBfImIbShNdx2XAHrUz/xRKn77Wa1Ctpfsm5UWMFWv/xuZvEl4JbBrl5Zhl62frKC+O9Lddz+x/s/9e9icpQerkiDgOWGUxywzWQvs1M/8GfBE4LSLWAoiI9SNilzq8R0Q8qwZRv6f0O+3v51euYvHNkhcB742IjWt/vU8Cl3R1Yfho3debU/rXXdJY9iMRMa2+lHEc8NXFlbO+CPICSl/S/qwFvLt+f6+jBJZXZeb9wA+BkyNi+Sg/AXQIi+mLuIT63c7qYkr/zcMYuDZxIF8DdoqI19cXYtaIiLZuHytTHiQeq302u88zaakxUJTGmcw8FXgfpaP9AkotxRHAt+ss76cEaE9QgpFLWrLpz3XAXcBvIuLhlnVfTflpnusoTY7Xdc3yTuDjEfEE5UZ7aWPZu4DDKTfZB4FHKS8r9OcISpPdbyg/a3JeI68nKDftfSm1Pr+hvByyXD95nQHsU98gPbOfea6hvGjwc0qz418YXPPmYLTt16Mp+/DHtXnx3+nrDzmzjv+BUov8+cy8oZ+8zwXe1FUz120O5SWcG4FfUrbtXV3z/Ectz/coTbbfremfAOYCdwB3Aj+paYsr557ADZnZrJXrdlPN42FKP7x9MrPTHWE/YAbl+/0WcHxmDhR0LqmBtpPMfJCyjS+it3Pq72qf4N0pNYaPUF5kaXvZ53RgBcp++TGlW4I0KqK9f7QkabyIiK8Dl2bmtxc781ISETcBh9QXkdqmHwS8NTOX+IfiJY0cf2RUksa5zHzj4udaujJz29Eug6QlZ9OzJEmSWtn0LEmSpFbWKEqSJKmVgaIkSZJa+TLLCFhzzTVzxowZo10MSZKkxbr11lsfzsxpbdMMFEfAjBkzmDt37mgXQ5IkabEi4r/7m2bTsyRJkloZKEqSJKmVgaIkSZJaGShKkiSplYGiJEmSWhkoSpIkqZWBoiRJkloZKEqSJKmVgaIkSZJaGShKkiSplYGiJEmSWk2IQDEiJkXEbRFxZR3fOCJuioh7I+KSiJhS05er4/Pq9BmNPI6t6T+LiF0a6bvWtHkRcczS3jZJkqTRMiECReBI4J7G+KeA0zJzJvAocEhNPwR4NDOfBZxW5yMiZgH7ApsDuwKfr8HnJOBsYDdgFrBfnVeSJGnCmzzaBVhSETEdeBVwEvC+iAhgB+CNdZYLgBOAc4C96jDAZcBZdf69gIsz86/ALyNiHrBNnW9eZt5X13VxnffuwZTtnFtuXKJtazps65cNW16SJEmDMRFqFE8HPgj8rY6vATyWmU/W8fnA+nV4feB+gDr98Tr/39O7lukvfRERcWhEzI2IuQsWLFjSbZIkSRp14zpQjIg9gIcy89ZmcsusuZhpvaYvmph5bmbOzszZ06ZNG6DUkiRJ48N4b3p+MbBnROwOLA+sQqlhXC0iJtdaw+nAA3X++cAGwPyImAysCjzSSO9oLtNfuiRJ0oQ2rmsUM/PYzJyemTMoL6Ncl5lvAq4H9qmzHQhcXoevqOPU6ddlZtb0fetb0RsDM4GbgVuAmfUt6il1HVcshU2TJEkadeO9RrE/RwMXR8QngNuAL9f0LwNfqS+rPEIJ/MjMuyLiUspLKk8Ch2fmUwARcQRwDTAJmJOZdy3VLZEkSRolEyZQzMwbgBvq8H30vbXcnOcvwOv6Wf4kypvT3elXAVcNY1ElSZLGhXHd9CxJkqSRY6AoSZKkVgaKkiRJamWgKEmSpFYGipIkSWploChJkqRWBoqSJElqZaAoSZKkVgaKkiRJamWgKEmSpFYGipIkSWploChJkqRWBoqSJElqZaAoSZKkVgaKkiRJamWgKEmSpFYGipIkSWploChJkqRWBoqSJElqZaAoSZKkVgaKkiRJamWgKEmSpFYGipIkSWploChJkqRWBoqSJElqZaAoSZKkVgaKkiRJamWgKEmSpFYGipIkSWo1rgPFiFg+Im6OiP+MiLsi4mM1/fyI+GVE3F4/W9b0iIgzI2JeRNwREc9v5HVgRNxbPwc20l8QEXfWZc6MiFj6WypJkrT0TR7tAiyhvwI7ZOYfImJZ4AcRcXWd9oHMvKxr/t2AmfWzLXAOsG1ErA4cD8wGErg1Iq7IzEfrPIcCPwauAnYFrkaSJGmCG9c1iln8oY4uWz85wCJ7ARfW5X4MrBYR6wK7ANdm5iM1OLwW2LVOWyUzf5SZCVwI7D1iGyRJkjSGjOtAESAiJkXE7cBDlGDvpjrppNq8fFpELFfT1gfubyw+v6YNlD6/JV2SJGnCG/eBYmY+lZlbAtOBbSJiC+BY4NnA1sDqwNF19rb+hTmE9EVExKERMTci5i5YsKDHrZAkSRp7xn2g2JGZjwE3ALtm5oO1efmvwHnANnW2+cAGjcWmAw8sJn16S3rb+s/NzNmZOXvatGnDsEWSJEmja1wHihExLSJWq8MrADsB/1X7FlLfUN4b+Gld5ArggPr283bA45n5IHANsHNETI2IqcDOwDV12hMRsV3N6wDg8qW5jZIkSaNlvL/1vC5wQURMogS9l2bmlRFxXURMozQd3w68o85/FbA7MA/4E/AWgMx8JCJOBG6p8308Mx+pw4cB5wMrUN529o1nSZL0tDCuA8XMvAPYqiV9h37mT+DwfqbNAea0pM8FtliykkqSJI0/47rpWZIkSSPHQFGSJEmtDBQlSZLUykBRkiRJrQwUJUmS1MpAUZIkSa0MFCVJktTKQFGSJEmtDBQlSZLUykBRkiRJrQwUJUmS1MpAUZIkSa0MFCVJktTKQFGSJEmtDBQlSZLUykBRkiRJrQwUJUmS1MpAUZIkSa0MFCVJktTKQFGSJEmtDBQlSZLUykBRkiRJrQwUJUmS1MpAUZIkSa0MFCVJktTKQFGSJEmtDBQlSZLUykBRkiRJrQwUJUmS1MpAUZIkSa3GfaAYEctHxM0R8Z8RcVdEfKymbxwRN0XEvRFxSURMqenL1fF5dfqMRl7H1vSfRcQujfRda9q8iDhmaW+jJEnSaBj3gSLwV2CHzHwesCWwa0RsB3wKOC0zZwKPAofU+Q8BHs3MZwGn1fmIiFnAvsDmwK7A5yNiUkRMAs4GdgNmAfvVeSVJkia0cR8oZvGHOrps/SSwA3BZTb8A2LsO71XHqdN3jIio6Rdn5l8z85fAPGCb+pmXmfdl5v8CF9d5JUmSJrRxHygC1Jq/24GHgGuBXwCPZeaTdZb5wPp1eH3gfoA6/XFgjWZ61zL9pUuSJE1oEyJQzMynMnNLYDqlBnCzttnq3+hnWq/pC4mIQyNibkTMXbBgweAKLkmSNIZNiECxIzMfA24AtgNWi4jJddJ04IE6PB/YAKBOXxV4pJnetUx/6d3rPjczZ2fm7GnTpg3XJkmSJI2acR8oRsS0iFitDq8A7ATcA1wP7FNnOxC4vA5fUcep06/LzKzp+9a3ojcGZgI3A7cAM+tb1FMoL7xcMfJbJkmSNLomL36WMW9d4IL6dvIywKWZeWVE3A1cHBGfAG4Dvlzn/zLwlYiYR6lJ3BcgM++KiEuBu4EngcMz8ymAiDgCuAaYBMzJzLuW3uZJkiSNjnEfKGbmHcBWLen3Ufordqf/BXhdP3mdBJzUkn4VcNUSF1aSJGkcGfdNz5IkSRoZBoqSJElqZaAoSZKkVgaKkiRJamWgKEmSpFYGipIkSWploChJkqRWBoqSJElqZaAoSZKkVgaKkiRJamWgKEmSpFYGipIkSWploChJkqRWBoqSJElqZaAoSZKkVgaKkiRJamWgKEmSpFYGipIkSWploChJkqRWBoqSJElqZaAoSZKkVgaKkiRJamWgKEmSpFYGipIkSWploChJkqRWBoqSJElqZaAoSZKkVgaKkiRJamWgKEmSpFYGipIkSWo1rgPFiNggIq6PiHsi4q6IOLKmnxAR/xMRt9fP7o1ljo2IeRHxs4jYpZG+a02bFxHHNNI3joibIuLeiLgkIqYs3a2UJEkaHeM6UASeBI7KzM2A7YDDI2JWnXZaZm5ZP1cB1Gn7ApsDuwKfj4hJETEJOBvYDZgF7NfI51M1r5nAo8AhS2vjJEmSRtO4DhQz88HM/EkdfgK4B1h/gEX2Ai7OzL9m5i+BecA29TMvM+/LzP8FLgb2iogAdgAuq8tfAOw9MlsjSZI0tozrQLEpImYAWwE31aQjIuKOiJgTEVNr2vrA/Y3F5te0/tLXAB7LzCe70tvWf2hEzI2IuQsWLBiGLZIkSRpdEyJQjIiVgG8A78nM3wPnAJsAWwIPAp/tzNqyeA4hfdHEzHMzc3Zmzp42bVqPWyBJkjT2TB7tAiypiFiWEiR+LTO/CZCZv21M/yJwZR2dD2zQWHw68EAdbkt/GFgtIibXWsXm/JIkSRPauK5RrH0Ivwzck5mnNtLXbcz2auCndfgKYN+IWC4iNgZmAjcDtwAz6xvOUygvvFyRmQlcD+xTlz8QuHwkt0mSJGmsGO81ii8G9gfujIjba9qHKG8tb0lpJv4V8HaAzLwrIi4F7qa8MX14Zj4FEBFHANcAk4A5mXlXze9o4OKI+ARwGyUwlSRJmvDGdaCYmT+gvR/hVQMscxJwUkv6VW3LZeZ9lLeiJUmSnlbGddOzJEmSRo6BoiRJkloZKEqSJKmVgaIkSZJaGShKkiSplYGiJEmSWhkoSpIkqZWBoiRJkloZKEqSJKmVgaIkSZJaGShKkiSplYGiJEmSWhkoSpIkqdWYCRQj4nuDSZMkSdLSMXm0CxARywMrAmtGxFQg6qRVgPVGrWCSJElPc6MeKAJvB95DCQpvpS9Q/D1w9mgVSpIk6elu1APFzDwDOCMi3pWZnxvt8kiSJKkY9UCxIzM/FxEvAmbQKFdmXjhqhZIkSXoaGzOBYkR8BdgEuB14qiYnYKAoSZI0CsZMoAjMBmZlZo52QSRJkjSGfh4H+CmwzmgXQpIkScVYqlFcE7g7Im4G/tpJzMw9R69IkiRJT19jKVA8YbQLIEmSpD5jJlDMzP8Y7TJIkiSpz5gJFCPiCcpbzgBTgGWBP2bmKqNXKkmSpKevMRMoZubKzfGI2BvYZpSKI0mS9LQ3lt56XkhmfhvYYbTLIUmS9HQ1ZmoUI+I1jdFlKL+r6G8qSpIkjZIxEygC/9gYfhL4FbDX6BRFkiRJY6bpOTPf0vi8LTNPysyHFrdcRGwQEddHxD0RcVdEHFnTV4+IayPi3vp3ak2PiDgzIuZFxB0R8fxGXgfW+e+NiAMb6S+IiDvrMmdGRIzEPpAkSRpLxkygGBHTI+JbEfFQRPw2Ir4REdMHseiTwFGZuRmwHXB4RMwCjgG+l5kzge/VcYDdgJn1cyhwTl3/6sDxwLaUl2iO7wSXdZ5DG8vtuuRbLEmSNLaNmUAROA+4AlgPWB/4Tk0bUGY+mJk/qcNPAPfU5fcCLqizXQDsXYf3Ai7M4sfAahGxLrALcG1mPpKZjwLXArvWaatk5o/q/6G+sJGXJEnShDWWAsVpmXleZj5ZP+cD03rJICJmAFsBNwFrZ+aDUIJJYK062/rA/Y3F5te0gdLnt6RLkiRNaGMpUHw4It4cEZPq583A7wa7cESsBHwDeE9m/n6gWVvScgjp3es/NCLmRsTcBQsWDKbIkiRJY9pYChQPBl4P/AZ4ENgHeMtgFoyIZSlB4tcy85s1+be12Zj6t/NizHxgg8bi04EHFpM+vSV9IZl5bmbOzszZ06b1VBEqSZI0Jo2lQPFE4MDMnJaZa1ECxxMWt1B9A/nLwD2ZeWpj0hVA583lA4HLG+kH1LeftwMer03T1wA7R8TU+hLLzsA1ddoTEbFdXdcBjbwkSZImrLH0O4rPrS+RAJCZj0TEVoNY7sXA/sCdEXF7TfsQ8E/ApRFxCPBr4HV12lXA7sA84E/UWsu6vhOBW+p8H8/MR+rwYcD5wArA1fUjSZI0oY2lQHGZiJjaCRbrz9UstnyZ+QPa+xEC7NgyfwKH95PXHGBOS/pcYIvFlUWSJGkiGUuB4meBH0bEZZSXRV4PnDS6RZIkSXr6GjOBYmZeGBFzgR0oNYSvycy7R7lYkiRJT1tjJlAEqIGhwaEkSdIYMJbeepYkSdIYYqAoSZKkVgaKkiRJamWgKEmSpFYGipIkSWploChJkqRWBoqSJElqZaAoSZKkVgaKkiRJamWgKEmSpFYGipIkSWploChJkqRWBoqSJElqZaAoSZKkVgaKkiRJamWgKEmSpFYGipIkSWploChJkqRWBoqSJElqZaAoSZKkVgaKkiRJamWgKEmSpFYGipIkSWploChJkqRWBoqSJElqZaAoSZKkVgaKkiRJajXuA8WImBMRD0XETxtpJ0TE/0TE7fWze2PasRExLyJ+FhG7NNJ3rWnzIuKYRvrGEXFTRNwbEZdExJSlt3WSJEmjZ9wHisD5wK4t6adl5pb1cxVARMwC9gU2r8t8PiImRcQk4GxgN2AWsF+dF+BTNa+ZwKPAISO6NZIkSWPEuA8UM/NG4JFBzr4XcHFm/jUzfwnMA7apn3mZeV9m/i9wMbBXRASwA3BZXf4CYO9h3QBJkqQxatwHigM4IiLuqE3TU2va+sD9jXnm17T+0tcAHsvMJ7vSJUmSJryJGiieA2wCbAk8CHy2pkfLvDmE9EVExKERMTci5i5YsKD3EkuSJI0xEzJQzMzfZuZTmfk34IuUpmUoNYIbNGadDjwwQPrDwGoRMbkrvW2d52bm7MycPW3atOHbGEmSpFEyIQPFiFi3MfpqoPNG9BXAvhGxXERsDMwEbgZuAWbWN5ynUF54uSIzE7ge2KcufyBw+dLYBkmSpNE2efGzjG0RcRHwCmDNiJgPHA+8IiK2pDQT/wp4O0Bm3hURlwJ3A08Ch2fmUzWfI4BrgEnAnMy8q67iaODiiPgEcBvw5aW0aZIkSaNq3AeKmblfS3K/wVxmngSc1JJ+FXBVS/p99DVdS5IkPW1MyKZnSZIkLTkDRUmSJLUyUJQkSVIrA0VJkiS1MlCUJElSKwNFSZIktTJQlCRJUisDRUmSJLUyUJQkSVIrA0VJkiS1MlCUJElSKwNFSZIktTJQlCRJUisDRUmSJLUyUJQkSVIrA0VJkiS1MlCUJElSKwNFSZIktTJQlCRJUisDRUmSJLUyUJQkSVIrA0VJkiS1MlCUJElSKwNFSZIktTJQlCRJUisDRUmSJLUyUJQkSVIrA0VJkiS1MlCUJElSKwNFSZIktRr3gWJEzImIhyLip4201SPi2oi4t/6dWtMjIs6MiHkRcUdEPL+xzIF1/nsj4sBG+gsi4s66zJkREUt3CyVJkkbHuA8UgfOBXbvSjgG+l5kzge/VcYDdgJn1cyhwDpTAEjge2BbYBji+E1zWeQ5tLNe9LkmSpAlp8mgXYEll5o0RMaMreS/gFXX4AuAG4OiafmFmJvDjiFgtItat816bmY8ARMS1wK4RcQOwSmb+qKZfCOwNXD1yWzR4f/7z94YlnxVW2HFY8pEkSRPLRKhRbLN2Zj4IUP+uVdPXB+5vzDe/pg2UPr8lXZIkacKbqIFif9r6F+YQ0hfNOOLQiJgbEXMXLFiwBEWUJEkaGyZqoPjb2qRM/ftQTZ8PbNCYbzrwwGLSp7ekLyIzz83M2Zk5e9q0acOyEZIkSaNpogaKVwCdN5cPBC5vpB9Q337eDni8Nk1fA+wcEVPrSyw7A9fUaU9ExHb1becDGnlJkiRNaOP+ZZaIuIjyMsqaETGf8vbyPwGXRsQhwK+B19XZrwJ2B+YBfwLeApCZj0TEicAtdb6Pd15sAQ6jvFm9AuUlljHxIoskSdJIG/eBYmbu18+kRV7lrW87H95PPnOAOS3pc4EtlqSMkiRJ49FEbXqWJEnSEjJQlCRJUisDRUmSJLUyUJQkSVIrA0VJkiS1MlCUJElSKwNFSZIktTJQlCRJUisDRUmSJLUyUJQkSVIrA0VJkiS1MlCUJElSKwNFSZIktTJQlCRJUisDRUmSJLUyUJQkSVIrA0VJkiS1MlCUJElSKwNFSZIktTJQlCRJUisDRUmSJLUyUJQkSVIrA0VJkiS1MlCUJElSKwNFSZIktTJQlCRJUisDRUmSJLUyUJQkSVIrA0VJkiS1MlCUJElSqwkdKEbEryLizoi4PSLm1rTVI+LaiLi3/p1a0yMizoyIeRFxR0Q8v5HPgXX+eyPiwNHaHkmSpCn4ovMAACAASURBVKVpQgeK1faZuWVmzq7jxwDfy8yZwPfqOMBuwMz6ORQ4B0pgCRwPbAtsAxzfCS4lSZImsqdDoNhtL+CCOnwBsHcj/cIsfgysFhHrArsA12bmI5n5KHAtsOvSLrQkSdLSNtEDxQS+GxG3RsShNW3tzHwQoP5dq6avD9zfWHZ+TesvfSERcWhEzI2IuQsWLBjmzZAkSVr6Jo92AUbYizPzgYhYC7g2Iv5rgHmjJS0HSF84IfNc4FyA2bNnLzJdkiRpvJnQNYqZ+UD9+xDwLUofw9/WJmXq34fq7POBDRqLTwceGCBdkiRpQpuwgWJEPCMiVu4MAzsDPwWuADpvLh8IXF6HrwAOqG8/bwc8XpumrwF2joip9SWWnWuaJEnShDaRm57XBr4VEVC28+uZ+W8RcQtwaUQcAvwaeF2d/ypgd2Ae8CfgLQCZ+UhEnAjcUuf7eGY+svQ2Q5IkaXRM2EAxM+8DnteS/jtgx5b0BA7vJ685wJzhLqMkSdJYNmEDRS2ZG6+/Z9jyetn2mw1bXpIkaemZsH0UJUmStGQMFCVJktTKQFGSJEmtDBQlSZLUykBRkiRJrQwUJUmS1MpAUZIkSa0MFCVJktTKQFGSJEmtDBQlSZLUykBRkiRJrQwUJUmS1MpAUZIkSa0mj3YB9PSz4LRPDFte0977kWHLS5IkLcwaRUmSJLWyRlETyinfvnnY8vrA3tsMW16SJI1H1ihKkiSplYGiJEmSWhkoSpIkqZWBoiRJkloZKEqSJKmVgaIkSZJaGShKkiSplYGiJEmSWhkoSpIkqZWBoiRJkloZKEqSJKmVgaIkSZJaGSgOUkTsGhE/i4h5EXHMaJdHkiRppBkoDkJETALOBnYDZgH7RcSs0S2VJEnSyJo82gUYJ7YB5mXmfQARcTGwF3D3qJZKS92CKz84LPlM2+PTi6R9+/ZjhyVvgL23PHnY8pIkPX0ZKA7O+sD9jfH5wLajVBapZ3/+6QPDltcKW6y30PjPf/7zYct70003XSTtqk9dNSx573707ouk3f7gLcOSN8CW62690Pgj//3xYct79Y2OW2j8nFtuHLa8D9v6ZcOWl6SJJzJztMsw5kXE64BdMvOtdXx/YJvMfFdjnkOBQ+voPwA/62EVawIPD1NxJ0reI52/eS/9/M176edv3ks/f/Ne+vmb95Lnv1FmTmubYI3i4MwHNmiMTwcWqqLJzHOBc4eSeUTMzczZQy/exMt7pPM376Wfv3kv/fzNe+nnb95LP3/zHtn8fZllcG4BZkbExhExBdgXuGKUyyRJkjSirFEchMx8MiKOAK4BJgFzMvOuUS6WJEnSiDJQHKTMvAoYnl71ixpSk/UEz3uk8zfvpZ+/eS/9/M176edv3ks/f/Mewfx9mUWSJEmt7KMoSZKkVgaKkiRNcBHh/V5D4oEjjREREQONa/g1b57Dvb+7b8x+nyNvvO7jkS53REzKzL+N5Dq0sM75P16PySYDxRE0kjehkVT/t/VI5j9i+yKqkVrfSD2VR8QyWTsMR8Q2EbFcDmMH4hHe58uOVN41/xH5Pus+/1vnOx3m/f33G3NE7B8Rs4Y5/+a1ZZXhyreR54heA0ZC1zm0Yue4HIlzNiKeNYx5Ncs9PSJWGq68a56TMvOpiFghIm6NiAOGOf8RfSAa4WvXSF3Pm4H5M0ZiHUuTgeII6dyE6vAhwD8OY94jeeJMysyn6vBzIqL1l9qXIP/mRXGjiFhxGPOOrCJis4iY1VzfMOX/t4h4RkSsMRx5djSOlSOAi4DnDlfeLft8zWHMe0XgrRGxakRsFRHvHq68a/7Nsm8FwxPQNb7LGcB3I+LsiNhluAKkxjn0aeBIhvEXJjplr8MHA8cO5/FY9/lTEbFaRDw/IjYaxrxHLABt7JNPUt72/GpETK/f87CtNyKeAfx7RLxiOPJrlPsjwDeASyNi2P5Ze/0uZwGXASsA69b1LfH9v+s+NysiVgCWW9J8G/lPapz/y3W+xyUte+ceWo+NrSPi9Ih4Q0RMHYYyR+P8Pwv4fES8KyI2W9K8G+tYZPtHMi4wUBwhjZPnfGAf4LbhyLd54oyEelGJiLgIOA44rQa6w5V/Z78cClwOHB8Rpw5T3p0LyluBS4EjgO9HxLrDlX9EbAncAHwzIt44nIF0ROwO7Ae8KDNviYg1h+Pkb+zzU4A5wFUR8daI2GQJyxuZ+ScggJ8D5wP3LmFxF9Io+7uAr3WCxaGIRs1n/S63Aj5MuTn/BngV8PolyH9yRHwsIqbX8RdT/p3nizPzjhpIr72kN7nGcf4R4BDg/Mz83ZLk2ZX/3yLieZR/NPBe4LqIeO2SBqOdALQOHxkRB43Ag+gcyn/OehvwLOA70VejNqT93n0OZuYfgc8Da9TpQ/4+O3lHxJuAnYBdKA8We0XEO4eaf7PMEbEB5eHzK8BHqP9lrHFuDfka08jjVEpwfh5wXAxTLXfjeDkV+BxwQUSs2GwJGGK+nXNoc+B04EngZcAZQ82zPiyvV68ty0fEN4DfU/bL/sD7ImLjoebfWE/nIfeZEfGa+rDbuaaNSLBooDgCGif/HsCambkb8IeIeGlE7Lwk+dYL3ioRcX69EXWvc4kOlCj/eeYC4KfAwcB6lGBunzp9qBfbSY3hg4A3Aq8E/gi8OSJOWoIyv70xvA2wB/AC4PuUp+eeaxNqsDy1K+0llMDiKOC0Wv5XDfWiGIvWcixLCULfFBHHAz8CPlMv9EuUf0TsBTw3M3cETgRmAK+OJajRbTywfB+YB/w+M6+u61tmuC5aUf7X+j7A9pl5W0SsPIQ8XgY8rzG+GuVmv05mngN8Frgb2DoidhliUVcALgF+G6XW9g/An4GzI+IM4OvAl4BZQ8k8Fm5uXg3YGngn8HBEvC4iToiIDZck73rcL08JED+WmfsDHwV2BJ4zlLw76s1t5Yi4GtgQ2J6yb1401Dy7AqJlgX+jXLdOpwS684F/76x/CPkvU2/Ay0TEiXXfAPyO8lA31Hw75e58p38B/l9mPpaZ9wJvBj4cETOHkn8jEHoOsCqwe2ZeDPyVckwuMm+P5W8ei3tTjumXA1+o2zTk63nLui4CVqYck9tRKhg6x9OQrzERsR/wZeD0zHw/8GngyYj4zBDyWpny0LZCTVqLUllxPOV+8V/AY8A7o9RID1k9HvegPOC+mHJ/PrAzbUny7o+B4jDpOmA7B8udwOSI+A/KifMB4IyI2HEo66gHyDOBHwM/z8z/1zLbqr3k2c+Jdjrlyeoy4Frg/cBJEbHlEC+KzebsDYDbKcHcAcBLgFcD+0SPfWdqwPwtYLdG8uPAf1BO+kOBl2Xm/M5TVw+2BXZorGvVWt4tM/PGzPw2cF2db8caYA+mzFPq307z3oYRsWdEbEf5zz/LUWpCvk95Cp0B9NxnqfFQsU49ZqDeIDLzO5RjaHtg+f7yGOR63gxsAbwUeDQizqnr+Bv1+tLrxbzlYWRN4HvAyyPiQ8DciDg+eusbuS7lJtPZN48BJwPbRMQOtWb0cuC3wGsiYtNeygyQmU9k5t3A0cAXMvM/KRfzOyjn0yxK8Lher3lHX3/KlSPiGbX836Wcn6dQArkZwMeHkHezP9WqmfkXSuCySt2urwOPUmq6es27+/h6M/CvmXkU5Wa6AfDaiHh2j/l2mg4zItaNiLUz8/8y81JKzfD6mfkOyk365THEVou6z1ej77w8LSKOBb4GLBsROwyYwcDlXgf4UpT+jo8B23Ye3DLzJ5R/8PB/PebfDOCeDXyIco16vCZ3+m0uHxE3RERP32l9kOjUaK0bEbOBmcB/1Wv8j4CLgdViiP04u7ZhWeBfgcOAsygPAitFxMXQW2DU8mD+PUr/wRfW8fnAZ4BnR8RxvZQ5M5+g1Bz+b5TuIL/JzEuAtwN3Z+YBwMPAzpSHu5507ZNNKfeif6zb8HJKhcW+veY7aJnpZxg/wF6Uav5DKU0J/wC8FVijTj8FeEkP+U2qfyfXvwcDR9fhFwDHAFvX8e0oN6TJg8x7/cbwzpQLyvQ6vgPw5Tq8KSW4uxLKj7T3UP5l6t91gP8ETq3jqwP/AmxUx68AFgDrDTLfTYBfAUc20tYCNqbUJFzSSN+DclNds4dyvwHYuQ6vXf/OotyYP9yY7yhKDeysQeS5XifPOv4iysPEGcBdzXzr9NdSArpnDfFY3IQSfB4JPJtSm7VjY/o1wPN6zDO6xk8BzqTcLFamdLE4gvIAcAGw7FDyBzaq39tzKQ8/3wK+COxZz6sbgA0GewzW4+IllEDqaOD5ddpb6/GySR1/DqX2ZSj7+5WN7/mLwCca0ybX9X6/ed71mP/LKTeG0ykPb2tTztnOOXYgcPJQ8q7LX0B5oF0ZeDclyNi8TtuYciOc0kN+K9RyrkPfDXIZyoPPJcC7KMHovZRmxU16PQbrOfKLul/Or/ntQaktXhs4nNLcuvlQjvFa1k8Dx9fxznl0ef0u96vpk3rc13sD/0x5iPgSpdXjTEot1KuBY+u5tPYQvsdJjeH9gXPqfppS980PKOf+J3rNu5HvxrWsO9V9cjP1vla35V+BZy5B/i8G3l2HlwEOAr5Rx18K/A14fw/5dc6RVSg1fy+q488B7gN2a5R9e+BNve7rOv4WSvee19XxTwOfq8OnAe8DVl6C73PTuj82rPv+duAV9Ri/hsb9ZTg/w57h0+3TdVF5cz1htqMEJucBy9Vpk4GzgRspT+2Dyfs9lBtxcx27Upo9rqbcMC4D7gemUi7wKw0y7x2B6ylPyUcAP6M0G/ySctPfiXJz3oZSPX9IZ1uGsI9eWtf1VeBrNW0m5WL7ckp/ok8DW/SQ5wsogeUL6vgpwBl1+N11/7+LEkj/tHMh6CH/KZQb3Xfq93hmPUlfXvfL/nW+5YCXDzLPA4EPNsa/CBxWh9ehNH2+rY5/oh4rg7p51mWaF5T164Wjs0+mUgKVOXW/fAD4f/QQPDfyfiZ9QfRU4FPAJyk1f5vW7/VG6k10CPnvQLlJvosSQO/fdQ7sWfMfdMBF6bf2E8oF9UhKn8Tn1GkfBW4Clu+xnN1B878Bl9XhLSjB0Pvq+IcoD0aDOj9b1rUZ5aHhmXUbfkJ5cFmmfk4Dfgg8ewh5T6I0i8+hL1B/FiV4+xolaLkTeG8PeW5V/+5Pqc26jb4H2jUogX7nAewblCa6Xvf/TpTaq2cCK9Z8PkjpYnAuJXi8vrPP6TGYq8tMpvQbPBd4eyN977pv7u4+DgaR53aU4Ph5lC4V5wCfqdPeTbmWfR2Y1uuxSGkh+BBwSmPauynX9tn1mPkF9TozhPwn1Tz+BHyopk2hVGD8pO6rj9dzYY0hHuuH1OPlzY20/YBTKQ+NRwInADN7zHcWJTA/kXK+d87NvYB7KF1z/r6tgzlvGsPbAFPr8MGU2s9tKA8rP6dcr77ZmH+ZHss+pR7rn6Q+rFGa4jsPKofW4/8NQ9nni13/SGT6dPl0f9mUp+ct64F3C7BpTV+3Hjxf6SHvycBcypPTOZQgY5U6bXsaQRWlpu8fhlD+0yg3ry80DvLjKBfxZevJ+HXggqHsl3pRWaOe9HtTgoirG/MdW7ftjiGWf2/KDew64MLO/qnT9q0XlDOHmPdUyo3+zZSg68+Up/Hl6vd7I7BT1zIDXmAoweBOnfLUC98bGtN3pjxoBKU5ZNC1cc1jEVi3/v0k5Wl5RuM43IVSk/F5BnkhZ+ELYtRj8Ub6auU2pdQunEx5WFmxczwNMv9lm+uiBObPpvTBuwvYszMf5WHr+yymlrX7uwBeQ7kBTa3H9A2UGu516jo/T4+1q428l69/n1HL9vE6vj3lhvka4BlDOYca4y+m3IBfSbku7FDTN6j76tMM/iExuv5OpjwMrl7HV6h/N6E8mJ7Q+Q4Gmf8LKdekPSk1ntcB3++a53RKF5FrgbOGcBxuTHkQuom+VomNKH1lt6vf6ab9HQ/95L9bY9s/ChxUh1emnPMXAK9ufj+UAHLA1gQWrXXak/ICUueYfm7dR+9c3LIDHeeUh9gvUSoBvtEo/yRK0PwvdRs36vFYXKQM9Xi5ryvtrZS+vl8GVuxhvze3YSql8qNzXj6rHkPbUe5TP6BUkiy20oKFr4mrUF7m2bF+n7+inJuH1ukfo1Qu9BrALQ98k9IP9jv0BfzH1GN8Q8p1YVZbuQazbyj3nK8Dn+6a9kFKc/kbKdeE7Xspe0/bOVIZT/QPfU3By1MudttRaububx7IlDepXkwPN4rGRWhnSrPkuylP99+lBC2dvHevJ86ne827Dke9sNxG6XvXSb8GOLyzfT3ul+bFfNWuaZvQCJYpT3gr0mPzZFee76bUsHYu8Ct2Te/pab+x3MqUoHl3ykW209y/LKU56iAG0SRMo6mO8lT4esoNcn1KP5Pv0hekz6KHh4l+9vk7gf+lr7bmU5Qb3PKNeZZpW7afvFdrDM+o+2UKJQj/Bn1dFd5GCdr37rHsm3X2I6VpeBVKoPhhSg3ZjnXaVnW9L2MxzZ9d27dyY3gVSreQA+r4TyiB3fIM4uJNI8Cqn2UoAeZbG+fkRpSO66+v4/sDr12C73Ot+nc94FbKQ9U6jX13NI0HpEHk3dw3nXNmJUpAvk/XvEMKnOuyR1CuWZ3m+MuA8xrT16jn1jsGmV9n36/YOLZfQKndf3XjHDqZrlqVxR3jjf17aGP8VZQX7ToPQ+tQrsVXUt5ih9J95m5g28Xtb0rrxJaUm/7alCbDZjeUCyg18Xt1b/MAea/dGH5pXX6bOr533Tc71fFTKRUDvTZ7NoO4kymVIS+t498HLhzMcTzYeeqxeBPlYfZrlOD2UcoDy/I07lM9bMNG9e+alNrnWykP7PtRWtDeWKcvdt/U5XdtjB8PnFuHp1Fa5t5dj9NPUgLQTfrb3kHs8w3r36vpe+BvXsvfQ6m93KXX/dLTPhzJzCfiB9isMTyN8vT0wTq+HeVG1Gk+3IPSxLDTENf1UsqTRKeq+WeUm+dnKf3xTgAOHmRezYPvHyi1HWvVk+9yyo2/UxP1CerNtMfyNtfx5Xqhuoj6pEO5sJ9PqQ34EfCBYfg+ol4Er2ik9dzE1Fj2YOBVdfgrlCaJ19bxZSmBwfS2bW7J6zn1BP868CbKk+UqlKbDCyiBxqmUJ9JT6wXsXUMs98r1e/wQpTb7tsYxeg4ttTYDlb1OfyulT80USrPkDZRA5ZWUZrOPUvoibVi/16OGUO5XU2oJ/52+ZtvPUDrxd5oM16EE1K/o8Rj8FOVGc24j7Uv0BS9n1O0abJ/eRfpEUvp+XUupqegEix8DnqA2tQ7lHKLc1K6veR9fj5XjKbUUL6M0I95GbT7rJe86fCSlFn5/ys15J0oty0soQc0XKLXEg3qIq+dhdy3uifV82ZhynbmZEti+Brh4CGXehHI9/Wb97lYGXkdpkjutDv+aGsj1sF+agfmZwL51+DDgQerDEqUrxFcbx89LGEQ/OWBzysPh5ykPQftQ+kDfSOmnvDMlkD6Vvq4oizs3z6LUZnZeJjmH8tJEZ/rqlIfZ+yjn1kWDPc5b1rVyLf9xlOvLzXWbplDuSScO9L0N8lj/Qj0mX0zpJnI4fUH6u+ih723XMfOKeg5tW8e3B75Th6fWbdm/MX/rA2M9vqdQXiDZiL5r00do3IMpXU5+RGkif0E9Tnvq9tTIa59avmfV73c/+lovJlEetBY570biM6KZT8QPpTmy+cLHb4GP1PGV6sXqaspN+z+pnWaXYH3fpjTRHk2psXkVJQi7iiH0GawXqNsowcu/1ovJupSb0jfqgX8HjYB4EHmuSd/TzmTKzfhL9P2e2e/qxWxDSuD1I3rr77TIycvCNSMrUp4++326HWzelODoV5Tg5DWUYHcvyk3qCgZZ41eXvaWe7B+g9EfsPIlvTLkhfaqOb1v308uX4Dh5J339PydRAqSr6vhz63HbUxM8pWP26ZSb8Oca6zmL8hA0lXKzuo7a2b+HvDs3iVXq8XZ7s3yUwPBSSg3GrQwiIGLhG/7z6rmzYf0eOuU/jhKk39VLmSkPVT+jr+lxcmPaO+ux0ekve3jdR5sONv+uda1Xy/jOeqz8jPKgMYPyIHMt5fzfZ4j5/xPl+vSyum8/S6nlOohSS/SvNGr/esx7K2C7Orw85UZ5MuXGuRElYLmGGmwN5hipw2tSauD3qd/pyZTgIuq5cyPlwWCr7mUHWe5pjWP+Gvr6U36Ocr08rh5Hvb789QzKdXVrShB0D6XpeRngHZTmyhvr9n0QOGkx+a1Uv//z6n54Rk1/SV3Pe7vm34bea/mX7xrfEvho47xsvqS1KaWv+Dr02Gxbl++8fPhJSj+7+Z3jun63+1JqbXfoMd/m/eFkyvV3Zj3Ob6Ncf2+ktpz1mPcz6/5/FuVBcV5j2mqUe2snoPsKQ3jBjNJF4N/pqw09kvIA/S5K4H5JPbd63udD+Yz4CibihxLJd578DqbUtLywjgfliXwjGs12i8lvkYsafW87vxD4n3pxWKkxfbD9y/agr6lk+Xph6lwEn0dpftuuXsh+QbnoDrrDfb1wfYTSVNB5s/t06tNgHf8off8V4FaGcIOj3ID2bV4wui4G61OaiDdt25+LyXtZam1qHT+OUnO7DKX/xxcpQcfHBvrOGtNWqPv1XxppZ1D7INVj5B8otROfGsK+aAuc30njJkMJ4n5HX3+5Xr7T5n49gBIIntVI+wBwZWN8rV63oS63av27Td0/H2DhGvvDKM04Ow4ir07gOY0SZJ1MX83+VEpz8MH1HNia2tzUY3nfUL/XLTrHTWPa8ZSbwo8pQdgKve7velysTgncbqXvTeyXUB46d6njy9NbV5buWrn31WP74/U4/1w95pehPOgN6m3yzv5uDL+H0ldqDuUasAklwP4SJQhahdL0uth903UMvr+efzfR97bqJpRA8WN1/JOUN7YH0x0k6Lu+BuWBdg59XRI+UNfXafY7pH6/z2nbpwOsZxLl+nh+PXZuor5NS18AMKl+n4dQHpgGfBmJcj62tQ5ModTO//NQju3mOVmPi+UpFSEH1H09l/JSxtsa83ZaWnruVtUYfyFwTmP8RZTuW8+k9Lm8jkE0N1OCwE/U4RXq8dDZ10F5oD2Ncn3YgvJQ8Yb+ytWV9yfrOfLievxuUvfRZ2veZ1C6gL2BUtt9Qf1el6MEv4t9eZWFH3KfQXmIuJ/6Qk/N642Ue8bl1AffpfVZaisazx/K017zYvtSStNY5+cA3kt5mttoCHn326evps2gBKKdm8aKPeS9PuXJ6WOUwGQF6puTjXmOoAYY9NhETt8NbivKm3ofruPnA2c35tucvhqdQd9AG8u/kXKjfAelCeSIxrTm9zLUt7KPpzwFrtNIu4iF+1St2RgeTD+TLSg34QPr+CmUWqd309cM8nJKED3oJiEWvoEeRnnZZldKLdTD9DXXLEN5weGX9PAiQiPvFwDH1uEjKU/QL2tMv54eAoqWY/0t9Vg8ltI3c3q9CL6NEtjtySAftLqO93+mXNTnUB5OOjVMz6P8hmFPtSst6ziK2rRUxzud9ifXdfT00zpd+6TT7/k59fg7srGeN1NqWwb9U0n0c22px8ar6auBfhslCPhA3Y7BvvV5IaWbyrSa36U1/aM1vzMorRVbUGpAF1uL2LKOIyk33ufQ1/zZ2efPp9RwvbQe/5cxiDftaXQdaaQdTmne6zQrf47ScrNG13yDqsGp+/Qf6/BZlFq3Lev4yvX4fF4d35LyYLPY473u007t3pRmmSgPGQfUY6enGriWY/wv1BeFannPZuGHxYspD0a9HC/Na1fnWH8l5YfGm/OdTd8DwaD6yFPuk3fS9zD+XsqDRKcVZ21K4HUKXfeJ/spP6Ud7JaXLwCmUSpZOpcvsmtZpTTyY0iz/0SHs7873txblXtmp3X5f3YbZ3fMN9bsd8jGxtFc4nj6Up4UrKT+vcnTXtAMpN+b1KBfeUyjNlD3f9OvJdh7lRYdlO+tuzHcWtRmxh7w7T8wvoVz0Oi9jnAR8rzHfO2n8lMIQ99MRlJv8TZRO1CtSmm8/RHn6mkMJHgd7kX1GY3gDyo1iPfrecv4FfU9avb6l1rxYzaTcZJajVOUfT19/pFdR/v1SJ4he6E3RQa7rlZQA99K6b95FCUh/Qgloev6NtEben6sXrp0pP1XxbErT4b31AvNDSiB5FPXFisEcL43x51NuzG+i1FacWPfR/pSmy2sYemC+B6WW9nWUl1YuqMfJ1pTapx9QmoUW99JK8xzZiFLzfnId36zm/Rn6uorszhB+PqZ7nZSb9XcaaS9lCL880HUsfpFy4/0m5Qb1qvodv7lx7O3VQ95b0ffTSK+gBOVfof7uIiUw+tc6/R31eJwxyLxXptT0fJm+ps91KAHjeygPtjvU4/OzlFq1nn7KpOb5Qsp15D11fFNKc9zbKNfMZYCNG/MvEgC25Lk38FTdhv2A4xrTjq77fDP6fo6k2cw6UCtCd01Z5+eQtq77/wuUWtYXUX6WakjXXEqt1Rz6rlNBqb1alhJwbk65DvR0bWHhh4qdKV1BfthI251SI/cTSsvNF3s9bxrDX6HcL46s41dQrgFBeUj8IYPoj9yyjm0ptbI71v1xDOVcnVGnX0gJ+gZTo9150/j2Rtop1N8BbpxXZ9PSN5se+8nT12pwIuUh/Dn0vVB5GkOohBrOz6iteLx8KDVAX6cEgd+m/LxIp//Bp4Gf1uFp9PBD2o38p9UT78T/3955x0lWVXn8e2aGYchxyGFAhigggjAwQwYBUTKMxCHDgisSlixLVEmSJEkYcg4KmEByFpAsiCuIiKwIAqIoK3D2j9951OuiurteTVVXN57v51Of7nr16r5bL9x77omlbfXpAj5PCwExMWjciiafF6iVGLqCWiLmp4AvT8H5OShu7GWQM/bkuOnHxMN/JaVggibaWxwN4NMhoWRZNHGuh3xLRsfvAfNcYAAAIABJREFUeLWV8106zlZIhf+j6Ovcca72RpPeIUiwm6vVY8RxdkaBDUVk71RIqGk6x2AMGNuVBry5iEh3ZBb5MTXn6rXRRLENmkjvpMnksfH9sfF3BLXE1qsibcWFyAXi8IrnoHw/b4BSPk2K94sgTda5cYzpCS1AhfaXiL/fRoNtsdgah0xMp1BBqKWxK0h9EuZr0aJrAyTM7F6h/dmpRRwPi98+GWkUzoxrNl1c83OpHjW9Axq37opn8rq4ht9Bi84JaDFXpJb6BSXXiyba/ypwYd39OQtazJ1JLShuMhpr+vXro+SUT0+z8MFIsCpSSq2BzPKb1H2/6Yk5+vgEWshdSZggkdn1ViQgjkFj5VOEVrqXthajFpk+K6VFWdyP30Nj40JoMXAaPc23VQWKVeKemEhP14cZkCBUOck1PTWSR1Fzrbifnlkqpo3z8oUq/S+1Pwz5e5+FhNFzUUCmIb/+i+O6HFr1N5SOtVVcs7ForvgWWvD+LM59s9pPQz68V1BzYVkXKTy2ojbeboqsdmXXpaquT4uixfHn4v5+GflQz4ssLedSIbl4J15dO/BQeSHtx91ogp+EBt5rqUU43kDJX6uJ9tZAQs/88X480tTMgXy1DkQT5zQxCB1K8/6IPVT7lEwxSOt3GjVzyE7I92fFiufD6o5xDrBZvJ8zjnMNtcm7anqdhZAJ6Df0NP3uSE2zUAQM7VGl7VJbRyDNxDZI8Dk++r4c0pLcG9f143yQzZyPRtch3h8V/W3abaDu+6vEPbILEprHImHiFnqa+DehpuFZEK3+D65wPTdEfo0Lx/up457/ebS3DNUTlxfncOrStjPpGaG5FNL8nUMTGvm6Pq8ez2ORBuRGek5uX6GUuLdi22OI3IL11xUN4i8gc3bTAWtxTg+gp7/bWfQ0618X52IYWog1HUCBNDU/QQLs1kird3F8NgppzU9CWrPpURRoVa38ukjjOw9aTJ2B8heehxYBlyOt3x00URGlwT14OdLeLBjbjkQCXWGG37qZdvs5zk9QHr0i52Bh6jwk7qcl43w9TfifN2hvMzSpr4IEiy3Rc7pJcb/EtbyUBnlFq5730ve+gcbI/ZGAviAaD06r2E7ZHWFJ5FLx39Se2emJ6lfIveXUumegSj7AzyLB+ZLSuf5sXNdd4/3s9CGUVzjWAUjwKoS5ifRMlt6sZWtqNP/fiDR9LyFfx19Te0ZnoXqO1HrrzYxorFk17rflkPB5B5pjF6FCRaROvLp24KH0QoJPEYn1I+AvhMN8bGtK64RMgs+hVeZr8SAugCaKl6mtQCejAXM4rQmJk+K7P6TmoD0SmYHupIUyP3xSy1kk/947HprZ4/04pPk7F63Qm8pPR02bMAwJQE8DO5X2+QYS3o5EUXJN59Oip1mlqOBQ+At9DgnQR1PT8izY6Lz2c87HIUH/E5qrOPc3UNEBmZ4D+ebILFuUhjoX+E3p833Q5Ffk2FuAPhYB9O6/dhQaZAs/sM8is/nNtJh2CJnffhBtFw7wdwFXlPZZkZLw1ESbZW3KIUhYWRoNrA8C3+nv+vVzPQ9Aws819KymU59mqpXKNqPQxFD4gE6mFH2JFgLnFfdOk22OQGPSxaVtw5Hw8gw1QXquOFcnUSEpet2xZkWampfjXO+OFl07oIn0fKSJqWqK/w9kIl8GCWuPowX6TGhcvLxu/8ppQequ37PR343jWp+Fxsdy3ruGAikSHD5OuxLbiuCF71PzX18eLb62afVerL/nqQWu3IA0ZfdR5xrVRPt7ISGtWFgeRq1M4VikzV4Quf7cg57XptM91Z3nVeJcHYSCyg6P62pIUXI31SwsvQZ/Fucu7vEf9LVfk8eaAS3Q36A2l86JtIDnUtJ+t3Av7oa0+4W/5qHUgmT3QKmedqnabideXe/AYH5RW1ltgzSJD1LLqL8u0v41deOh1faPqJllLqKmdRtO+E6hAf8HlJJ69tHmiPoBBQ22d6LBfDc0OS8Zn60UD3ylMj91D/3GaDC/GwkASyMh65z4fDc0qDdbs7k+InMYmkjXRgPutqXPd0HawMoph9AEWZzv06PPhVZ4T2Su2IfS5Fnh2h6EhKnTkBavkbP8jFSLDjwQLSqOpCaUT4z7aC1qVUCuQsLM7USUZhNtN/Jfu4JaIMzF0WZxDx1Hi759yG3iqbj3zkCT2qxx7/4aOLmF+2Q6NEhPivfTo0XWKSg9xQJo9T+G1gbwzeI8z4cm+l9Ri6BsVQtUr0VYDWlqN0STTlGqsIjmvbBq3+M7xfhSTD4zIG38TdTMt8tQ0bzfy/GKdEDFc7QhtVruzUQFH4W0+ctHP3dCz+n2aAy7Hbgv9l0cBShMcc44auP6vCjIZGs0lh1ObcHba/5IJBD+HTgy3i+JtE5zIovI/kizOB4J5MfQQg5DGmd6GFG3z4w04ZtZ952P/eBK27aJPj+ABObb0TgwNXWuEs2e3/h/frSwPzjej4v7vkhIPxJZBZqJDC6PAWsjV4pdGz1jcT/18DGt0Of6fKCzIBeIyTRQCjV7T5buu6mQkH8nkgMuKz0PpyLT9k30osnuxqvrHRgsL/o2Ly4NvE5PR9YqQSsj0GRTREh9CVXPuCYGmHljn6WQX0i/JgQkTH217uHZAkVGFpGeK8eg8GOkZbyLKVihoIngFjSxHRQDywSkdbo0jnM/TUZl0ViDcx01J+fdiQTJyMS1RoW+1j/s+yOBZR5kTvhOcS7QRHEx8jnds79rW9fvFYjkwUhIf4KSFrjZQaTBMTZC9YhfRULt1WiFfwK1SOFRcf63Kg1C/VVa6ct/7WxqOfAuQlqdX9Kk0B/f25NStY34Hbshze0TlCJfkVD0E0K70OT5HkNNqLiBWhTiGGra+ilJHzM+7sNzStu+iMzM4+v3b7L9cs7FU6O94cgs/pO4luORKesW4PwW7pfRSFtTPPv1ZvLzo+1KkeQVjj8XTebTpGc06SloYbw2Eko+j4SVadCi8UPqcjq2+kw1uqfQQukv9BSa+poLCg3SckhTeARasP1HaZ8FkQXkXkoLIappFPvM9FClrbp2T6WnJWI8NZ/wlahVdlkcWaRmq9L/uvvuJDTvHI/8Sgtfzi2RkFQ5Cj6+vzLhVhP3zuRejj+OJoKGSvdCj5rg9BQ850cKhlZy9ZbHl4WR73cRnT0LUiAdisa1ok72V6f0Hm/nq+sdGAyv0o0yd9xc5QtbmEQPphZAUCXytbjpFkGTzUVIq/Kl2H4dNW3cxpRWSP20OzvS9ExTOsZ8aOK5qrRfUSruZEoZ6Kucl/h/STQx/7i07Wik9StqWlc2w8X3Cg3O/Ei78FxsMzRQPkak3mih7QVK/5+DBMK5kXbuduS8/kgce1eU7qPXybR0P8yEBvNlkfbvYjT5FYPNFEXXRhtbIOF2GTQhnYaErTvQ6nZMo3utj/aa9V8rtNszV7nX4zsfl66Mv+OQ4PU4NZ+zsZTcCiq0vT/K5zY38un9T6Q1KLRoV8Q92WxKjbLLQ9n8vj0ylS1e+vzr8Tua9rmlFF2JNCe3Ih+toqbyKGRi+gERvUspL2EL5+cY9JzPEO8L94HPoInosFaf0T6OOTtyi3iO8CHu7/7gk9Gkp1PTqiyLhNqZkabpZKJmcbtf1MbNPdE43N8CcXjd302RT2Zhkpyqbv9ySq0+hSw6mOmhfAyklT0TzQsbILeE7er2Wx4J65VTvcT3RyBLSGG1mAMJi+eVnqfDqTAflb63YzwvRQDSzMjSd0SDfb+FxodmBNyVkWXlKEJTXL7W8f9iRKBPi+dlXWQ5eIySiwOSDR6iZnZuKZtEJ19d78BgeSE/iueQ70ZZUCyEyB2QtqLpuqqlNoqBZVWkISon+pyDWsmfKivOWZCQOB5pmY4jnIFRQMahdftXMn2UfvdwapP/Jmj1U+7/hUhYrFJvtj8NznpIqC5Wt1USAJfbXg1pLdYubftpaQCbEa2iiyj2aWgudcLsSBu8IwoKeJSeUaA7IPPKrM32u49jHUOkMYn3eyPN7Uf0UWO2/tpTzX/tRCrm6qI2OE+LBKz30cJnBqSpPAYJRksiYXefiu3vSgRQlLbNiwT7J+J8fyIRcZNtfym+fyIRrBP9vZSeC40xFdqcFeUTLFLzrFK678bEvfMFpF07EvnNTk2LQkC0u0Jcv/3rtl+NTPNtr+IQ99EEmjRl0ziadI14Ti3unYuizy9SStzfqReylFxGL2MkCuQoJvXCpF/c74chTe7I8ud1+/QnJA5Ipoc41gJIWLw/+j227vOF0Vwyqf539HVN667vxki4LSxoI9A4eS5watX7q+79F6Lv36Q2bi+OXE12qdt39SaPsTpakK+IFoTPUaqmUt+HFs/7zmgxMg+yyF0a24qcieugRWRLZRY7/ep6BwbDKx7EX1CrfDA90lqUH/oZaTKFRKMHqzRo7IlMCoUa/mjkj9CsFmR7JHBOi8w1RUmom5AZZ634/AZajwouhMTFkPnkPDRxzoEm7O8TZmAksK7WZLtVNDj7IAFyGpqc4BoMKnMgQeJYaia5zyBz1oF1+/b6gFIqFo9Wf+cD15e27YkEjcORsPEEFaLJG90vpc9GIiHv8nJfqZhXiwHwX0OC24MxEG6MfBCXQGbnk+Je+rg6RZVzgkx5hZ/g9OV9kGanijP86NJ3N0fP/mfiPN9DzX/qgnhVTfw9R+k486IJaDE0Mf8ICUU/RdqFRdDCY6Eqx+jj2BugRcwtSFv5EHBWO9pu14ue0aTHEqUu6+6jFare4y32ZRjSVPeaKD36+HrpuRlOT+HoMuDOKehDxzI9UPNvrs8fezKysJR/x+5o/pixtK0/IbHc7kyEWRwJo9dSSxY9Ai0oJqO5tRkf1nIi6n2oJShfG1lVVi9dkw0IzTPNaRDLmsLxcQ3WRHPzDihIqKX5s1Ef0ILifWoLx43QePNVSvPLYH11vQNd+dGNw9PPQGrnE5DQ8rGfQDM3Xm9tN7pxkDBxF1pBXN/sjYJWIbchFfbsaFVVRE5OHQNaUcZoGyqaDuiZC2pRpB5fLV7/QoLcfDEIXE6FetB1x+mEBqfsPnBtnIuNkIP5ifGgjkYT8/U06QOCVoAbU1v1j0caoFvpmdJkI7RCPIYK2rg+7pfyAD4bEjDO7mu/Po7REf81Pjn5PExPTcSBsa1YNc9JBdMq0srthSagfSklAI7P16AJJ/i671xSvkbIBWF+NBE/Htf2KmQyn4HqOSMPRYu3caX3l8ZvWBZNRoUm5HqaCFqr+op+H4IWMJPa3X4b+1gfTfqJxVpvz0eb+9JwfK+7vy8B7i1/Rk9h47dUyHVHhzM9xPfXQAJo8fyV+7sSMgcXhRi+Hc9qq+U4v4Hmi3viWVosnv/TqLmcTE1FsypaZD2DtJw3odRxw9BY+0O0CG02mGQEPU3UH7sSUMsvXJTiLXIPV07XQ20umoaeFpAL6Vn6dC+kOa+c+3KgX13vwID/4J4P/y7ID2wUmjBORObVBWOA/1rFtsuT+2HIh2oZaqbb8rGvo0mndRqYDmP7JOTfM0+8nw8FzYymj6i9Xo5RP8GNRcEZX0ZaiXL08RiUL7GpSZoOanDo6duzBPL/3DLOzQdI2JiAFgD3xPkZX6H9meLcPEEtufrIOO9HEhHlFc/1KOpqLyPN8rGU6knXfb4kkceMJgfGuu+31X+t7l7eMe6JF4nk6qXrfRbyyWlmlb9M3fu1kRD7H3HOrkELlLni2XqeJkvaUVdNhNpgPizuz5uoRXY+g4TFysnWkZ/na8iPagwSjou6sEVE7RLR/g2tXMuh9Kq7TxpFkx6EJtA5G+3TxX4XQkS5//dSCmZAwl6h0aoS3DhQmR4mxH33zVI/y8LiukiQfIWojFL/m/toe9XS/1vGuZkdzRc/R8qAxdC421Q1lGhrO+QvODKey+8jn8kFop9XE/MyGg9PqXju3wCOr78W1ApfrIjm7ItooTpMqd3PIsH/+0jpNAwJjtdR0vDTwvzRleeh2x3oyo+WBvFnaKV/PXLqX7L0+RJodbVDC21Ph7RNx6AV2330zGTfkg8CjU2HE+Ih3AlNhMvFTVk5Pxo9J7jF4yG/H5kSC/PBGOQI3XTyTzqowYkB5VvAvPF+VST4LxvnvRyJOAyZKsp1rpuNtN0NCUGHURO0Fo5B4CAqaD7ju+vRc6D9LpEOIe67o2jBF7afY3bEfw0JcXcgd40vIEF8i7p9+kz6Hfscjsw+w/jkJHQGNR+uG5CwdyvVfFfrq4lMjzS1MyKH+P9FWQeWimeg6dQU9Jx8v4C0KIciwXaGeJa+iybsYciM9q12Xt/B+KImjHckmrSD/S4LD0cg4WUmJLy8SM2K84mynvQfUNaxTA+93I/roDH7P+s/j98zkVIQUhP9nwUJVGeXtk2kZ+L/ryIhaRSyRjVVehIJfY8iLWGxaJsPzUdPIEF6UvxfaKGraijnRG4EOxe/l9p8uh+SB35LT1eIqgnpl0BuJasiy9xHwAXx2bxoIdpv4NdgenW9A1350Yqovbb0/gRiEkGOzffTRH3c2H85eq4y16GWuPRmapHSLWdWp2/T4dYx0PwsHrKmy/HReII7BAluUyMh7jq0OloKrRq/02TbHdfgIIHr1HjAp4vr+khcvyJAYz7qNMPNPvjxUM8Tv2VJ5Ge3L7U6q+siDVdTWq1Su0dTq5AzMs5xcW3nQivySR2479vqv0ZdOqbY9hWUuqKpQJv4zoUoyrIwyT5FzSQ2FfKLvZKS3yfVo7F7qyZyOdIiTEKaz2epkLYDTWqXUqs2MUtcv52QsHhmbF8ZaW1a9nsaii8GIJq0Q/1ePMalPVDw2JUxdi2Oci9WykXboP2OZHqAhj7gX4ljfbW0rRiPy374/QmJy6HFfTk5/LAYV86np5n1eiqYVNFC8dpePtuQmGOplaXduv63VDjWeOCv1FmW0Ny9IhUzA6D5sSh9Og7FDyxBrfjEJki4PaV0b01xoONAvrregY7/wMYZ7teKQbswdwxDgtg4NFHPW/EYf6QmHC6DnI6fA75e2ueLTIFZhU+aDotV+meQ1mVpqvnG9TXBHU4tce5RaCK/lVJ+vCba74gGBwkOS5XefwmtmLeP97dSM3/Ogfxmmkq6WnecCXFdr4rfXwQPnYmcnfdHgtKcLbQ9HxJM1o7356OAjKJKwhY0mdahhWO35L9GT5+q4m+RjunKun33iwGyzwCtuB9uRk78R1LTDK+C3BM2LfX5F/HMVhLKS8dqVE1kItKIFpPQ4lSfJMYhjcE9yC94GTTZnI4EgMnUkg1vyBAxNbXpXludDkeTtrGvkwgBKO71veL+GIm0YzuU9t0sfsvUNO8f17FMD/XHiHHqERRl/K34PTshC8iaU3COVgI+Kr0/PZ6fkUiQ/jYSiibFOatSP/y71Er5jYtz/E0kvM2GBLvjkAA9qQ3Xexck8BfR6j9Ac0fhklMlBd7ycb4vj+e9KDV5KjUz+b4od/K4bt/rLZ2vbnegoz+up+ZtP+RXtxYSVG5GQkahHbqWCvVD69reFHgPBTQMQ1qbY0ufXxYPUsuh7/RuOrweOK6F9vqb4C4G9ivtXzVdSts1ODHgPQb8E5ltVo3tE5E2dF0k8N4d5/whmixthcwEhUZrUyQgrxb9P5maxnljNAA3rMDSR/vj0SKkEPR3QALSPEiovrw4DzEgNqW5HegX0h6cyCfTMR1Sd53G9NPO1EjIPAhFHB6HTPuFv+2WyBT9OWqVLyr7aTU4bn01kfWIcnlT0ObWaOGzNnL9ODHukVHUqiFt0u1rN0D3R0ejSTvY73FoIi9K722NFplPEQFHKFDuC+X7p4l2O5rpIb43tvT/6sjtZiywLaogMzrGmX3QAnRss203ONbeyPR8KRpji8XtPCjQ5IJ4Vhet2O5EpLm9BlkXrkDBKj9C8/SyyBKzUfncTuE1PwGl1bmXnuVEq1orDFnz/kRNSBwe5+MMJOxeSAuubIPl1fUODMiPlJD4MLVay+NiECuc42+jTitSoe0L0GroauAdairnM5EJ9Dba5H9DY9PhmVPQXn8T3J3ANi223SkNzrwovc25yJxyKRJ090U+oWOREDIrpajsvgZetAo8j5rw8DDSiM2CBP/5kXNzUdt7RJXBBPnePBUD6EnUUlYcigbd4UiDcRnS6t5Em30Up+Ae2R5pV6dHQtWvkClritMxUXI1QEL+qWgxVwjT+6AB+GlarOLQ3/GRe8QRbWjr3Hh+Zol76RlUZWQ4cuuoFFw2lF4MUDRph/peFmxPRrkK54ix6Q4iCjnGxI9rKlOxOgodyPQQ+6+J5p7CMjQOKSy2j3GsEHyninFsG6ZQk0ss+kvvR9V9Xrl95DpUpIxZjVoamXL94/K1akvQE3L7qVRxjZLwX9q2XpyXskvb6sg69yyDNPtA0+ep2x3o2A/TBD8iLt5F1CION0ertvmRGXQdYPMWj7E8cHfp/d4oMqswC69CG2qq1h2zrakv6PAER2c0OCsjgd+Q/9pZSDv3OBLGFqrbv+GggkwaNxCOxqXtM0dbexTfR6b9u2kyiWt8bwSaXM6K9+ujBcSKpc/PI+qHx7bPl/7vqmmODqdjqr82SIt4OprkCmFjAVoIzurnmJWqiTT7O5B5vBAsxjAE8qO18ZwOSDRph/o+E1r4HIEsFo/H9t2QkHsTsiAcVqHNjubqLB1nTmqaq/lijPlD9Lmwlq2ISnR+Ihl4i8c0tPgvytANm9I2+zjWjYRlqxPt1x2r0niLXElOIKx8yAR/I3BGvF8/rk9bx69uvLregTZf6EaJrg+Ih388teimA5DKuVIOtgZtjweui/+nir/3AE93+1xUOWcDNcHRXg3OfwI/LL3fOiahe2muusowJAzeU9r2DSI9DdKovkgtCftwWkuX8gdKEa7IH3Hj0vtpkKbh/LrvdU1IZADSMdXfg6X/d0WaxaYTaLdwvErVRCq0Owr4HbBht65dF++ZjkeTdrDvexCmx+j39cAN8X42pExYqbR/f5VWOpqrM9oshNDZ43m5Azg6tp2NrE7lMn27VD1GP8fvca/TRiEOWS+WQVauC9vVbj/HbCYl0PZozp8KWch+gZQqv6WmDJgPLSoeiHF9yAuJ7p8yQbF0Qb+EtB+bIYHgOKQ5m7e0z3eIahRTcJzh8RAeWNq2H1ptjW3nw9Ph89XRCY4OaHCi3QsoOYTXfdZMIuoJSBOyLNIm3E+pGgQSPt9kCuo2I+H4dWq1SV+KyeKSuFdGorydbRVa2nBuO5qOqbfrFZPEfxOBLEPthXy1XkMLgCHx/Lfxt7c1mnQA+703JT9v5LbyeqOxpa9rygDl6iwdbwyqfrQ78qm+jFoll7NQ8MptdCCpexyjI/d6/K5TKVkoGFzWlYWR/DAPWgQ8ghbMhWvSaCRUDoqFUFt+f7c70IELui/SKm0efw9FAt3VyFQ2W8X2equcUWgQF0aap+8g59sLicipofTq5ARH5zQ4htIOHFS3vYrv0C4oqOfmXj7fkQpBK720MQE5lb8YA8hSKGDmaeRXOajuFzqUjqmZ6xl/p2tXm106f02V4/w0vmhjNOkA9nk5tGD8+H5H/rd3Uq2EaMdydfZyvDUopdBBbj3XEqm3YlvhD/0Jv7o2nbuO3Ov0LCPYNYGL3q0rU8X5vz/eLxPzyM7d6msnXyMY4pjZMHf/qLRpbndf1cz2QALKje7+oZntg9Tx9yEtSLNtfxj/74gmz5fc/U/u/i8zm8rdXzSzL6NV0F/c/YT2/bqBw93/aGYLufs/O9D2h+i8t7tdN7NxyLxS3v5RL19p1MYFZrYA0j4DYGYjUR3UB9z9/Db08z4z2xlpGi5zjSzPmtk9wD/d/b0pPUY7cfc/m9m1wHZm9j/u/q6ZTe/uf0Pmlg/Qs/And3+9jcf1+Pv3drXZDTrxDA0V4nlaDPi1mf0BeMXdNwEwMyuu8UBjZsOLsbzB9sfN7GDgajM7DwVrXe/u+1Y8zJvAImY2D1JULIrGpodRVoaDkCVhFNL8Pdj6LwJknVjMzFZ193uRNnM/YB8z+6u73+3uf+3kee/Uve7uf4WP75mmx/MO9OMDM/sQZWTAzEa4+wcx/wP8PnadAckVf+lOTzuLdem5bStmNgIJar9FjtOgC7aXu79uZl9EEcLTuvv/Vmx7JNIU/hmtyl5Dq4tnLe6Ubg1+Sfswsx+ietY7IIfk5919nzYf4wRkUh1bt71+sdN1zGwF5JP4O3c/ubT9enRuDuta55JBj5ldB/ze3feL9yPc/YMu9WWYu39kZqOQ1u8e4I0Qoj5+9sxsA6T5m9PdTy1/t8njzIr837dFOVgno0wYsyLt4Q5mtngc+40K/f+EoBdzz1Qoi8TiwPdiTroSZfC4qdn2k94xs9HIMrl1LCg+vhZmthLyb50d+aDu6u6Pda+3nWNIC4pmNgwJb4cg9f63kT/MiSg69eXQ9h2FLuLjFdseHm2/7e6nm9m9wPtohXiWu7/azVVy0l7M7HmkBfiau5/VoWP8HJmnruhE++0kJs6dULLxm+P/x9x97652LBlS9KbNG+A+LIJSiz2IXCvuBy5197/0JsS2uoAzs+Xd/TEzm9rd3zez9VAQz24ttFUIuVMhE+z7dZ9/BiXo3xpw4Cp3P35K+p/0xMyOQWPgkWFdmdbd34tzPx7l3/yFu7/Y1Y52kKEuKI5y93+G+XEHFCxxGypMvjtSBU9A4fV3NdFeo5XbvMi/7AoUyXQbchT+MXCyu7/dvl+UdBMzmwmlp7mz230ZLJjZDCi34VvAP9z94i53KRlCdEtYqdP8zIWUBdcjy9JTKADhXlSz+F+dWvDHsa8A7nL3o1tsY2WkqSTaesjdX63bZwHkT/9SvE8FRptI68oQExTNbGrgg/A5XBmlM9kppPsvId+SB939EjNbEa0CXnD3P1Y8zs4ob96lSPicCZmb14vPf4bMF6eF31aSVCK4tsfYAAAU1klEQVRX+0nSGcoaTDObhFJU/R751t6IAshGIWXCBe3wQ27Qh9lRwuVjgXMLU3YL7YxFgZiHogwKy6Pfc467v9ObWTqFxPby725dGTLBLGZ2EYoq+gjlWnsV+X8cizSGPzazpYCDzOyfKA9WUz4xdQPLV1Hy4KdQrr7b3f0yM5vTzCYjE/f/oFD4nOiTlsh7J0naTwhJxVi+NaoadEgEaG0APOruV4bZcEc0n3SCt1BJt90j0KQpGpjp50U+jT+Nz18BdkZ+j+80EghTSGw/7v4TM7sPWVcMaaL/bawrw7rdgf4ws9nM7Ab0QJ8MzGxmX3H336NIsjnN7JDY/XoUefa3CkLisNBQDgtfkrGoZNB+yNS8kpmticrcvQg84u5750SfJEkyeCg0aWY2PAINLkdZKv4cu7wA7GBm+6M0Zte5+4Wd6Iu7f+ju97UqJJrZ7uEn/wzwNzNbP9q9HQXcLNOJfie94+7vuvu33f2cfychEQa5RjEelJ8D77r7ZrHtQ2AhM9vS3a81s7OA75lSMiyLEqf+uNljhKPwbEi9/3dUdm9GVBbpSpQLayJKY3JMG39ekiRJ0gZKQuJolOdzW1Rn9xuo4ALu/tvQKn4FuRJdGN/tuhtIoQkt+QQfg7ShOyK/ynXMbGYUhDMaaSuTZEAY9D6KZjYBJSddF1Vc2Q75mByJagYfFxFtX0Y+A02v4KL9BYD9kRbyMDNbGjk57+zuN5jZgmjQudbdf9Ou35UkSZK0DzNbAs0NN7v7ebHtSlSRa7XSflO5+7/i/64LiQUR+HIzSvD8Air3eQpKs/NlFFDhKP3N5G71M/n3Y1BrFOHjZMUHoXrNP3L3JQDM7GHgYTO7zt1/jUr+9EsDH5A5UVWS4WY2t7s/bWY7AReY2W/d/UkzO8nd/6+9vyxJkiRplQZC3khgLVRrFwB339rM7jWzH7r7xrHtX6XPuyYkNuj/NMi96czQjq6KKk/9b/jJ34xS5LwV38+glWRAGPQ+iqBs/0gVv1Bp82+Au4Cmq1pYz0orW5rZ+GjnGJRIe8PIkXQjqsxxUBw/hcQkSZJBgvVMlP1FM1vS3Z8EtgS2jawXBesCb4fvonWjv/WEwqLofzEPD0P+h/PH5y8jbeIpZraou79TCImQQSvJwDHoTc9lrGf1jBuAF919rxbauRAJnb8BVkaBKuOBNVHizMva1ukkSZKkbdQJiT9EvuXTAs8C30XC4iRg86qp0QaCuqCVU1Fhh1eQmfm/US3oQ1E1sH2BxVCJuPVTOEy6wZDQKBaE6eCzwN+Am1oUElcH5nH3Nd19d1Sw/uLQIv4GWMXMFuqzkSRJkmRAMbPFzGyBkpC4G/JL3waYDZjO3d8EzkVBH9d0r7efxMxmMLMZI2hlKjP7AfI5vBoJt6e4++HIP/Fg4D7gd0h4fCaFxKRbDHofxQasRJPVM3rx4fgA+F+Lqi7uvr+Z3RcJuy8DZvPIbp8kSZJ0n0gPcwawjZm9EuP6eyg92s9QtZL/it3nRRq5xbvT209iZtOj/Ic/R5rPeVGA5OVmdi3K2zuLmR3u7geFOXo+VM/5MiRMJklXGFIaRYDw02hGSBxWCIlmtrmZ7RR+K0+gAWSDkr/KC8Bf3f0td/+fjnU+SZIkqYSZFelidkCFFp6Kj15C6cweKITESJe2M/Avd3+qQXNdwVXB60LgDTPb3d1/F0LifwF/cvdd0Ny0h5ntE1rTv6OCEqd7i5VdkqQdDEWNYq+UfVdK5olNUR6tW4CtkA/LfwBnAhPMbAzKm/h4F7qcJEmS9IKZfRflEjzA3R+Mbe+a2WXuvp2Z3QbMZWZHAIuisfygwWKmjfRqH7n7K6gE34rAqmb2trtfgyqsPB+7zwaciOo54+5vmtku7t50wGaSdIIhFczSF2Y2HOVZvAUVR/8gBplZgKPc/XdmtiFwIBIU/4rqOS/i7md0q99JkiRJT8xsBPAj4G3gSWSCvdfd74jPfwNMdvdvmdk6yCXpfXc/KT6vT4M24JjZKGACsD5Kkv0KyqaxNkqm/T1gOlRh7D1U9m+TSI3T9f4nScGnSaP4GWAVd78Z+SGCHIEnAt+P/+9AeRPPB3Zx958MfDeTJEmSfpgW5c093cxmRUUR1jCzNyMNzprAo2b2p0if9vPii4NFyHL3f5rZ68A2SOA91N1fNbM7kQJjD+AoJDiOdfdHoWcatyQZDHyaNIqjgTmAd4ANUZqbx83sm2hQWd/d/y/KIO0N3OXu93evx0mSJEkzmNnnUIWsN1FlkpdDk3g9sDDwdkQTdz0JdX0fzOwANDe9AZzh7v8ws7HIpD4zMqv/I/YdFEJukpT51AiKAFHH82TgYZTl/g13/5qZXYr8RCbFfvkwJkmSDHLKQpeZrYVK2f0WuCp8+GZ19790tZNBXV/XRibnJ6OqykrALsAv3f2cKDe4APBCZtlIBjtDLuq5jJmNrNu0PrC3u++ECsK/b2bfQMlXVzOz3QFSSEySJBn8lDVz4Z/4AAoIWSk2vz1Yqq2UhMSVUVDKm8BWZnaOuz8M/BRY2czuB44GHkwhMRkKDFkfxUh1MwJ4wMz2RY7BSyOH4Tvj78PAWu7+kZmNc/c/da3DSZIkSUsU2jp3vy78FO+E7tZqLlP0z8x2BDYBjnf3q8PV6Wdm9l/ufqKZvRCfn+Tu/+xmn5OkWYayRvFd4EQzewgJg/9Cq7R1zGx1d38fORCPNrNpUTmkJEmSZIgRQpjF/3eChLPu9urjbBtlzeezKMJ50Sjq8DayaO1tZru6+zPufmwEugzvUreTpBJDVlB09+dQgtJ5ULkjgEdR2aYrzewo4Gzky/LeYFl5JkmSJNWpD1IZBEErwyKAZg4z28fMlnX3R4AjUADlSmY2wt2fB/ailo0DSBeoZOgwJINZzGxRYDMU8bYOSi9whLv/Kj4fh1Z1rxUpB5IkSZKknYQL1IXAD5Hr070ooHJHYGNUp/nJbgu1STIlDAmNYtS9LLM4sCCwqrufDfwe2MfMFjCz04B33f3mFBKTJEmSdmFm25nZymY2MlKy7YpMy+cCywErAHu5+4WoxOAkIE3MyZBmSGkUzewrkVAbM5uIstvfDtyECsbPgxK1rpcruCRJkqRdmNkpaM7ZFfh15EOcD5geuAolBZ8P2Bf4rrtfYmZTh798kgxZBm3UcznXYWgU5wZOM7N53f0c4GZUJ3Nr4FV338vM5nP3P3Sv10mSJMmnDTM7HJjP3Vcob3f3P0Rp2Kfc/XYzWwp4HfhXfP5++DKmj3wyZBmUpmczWwSlvdnRzGZ294/c/VVgZ2BPM1s3CqXfiEr37WRmo1NITJIkSTrArMDPQD7wZraZmX0zqsM8BGxiZscBlwCXu/uVxRdTSEyGOoPS9ByC4u3AL1H2+klIa/hW5Kk6GNgU+Gz8PcLd/6dL3U2SJEk+xYSr0yTgb8i8/DtgOmSVOxN4FdgceNTdb4rvdL2cYJK0g8EqKM6OVmYHA2uhB3NW4GB3f93M9kEC4lTAdpndPkmSJOkUZjYdyq6xOXAB8GKYnQ8F3nL3s+vcpVJITD41DEpBESCqrazj7hua2QrAPcAjKBXBT4B3gA8yF1WSJEnSDczsRuBed/9uCofJp5VBJyiWSiHNA+wDPA8cAEwGXgS+CDwRAS1JkiRJMmCY2fTAwsAJwB/dfecudylJOkpXBUUzWwiY6O7fafDZtMBFwIaxzy2xfQZ3f3dAO5okSZIkgJmNAb4BvOnux8S24WndSj6tdFtQnBOV4Tvc3S8obS+0iisC30OJtTPNQJIkSdJ1zGxGd/9r/J/zUvKppivpcYpKK+7+J+Aw4HAz+2J8VgiJBryAstuvFtvzYUySJEm6SklIzHkp+dTTFUGxeLDM7EhgPPAUcI2ZLVEIiS7eRrmr7k4n4SRJkmQwkfNS8u9A10zPZrYMimBeN/IjHgVsBkxw93fMbIS7f9CVziVJkiRJkiQDp1EszM0l3kMRzR4+Hv8NvAvcFBrFFBKTJEmSJEm6SMcFxfA1xN0/MrOlzWwDM1sM+D0wD7BxycfjKlTTebFO9ytJkiRJkiTpmwEzPZvZ1sCBwA3ACsApwGuoAsudwGhgemD/rNmcJEmSJEnSfTqmUTSzrcxsy/h/KVT6aB2UNHtR4DgkGE5EFVf+DOyZQmKSJEmSJMngoCMaRTObBRVQXwo4G+VKnBMYBxwObA9sAawP7OXuT7S9E0mSJEmSJMkU0XaNYmSofwultXkb2BWYy91fQ5rEY939V/HZm8Di7e5DkiRJkiRJMuWMaHeD7v5hmJrPBn4LLAd83cyOBqYG9jCzuYFtkDbxl+3uQ5IkSZIkSTLltMX0XCTIjv+HA6cDj7r7ZDPbCFgVeNndv2dmX0daxMvd/f4pPniSJEmSJEnSEdqiUSwJiTNFsuy5kU8iyAS9ILCDmf3D3U8vC5ZJkiRJkiTJ4KRtPopmtj3wrQhkORtYxMxWcff3gduBPwDDIcseJUmSJEmSDAVaFhSLSitFQm3gbpQse1vgDeCXwFlm9jXgIuAn7v79KeptkiRJkiRJMmBU9lE0s2WBadz9ITObGfg6cLW7/9rMvoDS31wF3IjyJi4B/NHdL29v15MkSZIkSZJO0oqP4tzAK2Y2AhgFzAHsaGbHu/sjZnYVcBLwT3e/Ebilfd1NkiRJkiRJBoqmTc9mtr2ZjQd+AbwH3I9yIZ4NTAfsAeDuVyJ/xM+b2VRt73GSJEmSJEkyIDRlejazS4G5gOOB51CN5vOBqd19WzNbA9gN+CswM/AScFgGrSRJkiRJkgxd+hQUw7x8AYC7T6r7bCbgMuBX7n6QmS0K7A685e7Hda7LSZIkSZIkyUDQr0bRzC5E2sHXzGyEu39Q5EE0swVRRPNP3f34AehvkiRJkiRJMkD06aNoZqOBVZDZGeBDUB7E8D/8CDgU2NTM5ihS5iRJkiRJkiRDnz4FO3f/M3AtsJ2ZzRAC4jTx8YLAyu7+ILC2u7/u7h91uL9JkiRJkiTJANGMBvCHwEjkf4i7/yO2Hw8sF9v+3pHeJUmSJEmSJF2j2ajnDYCdgGmBm+P/x9x97852L0mSJEmSJOkWTVdmMbMZgK8BbwH/cPeLO9mxJEmSJEmSpLtULuGXJEmSJEmS/HuQUcpJkiRJkiRJQ1JQTJIkSZIkSRqSgmKSJEmSJEnSkBQUkyRJkiRJkoakoJgkSZIkSZI0JAXFJEmSJEmSpCEpKCZJ8qnDzDYys4P7+PxzZvalgexTK5jZj81s5ja3eaSZHdDONps8bp/XpJ/vHm1m67S7T0mS9E/mUUySZFBjZobGqrbVkjezHYEV3P1rDT4b4e4ftOtYgw0zOxL4m7ufNAVtfKrPUZIkNVKjmCTJoMPMxpjZc2Z2FvBLYHsze9DMfmlm15rZ9LHfl8zseTO7z8xON7NbYvuOZva9+H9LM3vGzJ40s3vMbCRwNDDRzJ4ws4mhZfu+md0KXGJmo8xsspk9bWaPm9maffR1KTP7RbT1lJmNje3blbafa2bDY/v68TueNLPbY9v0peM9ZWabx/bfmdns8f9+8TueMbNv1J2n88zsWTO71cymic92M7NH4jjXm9m0TZ77u8zsVDN7II61Ymxv6hyZ2cNmtlRde8vXXZOL4no9YGYvmtkWpf0PjDafNLPvlPbfIv4/In7XM9Efa+Z3JUnSGikoJkkyWFkMuARYF9gFWMfdPw88CuxnZqOAc4EN3H0CMLqXdo4A1nP3ZYGN3P3/YtvV7v45d7869lse2NjdtwH2BnD3pYGtgYvjeI3YEzjN3T8HrAD8wcyWACYC42P7h8C2ZjYaOA/YPPqzZbTxTeAdd1/a3ZcB7igfwMyWB3YCVgLGAbuZ2XLx8VjgTHdfCngb2Dy23+DuX4jjPBfnsFmmc/dVgL2AC0vbmzlHVwFbRb/nBuZx98caHGNuYALwZaAQCDcANgFWin6f0OB734vf9Vlgmvh+kiQdIgXFJEkGKy+7+0NIMFoSuN/MngAmAQsCiwMvuvtLsf+VvbRzP3CRme0GDO/jeDe5+z/i/wnApQDu/jzwMrBoL997EDjUzA4CFow21kZC1SPR57WBheO33FP02d3/Em2sA5xZNOjub9UdYwJwo7v/3d3/BtwArBqfveTuT8T/jwFj4v/Pmtm9ZvY0sC2wFM1zZfTjHmBGq/lJNnOOrqEmAG8FXNvLMX7g7h+5+6+AOWPbOsBkd38v2v1Lg++tGVrLp4G1Kv6uJEkqMqLbHUiSJOmFv8dfA25z963LH5Y0an3i7nua2UrAhsATZva5fo5XHLMp3P0KM3s42v+Zme0a37/Y3Q+p6/NGQCPHcOtlezP9eb/0/4dIywZwEbCJuz9p8slco4826qnvS/G+33Pk7q+a2ZtmtgzSqu7RyzHK/bbS317PQ2gsz0L+pa+Y/C170/QmSdIGUqOYJMlg5yFgvJktAmBm05rZosDzwMJmNib2m9joy2b2GXd/2N2PAN4A5gfeBWbo45j3IC0ccawFgF/30v7CSLN5OnATsAxwO7CFmc0R+8xqZgsi7ePqZrZQsT2auRX4WqnNWRr0Z5P47dMBmwL39tF/4ve9ZmZTFb+lAhOjHxOQSfydBvv0dY6uAg4EZnL3pysc91Zg58KfsnR+Cgqh8A2Tn+oWJEnSUVJQTJJkUOPufwZ2BK40s6eQ4Lh4mED3An5qZvcBfwIaCTQnRnDEM0i4eRK4E1gyAk0aCZhnAcPDvHk1sKO7v99gP5BQ9UyYmBcHLglz6uHArdHn24C547fsDtxgZk9G2wDHArNEgMaTQI/gGXf/JdIQ/gJ4GDjf3R/v47SB/B4fjmM/38++9bxlZg8A59C7b2Nf5+g64KvIDN007v5TJGw/GufzgLrP30Y+nk8DPwAeqdJ+kiTVyfQ4SZIMWcxsenf/W0S+ngn8xt1P6Xa/hjJmdhdwgLs/2u2+JEnSfVKjmCTJUGa30Dw9C8yEoqCTJEmSNpEaxSRJkiYws/WA4+s2v+Tum3ajP1OKmZ0JjK/bfJq7T+5Gf5IkGZykoJgkSZIkSZI0JE3PSZIkSZIkSUNSUEySJEmSJEkakoJikiRJkiRJ0pAUFJMkSZIkSZKGpKCYJEmSJEmSNOT/ATKoNvVEdzj/AAAAAElFTkSuQmCC\n",
      "text/plain": [
       "<Figure size 720x432 with 1 Axes>"
      ]
     },
     "metadata": {
      "needs_background": "light"
     },
     "output_type": "display_data"
    }
   ],
   "source": [
    "# Countplot de robos por provincia\n",
    "plt.figure(figsize=(10,6))\n",
    "ax = sns.countplot(x = \"registro_seccional_provincia\", \n",
    "                   data = robados, \n",
    "                   order = robados[\"registro_seccional_provincia\"].value_counts().index,\n",
    "                   palette = \"Set3\")\n",
    "ax.set_xticklabels(ax.get_xticklabels(), rotation=40, ha=\"right\")\n",
    "plt.title(\"Cantidad de tramites (robos) por Provincia\")\n",
    "plt.show()"
   ]
  },
  {
   "cell_type": "code",
   "execution_count": 76,
   "metadata": {
    "Collapsed": "false"
   },
   "outputs": [],
   "source": [
    "# Calculo los robos por provincia\n",
    "robados_por_provincia = robados.groupby('registro_seccional_provincia').tramite_tipo.agg('count').to_frame().reset_index().rename(columns={\"registro_seccional_provincia\": \"Provincia\", \"tramite_tipo\": \"#robos\"})"
   ]
  },
  {
   "cell_type": "code",
   "execution_count": 77,
   "metadata": {
    "Collapsed": "false"
   },
   "outputs": [],
   "source": [
    "# El parque automotor por provincia\n",
    "autos_circulantes_1819 = pd.read_csv(r'./autos_circulantes_1819.csv')[[\"Provincia\", \"Oct 2019\"]].rename(columns={\"Oct 2019\": \"Autos circulando\"})"
   ]
  },
  {
   "cell_type": "code",
   "execution_count": 78,
   "metadata": {
    "Collapsed": "false"
   },
   "outputs": [],
   "source": [
    "# Merge de robos por provincia y cantidad de autos por provincia\n",
    "robados_por_provincia = robados_por_provincia.merge(autos_circulantes_1819, on='Provincia', how='outer')\n",
    "robados_por_provincia[\"#robos normalizado\"] = robados_por_provincia[\"#robos\"]/robados_por_provincia[\"Autos circulando\"]*100000\n",
    "robados_por_provincia['log(#robos normalizado)'] = np.log10(robados_por_provincia['#robos normalizado'])\n"
   ]
  },
  {
   "cell_type": "code",
   "execution_count": 79,
   "metadata": {
    "Collapsed": "false",
    "scrolled": true
   },
   "outputs": [],
   "source": [
    "import geopandas as gpd\n",
    "# El shapefile que tiene todas las provincias\n",
    "shapefile = './GEO/provincia/provincia.shp'\n",
    "# Lo leo usando Geopandas\n",
    "provincias = gpd.read_file(shapefile)[['fna', 'nam', 'geometry']]\n",
    "# Le cambio el nombre a \"Tierra del Fuego, Antártida e Islas del Atlántico sur\" por \"Tierra del Fuego\"\n",
    "provincias.nam[16] = \"Tierra del Fuego\"\n",
    "provincias.nam[0] = \"Ciudad Autónoma de Bs.As.\""
   ]
  },
  {
   "cell_type": "code",
   "execution_count": 80,
   "metadata": {
    "Collapsed": "false"
   },
   "outputs": [],
   "source": [
    "# Junto el geopandas con los poligionos de las provincias con los robos por provincia\n",
    "provincias = provincias.merge(robados_por_provincia, left_on='nam', right_on=\"Provincia\")"
   ]
  },
  {
   "cell_type": "code",
   "execution_count": 81,
   "metadata": {
    "Collapsed": "false"
   },
   "outputs": [],
   "source": [
    "# El mapa me plotea la antartida y las islas asi que hago un rectangulo cortando solo el pais\n",
    "shapefile = './GEO/AOI/AOI.shp'\n",
    "# Read shapefile using Geopandas\n",
    "AOI = gpd.read_file(shapefile)"
   ]
  },
  {
   "cell_type": "code",
   "execution_count": 82,
   "metadata": {
    "Collapsed": "false"
   },
   "outputs": [
    {
     "data": {
      "text/html": [
       "<div>\n",
       "<style scoped>\n",
       "    .dataframe tbody tr th:only-of-type {\n",
       "        vertical-align: middle;\n",
       "    }\n",
       "\n",
       "    .dataframe tbody tr th {\n",
       "        vertical-align: top;\n",
       "    }\n",
       "\n",
       "    .dataframe thead th {\n",
       "        text-align: right;\n",
       "    }\n",
       "</style>\n",
       "<table border=\"1\" class=\"dataframe\">\n",
       "  <thead>\n",
       "    <tr style=\"text-align: right;\">\n",
       "      <th></th>\n",
       "      <th>fna</th>\n",
       "      <th>nam</th>\n",
       "      <th>Provincia</th>\n",
       "      <th>#robos</th>\n",
       "      <th>Autos circulando</th>\n",
       "      <th>#robos normalizado</th>\n",
       "      <th>log(#robos normalizado)</th>\n",
       "      <th>id</th>\n",
       "      <th>Class</th>\n",
       "      <th>geometry</th>\n",
       "    </tr>\n",
       "  </thead>\n",
       "  <tbody>\n",
       "    <tr>\n",
       "      <td>0</td>\n",
       "      <td>Ciudad Autónoma de Buenos Aires</td>\n",
       "      <td>Ciudad Autónoma de Bs.As.</td>\n",
<<<<<<< Updated upstream
       "      <td>Ciudad Autónoma de Bs.As.</td>\n",
       "      <td>10210.0</td>\n",
       "      <td>1544318</td>\n",
       "      <td>661.133264</td>\n",
       "      <td>2.820289</td>\n",
=======
       "      <td>8742</td>\n",
>>>>>>> Stashed changes
       "      <td>1</td>\n",
       "      <td>Argentina</td>\n",
       "      <td>POLYGON Z ((-58.34188739699994 -34.63109671699...</td>\n",
       "    </tr>\n",
       "    <tr>\n",
       "      <td>1</td>\n",
       "      <td>Provincia del Neuquén</td>\n",
       "      <td>Neuquén</td>\n",
<<<<<<< Updated upstream
       "      <td>Neuquén</td>\n",
       "      <td>237.0</td>\n",
       "      <td>337698</td>\n",
       "      <td>70.181049</td>\n",
       "      <td>1.846220</td>\n",
=======
       "      <td>203</td>\n",
>>>>>>> Stashed changes
       "      <td>1</td>\n",
       "      <td>Argentina</td>\n",
       "      <td>POLYGON Z ((-70.39345041599995 -36.15525721499...</td>\n",
       "    </tr>\n",
       "    <tr>\n",
       "      <td>2</td>\n",
       "      <td>Provincia de La Pampa</td>\n",
       "      <td>La Pampa</td>\n",
<<<<<<< Updated upstream
       "      <td>La Pampa</td>\n",
       "      <td>46.0</td>\n",
       "      <td>187708</td>\n",
       "      <td>24.506148</td>\n",
       "      <td>1.389275</td>\n",
=======
       "      <td>43</td>\n",
>>>>>>> Stashed changes
       "      <td>1</td>\n",
       "      <td>Argentina</td>\n",
       "      <td>(POLYGON Z ((-64.46428512299997 -35.0000522329...</td>\n",
       "    </tr>\n",
       "    <tr>\n",
       "      <td>3</td>\n",
       "      <td>Provincia de Mendoza</td>\n",
       "      <td>Mendoza</td>\n",
<<<<<<< Updated upstream
       "      <td>Mendoza</td>\n",
       "      <td>2450.0</td>\n",
       "      <td>829747</td>\n",
       "      <td>295.270727</td>\n",
       "      <td>2.470220</td>\n",
=======
       "      <td>2442</td>\n",
>>>>>>> Stashed changes
       "      <td>1</td>\n",
       "      <td>Argentina</td>\n",
       "      <td>POLYGON Z ((-69.12569695099995 -32.00283498499...</td>\n",
       "    </tr>\n",
       "    <tr>\n",
       "      <td>4</td>\n",
       "      <td>Provincia de San Luis</td>\n",
       "      <td>San Luis</td>\n",
       "      <td>San Luis</td>\n",
       "      <td>80.0</td>\n",
       "      <td>197312</td>\n",
       "      <td>40.544924</td>\n",
       "      <td>1.607936</td>\n",
       "      <td>1</td>\n",
       "      <td>Argentina</td>\n",
       "      <td>POLYGON Z ((-67.05547011299996 -31.85605263599...</td>\n",
       "    </tr>\n",
<<<<<<< Updated upstream
=======
       "    <tr>\n",
       "      <td>5</td>\n",
       "      <td>Provincia de Córdoba</td>\n",
       "      <td>Córdoba</td>\n",
       "      <td>4078</td>\n",
       "      <td>1</td>\n",
       "      <td>Argentina</td>\n",
       "      <td>POLYGON Z ((-63.87034900199995 -29.62387303499...</td>\n",
       "    </tr>\n",
       "    <tr>\n",
       "      <td>6</td>\n",
       "      <td>Provincia de Santa Fe</td>\n",
       "      <td>Santa Fe</td>\n",
       "      <td>2039</td>\n",
       "      <td>1</td>\n",
       "      <td>Argentina</td>\n",
       "      <td>POLYGON Z ((-60.27271410899993 -33.26386310199...</td>\n",
       "    </tr>\n",
       "    <tr>\n",
       "      <td>7</td>\n",
       "      <td>Provincia de Entre Ríos</td>\n",
       "      <td>Entre Ríos</td>\n",
       "      <td>194</td>\n",
       "      <td>1</td>\n",
       "      <td>Argentina</td>\n",
       "      <td>POLYGON Z ((-58.58137670599996 -30.16010098199...</td>\n",
       "    </tr>\n",
       "    <tr>\n",
       "      <td>8</td>\n",
       "      <td>Provincia de San Juan</td>\n",
       "      <td>San Juan</td>\n",
       "      <td>17</td>\n",
       "      <td>1</td>\n",
       "      <td>Argentina</td>\n",
       "      <td>POLYGON Z ((-69.62981019099993 -28.39369204999...</td>\n",
       "    </tr>\n",
       "    <tr>\n",
       "      <td>9</td>\n",
       "      <td>Provincia de La Rioja</td>\n",
       "      <td>La Rioja</td>\n",
       "      <td>18</td>\n",
       "      <td>1</td>\n",
       "      <td>Argentina</td>\n",
       "      <td>POLYGON Z ((-68.52082545399998 -27.81988008299...</td>\n",
       "    </tr>\n",
       "    <tr>\n",
       "      <td>10</td>\n",
       "      <td>Provincia de Catamarca</td>\n",
       "      <td>Catamarca</td>\n",
       "      <td>12</td>\n",
       "      <td>1</td>\n",
       "      <td>Argentina</td>\n",
       "      <td>POLYGON Z ((-68.10861958199996 -25.21178272099...</td>\n",
       "    </tr>\n",
       "    <tr>\n",
       "      <td>11</td>\n",
       "      <td>Provincia de Tucumán</td>\n",
       "      <td>Tucumán</td>\n",
       "      <td>81</td>\n",
       "      <td>1</td>\n",
       "      <td>Argentina</td>\n",
       "      <td>POLYGON Z ((-65.35915425199994 -26.05943768899...</td>\n",
       "    </tr>\n",
       "    <tr>\n",
       "      <td>12</td>\n",
       "      <td>Provincia de Jujuy</td>\n",
       "      <td>Jujuy</td>\n",
       "      <td>42</td>\n",
       "      <td>1</td>\n",
       "      <td>Argentina</td>\n",
       "      <td>POLYGON Z ((-65.18656669899997 -22.08534968799...</td>\n",
       "    </tr>\n",
       "    <tr>\n",
       "      <td>13</td>\n",
       "      <td>Provincia del Chaco</td>\n",
       "      <td>Chaco</td>\n",
       "      <td>58</td>\n",
       "      <td>1</td>\n",
       "      <td>Argentina</td>\n",
       "      <td>POLYGON Z ((-62.24919160899998 -24.14075178699...</td>\n",
       "    </tr>\n",
       "    <tr>\n",
       "      <td>14</td>\n",
       "      <td>Provincia de Formosa</td>\n",
       "      <td>Formosa</td>\n",
       "      <td>27</td>\n",
       "      <td>1</td>\n",
       "      <td>Argentina</td>\n",
       "      <td>POLYGON Z ((-62.31200527199996 -22.48665958999...</td>\n",
       "    </tr>\n",
       "    <tr>\n",
       "      <td>15</td>\n",
       "      <td>Provincia de Santiago del Estero</td>\n",
       "      <td>Santiago del Estero</td>\n",
       "      <td>31</td>\n",
       "      <td>1</td>\n",
       "      <td>Argentina</td>\n",
       "      <td>POLYGON Z ((-62.04552627399994 -25.65356804099...</td>\n",
       "    </tr>\n",
       "    <tr>\n",
       "      <td>16</td>\n",
       "      <td>Provincia de Tierra del Fuego, Antártida e Isl...</td>\n",
       "      <td>Tierra del Fuego</td>\n",
       "      <td>47</td>\n",
       "      <td>1</td>\n",
       "      <td>Argentina</td>\n",
       "      <td>(POLYGON Z ((-58.96740100699998 -51.2338223019...</td>\n",
       "    </tr>\n",
       "    <tr>\n",
       "      <td>17</td>\n",
       "      <td>Provincia de Santa Cruz</td>\n",
       "      <td>Santa Cruz</td>\n",
       "      <td>36</td>\n",
       "      <td>1</td>\n",
       "      <td>Argentina</td>\n",
       "      <td>(POLYGON Z ((-65.71410369899996 -47.9095840449...</td>\n",
       "    </tr>\n",
       "    <tr>\n",
       "      <td>18</td>\n",
       "      <td>Provincia del Chubut</td>\n",
       "      <td>Chubut</td>\n",
       "      <td>108</td>\n",
       "      <td>1</td>\n",
       "      <td>Argentina</td>\n",
       "      <td>(POLYGON Z ((-70.99068043099999 -41.9999644609...</td>\n",
       "    </tr>\n",
       "    <tr>\n",
       "      <td>19</td>\n",
       "      <td>Provincia de Río Negro</td>\n",
       "      <td>Río Negro</td>\n",
       "      <td>132</td>\n",
       "      <td>1</td>\n",
       "      <td>Argentina</td>\n",
       "      <td>POLYGON Z ((-68.23909875399994 -37.58496004099...</td>\n",
       "    </tr>\n",
       "    <tr>\n",
       "      <td>20</td>\n",
       "      <td>Provincia de Buenos Aires</td>\n",
       "      <td>Buenos Aires</td>\n",
       "      <td>39585</td>\n",
       "      <td>1</td>\n",
       "      <td>Argentina</td>\n",
       "      <td>POLYGON Z ((-60.27237499099994 -33.26348632899...</td>\n",
       "    </tr>\n",
       "    <tr>\n",
       "      <td>21</td>\n",
       "      <td>Provincia de Corrientes</td>\n",
       "      <td>Corrientes</td>\n",
       "      <td>125</td>\n",
       "      <td>1</td>\n",
       "      <td>Argentina</td>\n",
       "      <td>(POLYGON Z ((-57.97098928599996 -27.2749861079...</td>\n",
       "    </tr>\n",
       "    <tr>\n",
       "      <td>22</td>\n",
       "      <td>Provincia de Misiones</td>\n",
       "      <td>Misiones</td>\n",
       "      <td>71</td>\n",
       "      <td>1</td>\n",
       "      <td>Argentina</td>\n",
       "      <td>(POLYGON Z ((-53.67369900599994 -26.3322436209...</td>\n",
       "    </tr>\n",
       "    <tr>\n",
       "      <td>23</td>\n",
       "      <td>Provincia de Salta</td>\n",
       "      <td>Salta</td>\n",
       "      <td>39</td>\n",
       "      <td>1</td>\n",
       "      <td>Argentina</td>\n",
       "      <td>POLYGON Z ((-62.34229970599995 -22.46084008799...</td>\n",
       "    </tr>\n",
>>>>>>> Stashed changes
       "  </tbody>\n",
       "</table>\n",
       "</div>"
      ],
      "text/plain": [
       "                               fna                        nam  \\\n",
       "0  Ciudad Autónoma de Buenos Aires  Ciudad Autónoma de Bs.As.   \n",
       "1            Provincia del Neuquén                    Neuquén   \n",
       "2            Provincia de La Pampa                   La Pampa   \n",
       "3             Provincia de Mendoza                    Mendoza   \n",
       "4            Provincia de San Luis                   San Luis   \n",
       "\n",
<<<<<<< Updated upstream
       "                   Provincia   #robos  Autos circulando  #robos normalizado  \\\n",
       "0  Ciudad Autónoma de Bs.As.  10210.0           1544318          661.133264   \n",
       "1                    Neuquén    237.0            337698           70.181049   \n",
       "2                   La Pampa     46.0            187708           24.506148   \n",
       "3                    Mendoza   2450.0            829747          295.270727   \n",
       "4                   San Luis     80.0            197312           40.544924   \n",
=======
       "                          nam  tramite_tipo  id      Class  \\\n",
       "0   Ciudad Autónoma de Bs.As.          8742   1  Argentina   \n",
       "1                     Neuquén           203   1  Argentina   \n",
       "2                    La Pampa            43   1  Argentina   \n",
       "3                     Mendoza          2442   1  Argentina   \n",
       "4                    San Luis            80   1  Argentina   \n",
       "5                     Córdoba          4078   1  Argentina   \n",
       "6                    Santa Fe          2039   1  Argentina   \n",
       "7                  Entre Ríos           194   1  Argentina   \n",
       "8                    San Juan            17   1  Argentina   \n",
       "9                    La Rioja            18   1  Argentina   \n",
       "10                  Catamarca            12   1  Argentina   \n",
       "11                    Tucumán            81   1  Argentina   \n",
       "12                      Jujuy            42   1  Argentina   \n",
       "13                      Chaco            58   1  Argentina   \n",
       "14                    Formosa            27   1  Argentina   \n",
       "15        Santiago del Estero            31   1  Argentina   \n",
       "16           Tierra del Fuego            47   1  Argentina   \n",
       "17                 Santa Cruz            36   1  Argentina   \n",
       "18                     Chubut           108   1  Argentina   \n",
       "19                  Río Negro           132   1  Argentina   \n",
       "20               Buenos Aires         39585   1  Argentina   \n",
       "21                 Corrientes           125   1  Argentina   \n",
       "22                   Misiones            71   1  Argentina   \n",
       "23                      Salta            39   1  Argentina   \n",
>>>>>>> Stashed changes
       "\n",
       "   log(#robos normalizado)  id      Class  \\\n",
       "0                 2.820289   1  Argentina   \n",
       "1                 1.846220   1  Argentina   \n",
       "2                 1.389275   1  Argentina   \n",
       "3                 2.470220   1  Argentina   \n",
       "4                 1.607936   1  Argentina   \n",
       "\n",
       "                                            geometry  \n",
       "0  POLYGON Z ((-58.34188739699994 -34.63109671699...  \n",
       "1  POLYGON Z ((-70.39345041599995 -36.15525721499...  \n",
       "2  (POLYGON Z ((-64.46428512299997 -35.0000522329...  \n",
       "3  POLYGON Z ((-69.12569695099995 -32.00283498499...  \n",
       "4  POLYGON Z ((-67.05547011299996 -31.85605263599...  "
      ]
     },
     "execution_count": 82,
     "metadata": {},
     "output_type": "execute_result"
    }
   ],
   "source": [
    "# Construyo la intersección entre el rectángulo y el shapefile de las provincias\n",
<<<<<<< Updated upstream
    "provincias_en_Argentina = gpd.overlay(provincias, AOI, how='intersection')\n",
    "provincias_en_Argentina.head()"
   ]
  },
  {
   "cell_type": "code",
   "execution_count": 87,
   "metadata": {
    "Collapsed": "false"
   },
   "outputs": [
    {
     "data": {
      "text/plain": [
       "<matplotlib.cm.ScalarMappable at 0x1a2d444710>"
      ]
     },
     "execution_count": 87,
     "metadata": {},
     "output_type": "execute_result"
    }
   ],
   "source": [
    "# Creo el colorbar\n",
    "sm = plt.cm.ScalarMappable(cmap='Blues', norm=plt.Normalize(vmin=0, vmax=3))\n",
    "sm._A = []\n",
    "sm"
=======
    "provincias_en_Argentina = gpd.overlay(provincias, AOI, how='intersection')"
>>>>>>> Stashed changes
   ]
  },
  {
   "cell_type": "code",
   "execution_count": 90,
   "metadata": {
    "Collapsed": "false",
    "scrolled": true
   },
   "outputs": [
    {
     "data": {
      "text/plain": [
       "<matplotlib.axes._subplots.AxesSubplot at 0x1a30506c50>"
      ]
     },
     "execution_count": 90,
     "metadata": {},
     "output_type": "execute_result"
    },
    {
     "data": {
      "image/png": "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\n",
      "text/plain": [
       "<Figure size 1440x576 with 2 Axes>"
      ]
     },
     "metadata": {
      "needs_background": "light"
     },
     "output_type": "display_data"
    }
   ],
   "source": [
    "# Ploteo los robos absolutos por provincia\n",
    "\n",
    "# Tamaño de la figura\n",
    "fig, ax = plt.subplots(1, figsize=(20, 8))\n",
    "# Título\n",
    "ax.set_title('Cantidad absoluta de robo por provincia cada 100k autos circulando', fontdict={'fontsize': '16', 'fontweight' : '3'})\n",
    "# Borro los ejes\n",
    "ax.axis('off')\n",
    "\n",
    "cbar = fig.colorbar(sm, ticks=[0, 1, 2, 3], orientation='vertical')\n",
    "cbar.ax.set_yticklabels([1, 10, 100, 1000])  # horizontal colorbar\n",
    "\n",
    "# Plotea final\n",
    "provincias_en_Argentina = provincias_en_Argentina.to_crs({'init': 'epsg:3395'}) # Lo paso a Mercator\n",
    "provincias_en_Argentina.plot(column='log(#robos normalizado)', cmap='Blues', linewidth=0.8, ax=ax, edgecolor='0.8')\n"
   ]
  },
  {
   "cell_type": "markdown",
   "metadata": {
    "Collapsed": "false"
   },
   "source": [
    "### Recuperados"
   ]
  },
  {
   "cell_type": "code",
   "execution_count": null,
   "metadata": {
    "Collapsed": "false"
   },
   "outputs": [],
   "source": [
    "recuperados = pd.read_csv(r'C:\\Users\\Luciano\\Trabajo final UTN\\robo_autos\\curados\\recus_limpio.csv')"
   ]
  },
  {
   "cell_type": "code",
   "execution_count": null,
   "metadata": {
    "Collapsed": "false"
   },
<<<<<<< Updated upstream
=======
   "outputs": [
    {
     "data": {
      "text/html": [
       "<div>\n",
       "<style scoped>\n",
       "    .dataframe tbody tr th:only-of-type {\n",
       "        vertical-align: middle;\n",
       "    }\n",
       "\n",
       "    .dataframe tbody tr th {\n",
       "        vertical-align: top;\n",
       "    }\n",
       "\n",
       "    .dataframe thead th {\n",
       "        text-align: right;\n",
       "    }\n",
       "</style>\n",
       "<table border=\"1\" class=\"dataframe\">\n",
       "  <thead>\n",
       "    <tr style=\"text-align: right;\">\n",
       "      <th></th>\n",
       "      <th>fna</th>\n",
       "      <th>nam</th>\n",
       "      <th>tramite_tipo</th>\n",
       "      <th>id</th>\n",
       "      <th>Class</th>\n",
       "      <th>geometry</th>\n",
       "      <th>Patentados</th>\n",
       "      <th>Robos_norm</th>\n",
       "    </tr>\n",
       "  </thead>\n",
       "  <tbody>\n",
       "    <tr>\n",
       "      <td>0</td>\n",
       "      <td>Ciudad Autónoma de Buenos Aires</td>\n",
       "      <td>Ciudad Autónoma de Bs.As.</td>\n",
       "      <td>8742</td>\n",
       "      <td>1</td>\n",
       "      <td>Argentina</td>\n",
       "      <td>POLYGON Z ((-6494589.196952539 -4089578.798426...</td>\n",
       "      <td>162.032</td>\n",
       "      <td>53.952306</td>\n",
       "    </tr>\n",
       "    <tr>\n",
       "      <td>1</td>\n",
       "      <td>Provincia del Neuquén</td>\n",
       "      <td>Neuquén</td>\n",
       "      <td>203</td>\n",
       "      <td>1</td>\n",
       "      <td>Argentina</td>\n",
       "      <td>POLYGON Z ((-7836163.055490666 -4296795.442171...</td>\n",
       "      <td>879.655</td>\n",
       "      <td>0.230772</td>\n",
       "    </tr>\n",
       "    <tr>\n",
       "      <td>2</td>\n",
       "      <td>Provincia de La Pampa</td>\n",
       "      <td>La Pampa</td>\n",
       "      <td>43</td>\n",
       "      <td>1</td>\n",
       "      <td>Argentina</td>\n",
       "      <td>(POLYGON Z ((-7176131.394244757 -4139379.82854...</td>\n",
       "      <td>9403.461</td>\n",
       "      <td>0.004573</td>\n",
       "    </tr>\n",
       "    <tr>\n",
       "      <td>3</td>\n",
       "      <td>Provincia de Mendoza</td>\n",
       "      <td>Mendoza</td>\n",
       "      <td>2442</td>\n",
       "      <td>1</td>\n",
       "      <td>Argentina</td>\n",
       "      <td>POLYGON Z ((-7695037.385315457 -3741040.460175...</td>\n",
       "      <td>41.523</td>\n",
       "      <td>58.810780</td>\n",
       "    </tr>\n",
       "    <tr>\n",
       "      <td>4</td>\n",
       "      <td>Provincia de San Luis</td>\n",
       "      <td>San Luis</td>\n",
       "      <td>80</td>\n",
       "      <td>1</td>\n",
       "      <td>Argentina</td>\n",
       "      <td>POLYGON Z ((-7464580.787882729 -3721880.795366...</td>\n",
       "      <td>8183.521</td>\n",
       "      <td>0.009776</td>\n",
       "    </tr>\n",
       "    <tr>\n",
       "      <td>5</td>\n",
       "      <td>Provincia de Córdoba</td>\n",
       "      <td>Córdoba</td>\n",
       "      <td>4078</td>\n",
       "      <td>1</td>\n",
       "      <td>Argentina</td>\n",
       "      <td>POLYGON Z ((-7110014.727691304 -3434176.120188...</td>\n",
       "      <td>3751.839</td>\n",
       "      <td>1.086934</td>\n",
       "    </tr>\n",
       "    <tr>\n",
       "      <td>6</td>\n",
       "      <td>Provincia de Santa Fe</td>\n",
       "      <td>Santa Fe</td>\n",
       "      <td>2039</td>\n",
       "      <td>1</td>\n",
       "      <td>Argentina</td>\n",
       "      <td>POLYGON Z ((-6709527.843342428 -3906944.753171...</td>\n",
       "      <td>87.236</td>\n",
       "      <td>23.373378</td>\n",
       "    </tr>\n",
       "    <tr>\n",
       "      <td>7</td>\n",
       "      <td>Provincia de Entre Ríos</td>\n",
       "      <td>Entre Ríos</td>\n",
       "      <td>194</td>\n",
       "      <td>1</td>\n",
       "      <td>Argentina</td>\n",
       "      <td>POLYGON Z ((-6521249.024880853 -3502681.803222...</td>\n",
       "      <td>6039.878</td>\n",
       "      <td>0.032120</td>\n",
       "    </tr>\n",
       "    <tr>\n",
       "      <td>8</td>\n",
       "      <td>Provincia de San Juan</td>\n",
       "      <td>San Juan</td>\n",
       "      <td>17</td>\n",
       "      <td>1</td>\n",
       "      <td>Argentina</td>\n",
       "      <td>POLYGON Z ((-7751155.014494403 -3278386.469284...</td>\n",
       "      <td>9976.367</td>\n",
       "      <td>0.001704</td>\n",
       "    </tr>\n",
       "    <tr>\n",
       "      <td>9</td>\n",
       "      <td>Provincia de La Rioja</td>\n",
       "      <td>La Rioja</td>\n",
       "      <td>18</td>\n",
       "      <td>1</td>\n",
       "      <td>Argentina</td>\n",
       "      <td>POLYGON Z ((-7627703.398274056 -3206347.288756...</td>\n",
       "      <td>7717.000</td>\n",
       "      <td>0.002333</td>\n",
       "    </tr>\n",
       "    <tr>\n",
       "      <td>10</td>\n",
       "      <td>Provincia de Catamarca</td>\n",
       "      <td>Catamarca</td>\n",
       "      <td>12</td>\n",
       "      <td>1</td>\n",
       "      <td>Argentina</td>\n",
       "      <td>POLYGON Z ((-7581816.850501017 -2883584.764050...</td>\n",
       "      <td>8335.111</td>\n",
       "      <td>0.001440</td>\n",
       "    </tr>\n",
       "    <tr>\n",
       "      <td>11</td>\n",
       "      <td>Provincia de Tucumán</td>\n",
       "      <td>Tucumán</td>\n",
       "      <td>81</td>\n",
       "      <td>1</td>\n",
       "      <td>Argentina</td>\n",
       "      <td>POLYGON Z ((-7275747.770011655 -2987679.107371...</td>\n",
       "      <td>932.708</td>\n",
       "      <td>0.086844</td>\n",
       "    </tr>\n",
       "    <tr>\n",
       "      <td>12</td>\n",
       "      <td>Provincia de Jujuy</td>\n",
       "      <td>Jujuy</td>\n",
       "      <td>42</td>\n",
       "      <td>1</td>\n",
       "      <td>Argentina</td>\n",
       "      <td>POLYGON Z ((-7256535.41149444 -2505716.7209824...</td>\n",
       "      <td>7855.675</td>\n",
       "      <td>0.005346</td>\n",
       "    </tr>\n",
       "    <tr>\n",
       "      <td>13</td>\n",
       "      <td>Provincia del Chaco</td>\n",
       "      <td>Chaco</td>\n",
       "      <td>58</td>\n",
       "      <td>1</td>\n",
       "      <td>Argentina</td>\n",
       "      <td>POLYGON Z ((-6929548.312206795 -2753099.731134...</td>\n",
       "      <td>2319.394</td>\n",
       "      <td>0.025007</td>\n",
       "    </tr>\n",
       "    <tr>\n",
       "      <td>14</td>\n",
       "      <td>Provincia de Formosa</td>\n",
       "      <td>Formosa</td>\n",
       "      <td>27</td>\n",
       "      <td>1</td>\n",
       "      <td>Argentina</td>\n",
       "      <td>POLYGON Z ((-6936540.697186814 -2553719.880116...</td>\n",
       "      <td>9655.260</td>\n",
       "      <td>0.002796</td>\n",
       "    </tr>\n",
       "    <tr>\n",
       "      <td>15</td>\n",
       "      <td>Provincia de Santiago del Estero</td>\n",
       "      <td>Santiago del Estero</td>\n",
       "      <td>31</td>\n",
       "      <td>1</td>\n",
       "      <td>Argentina</td>\n",
       "      <td>POLYGON Z ((-6906876.39082235 -2937743.9587000...</td>\n",
       "      <td>7288.124</td>\n",
       "      <td>0.004253</td>\n",
       "    </tr>\n",
       "    <tr>\n",
       "      <td>16</td>\n",
       "      <td>Provincia de Tierra del Fuego, Antártida e Isl...</td>\n",
       "      <td>Tierra del Fuego</td>\n",
       "      <td>47</td>\n",
       "      <td>1</td>\n",
       "      <td>Argentina</td>\n",
       "      <td>(POLYGON Z ((-6564221.053502005 -6629421.88807...</td>\n",
       "      <td>9053.068</td>\n",
       "      <td>0.005192</td>\n",
       "    </tr>\n",
       "    <tr>\n",
       "      <td>17</td>\n",
       "      <td>Provincia de Santa Cruz</td>\n",
       "      <td>Santa Cruz</td>\n",
       "      <td>36</td>\n",
       "      <td>1</td>\n",
       "      <td>Argentina</td>\n",
       "      <td>(POLYGON Z ((-7315260.561709051 -6060101.54882...</td>\n",
       "      <td>9774.158</td>\n",
       "      <td>0.003683</td>\n",
       "    </tr>\n",
       "    <tr>\n",
       "      <td>18</td>\n",
       "      <td>Provincia del Chubut</td>\n",
       "      <td>Chubut</td>\n",
       "      <td>108</td>\n",
       "      <td>1</td>\n",
       "      <td>Argentina</td>\n",
       "      <td>(POLYGON Z ((-7902646.396646929 -5132375.22441...</td>\n",
       "      <td>5650.606</td>\n",
       "      <td>0.019113</td>\n",
       "    </tr>\n",
       "    <tr>\n",
       "      <td>19</td>\n",
       "      <td>Provincia de Río Negro</td>\n",
       "      <td>Río Negro</td>\n",
       "      <td>132</td>\n",
       "      <td>1</td>\n",
       "      <td>Argentina</td>\n",
       "      <td>POLYGON Z ((-7596341.725487182 -4494894.815688...</td>\n",
       "      <td>6572.190</td>\n",
       "      <td>0.020085</td>\n",
       "    </tr>\n",
       "    <tr>\n",
       "      <td>20</td>\n",
       "      <td>Provincia de Buenos Aires</td>\n",
       "      <td>Buenos Aires</td>\n",
       "      <td>39585</td>\n",
       "      <td>1</td>\n",
       "      <td>Argentina</td>\n",
       "      <td>POLYGON Z ((-6709490.09289935 -3906894.8276648...</td>\n",
       "      <td>315.541</td>\n",
       "      <td>125.451209</td>\n",
       "    </tr>\n",
       "    <tr>\n",
       "      <td>21</td>\n",
       "      <td>Provincia de Corrientes</td>\n",
       "      <td>Corrientes</td>\n",
       "      <td>125</td>\n",
       "      <td>1</td>\n",
       "      <td>Argentina</td>\n",
       "      <td>(POLYGON Z ((-6453301.008099834 -3138293.95845...</td>\n",
       "      <td>4213.478</td>\n",
       "      <td>0.029667</td>\n",
       "    </tr>\n",
       "    <tr>\n",
       "      <td>22</td>\n",
       "      <td>Provincia de Misiones</td>\n",
       "      <td>Misiones</td>\n",
       "      <td>71</td>\n",
       "      <td>1</td>\n",
       "      <td>Argentina</td>\n",
       "      <td>(POLYGON Z ((-5974928.842339346 -3021341.30140...</td>\n",
       "      <td>5969.344</td>\n",
       "      <td>0.011894</td>\n",
       "    </tr>\n",
       "    <tr>\n",
       "      <td>23</td>\n",
       "      <td>Provincia de Salta</td>\n",
       "      <td>Salta</td>\n",
       "      <td>39</td>\n",
       "      <td>1</td>\n",
       "      <td>Argentina</td>\n",
       "      <td>POLYGON Z ((-6939913.058153562 -2550627.240635...</td>\n",
       "      <td>5187.216</td>\n",
       "      <td>0.007518</td>\n",
       "    </tr>\n",
       "  </tbody>\n",
       "</table>\n",
       "</div>"
      ],
      "text/plain": [
       "                                                  fna  \\\n",
       "0                     Ciudad Autónoma de Buenos Aires   \n",
       "1                               Provincia del Neuquén   \n",
       "2                               Provincia de La Pampa   \n",
       "3                                Provincia de Mendoza   \n",
       "4                               Provincia de San Luis   \n",
       "5                                Provincia de Córdoba   \n",
       "6                               Provincia de Santa Fe   \n",
       "7                             Provincia de Entre Ríos   \n",
       "8                               Provincia de San Juan   \n",
       "9                               Provincia de La Rioja   \n",
       "10                             Provincia de Catamarca   \n",
       "11                               Provincia de Tucumán   \n",
       "12                                 Provincia de Jujuy   \n",
       "13                                Provincia del Chaco   \n",
       "14                               Provincia de Formosa   \n",
       "15                   Provincia de Santiago del Estero   \n",
       "16  Provincia de Tierra del Fuego, Antártida e Isl...   \n",
       "17                            Provincia de Santa Cruz   \n",
       "18                               Provincia del Chubut   \n",
       "19                             Provincia de Río Negro   \n",
       "20                          Provincia de Buenos Aires   \n",
       "21                            Provincia de Corrientes   \n",
       "22                              Provincia de Misiones   \n",
       "23                                 Provincia de Salta   \n",
       "\n",
       "                          nam  tramite_tipo  id      Class  \\\n",
       "0   Ciudad Autónoma de Bs.As.          8742   1  Argentina   \n",
       "1                     Neuquén           203   1  Argentina   \n",
       "2                    La Pampa            43   1  Argentina   \n",
       "3                     Mendoza          2442   1  Argentina   \n",
       "4                    San Luis            80   1  Argentina   \n",
       "5                     Córdoba          4078   1  Argentina   \n",
       "6                    Santa Fe          2039   1  Argentina   \n",
       "7                  Entre Ríos           194   1  Argentina   \n",
       "8                    San Juan            17   1  Argentina   \n",
       "9                    La Rioja            18   1  Argentina   \n",
       "10                  Catamarca            12   1  Argentina   \n",
       "11                    Tucumán            81   1  Argentina   \n",
       "12                      Jujuy            42   1  Argentina   \n",
       "13                      Chaco            58   1  Argentina   \n",
       "14                    Formosa            27   1  Argentina   \n",
       "15        Santiago del Estero            31   1  Argentina   \n",
       "16           Tierra del Fuego            47   1  Argentina   \n",
       "17                 Santa Cruz            36   1  Argentina   \n",
       "18                     Chubut           108   1  Argentina   \n",
       "19                  Río Negro           132   1  Argentina   \n",
       "20               Buenos Aires         39585   1  Argentina   \n",
       "21                 Corrientes           125   1  Argentina   \n",
       "22                   Misiones            71   1  Argentina   \n",
       "23                      Salta            39   1  Argentina   \n",
       "\n",
       "                                             geometry  Patentados  Robos_norm  \n",
       "0   POLYGON Z ((-6494589.196952539 -4089578.798426...     162.032   53.952306  \n",
       "1   POLYGON Z ((-7836163.055490666 -4296795.442171...     879.655    0.230772  \n",
       "2   (POLYGON Z ((-7176131.394244757 -4139379.82854...    9403.461    0.004573  \n",
       "3   POLYGON Z ((-7695037.385315457 -3741040.460175...      41.523   58.810780  \n",
       "4   POLYGON Z ((-7464580.787882729 -3721880.795366...    8183.521    0.009776  \n",
       "5   POLYGON Z ((-7110014.727691304 -3434176.120188...    3751.839    1.086934  \n",
       "6   POLYGON Z ((-6709527.843342428 -3906944.753171...      87.236   23.373378  \n",
       "7   POLYGON Z ((-6521249.024880853 -3502681.803222...    6039.878    0.032120  \n",
       "8   POLYGON Z ((-7751155.014494403 -3278386.469284...    9976.367    0.001704  \n",
       "9   POLYGON Z ((-7627703.398274056 -3206347.288756...    7717.000    0.002333  \n",
       "10  POLYGON Z ((-7581816.850501017 -2883584.764050...    8335.111    0.001440  \n",
       "11  POLYGON Z ((-7275747.770011655 -2987679.107371...     932.708    0.086844  \n",
       "12  POLYGON Z ((-7256535.41149444 -2505716.7209824...    7855.675    0.005346  \n",
       "13  POLYGON Z ((-6929548.312206795 -2753099.731134...    2319.394    0.025007  \n",
       "14  POLYGON Z ((-6936540.697186814 -2553719.880116...    9655.260    0.002796  \n",
       "15  POLYGON Z ((-6906876.39082235 -2937743.9587000...    7288.124    0.004253  \n",
       "16  (POLYGON Z ((-6564221.053502005 -6629421.88807...    9053.068    0.005192  \n",
       "17  (POLYGON Z ((-7315260.561709051 -6060101.54882...    9774.158    0.003683  \n",
       "18  (POLYGON Z ((-7902646.396646929 -5132375.22441...    5650.606    0.019113  \n",
       "19  POLYGON Z ((-7596341.725487182 -4494894.815688...    6572.190    0.020085  \n",
       "20  POLYGON Z ((-6709490.09289935 -3906894.8276648...     315.541  125.451209  \n",
       "21  (POLYGON Z ((-6453301.008099834 -3138293.95845...    4213.478    0.029667  \n",
       "22  (POLYGON Z ((-5974928.842339346 -3021341.30140...    5969.344    0.011894  \n",
       "23  POLYGON Z ((-6939913.058153562 -2550627.240635...    5187.216    0.007518  "
      ]
     },
     "execution_count": 74,
     "metadata": {},
     "output_type": "execute_result"
    }
   ],
   "source": [
    "provincias_en_Argentina = provincias_en_Argentina.merge(patentados_por_provincia, left_on='nam', right_index=True)\n",
    "provincias_en_Argentina[\"Robos_norm\"] = provincias_en_Argentina[\"tramite_tipo\"]/provincias_en_Argentina[\"Patentados\"]\n",
    "provincias_en_Argentina"
   ]
  },
  {
   "cell_type": "code",
   "execution_count": 75,
   "metadata": {
    "Collapsed": "false"
   },
   "outputs": [
    {
     "data": {
      "text/plain": [
       "<matplotlib.axes._subplots.AxesSubplot at 0x1a2149dd10>"
      ]
     },
     "execution_count": 75,
     "metadata": {},
     "output_type": "execute_result"
    },
    {
     "data": {
      "image/png": "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\n",
      "text/plain": [
       "<Figure size 1440x576 with 2 Axes>"
      ]
     },
     "metadata": {
      "needs_background": "light"
     },
     "output_type": "display_data"
    }
   ],
   "source": [
    "# Ploteo los robos absolutos por provincia\n",
    "\n",
    "# Tamaño de la figura\n",
    "fig, ax = plt.subplots(1, figsize=(20, 8))\n",
    "# Título\n",
    "ax.set_title('Cantidad normalizada de tramites de robo por provincia', fontdict={'fontsize': '16', 'fontweight' : '3'})\n",
    "# Borro los ejes\n",
    "ax.axis('off')\n",
    "\n",
    "# Creo el colorbar\n",
    "sm = plt.cm.ScalarMappable(cmap='Blues', norm=plt.Normalize(vmin=min(robados_por_provincia), vmax=max(robados_por_provincia)))\n",
    "sm._A = []\n",
    "cbar = fig.colorbar(sm)\n",
    "\n",
    "# Plotea final\n",
    "provincias_en_Argentina = provincias_en_Argentina.to_crs({'init': 'epsg:3395'}) # Lo paso a Mercator\n",
    "provincias_en_Argentina.plot(column='Robos_norm', cmap='Blues', linewidth=0.8, ax=ax, edgecolor='0.8')"
   ]
  },
  {
   "cell_type": "markdown",
   "metadata": {
    "Collapsed": "false"
   },
   "source": [
    "### recuperados"
   ]
  },
  {
   "cell_type": "code",
   "execution_count": 44,
   "metadata": {},
>>>>>>> Stashed changes
   "outputs": [],
   "source": [
    "#Vemos la cantidad de autos recuperados en función del origen del mismo\n",
    "plt.figure(figsize=(10,6))\n",
    "ax = sns.countplot(x=\"automotor_origen\", data=recuperados, palette=\"Set3\")\n",
    "ax.set_xticklabels(ax.get_xticklabels(), rotation=40, ha=\"right\")\n",
    "plt.title(\"Recuperos por origen de automotor\")\n",
    "plt.show()"
   ]
  },
  {
   "cell_type": "code",
   "execution_count": null,
   "metadata": {
    "Collapsed": "false"
   },
   "outputs": [],
   "source": [
    "#Vemos recuperados por provincia\n",
    "plt.figure(figsize=(20,10))\n",
    "ax = sns.countplot(x=\"registro_seccional_provincia\", data=recuperados, palette=\"Set3\")\n",
    "ax.set_xticklabels(ax.get_xticklabels(), rotation=40, ha=\"right\")\n",
    "plt.title(\"Recuperos por provincia\")\n",
    "plt.show()"
   ]
  },
  {
   "cell_type": "code",
   "execution_count": null,
   "metadata": {
    "Collapsed": "false"
   },
   "outputs": [],
   "source": [
    "plt.figure(figsize=(20,10))\n",
    "ax = sns.countplot(x=\"automotor_anio_modelo\", data=recuperados, palette=\"Set3\")\n",
    "ax.set_xticklabels(ax.get_xticklabels(), rotation=40, ha=\"right\")\n",
    "plt.title(\"Recuperos por provincia\")\n",
    "plt.show()"
   ]
  },
  {
   "cell_type": "code",
   "execution_count": null,
   "metadata": {
    "Collapsed": "false"
   },
   "outputs": [],
   "source": [
    "#Vamos a comparar los recuperados por anio de modelo en relación a lso robados totales de ese anio de modelo\n",
    "robados_anio_count = robados['automotor_anio_modelo'].value_counts()\n",
    "recuperados_anio_count = recuperados['automotor_anio_modelo'].value_counts()"
   ]
  },
  {
   "cell_type": "code",
   "execution_count": null,
   "metadata": {
    "Collapsed": "false"
   },
   "outputs": [],
   "source": [
    "robados_anio_count = pd.DataFrame(robados_anio_count)\n",
    "recuperados_anio_count = pd.DataFrame(recuperados_anio_count)"
   ]
  },
  {
   "cell_type": "code",
   "execution_count": null,
   "metadata": {
    "Collapsed": "false"
   },
   "outputs": [],
   "source": [
    "robados_anio_count.columns = ['total_robados_anio_modelo']\n",
    "robados_anio_count.columns"
   ]
  },
  {
   "cell_type": "code",
   "execution_count": null,
   "metadata": {
    "Collapsed": "false"
   },
   "outputs": [],
   "source": [
    "recuperados_anio_count.columns = ['total_recuperados_anio_modelo']\n",
    "recuperados_anio_count.columns"
   ]
  },
  {
   "cell_type": "code",
   "execution_count": null,
   "metadata": {
    "Collapsed": "false"
   },
   "outputs": [],
   "source": [
    "robos_recuperos_anio_modelo = pd.merge(robados_anio_count, recuperados_anio_count, left_index=True, right_index=True, how='outer')"
   ]
  },
  {
   "cell_type": "raw",
   "metadata": {
    "Collapsed": "false"
   },
   "source": [
    "robos_recuperos_anio_modelo = pd.DataFrame(robos_recuperos_anio_modelo)"
   ]
  },
  {
   "cell_type": "code",
   "execution_count": null,
   "metadata": {
    "Collapsed": "false"
   },
   "outputs": [],
   "source": [
    "robos_recuperos_anio_modelo.fillna(0, inplace=True)"
   ]
  },
  {
   "cell_type": "code",
   "execution_count": null,
   "metadata": {
    "Collapsed": "false"
   },
   "outputs": [],
   "source": [
    "robos_recuperos_anio_modelo['anio_modelo'] = robos_recuperos_anio_modelo.index\n",
    "#tiramos el index viejo, metemos uno nuevo y el viejo lo igualamos a una columna que inventamos\n",
    "robos_recuperos_anio_modelo = robos_recuperos_anio_modelo.reset_index(drop=True)"
   ]
  },
  {
   "cell_type": "code",
   "execution_count": null,
   "metadata": {
    "Collapsed": "false"
   },
   "outputs": [],
   "source": [
    "robos_recuperos_anio_modelo = robos_recuperos_anio_modelo.iloc[1:]"
   ]
  },
  {
   "cell_type": "code",
   "execution_count": null,
   "metadata": {
    "Collapsed": "false"
   },
   "outputs": [],
   "source": [
    "robos_recuperos_anio_modelo['recuperados_relativo_robo'] = robos_recuperos_anio_modelo['total_recuperados_anio_modelo'] / robos_recuperos_anio_modelo['total_robados_anio_modelo']"
   ]
  },
  {
   "cell_type": "code",
   "execution_count": null,
   "metadata": {
    "Collapsed": "false"
   },
   "outputs": [],
   "source": [
    "robos_recuperos_anio_modelo.columns"
   ]
  },
  {
   "cell_type": "code",
   "execution_count": null,
   "metadata": {
    "Collapsed": "false"
   },
   "outputs": [],
   "source": [
    "anio_modelo_list = list(robos_recuperos_anio_modelo['anio_modelo'])\n",
    "recuperados_relativo_robo_list = list(robos_recuperos_anio_modelo['recuperados_relativo_robo'])\n",
    "tasa_sobre_robo = list(robos_recuperos_anio_modelo['recuperados_relativo_robo']/robos_recuperos_anio_modelo['total_robados_anio_modelo'])\n",
    "tasa_por_robo = list(1/(robos_recuperos_anio_modelo['recuperados_relativo_robo']/robos_recuperos_anio_modelo['total_robados_anio_modelo']))"
   ]
  },
  {
   "cell_type": "code",
<<<<<<< Updated upstream
   "execution_count": null,
   "metadata": {
    "Collapsed": "false"
   },
   "outputs": [],
=======
   "execution_count": 59,
   "metadata": {},
   "outputs": [
    {
     "data": {
      "image/png": "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\n",
      "text/plain": [
       "<Figure size 432x288 with 1 Axes>"
      ]
     },
     "metadata": {
      "needs_background": "light"
     },
     "output_type": "display_data"
    }
   ],
>>>>>>> Stashed changes
   "source": [
    "#Vemos la tasa de recupero por año de modelo del auto\n",
    "plt.scatter(anio_modelo_list,recuperados_relativo_robo_list)\n",
    "plt.show()"
   ]
  },
  {
   "cell_type": "code",
<<<<<<< Updated upstream
   "execution_count": null,
   "metadata": {
    "Collapsed": "false"
   },
   "outputs": [],
=======
   "execution_count": 60,
   "metadata": {},
   "outputs": [
    {
     "data": {
      "image/png": "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\n",
      "text/plain": [
       "<Figure size 1728x720 with 1 Axes>"
      ]
     },
     "metadata": {},
     "output_type": "display_data"
    }
   ],
>>>>>>> Stashed changes
   "source": [
    "#Vemos cuanto se recupero en relación al robo de cada año de modelo de auto.\n",
    "\n",
    "sns.set_style(\"white\")\n",
    "sns.set_context({\"figure.figsize\": (24, 10)})\n",
    "\n",
    "#Plot 1 - background - \"total\" (top) series\n",
    "sns.barplot(x = robos_recuperos_anio_modelo.anio_modelo, y = robos_recuperos_anio_modelo.total_robados_anio_modelo, color = \"red\")\n",
    "\n",
    "#Plot 2 - overlay - \"bottom\" series\n",
    "bottom_plot = sns.barplot(x = robos_recuperos_anio_modelo.anio_modelo, y = robos_recuperos_anio_modelo.total_recuperados_anio_modelo, color = \"#0000A3\")\n",
    "\n",
    "\n",
    "topbar = plt.Rectangle((0,0),1,1,fc=\"red\", edgecolor = 'none')\n",
    "bottombar = plt.Rectangle((0,0),1,1,fc='#0000A3',  edgecolor = 'none')\n",
    "l = plt.legend([bottombar, topbar], ['Recuperados', 'Robados'], loc=1, ncol = 2, prop={'size':16})\n",
    "l.draw_frame(False)\n",
    "\n",
    "#Optional code - Make plot look nicer\n",
    "plt.xticks(rotation=90)\n",
    "sns.despine(left=True) \n",
    "bottom_plot.set_ylabel(\"Y-axis label\")\n",
    "bottom_plot.set_xlabel(\"X-axis label\")\n",
    "\n",
    "#Set fonts to consistent 16pt size\n",
    "for item in ([bottom_plot.xaxis.label, bottom_plot.yaxis.label] +\n",
    "             bottom_plot.get_xticklabels() + bottom_plot.get_yticklabels()):\n",
    "    item.set_fontsize(16)"
   ]
  },
  {
   "cell_type": "code",
<<<<<<< Updated upstream
   "execution_count": null,
   "metadata": {
    "Collapsed": "false"
   },
   "outputs": [],
=======
   "execution_count": 61,
   "metadata": {},
   "outputs": [],
   "source": [
    "autos_circulantes_18 = pd.read_clipboard()"
   ]
  },
  {
   "cell_type": "code",
   "execution_count": 62,
   "metadata": {},
   "outputs": [],
   "source": [
    "autos_circulantes_18.rename(columns={'Provincia / Mes':'provincia'}, inplace=True)"
   ]
  },
  {
   "cell_type": "code",
   "execution_count": 63,
   "metadata": {},
   "outputs": [
    {
     "data": {
      "text/html": [
       "<div>\n",
       "<style scoped>\n",
       "    .dataframe tbody tr th:only-of-type {\n",
       "        vertical-align: middle;\n",
       "    }\n",
       "\n",
       "    .dataframe tbody tr th {\n",
       "        vertical-align: top;\n",
       "    }\n",
       "\n",
       "    .dataframe thead th {\n",
       "        text-align: right;\n",
       "    }\n",
       "</style>\n",
       "<table border=\"1\" class=\"dataframe\">\n",
       "  <thead>\n",
       "    <tr style=\"text-align: right;\">\n",
       "      <th></th>\n",
       "      <th>robados_por_provincia_mes</th>\n",
       "    </tr>\n",
       "  </thead>\n",
       "  <tbody>\n",
       "  </tbody>\n",
       "</table>\n",
       "</div>"
      ],
      "text/plain": [
       "Empty DataFrame\n",
       "Columns: [robados_por_provincia_mes]\n",
       "Index: []"
      ]
     },
     "execution_count": 63,
     "metadata": {},
     "output_type": "execute_result"
    }
   ],
>>>>>>> Stashed changes
   "source": [
    "autos_circulantes_18.head(2)"
   ]
  },
  {
   "cell_type": "code",
<<<<<<< Updated upstream
   "execution_count": null,
   "metadata": {
    "Collapsed": "false"
   },
   "outputs": [],
   "source": [
    "autos_circulantes_1819 = pd.read_csv(r'.\\robo_autos\\autos_circulantes_1819.csv')"
=======
   "execution_count": 64,
   "metadata": {},
   "outputs": [],
   "source": [
    "autos_circulantes_19 = pd.read_clipboard()"
>>>>>>> Stashed changes
   ]
  },
  {
   "cell_type": "code",
<<<<<<< Updated upstream
   "execution_count": null,
   "metadata": {
    "Collapsed": "false"
   },
=======
   "execution_count": 65,
   "metadata": {},
>>>>>>> Stashed changes
   "outputs": [],
   "source": [
    "autos_circulantes_19.rename(columns={'Provincia / Mes':'provincia'}, inplace=True)"
   ]
  },
  {
   "cell_type": "code",
<<<<<<< Updated upstream
   "execution_count": null,
   "metadata": {
    "Collapsed": "false"
   },
=======
   "execution_count": 66,
   "metadata": {},
>>>>>>> Stashed changes
   "outputs": [],
   "source": [
    "autos_circulantes_18 = autos_circulantes_18.T\n",
    "autos_circulantes_18.rename(columns={'Ene':'Ene 2018', 'Feb':'Feb 2018', 'Mar':'Mar 2018', 'Abr':'Abr 2018', 'May':'May 2018','Jun':'Jun 2018', 'Jul':'Jul 2018', 'Ago':'Ago 2018', 'Sep':'Sep 2018', 'Oct':'Oct 2018', 'Nov':'Nov 2018', 'Dic':'Dic 2018'}, inplace=True)"
   ]
  },
  {
   "cell_type": "code",
   "execution_count": 67,
   "metadata": {},
   "outputs": [],
   "source": [
    "autos_circulantes_19 = autos_circulantes_19.T\n",
    "autos_circulantes_19.rename(columns={'Ene':'Ene 2019', 'Feb':'Feb 2019', 'Mar':'Mar 2019', 'Abr':'Abr 2019', 'May':'May 2019','Jun':'Jun 2019', 'Jul':'Jul 2019', 'Ago':'Ago 2019', 'Sep':'Sep 2019', 'Oct':'Oct 2019', 'Nov':'Nov 2019', 'Dic':'Dic 2019'}, inplace=True)"
   ]
  },
  {
   "cell_type": "code",
<<<<<<< Updated upstream
   "execution_count": null,
   "metadata": {
    "Collapsed": "false"
   },
   "outputs": [],
=======
   "execution_count": 68,
   "metadata": {},
   "outputs": [
    {
     "ename": "KeyError",
     "evalue": "'provincia'",
     "output_type": "error",
     "traceback": [
      "\u001b[1;31m---------------------------------------------------------------------------\u001b[0m",
      "\u001b[1;31mKeyError\u001b[0m                                  Traceback (most recent call last)",
      "\u001b[1;32m<ipython-input-68-fe7406cdfb44>\u001b[0m in \u001b[0;36m<module>\u001b[1;34m\u001b[0m\n\u001b[1;32m----> 1\u001b[1;33m \u001b[0mautos_circulantes_1819\u001b[0m \u001b[1;33m=\u001b[0m \u001b[0mautos_circulantes_18\u001b[0m\u001b[1;33m.\u001b[0m\u001b[0mmerge\u001b[0m\u001b[1;33m(\u001b[0m\u001b[0mautos_circulantes_19\u001b[0m\u001b[1;33m,\u001b[0m \u001b[0mon\u001b[0m\u001b[1;33m=\u001b[0m\u001b[1;34m'provincia'\u001b[0m\u001b[1;33m)\u001b[0m\u001b[1;33m\u001b[0m\u001b[1;33m\u001b[0m\u001b[0m\n\u001b[0m",
      "\u001b[1;32m~\\Anaconda3\\lib\\site-packages\\pandas\\core\\frame.py\u001b[0m in \u001b[0;36mmerge\u001b[1;34m(self, right, how, on, left_on, right_on, left_index, right_index, sort, suffixes, copy, indicator, validate)\u001b[0m\n\u001b[0;32m   6866\u001b[0m                      \u001b[0mright_on\u001b[0m\u001b[1;33m=\u001b[0m\u001b[0mright_on\u001b[0m\u001b[1;33m,\u001b[0m \u001b[0mleft_index\u001b[0m\u001b[1;33m=\u001b[0m\u001b[0mleft_index\u001b[0m\u001b[1;33m,\u001b[0m\u001b[1;33m\u001b[0m\u001b[1;33m\u001b[0m\u001b[0m\n\u001b[0;32m   6867\u001b[0m                      \u001b[0mright_index\u001b[0m\u001b[1;33m=\u001b[0m\u001b[0mright_index\u001b[0m\u001b[1;33m,\u001b[0m \u001b[0msort\u001b[0m\u001b[1;33m=\u001b[0m\u001b[0msort\u001b[0m\u001b[1;33m,\u001b[0m \u001b[0msuffixes\u001b[0m\u001b[1;33m=\u001b[0m\u001b[0msuffixes\u001b[0m\u001b[1;33m,\u001b[0m\u001b[1;33m\u001b[0m\u001b[1;33m\u001b[0m\u001b[0m\n\u001b[1;32m-> 6868\u001b[1;33m                      copy=copy, indicator=indicator, validate=validate)\n\u001b[0m\u001b[0;32m   6869\u001b[0m \u001b[1;33m\u001b[0m\u001b[0m\n\u001b[0;32m   6870\u001b[0m     \u001b[1;32mdef\u001b[0m \u001b[0mround\u001b[0m\u001b[1;33m(\u001b[0m\u001b[0mself\u001b[0m\u001b[1;33m,\u001b[0m \u001b[0mdecimals\u001b[0m\u001b[1;33m=\u001b[0m\u001b[1;36m0\u001b[0m\u001b[1;33m,\u001b[0m \u001b[1;33m*\u001b[0m\u001b[0margs\u001b[0m\u001b[1;33m,\u001b[0m \u001b[1;33m**\u001b[0m\u001b[0mkwargs\u001b[0m\u001b[1;33m)\u001b[0m\u001b[1;33m:\u001b[0m\u001b[1;33m\u001b[0m\u001b[1;33m\u001b[0m\u001b[0m\n",
      "\u001b[1;32m~\\Anaconda3\\lib\\site-packages\\pandas\\core\\reshape\\merge.py\u001b[0m in \u001b[0;36mmerge\u001b[1;34m(left, right, how, on, left_on, right_on, left_index, right_index, sort, suffixes, copy, indicator, validate)\u001b[0m\n\u001b[0;32m     45\u001b[0m                          \u001b[0mright_index\u001b[0m\u001b[1;33m=\u001b[0m\u001b[0mright_index\u001b[0m\u001b[1;33m,\u001b[0m \u001b[0msort\u001b[0m\u001b[1;33m=\u001b[0m\u001b[0msort\u001b[0m\u001b[1;33m,\u001b[0m \u001b[0msuffixes\u001b[0m\u001b[1;33m=\u001b[0m\u001b[0msuffixes\u001b[0m\u001b[1;33m,\u001b[0m\u001b[1;33m\u001b[0m\u001b[1;33m\u001b[0m\u001b[0m\n\u001b[0;32m     46\u001b[0m                          \u001b[0mcopy\u001b[0m\u001b[1;33m=\u001b[0m\u001b[0mcopy\u001b[0m\u001b[1;33m,\u001b[0m \u001b[0mindicator\u001b[0m\u001b[1;33m=\u001b[0m\u001b[0mindicator\u001b[0m\u001b[1;33m,\u001b[0m\u001b[1;33m\u001b[0m\u001b[1;33m\u001b[0m\u001b[0m\n\u001b[1;32m---> 47\u001b[1;33m                          validate=validate)\n\u001b[0m\u001b[0;32m     48\u001b[0m     \u001b[1;32mreturn\u001b[0m \u001b[0mop\u001b[0m\u001b[1;33m.\u001b[0m\u001b[0mget_result\u001b[0m\u001b[1;33m(\u001b[0m\u001b[1;33m)\u001b[0m\u001b[1;33m\u001b[0m\u001b[1;33m\u001b[0m\u001b[0m\n\u001b[0;32m     49\u001b[0m \u001b[1;33m\u001b[0m\u001b[0m\n",
      "\u001b[1;32m~\\Anaconda3\\lib\\site-packages\\pandas\\core\\reshape\\merge.py\u001b[0m in \u001b[0;36m__init__\u001b[1;34m(self, left, right, how, on, left_on, right_on, axis, left_index, right_index, sort, suffixes, copy, indicator, validate)\u001b[0m\n\u001b[0;32m    527\u001b[0m         (self.left_join_keys,\n\u001b[0;32m    528\u001b[0m          \u001b[0mself\u001b[0m\u001b[1;33m.\u001b[0m\u001b[0mright_join_keys\u001b[0m\u001b[1;33m,\u001b[0m\u001b[1;33m\u001b[0m\u001b[1;33m\u001b[0m\u001b[0m\n\u001b[1;32m--> 529\u001b[1;33m          self.join_names) = self._get_merge_keys()\n\u001b[0m\u001b[0;32m    530\u001b[0m \u001b[1;33m\u001b[0m\u001b[0m\n\u001b[0;32m    531\u001b[0m         \u001b[1;31m# validate the merge keys dtypes. We may need to coerce\u001b[0m\u001b[1;33m\u001b[0m\u001b[1;33m\u001b[0m\u001b[1;33m\u001b[0m\u001b[0m\n",
      "\u001b[1;32m~\\Anaconda3\\lib\\site-packages\\pandas\\core\\reshape\\merge.py\u001b[0m in \u001b[0;36m_get_merge_keys\u001b[1;34m(self)\u001b[0m\n\u001b[0;32m    831\u001b[0m                         \u001b[1;32mif\u001b[0m \u001b[0mrk\u001b[0m \u001b[1;32mis\u001b[0m \u001b[1;32mnot\u001b[0m \u001b[1;32mNone\u001b[0m\u001b[1;33m:\u001b[0m\u001b[1;33m\u001b[0m\u001b[1;33m\u001b[0m\u001b[0m\n\u001b[0;32m    832\u001b[0m                             right_keys.append(\n\u001b[1;32m--> 833\u001b[1;33m                                 right._get_label_or_level_values(rk))\n\u001b[0m\u001b[0;32m    834\u001b[0m                         \u001b[1;32melse\u001b[0m\u001b[1;33m:\u001b[0m\u001b[1;33m\u001b[0m\u001b[1;33m\u001b[0m\u001b[0m\n\u001b[0;32m    835\u001b[0m                             \u001b[1;31m# work-around for merge_asof(right_index=True)\u001b[0m\u001b[1;33m\u001b[0m\u001b[1;33m\u001b[0m\u001b[1;33m\u001b[0m\u001b[0m\n",
      "\u001b[1;32m~\\Anaconda3\\lib\\site-packages\\pandas\\core\\generic.py\u001b[0m in \u001b[0;36m_get_label_or_level_values\u001b[1;34m(self, key, axis)\u001b[0m\n\u001b[0;32m   1704\u001b[0m             \u001b[0mvalues\u001b[0m \u001b[1;33m=\u001b[0m \u001b[0mself\u001b[0m\u001b[1;33m.\u001b[0m\u001b[0maxes\u001b[0m\u001b[1;33m[\u001b[0m\u001b[0maxis\u001b[0m\u001b[1;33m]\u001b[0m\u001b[1;33m.\u001b[0m\u001b[0mget_level_values\u001b[0m\u001b[1;33m(\u001b[0m\u001b[0mkey\u001b[0m\u001b[1;33m)\u001b[0m\u001b[1;33m.\u001b[0m\u001b[0m_values\u001b[0m\u001b[1;33m\u001b[0m\u001b[1;33m\u001b[0m\u001b[0m\n\u001b[0;32m   1705\u001b[0m         \u001b[1;32melse\u001b[0m\u001b[1;33m:\u001b[0m\u001b[1;33m\u001b[0m\u001b[1;33m\u001b[0m\u001b[0m\n\u001b[1;32m-> 1706\u001b[1;33m             \u001b[1;32mraise\u001b[0m \u001b[0mKeyError\u001b[0m\u001b[1;33m(\u001b[0m\u001b[0mkey\u001b[0m\u001b[1;33m)\u001b[0m\u001b[1;33m\u001b[0m\u001b[1;33m\u001b[0m\u001b[0m\n\u001b[0m\u001b[0;32m   1707\u001b[0m \u001b[1;33m\u001b[0m\u001b[0m\n\u001b[0;32m   1708\u001b[0m         \u001b[1;31m# Check for duplicates\u001b[0m\u001b[1;33m\u001b[0m\u001b[1;33m\u001b[0m\u001b[1;33m\u001b[0m\u001b[0m\n",
      "\u001b[1;31mKeyError\u001b[0m: 'provincia'"
     ]
    }
   ],
>>>>>>> Stashed changes
   "source": [
    "autos_circulantes_1819 = autos_circulantes_18.merge(autos_circulantes_19, on='provincia')"
   ]
  },
  {
   "cell_type": "code",
   "execution_count": null,
<<<<<<< Updated upstream
   "metadata": {
    "Collapsed": "false"
   },
   "outputs": [],
   "source": [
    "def divisor (x):\n",
    "    for x in r:\n",
    "        float(x) / 100000\n",
    "    return x"
=======
   "metadata": {},
   "outputs": [],
   "source": [
    "autos_circulantes_1819.to_csv('autos_circulantes_1819.csv')"
>>>>>>> Stashed changes
   ]
  },
  {
   "cell_type": "code",
<<<<<<< Updated upstream
   "execution_count": null,
   "metadata": {
    "Collapsed": "false"
   },
   "outputs": [],
   "source": [
    "autos_circulantes_1819 = autos_circulantes_1819.iloc[24:].apply(lambda x: divisor(x))"
   ]
=======
   "execution_count": 137,
   "metadata": {},
   "outputs": [],
   "source": [
    "autos_circulantes_1819 = pd.read_csv(r'C:\\Users\\Luciano\\Trabajo final UTN\\robo_autos\\autos_circulantes_1819.csv')"
   ]
  },
  {
   "cell_type": "code",
   "execution_count": 138,
   "metadata": {},
   "outputs": [
    {
     "data": {
      "text/html": [
       "<div>\n",
       "<style scoped>\n",
       "    .dataframe tbody tr th:only-of-type {\n",
       "        vertical-align: middle;\n",
       "    }\n",
       "\n",
       "    .dataframe tbody tr th {\n",
       "        vertical-align: top;\n",
       "    }\n",
       "\n",
       "    .dataframe thead th {\n",
       "        text-align: right;\n",
       "    }\n",
       "</style>\n",
       "<table border=\"1\" class=\"dataframe\">\n",
       "  <thead>\n",
       "    <tr style=\"text-align: right;\">\n",
       "      <th></th>\n",
       "      <th>Unnamed: 0</th>\n",
       "      <th>provincia</th>\n",
       "      <th>Ene 2018</th>\n",
       "      <th>Feb 2018</th>\n",
       "      <th>Mar 2018</th>\n",
       "      <th>Abr 2018</th>\n",
       "      <th>May 2018</th>\n",
       "      <th>Jun 2018</th>\n",
       "      <th>Jul 2018</th>\n",
       "      <th>Ago 2018</th>\n",
       "      <th>Sep 2018</th>\n",
       "      <th>Oct 2018</th>\n",
       "      <th>Nov 2018</th>\n",
       "      <th>Dic 2018</th>\n",
       "      <th>Ene 2019</th>\n",
       "      <th>Feb 2019</th>\n",
       "      <th>Mar 2019</th>\n",
       "      <th>Abr 2019</th>\n",
       "      <th>May 2019</th>\n",
       "      <th>Jun 2019</th>\n",
       "      <th>Jul 2019</th>\n",
       "      <th>Ago 2019</th>\n",
       "      <th>Sep 2019</th>\n",
       "      <th>Oct 2019</th>\n",
       "      <th>Nov 2019</th>\n",
       "      <th>Dic 2019</th>\n",
       "    </tr>\n",
       "  </thead>\n",
       "  <tbody>\n",
       "    <tr>\n",
       "      <th>0</th>\n",
       "      <td>0</td>\n",
       "      <td>BUENOS AIRES</td>\n",
       "      <td>5.804.239</td>\n",
       "      <td>5.839.697</td>\n",
       "      <td>5.868.256</td>\n",
       "      <td>5.893.402</td>\n",
       "      <td>5.920.686</td>\n",
       "      <td>5.941.406</td>\n",
       "      <td>5.962.963</td>\n",
       "      <td>5.983.710</td>\n",
       "      <td>6.001.172</td>\n",
       "      <td>6.016.745</td>\n",
       "      <td>6.029.036</td>\n",
       "      <td>6.038.714</td>\n",
       "      <td>6.059.026</td>\n",
       "      <td>6.073.807</td>\n",
       "      <td>6.085.199</td>\n",
       "      <td>6.095.620</td>\n",
       "      <td>6.107.071</td>\n",
       "      <td>6.118.602</td>\n",
       "      <td>6.135.091</td>\n",
       "      <td>6.148.642</td>\n",
       "      <td>6.160.041</td>\n",
       "      <td>6.171.036</td>\n",
       "      <td>0</td>\n",
       "      <td>0</td>\n",
       "    </tr>\n",
       "    <tr>\n",
       "      <th>1</th>\n",
       "      <td>1</td>\n",
       "      <td>CABA</td>\n",
       "      <td>1.512.568</td>\n",
       "      <td>1.515.272</td>\n",
       "      <td>1.519.960</td>\n",
       "      <td>1.524.526</td>\n",
       "      <td>1.529.132</td>\n",
       "      <td>1.530.145</td>\n",
       "      <td>1.532.421</td>\n",
       "      <td>1.535.016</td>\n",
       "      <td>1.536.298</td>\n",
       "      <td>1.538.203</td>\n",
       "      <td>1.539.573</td>\n",
       "      <td>1.539.809</td>\n",
       "      <td>1.542.986</td>\n",
       "      <td>1.529.004</td>\n",
       "      <td>1.534.804</td>\n",
       "      <td>1.543.731</td>\n",
       "      <td>1.543.117</td>\n",
       "      <td>1.543.388</td>\n",
       "      <td>1.545.364</td>\n",
       "      <td>1.545.277</td>\n",
       "      <td>1.545.332</td>\n",
       "      <td>1.544.318</td>\n",
       "      <td>0</td>\n",
       "      <td>0</td>\n",
       "    </tr>\n",
       "    <tr>\n",
       "      <th>2</th>\n",
       "      <td>2</td>\n",
       "      <td>CATAMARCA</td>\n",
       "      <td>100.851</td>\n",
       "      <td>101.486</td>\n",
       "      <td>102.193</td>\n",
       "      <td>102.945</td>\n",
       "      <td>103.643</td>\n",
       "      <td>104.250</td>\n",
       "      <td>118.378</td>\n",
       "      <td>118.787</td>\n",
       "      <td>119.035</td>\n",
       "      <td>119.324</td>\n",
       "      <td>119.498</td>\n",
       "      <td>119.538</td>\n",
       "      <td>119.837</td>\n",
       "      <td>119.460</td>\n",
       "      <td>119.822</td>\n",
       "      <td>120.254</td>\n",
       "      <td>120.378</td>\n",
       "      <td>120.488</td>\n",
       "      <td>120.645</td>\n",
       "      <td>120.837</td>\n",
       "      <td>120.968</td>\n",
       "      <td>121.080</td>\n",
       "      <td>0</td>\n",
       "      <td>0</td>\n",
       "    </tr>\n",
       "    <tr>\n",
       "      <th>3</th>\n",
       "      <td>3</td>\n",
       "      <td>CORDOBA</td>\n",
       "      <td>1.532.993</td>\n",
       "      <td>1.539.285</td>\n",
       "      <td>1.547.176</td>\n",
       "      <td>1.554.582</td>\n",
       "      <td>1.562.590</td>\n",
       "      <td>1.568.895</td>\n",
       "      <td>1.575.540</td>\n",
       "      <td>1.581.607</td>\n",
       "      <td>1.586.302</td>\n",
       "      <td>1.590.535</td>\n",
       "      <td>1.593.920</td>\n",
       "      <td>1.596.398</td>\n",
       "      <td>1.602.271</td>\n",
       "      <td>1.604.480</td>\n",
       "      <td>1.608.560</td>\n",
       "      <td>1.612.625</td>\n",
       "      <td>1.615.645</td>\n",
       "      <td>1.618.829</td>\n",
       "      <td>1.623.177</td>\n",
       "      <td>1.627.192</td>\n",
       "      <td>1.629.999</td>\n",
       "      <td>1.632.500</td>\n",
       "      <td>0</td>\n",
       "      <td>0</td>\n",
       "    </tr>\n",
       "    <tr>\n",
       "      <th>4</th>\n",
       "      <td>4</td>\n",
       "      <td>CORRIENTES</td>\n",
       "      <td>282.891</td>\n",
       "      <td>284.637</td>\n",
       "      <td>286.627</td>\n",
       "      <td>288.454</td>\n",
       "      <td>290.436</td>\n",
       "      <td>291.875</td>\n",
       "      <td>293.408</td>\n",
       "      <td>295.005</td>\n",
       "      <td>296.128</td>\n",
       "      <td>297.220</td>\n",
       "      <td>298.197</td>\n",
       "      <td>298.854</td>\n",
       "      <td>300.188</td>\n",
       "      <td>301.109</td>\n",
       "      <td>301.983</td>\n",
       "      <td>302.877</td>\n",
       "      <td>303.540</td>\n",
       "      <td>304.292</td>\n",
       "      <td>305.332</td>\n",
       "      <td>306.137</td>\n",
       "      <td>306.822</td>\n",
       "      <td>307.291</td>\n",
       "      <td>0</td>\n",
       "      <td>0</td>\n",
       "    </tr>\n",
       "    <tr>\n",
       "      <th>5</th>\n",
       "      <td>5</td>\n",
       "      <td>CHACO</td>\n",
       "      <td>245.580</td>\n",
       "      <td>247.158</td>\n",
       "      <td>249.221</td>\n",
       "      <td>251.160</td>\n",
       "      <td>253.074</td>\n",
       "      <td>254.521</td>\n",
       "      <td>256.009</td>\n",
       "      <td>257.392</td>\n",
       "      <td>258.426</td>\n",
       "      <td>259.176</td>\n",
       "      <td>259.755</td>\n",
       "      <td>260.091</td>\n",
       "      <td>261.269</td>\n",
       "      <td>261.621</td>\n",
       "      <td>262.407</td>\n",
       "      <td>263.233</td>\n",
       "      <td>263.825</td>\n",
       "      <td>264.395</td>\n",
       "      <td>265.210</td>\n",
       "      <td>265.879</td>\n",
       "      <td>266.324</td>\n",
       "      <td>266.804</td>\n",
       "      <td>0</td>\n",
       "      <td>0</td>\n",
       "    </tr>\n",
       "    <tr>\n",
       "      <th>6</th>\n",
       "      <td>6</td>\n",
       "      <td>CHUBUT</td>\n",
       "      <td>305.939</td>\n",
       "      <td>307.492</td>\n",
       "      <td>309.308</td>\n",
       "      <td>310.764</td>\n",
       "      <td>312.220</td>\n",
       "      <td>313.379</td>\n",
       "      <td>314.460</td>\n",
       "      <td>315.641</td>\n",
       "      <td>316.575</td>\n",
       "      <td>317.462</td>\n",
       "      <td>318.175</td>\n",
       "      <td>318.677</td>\n",
       "      <td>319.808</td>\n",
       "      <td>319.890</td>\n",
       "      <td>320.905</td>\n",
       "      <td>321.952</td>\n",
       "      <td>322.826</td>\n",
       "      <td>323.417</td>\n",
       "      <td>324.477</td>\n",
       "      <td>325.293</td>\n",
       "      <td>325.963</td>\n",
       "      <td>326.559</td>\n",
       "      <td>0</td>\n",
       "      <td>0</td>\n",
       "    </tr>\n",
       "    <tr>\n",
       "      <th>7</th>\n",
       "      <td>7</td>\n",
       "      <td>ENTRE RIOS</td>\n",
       "      <td>521.379</td>\n",
       "      <td>523.556</td>\n",
       "      <td>526.099</td>\n",
       "      <td>528.250</td>\n",
       "      <td>530.611</td>\n",
       "      <td>532.409</td>\n",
       "      <td>534.377</td>\n",
       "      <td>536.099</td>\n",
       "      <td>537.495</td>\n",
       "      <td>538.851</td>\n",
       "      <td>539.883</td>\n",
       "      <td>540.620</td>\n",
       "      <td>542.370</td>\n",
       "      <td>544.000</td>\n",
       "      <td>545.028</td>\n",
       "      <td>545.854</td>\n",
       "      <td>546.939</td>\n",
       "      <td>547.960</td>\n",
       "      <td>549.487</td>\n",
       "      <td>550.806</td>\n",
       "      <td>551.950</td>\n",
       "      <td>553.109</td>\n",
       "      <td>0</td>\n",
       "      <td>0</td>\n",
       "    </tr>\n",
       "    <tr>\n",
       "      <th>8</th>\n",
       "      <td>8</td>\n",
       "      <td>FORMOSA</td>\n",
       "      <td>100.446</td>\n",
       "      <td>101.121</td>\n",
       "      <td>101.982</td>\n",
       "      <td>102.758</td>\n",
       "      <td>103.468</td>\n",
       "      <td>104.043</td>\n",
       "      <td>104.714</td>\n",
       "      <td>105.382</td>\n",
       "      <td>105.858</td>\n",
       "      <td>106.238</td>\n",
       "      <td>106.603</td>\n",
       "      <td>106.852</td>\n",
       "      <td>107.435</td>\n",
       "      <td>107.702</td>\n",
       "      <td>108.144</td>\n",
       "      <td>108.565</td>\n",
       "      <td>108.826</td>\n",
       "      <td>109.006</td>\n",
       "      <td>109.516</td>\n",
       "      <td>109.902</td>\n",
       "      <td>110.165</td>\n",
       "      <td>110.377</td>\n",
       "      <td>0</td>\n",
       "      <td>0</td>\n",
       "    </tr>\n",
       "    <tr>\n",
       "      <th>9</th>\n",
       "      <td>9</td>\n",
       "      <td>JUJUY</td>\n",
       "      <td>175.571</td>\n",
       "      <td>176.651</td>\n",
       "      <td>177.791</td>\n",
       "      <td>178.885</td>\n",
       "      <td>180.263</td>\n",
       "      <td>181.239</td>\n",
       "      <td>182.101</td>\n",
       "      <td>182.961</td>\n",
       "      <td>183.645</td>\n",
       "      <td>184.325</td>\n",
       "      <td>184.864</td>\n",
       "      <td>185.298</td>\n",
       "      <td>186.161</td>\n",
       "      <td>186.771</td>\n",
       "      <td>187.301</td>\n",
       "      <td>187.900</td>\n",
       "      <td>188.400</td>\n",
       "      <td>188.869</td>\n",
       "      <td>189.563</td>\n",
       "      <td>190.170</td>\n",
       "      <td>190.653</td>\n",
       "      <td>191.060</td>\n",
       "      <td>0</td>\n",
       "      <td>0</td>\n",
       "    </tr>\n",
       "    <tr>\n",
       "      <th>10</th>\n",
       "      <td>10</td>\n",
       "      <td>LA PAMPA</td>\n",
       "      <td>175.353</td>\n",
       "      <td>176.176</td>\n",
       "      <td>177.294</td>\n",
       "      <td>178.173</td>\n",
       "      <td>179.172</td>\n",
       "      <td>179.909</td>\n",
       "      <td>180.623</td>\n",
       "      <td>181.345</td>\n",
       "      <td>181.968</td>\n",
       "      <td>182.443</td>\n",
       "      <td>182.795</td>\n",
       "      <td>183.065</td>\n",
       "      <td>183.564</td>\n",
       "      <td>183.894</td>\n",
       "      <td>184.397</td>\n",
       "      <td>184.866</td>\n",
       "      <td>185.253</td>\n",
       "      <td>185.702</td>\n",
       "      <td>186.372</td>\n",
       "      <td>186.889</td>\n",
       "      <td>187.410</td>\n",
       "      <td>187.708</td>\n",
       "      <td>0</td>\n",
       "      <td>0</td>\n",
       "    </tr>\n",
       "    <tr>\n",
       "      <th>11</th>\n",
       "      <td>11</td>\n",
       "      <td>LA RIOJA</td>\n",
       "      <td>95.640</td>\n",
       "      <td>96.270</td>\n",
       "      <td>96.995</td>\n",
       "      <td>97.638</td>\n",
       "      <td>98.372</td>\n",
       "      <td>98.904</td>\n",
       "      <td>99.444</td>\n",
       "      <td>99.992</td>\n",
       "      <td>100.411</td>\n",
       "      <td>100.774</td>\n",
       "      <td>101.053</td>\n",
       "      <td>101.271</td>\n",
       "      <td>101.711</td>\n",
       "      <td>102.131</td>\n",
       "      <td>102.432</td>\n",
       "      <td>102.667</td>\n",
       "      <td>102.960</td>\n",
       "      <td>103.215</td>\n",
       "      <td>103.571</td>\n",
       "      <td>103.932</td>\n",
       "      <td>104.194</td>\n",
       "      <td>104.483</td>\n",
       "      <td>0</td>\n",
       "      <td>0</td>\n",
       "    </tr>\n",
       "    <tr>\n",
       "      <th>12</th>\n",
       "      <td>12</td>\n",
       "      <td>MENDOZA</td>\n",
       "      <td>783.924</td>\n",
       "      <td>786.903</td>\n",
       "      <td>790.491</td>\n",
       "      <td>793.625</td>\n",
       "      <td>797.242</td>\n",
       "      <td>799.987</td>\n",
       "      <td>803.036</td>\n",
       "      <td>806.000</td>\n",
       "      <td>808.292</td>\n",
       "      <td>810.193</td>\n",
       "      <td>811.751</td>\n",
       "      <td>812.863</td>\n",
       "      <td>815.330</td>\n",
       "      <td>816.928</td>\n",
       "      <td>818.495</td>\n",
       "      <td>819.952</td>\n",
       "      <td>821.531</td>\n",
       "      <td>822.963</td>\n",
       "      <td>824.887</td>\n",
       "      <td>826.720</td>\n",
       "      <td>828.326</td>\n",
       "      <td>829.747</td>\n",
       "      <td>0</td>\n",
       "      <td>0</td>\n",
       "    </tr>\n",
       "    <tr>\n",
       "      <th>13</th>\n",
       "      <td>13</td>\n",
       "      <td>MISIONES</td>\n",
       "      <td>276.282</td>\n",
       "      <td>277.526</td>\n",
       "      <td>279.158</td>\n",
       "      <td>280.494</td>\n",
       "      <td>282.051</td>\n",
       "      <td>283.419</td>\n",
       "      <td>284.869</td>\n",
       "      <td>286.071</td>\n",
       "      <td>287.098</td>\n",
       "      <td>287.940</td>\n",
       "      <td>288.530</td>\n",
       "      <td>289.068</td>\n",
       "      <td>290.026</td>\n",
       "      <td>291.007</td>\n",
       "      <td>291.602</td>\n",
       "      <td>292.037</td>\n",
       "      <td>292.745</td>\n",
       "      <td>293.583</td>\n",
       "      <td>294.478</td>\n",
       "      <td>295.387</td>\n",
       "      <td>296.109</td>\n",
       "      <td>296.862</td>\n",
       "      <td>0</td>\n",
       "      <td>0</td>\n",
       "    </tr>\n",
       "    <tr>\n",
       "      <th>14</th>\n",
       "      <td>14</td>\n",
       "      <td>NEUQUEN</td>\n",
       "      <td>306.348</td>\n",
       "      <td>308.099</td>\n",
       "      <td>309.967</td>\n",
       "      <td>311.797</td>\n",
       "      <td>313.729</td>\n",
       "      <td>315.255</td>\n",
       "      <td>316.874</td>\n",
       "      <td>318.498</td>\n",
       "      <td>319.995</td>\n",
       "      <td>321.383</td>\n",
       "      <td>322.453</td>\n",
       "      <td>323.238</td>\n",
       "      <td>325.124</td>\n",
       "      <td>326.827</td>\n",
       "      <td>328.156</td>\n",
       "      <td>329.448</td>\n",
       "      <td>330.670</td>\n",
       "      <td>331.927</td>\n",
       "      <td>333.511</td>\n",
       "      <td>335.159</td>\n",
       "      <td>336.472</td>\n",
       "      <td>337.698</td>\n",
       "      <td>0</td>\n",
       "      <td>0</td>\n",
       "    </tr>\n",
       "    <tr>\n",
       "      <th>15</th>\n",
       "      <td>15</td>\n",
       "      <td>RIO NEGRO</td>\n",
       "      <td>298.864</td>\n",
       "      <td>300.473</td>\n",
       "      <td>302.525</td>\n",
       "      <td>304.375</td>\n",
       "      <td>306.451</td>\n",
       "      <td>308.352</td>\n",
       "      <td>310.038</td>\n",
       "      <td>311.828</td>\n",
       "      <td>313.325</td>\n",
       "      <td>314.630</td>\n",
       "      <td>315.790</td>\n",
       "      <td>316.802</td>\n",
       "      <td>318.413</td>\n",
       "      <td>320.751</td>\n",
       "      <td>321.503</td>\n",
       "      <td>321.982</td>\n",
       "      <td>323.322</td>\n",
       "      <td>324.440</td>\n",
       "      <td>325.790</td>\n",
       "      <td>327.230</td>\n",
       "      <td>328.278</td>\n",
       "      <td>329.305</td>\n",
       "      <td>0</td>\n",
       "      <td>0</td>\n",
       "    </tr>\n",
       "    <tr>\n",
       "      <th>16</th>\n",
       "      <td>16</td>\n",
       "      <td>SALTA</td>\n",
       "      <td>287.083</td>\n",
       "      <td>288.826</td>\n",
       "      <td>291.121</td>\n",
       "      <td>293.263</td>\n",
       "      <td>295.308</td>\n",
       "      <td>296.939</td>\n",
       "      <td>298.712</td>\n",
       "      <td>300.230</td>\n",
       "      <td>301.366</td>\n",
       "      <td>302.459</td>\n",
       "      <td>303.394</td>\n",
       "      <td>304.182</td>\n",
       "      <td>305.441</td>\n",
       "      <td>305.759</td>\n",
       "      <td>306.741</td>\n",
       "      <td>307.658</td>\n",
       "      <td>308.426</td>\n",
       "      <td>309.071</td>\n",
       "      <td>310.104</td>\n",
       "      <td>310.974</td>\n",
       "      <td>311.726</td>\n",
       "      <td>312.384</td>\n",
       "      <td>0</td>\n",
       "      <td>0</td>\n",
       "    </tr>\n",
       "    <tr>\n",
       "      <th>17</th>\n",
       "      <td>17</td>\n",
       "      <td>SAN JUAN</td>\n",
       "      <td>229.517</td>\n",
       "      <td>230.593</td>\n",
       "      <td>231.817</td>\n",
       "      <td>233.096</td>\n",
       "      <td>234.413</td>\n",
       "      <td>235.495</td>\n",
       "      <td>236.722</td>\n",
       "      <td>237.885</td>\n",
       "      <td>238.894</td>\n",
       "      <td>239.783</td>\n",
       "      <td>240.488</td>\n",
       "      <td>240.944</td>\n",
       "      <td>241.879</td>\n",
       "      <td>243.108</td>\n",
       "      <td>243.681</td>\n",
       "      <td>244.132</td>\n",
       "      <td>244.866</td>\n",
       "      <td>245.573</td>\n",
       "      <td>246.452</td>\n",
       "      <td>247.331</td>\n",
       "      <td>247.949</td>\n",
       "      <td>248.561</td>\n",
       "      <td>0</td>\n",
       "      <td>0</td>\n",
       "    </tr>\n",
       "    <tr>\n",
       "      <th>18</th>\n",
       "      <td>18</td>\n",
       "      <td>SAN LUIS</td>\n",
       "      <td>178.102</td>\n",
       "      <td>179.288</td>\n",
       "      <td>180.720</td>\n",
       "      <td>182.000</td>\n",
       "      <td>183.330</td>\n",
       "      <td>184.641</td>\n",
       "      <td>185.725</td>\n",
       "      <td>186.819</td>\n",
       "      <td>187.976</td>\n",
       "      <td>188.847</td>\n",
       "      <td>189.562</td>\n",
       "      <td>190.061</td>\n",
       "      <td>190.992</td>\n",
       "      <td>192.464</td>\n",
       "      <td>192.915</td>\n",
       "      <td>193.186</td>\n",
       "      <td>193.919</td>\n",
       "      <td>194.527</td>\n",
       "      <td>195.308</td>\n",
       "      <td>196.100</td>\n",
       "      <td>196.706</td>\n",
       "      <td>197.312</td>\n",
       "      <td>0</td>\n",
       "      <td>0</td>\n",
       "    </tr>\n",
       "    <tr>\n",
       "      <th>19</th>\n",
       "      <td>19</td>\n",
       "      <td>SANTA CRUZ</td>\n",
       "      <td>185.694</td>\n",
       "      <td>186.249</td>\n",
       "      <td>186.881</td>\n",
       "      <td>187.630</td>\n",
       "      <td>188.387</td>\n",
       "      <td>188.993</td>\n",
       "      <td>189.554</td>\n",
       "      <td>190.037</td>\n",
       "      <td>190.514</td>\n",
       "      <td>191.004</td>\n",
       "      <td>191.294</td>\n",
       "      <td>191.515</td>\n",
       "      <td>191.906</td>\n",
       "      <td>191.799</td>\n",
       "      <td>192.247</td>\n",
       "      <td>192.744</td>\n",
       "      <td>192.910</td>\n",
       "      <td>193.083</td>\n",
       "      <td>193.508</td>\n",
       "      <td>193.822</td>\n",
       "      <td>194.109</td>\n",
       "      <td>194.296</td>\n",
       "      <td>0</td>\n",
       "      <td>0</td>\n",
       "    </tr>\n",
       "    <tr>\n",
       "      <th>20</th>\n",
       "      <td>20</td>\n",
       "      <td>SANTA FE</td>\n",
       "      <td>1.341.768</td>\n",
       "      <td>1.346.912</td>\n",
       "      <td>1.353.226</td>\n",
       "      <td>1.358.575</td>\n",
       "      <td>1.364.677</td>\n",
       "      <td>1.368.850</td>\n",
       "      <td>1.373.307</td>\n",
       "      <td>1.377.496</td>\n",
       "      <td>1.380.449</td>\n",
       "      <td>1.383.076</td>\n",
       "      <td>1.385.013</td>\n",
       "      <td>1.385.943</td>\n",
       "      <td>1.390.074</td>\n",
       "      <td>1.389.593</td>\n",
       "      <td>1.392.904</td>\n",
       "      <td>1.396.733</td>\n",
       "      <td>1.398.975</td>\n",
       "      <td>1.401.442</td>\n",
       "      <td>1.404.668</td>\n",
       "      <td>1.407.564</td>\n",
       "      <td>1.409.804</td>\n",
       "      <td>1.411.421</td>\n",
       "      <td>0</td>\n",
       "      <td>0</td>\n",
       "    </tr>\n",
       "    <tr>\n",
       "      <th>21</th>\n",
       "      <td>21</td>\n",
       "      <td>S. DEL ESTERO</td>\n",
       "      <td>163.164</td>\n",
       "      <td>164.388</td>\n",
       "      <td>165.811</td>\n",
       "      <td>167.176</td>\n",
       "      <td>168.604</td>\n",
       "      <td>169.827</td>\n",
       "      <td>171.043</td>\n",
       "      <td>172.206</td>\n",
       "      <td>173.210</td>\n",
       "      <td>174.108</td>\n",
       "      <td>174.793</td>\n",
       "      <td>175.300</td>\n",
       "      <td>176.227</td>\n",
       "      <td>177.106</td>\n",
       "      <td>177.617</td>\n",
       "      <td>177.984</td>\n",
       "      <td>178.612</td>\n",
       "      <td>179.182</td>\n",
       "      <td>179.879</td>\n",
       "      <td>180.550</td>\n",
       "      <td>181.170</td>\n",
       "      <td>181.698</td>\n",
       "      <td>0</td>\n",
       "      <td>0</td>\n",
       "    </tr>\n",
       "    <tr>\n",
       "      <th>22</th>\n",
       "      <td>22</td>\n",
       "      <td>TUCUMAN</td>\n",
       "      <td>362.245</td>\n",
       "      <td>364.807</td>\n",
       "      <td>367.804</td>\n",
       "      <td>370.645</td>\n",
       "      <td>373.890</td>\n",
       "      <td>376.413</td>\n",
       "      <td>379.032</td>\n",
       "      <td>381.455</td>\n",
       "      <td>383.318</td>\n",
       "      <td>385.087</td>\n",
       "      <td>386.466</td>\n",
       "      <td>387.341</td>\n",
       "      <td>389.339</td>\n",
       "      <td>390.767</td>\n",
       "      <td>392.069</td>\n",
       "      <td>393.384</td>\n",
       "      <td>394.472</td>\n",
       "      <td>395.722</td>\n",
       "      <td>397.248</td>\n",
       "      <td>398.600</td>\n",
       "      <td>399.705</td>\n",
       "      <td>400.735</td>\n",
       "      <td>0</td>\n",
       "      <td>0</td>\n",
       "    </tr>\n",
       "    <tr>\n",
       "      <th>23</th>\n",
       "      <td>23</td>\n",
       "      <td>T. DEL FUEGO</td>\n",
       "      <td>101.336</td>\n",
       "      <td>101.764</td>\n",
       "      <td>102.249</td>\n",
       "      <td>102.788</td>\n",
       "      <td>103.255</td>\n",
       "      <td>103.399</td>\n",
       "      <td>103.656</td>\n",
       "      <td>103.914</td>\n",
       "      <td>104.020</td>\n",
       "      <td>104.085</td>\n",
       "      <td>104.220</td>\n",
       "      <td>104.198</td>\n",
       "      <td>104.271</td>\n",
       "      <td>103.196</td>\n",
       "      <td>103.537</td>\n",
       "      <td>104.069</td>\n",
       "      <td>103.958</td>\n",
       "      <td>103.882</td>\n",
       "      <td>103.975</td>\n",
       "      <td>104.031</td>\n",
       "      <td>103.950</td>\n",
       "      <td>103.852</td>\n",
       "      <td>0</td>\n",
       "      <td>0</td>\n",
       "    </tr>\n",
       "    <tr>\n",
       "      <th>24</th>\n",
       "      <td>24</td>\n",
       "      <td>TOTAL</td>\n",
       "      <td>15.367.777</td>\n",
       "      <td>15.444.629</td>\n",
       "      <td>15.524.672</td>\n",
       "      <td>15.597.001</td>\n",
       "      <td>15.675.004</td>\n",
       "      <td>15.732.545</td>\n",
       "      <td>15.807.006</td>\n",
       "      <td>15.865.376</td>\n",
       "      <td>15.911.770</td>\n",
       "      <td>15.953.891</td>\n",
       "      <td>15.987.106</td>\n",
       "      <td>16.010.642</td>\n",
       "      <td>16.065.648</td>\n",
       "      <td>16.083.174</td>\n",
       "      <td>16.122.449</td>\n",
       "      <td>16.163.453</td>\n",
       "      <td>16.193.186</td>\n",
       "      <td>16.223.558</td>\n",
       "      <td>16.267.613</td>\n",
       "      <td>16.304.424</td>\n",
       "      <td>16.334.125</td>\n",
       "      <td>16.360.196</td>\n",
       "      <td>0</td>\n",
       "      <td>0</td>\n",
       "    </tr>\n",
       "  </tbody>\n",
       "</table>\n",
       "</div>"
      ],
      "text/plain": [
       "    Unnamed: 0      provincia    Ene 2018    Feb 2018    Mar 2018    Abr 2018  \\\n",
       "0            0   BUENOS AIRES   5.804.239   5.839.697   5.868.256   5.893.402   \n",
       "1            1           CABA   1.512.568   1.515.272   1.519.960   1.524.526   \n",
       "2            2      CATAMARCA     100.851     101.486     102.193     102.945   \n",
       "3            3        CORDOBA   1.532.993   1.539.285   1.547.176   1.554.582   \n",
       "4            4     CORRIENTES     282.891     284.637     286.627     288.454   \n",
       "5            5          CHACO     245.580     247.158     249.221     251.160   \n",
       "6            6         CHUBUT     305.939     307.492     309.308     310.764   \n",
       "7            7     ENTRE RIOS     521.379     523.556     526.099     528.250   \n",
       "8            8        FORMOSA     100.446     101.121     101.982     102.758   \n",
       "9            9          JUJUY     175.571     176.651     177.791     178.885   \n",
       "10          10       LA PAMPA     175.353     176.176     177.294     178.173   \n",
       "11          11       LA RIOJA      95.640      96.270      96.995      97.638   \n",
       "12          12        MENDOZA     783.924     786.903     790.491     793.625   \n",
       "13          13       MISIONES     276.282     277.526     279.158     280.494   \n",
       "14          14        NEUQUEN     306.348     308.099     309.967     311.797   \n",
       "15          15      RIO NEGRO     298.864     300.473     302.525     304.375   \n",
       "16          16          SALTA     287.083     288.826     291.121     293.263   \n",
       "17          17       SAN JUAN     229.517     230.593     231.817     233.096   \n",
       "18          18       SAN LUIS     178.102     179.288     180.720     182.000   \n",
       "19          19     SANTA CRUZ     185.694     186.249     186.881     187.630   \n",
       "20          20       SANTA FE   1.341.768   1.346.912   1.353.226   1.358.575   \n",
       "21          21  S. DEL ESTERO     163.164     164.388     165.811     167.176   \n",
       "22          22        TUCUMAN     362.245     364.807     367.804     370.645   \n",
       "23          23   T. DEL FUEGO     101.336     101.764     102.249     102.788   \n",
       "24          24          TOTAL  15.367.777  15.444.629  15.524.672  15.597.001   \n",
       "\n",
       "      May 2018    Jun 2018    Jul 2018    Ago 2018    Sep 2018    Oct 2018  \\\n",
       "0    5.920.686   5.941.406   5.962.963   5.983.710   6.001.172   6.016.745   \n",
       "1    1.529.132   1.530.145   1.532.421   1.535.016   1.536.298   1.538.203   \n",
       "2      103.643     104.250     118.378     118.787     119.035     119.324   \n",
       "3    1.562.590   1.568.895   1.575.540   1.581.607   1.586.302   1.590.535   \n",
       "4      290.436     291.875     293.408     295.005     296.128     297.220   \n",
       "5      253.074     254.521     256.009     257.392     258.426     259.176   \n",
       "6      312.220     313.379     314.460     315.641     316.575     317.462   \n",
       "7      530.611     532.409     534.377     536.099     537.495     538.851   \n",
       "8      103.468     104.043     104.714     105.382     105.858     106.238   \n",
       "9      180.263     181.239     182.101     182.961     183.645     184.325   \n",
       "10     179.172     179.909     180.623     181.345     181.968     182.443   \n",
       "11      98.372      98.904      99.444      99.992     100.411     100.774   \n",
       "12     797.242     799.987     803.036     806.000     808.292     810.193   \n",
       "13     282.051     283.419     284.869     286.071     287.098     287.940   \n",
       "14     313.729     315.255     316.874     318.498     319.995     321.383   \n",
       "15     306.451     308.352     310.038     311.828     313.325     314.630   \n",
       "16     295.308     296.939     298.712     300.230     301.366     302.459   \n",
       "17     234.413     235.495     236.722     237.885     238.894     239.783   \n",
       "18     183.330     184.641     185.725     186.819     187.976     188.847   \n",
       "19     188.387     188.993     189.554     190.037     190.514     191.004   \n",
       "20   1.364.677   1.368.850   1.373.307   1.377.496   1.380.449   1.383.076   \n",
       "21     168.604     169.827     171.043     172.206     173.210     174.108   \n",
       "22     373.890     376.413     379.032     381.455     383.318     385.087   \n",
       "23     103.255     103.399     103.656     103.914     104.020     104.085   \n",
       "24  15.675.004  15.732.545  15.807.006  15.865.376  15.911.770  15.953.891   \n",
       "\n",
       "      Nov 2018    Dic 2018    Ene 2019    Feb 2019    Mar 2019    Abr 2019  \\\n",
       "0    6.029.036   6.038.714   6.059.026   6.073.807   6.085.199   6.095.620   \n",
       "1    1.539.573   1.539.809   1.542.986   1.529.004   1.534.804   1.543.731   \n",
       "2      119.498     119.538     119.837     119.460     119.822     120.254   \n",
       "3    1.593.920   1.596.398   1.602.271   1.604.480   1.608.560   1.612.625   \n",
       "4      298.197     298.854     300.188     301.109     301.983     302.877   \n",
       "5      259.755     260.091     261.269     261.621     262.407     263.233   \n",
       "6      318.175     318.677     319.808     319.890     320.905     321.952   \n",
       "7      539.883     540.620     542.370     544.000     545.028     545.854   \n",
       "8      106.603     106.852     107.435     107.702     108.144     108.565   \n",
       "9      184.864     185.298     186.161     186.771     187.301     187.900   \n",
       "10     182.795     183.065     183.564     183.894     184.397     184.866   \n",
       "11     101.053     101.271     101.711     102.131     102.432     102.667   \n",
       "12     811.751     812.863     815.330     816.928     818.495     819.952   \n",
       "13     288.530     289.068     290.026     291.007     291.602     292.037   \n",
       "14     322.453     323.238     325.124     326.827     328.156     329.448   \n",
       "15     315.790     316.802     318.413     320.751     321.503     321.982   \n",
       "16     303.394     304.182     305.441     305.759     306.741     307.658   \n",
       "17     240.488     240.944     241.879     243.108     243.681     244.132   \n",
       "18     189.562     190.061     190.992     192.464     192.915     193.186   \n",
       "19     191.294     191.515     191.906     191.799     192.247     192.744   \n",
       "20   1.385.013   1.385.943   1.390.074   1.389.593   1.392.904   1.396.733   \n",
       "21     174.793     175.300     176.227     177.106     177.617     177.984   \n",
       "22     386.466     387.341     389.339     390.767     392.069     393.384   \n",
       "23     104.220     104.198     104.271     103.196     103.537     104.069   \n",
       "24  15.987.106  16.010.642  16.065.648  16.083.174  16.122.449  16.163.453   \n",
       "\n",
       "      May 2019    Jun 2019    Jul 2019    Ago 2019    Sep 2019    Oct 2019  \\\n",
       "0    6.107.071   6.118.602   6.135.091   6.148.642   6.160.041   6.171.036   \n",
       "1    1.543.117   1.543.388   1.545.364   1.545.277   1.545.332   1.544.318   \n",
       "2      120.378     120.488     120.645     120.837     120.968     121.080   \n",
       "3    1.615.645   1.618.829   1.623.177   1.627.192   1.629.999   1.632.500   \n",
       "4      303.540     304.292     305.332     306.137     306.822     307.291   \n",
       "5      263.825     264.395     265.210     265.879     266.324     266.804   \n",
       "6      322.826     323.417     324.477     325.293     325.963     326.559   \n",
       "7      546.939     547.960     549.487     550.806     551.950     553.109   \n",
       "8      108.826     109.006     109.516     109.902     110.165     110.377   \n",
       "9      188.400     188.869     189.563     190.170     190.653     191.060   \n",
       "10     185.253     185.702     186.372     186.889     187.410     187.708   \n",
       "11     102.960     103.215     103.571     103.932     104.194     104.483   \n",
       "12     821.531     822.963     824.887     826.720     828.326     829.747   \n",
       "13     292.745     293.583     294.478     295.387     296.109     296.862   \n",
       "14     330.670     331.927     333.511     335.159     336.472     337.698   \n",
       "15     323.322     324.440     325.790     327.230     328.278     329.305   \n",
       "16     308.426     309.071     310.104     310.974     311.726     312.384   \n",
       "17     244.866     245.573     246.452     247.331     247.949     248.561   \n",
       "18     193.919     194.527     195.308     196.100     196.706     197.312   \n",
       "19     192.910     193.083     193.508     193.822     194.109     194.296   \n",
       "20   1.398.975   1.401.442   1.404.668   1.407.564   1.409.804   1.411.421   \n",
       "21     178.612     179.182     179.879     180.550     181.170     181.698   \n",
       "22     394.472     395.722     397.248     398.600     399.705     400.735   \n",
       "23     103.958     103.882     103.975     104.031     103.950     103.852   \n",
       "24  16.193.186  16.223.558  16.267.613  16.304.424  16.334.125  16.360.196   \n",
       "\n",
       "    Nov 2019  Dic 2019  \n",
       "0          0         0  \n",
       "1          0         0  \n",
       "2          0         0  \n",
       "3          0         0  \n",
       "4          0         0  \n",
       "5          0         0  \n",
       "6          0         0  \n",
       "7          0         0  \n",
       "8          0         0  \n",
       "9          0         0  \n",
       "10         0         0  \n",
       "11         0         0  \n",
       "12         0         0  \n",
       "13         0         0  \n",
       "14         0         0  \n",
       "15         0         0  \n",
       "16         0         0  \n",
       "17         0         0  \n",
       "18         0         0  \n",
       "19         0         0  \n",
       "20         0         0  \n",
       "21         0         0  \n",
       "22         0         0  \n",
       "23         0         0  \n",
       "24         0         0  "
      ]
     },
     "execution_count": 138,
     "metadata": {},
     "output_type": "execute_result"
    }
   ],
   "source": [
    "autos_circulantes_1819"
   ]
  },
  {
   "cell_type": "code",
   "execution_count": 110,
   "metadata": {},
   "outputs": [],
   "source": [
    "robados_por_provincia_mes=  robados[['tramite_tipo', 'tramite_fecha' ,'registro_seccional_provincia']]"
   ]
  },
  {
   "cell_type": "code",
   "execution_count": 111,
   "metadata": {},
   "outputs": [],
   "source": [
    "robados_por_provincia_mes['fecha'] = robados[\"mes_anio\"]"
   ]
  },
  {
   "cell_type": "code",
   "execution_count": 112,
   "metadata": {},
   "outputs": [],
   "source": [
    "robados_por_provincia_mes = robados_por_provincia_mes.drop('tramite_fecha', 1)"
   ]
  },
  {
   "cell_type": "code",
   "execution_count": 113,
   "metadata": {},
   "outputs": [
    {
     "data": {
      "text/html": [
       "<div>\n",
       "<style scoped>\n",
       "    .dataframe tbody tr th:only-of-type {\n",
       "        vertical-align: middle;\n",
       "    }\n",
       "\n",
       "    .dataframe tbody tr th {\n",
       "        vertical-align: top;\n",
       "    }\n",
       "\n",
       "    .dataframe thead th {\n",
       "        text-align: right;\n",
       "    }\n",
       "</style>\n",
       "<table border=\"1\" class=\"dataframe\">\n",
       "  <thead>\n",
       "    <tr style=\"text-align: right;\">\n",
       "      <th></th>\n",
       "      <th>tramite_tipo</th>\n",
       "      <th>registro_seccional_provincia</th>\n",
       "      <th>fecha</th>\n",
       "    </tr>\n",
       "  </thead>\n",
       "  <tbody>\n",
       "    <tr>\n",
       "      <th>0</th>\n",
       "      <td>DENUNCIA DE ROBO O HURTO</td>\n",
       "      <td>Buenos Aires</td>\n",
       "      <td>Enero 2018</td>\n",
       "    </tr>\n",
       "    <tr>\n",
       "      <th>1</th>\n",
       "      <td>DENUNCIA DE ROBO O HURTO</td>\n",
       "      <td>Buenos Aires</td>\n",
       "      <td>Enero 2018</td>\n",
       "    </tr>\n",
       "    <tr>\n",
       "      <th>2</th>\n",
       "      <td>DENUNCIA DE ROBO O HURTO</td>\n",
       "      <td>Buenos Aires</td>\n",
       "      <td>Enero 2018</td>\n",
       "    </tr>\n",
       "    <tr>\n",
       "      <th>4</th>\n",
       "      <td>DENUNCIA DE ROBO O HURTO</td>\n",
       "      <td>Buenos Aires</td>\n",
       "      <td>Enero 2018</td>\n",
       "    </tr>\n",
       "  </tbody>\n",
       "</table>\n",
       "</div>"
      ],
      "text/plain": [
       "               tramite_tipo registro_seccional_provincia       fecha\n",
       "0  DENUNCIA DE ROBO O HURTO                 Buenos Aires  Enero 2018\n",
       "1  DENUNCIA DE ROBO O HURTO                 Buenos Aires  Enero 2018\n",
       "2  DENUNCIA DE ROBO O HURTO                 Buenos Aires  Enero 2018\n",
       "4  DENUNCIA DE ROBO O HURTO                 Buenos Aires  Enero 2018"
      ]
     },
     "execution_count": 113,
     "metadata": {},
     "output_type": "execute_result"
    }
   ],
   "source": [
    "robados_por_provincia_mes.head(4)"
   ]
  },
  {
   "cell_type": "code",
   "execution_count": 114,
   "metadata": {},
   "outputs": [],
   "source": [
    "robados_por_provincia_mes_pivot = pd.pivot_table(robados_por_provincia_mes, values='tramite_tipo', index=['registro_seccional_provincia','fecha'], aggfunc='count')"
   ]
  },
  {
   "cell_type": "code",
   "execution_count": 97,
   "metadata": {},
   "outputs": [
    {
     "data": {
      "text/plain": [
       "Index(['tramite_tipo'], dtype='object')"
      ]
     },
     "execution_count": 97,
     "metadata": {},
     "output_type": "execute_result"
    }
   ],
   "source": [
    "robados_por_provincia_mes_pivot.rename(columns={'tramite_tipo':'robos'})"
   ]
  },
  {
   "cell_type": "code",
   "execution_count": 121,
   "metadata": {},
   "outputs": [],
   "source": [
    "robados_por_provincia_mes_pivot_df = pd.DataFrame(robados_por_provincia_mes_pivot)"
   ]
  },
  {
   "cell_type": "code",
   "execution_count": 132,
   "metadata": {},
   "outputs": [],
   "source": [
    " robados_por_provincia_mes_pivot_df = robados_por_provincia_mes_pivot_df.reset_index()"
   ]
  },
  {
   "cell_type": "code",
   "execution_count": 135,
   "metadata": {},
   "outputs": [
    {
     "data": {
      "text/html": [
       "<div>\n",
       "<style scoped>\n",
       "    .dataframe tbody tr th:only-of-type {\n",
       "        vertical-align: middle;\n",
       "    }\n",
       "\n",
       "    .dataframe tbody tr th {\n",
       "        vertical-align: top;\n",
       "    }\n",
       "\n",
       "    .dataframe thead th {\n",
       "        text-align: right;\n",
       "    }\n",
       "</style>\n",
       "<table border=\"1\" class=\"dataframe\">\n",
       "  <thead>\n",
       "    <tr style=\"text-align: right;\">\n",
       "      <th></th>\n",
       "      <th>registro_seccional_provincia</th>\n",
       "      <th>fecha</th>\n",
       "      <th>robos</th>\n",
       "    </tr>\n",
       "  </thead>\n",
       "  <tbody>\n",
       "    <tr>\n",
       "      <th>0</th>\n",
       "      <td>Buenos Aires</td>\n",
       "      <td>Abril 2018</td>\n",
       "      <td>1842</td>\n",
       "    </tr>\n",
       "    <tr>\n",
       "      <th>1</th>\n",
       "      <td>Buenos Aires</td>\n",
       "      <td>Abril 2019</td>\n",
       "      <td>1916</td>\n",
       "    </tr>\n",
       "    <tr>\n",
       "      <th>2</th>\n",
       "      <td>Buenos Aires</td>\n",
       "      <td>Agosto 2018</td>\n",
       "      <td>2156</td>\n",
       "    </tr>\n",
       "    <tr>\n",
       "      <th>3</th>\n",
       "      <td>Buenos Aires</td>\n",
       "      <td>Agosto 2019</td>\n",
       "      <td>2027</td>\n",
       "    </tr>\n",
       "    <tr>\n",
       "      <th>4</th>\n",
       "      <td>Buenos Aires</td>\n",
       "      <td>Diciembre 2018</td>\n",
       "      <td>1582</td>\n",
       "    </tr>\n",
       "    <tr>\n",
       "      <th>5</th>\n",
       "      <td>Buenos Aires</td>\n",
       "      <td>Enero 2018</td>\n",
       "      <td>1977</td>\n",
       "    </tr>\n",
       "    <tr>\n",
       "      <th>6</th>\n",
       "      <td>Buenos Aires</td>\n",
       "      <td>Enero 2019</td>\n",
       "      <td>2030</td>\n",
       "    </tr>\n",
       "    <tr>\n",
       "      <th>7</th>\n",
       "      <td>Buenos Aires</td>\n",
       "      <td>Febrero 2018</td>\n",
       "      <td>1621</td>\n",
       "    </tr>\n",
       "    <tr>\n",
       "      <th>8</th>\n",
       "      <td>Buenos Aires</td>\n",
       "      <td>Febrero 2019</td>\n",
       "      <td>1839</td>\n",
       "    </tr>\n",
       "    <tr>\n",
       "      <th>9</th>\n",
       "      <td>Buenos Aires</td>\n",
       "      <td>Julio 2018</td>\n",
       "      <td>2085</td>\n",
       "    </tr>\n",
       "    <tr>\n",
       "      <th>10</th>\n",
       "      <td>Buenos Aires</td>\n",
       "      <td>Julio 2019</td>\n",
       "      <td>1998</td>\n",
       "    </tr>\n",
       "    <tr>\n",
       "      <th>11</th>\n",
       "      <td>Buenos Aires</td>\n",
       "      <td>Junio 2018</td>\n",
       "      <td>1712</td>\n",
       "    </tr>\n",
       "    <tr>\n",
       "      <th>12</th>\n",
       "      <td>Buenos Aires</td>\n",
       "      <td>Junio 2019</td>\n",
       "      <td>1610</td>\n",
       "    </tr>\n",
       "    <tr>\n",
       "      <th>13</th>\n",
       "      <td>Buenos Aires</td>\n",
       "      <td>Marzo 2018</td>\n",
       "      <td>1894</td>\n",
       "    </tr>\n",
       "    <tr>\n",
       "      <th>14</th>\n",
       "      <td>Buenos Aires</td>\n",
       "      <td>Marzo 2019</td>\n",
       "      <td>1869</td>\n",
       "    </tr>\n",
       "    <tr>\n",
       "      <th>15</th>\n",
       "      <td>Buenos Aires</td>\n",
       "      <td>Mayo 2018</td>\n",
       "      <td>1954</td>\n",
       "    </tr>\n",
       "    <tr>\n",
       "      <th>16</th>\n",
       "      <td>Buenos Aires</td>\n",
       "      <td>Mayo 2019</td>\n",
       "      <td>2048</td>\n",
       "    </tr>\n",
       "    <tr>\n",
       "      <th>17</th>\n",
       "      <td>Buenos Aires</td>\n",
       "      <td>Noviembre 2018</td>\n",
       "      <td>1799</td>\n",
       "    </tr>\n",
       "    <tr>\n",
       "      <th>18</th>\n",
       "      <td>Buenos Aires</td>\n",
       "      <td>Octubre 2018</td>\n",
       "      <td>1948</td>\n",
       "    </tr>\n",
       "    <tr>\n",
       "      <th>19</th>\n",
       "      <td>Buenos Aires</td>\n",
       "      <td>Septiembre 2018</td>\n",
       "      <td>1721</td>\n",
       "    </tr>\n",
       "    <tr>\n",
       "      <th>20</th>\n",
       "      <td>Buenos Aires</td>\n",
       "      <td>Septiembre 2019</td>\n",
       "      <td>1957</td>\n",
       "    </tr>\n",
       "    <tr>\n",
       "      <th>21</th>\n",
       "      <td>Catamarca</td>\n",
       "      <td>Abril 2018</td>\n",
       "      <td>2</td>\n",
       "    </tr>\n",
       "    <tr>\n",
       "      <th>22</th>\n",
       "      <td>Catamarca</td>\n",
       "      <td>Agosto 2019</td>\n",
       "      <td>2</td>\n",
       "    </tr>\n",
       "    <tr>\n",
       "      <th>23</th>\n",
       "      <td>Catamarca</td>\n",
       "      <td>Julio 2018</td>\n",
       "      <td>2</td>\n",
       "    </tr>\n",
       "    <tr>\n",
       "      <th>24</th>\n",
       "      <td>Catamarca</td>\n",
       "      <td>Julio 2019</td>\n",
       "      <td>1</td>\n",
       "    </tr>\n",
       "    <tr>\n",
       "      <th>25</th>\n",
       "      <td>Catamarca</td>\n",
       "      <td>Marzo 2019</td>\n",
       "      <td>1</td>\n",
       "    </tr>\n",
       "    <tr>\n",
       "      <th>26</th>\n",
       "      <td>Catamarca</td>\n",
       "      <td>Mayo 2019</td>\n",
       "      <td>1</td>\n",
       "    </tr>\n",
       "    <tr>\n",
       "      <th>27</th>\n",
       "      <td>Catamarca</td>\n",
       "      <td>Noviembre 2018</td>\n",
       "      <td>1</td>\n",
       "    </tr>\n",
       "    <tr>\n",
       "      <th>28</th>\n",
       "      <td>Catamarca</td>\n",
       "      <td>Septiembre 2019</td>\n",
       "      <td>2</td>\n",
       "    </tr>\n",
       "    <tr>\n",
       "      <th>29</th>\n",
       "      <td>Chaco</td>\n",
       "      <td>Abril 2018</td>\n",
       "      <td>1</td>\n",
       "    </tr>\n",
       "    <tr>\n",
       "      <th>...</th>\n",
       "      <td>...</td>\n",
       "      <td>...</td>\n",
       "      <td>...</td>\n",
       "    </tr>\n",
       "    <tr>\n",
       "      <th>417</th>\n",
       "      <td>Tierra del Fuego</td>\n",
       "      <td>Junio 2018</td>\n",
       "      <td>1</td>\n",
       "    </tr>\n",
       "    <tr>\n",
       "      <th>418</th>\n",
       "      <td>Tierra del Fuego</td>\n",
       "      <td>Marzo 2018</td>\n",
       "      <td>2</td>\n",
       "    </tr>\n",
       "    <tr>\n",
       "      <th>419</th>\n",
       "      <td>Tierra del Fuego</td>\n",
       "      <td>Marzo 2019</td>\n",
       "      <td>2</td>\n",
       "    </tr>\n",
       "    <tr>\n",
       "      <th>420</th>\n",
       "      <td>Tierra del Fuego</td>\n",
       "      <td>Mayo 2018</td>\n",
       "      <td>5</td>\n",
       "    </tr>\n",
       "    <tr>\n",
       "      <th>421</th>\n",
       "      <td>Tierra del Fuego</td>\n",
       "      <td>Mayo 2019</td>\n",
       "      <td>1</td>\n",
       "    </tr>\n",
       "    <tr>\n",
       "      <th>422</th>\n",
       "      <td>Tierra del Fuego</td>\n",
       "      <td>Noviembre 2018</td>\n",
       "      <td>2</td>\n",
       "    </tr>\n",
       "    <tr>\n",
       "      <th>423</th>\n",
       "      <td>Tierra del Fuego</td>\n",
       "      <td>Octubre 2018</td>\n",
       "      <td>5</td>\n",
       "    </tr>\n",
       "    <tr>\n",
       "      <th>424</th>\n",
       "      <td>Tierra del Fuego</td>\n",
       "      <td>Septiembre 2018</td>\n",
       "      <td>4</td>\n",
       "    </tr>\n",
       "    <tr>\n",
       "      <th>425</th>\n",
       "      <td>Tierra del Fuego</td>\n",
       "      <td>Septiembre 2019</td>\n",
       "      <td>1</td>\n",
       "    </tr>\n",
       "    <tr>\n",
       "      <th>426</th>\n",
       "      <td>Tucumán</td>\n",
       "      <td>Abril 2018</td>\n",
       "      <td>2</td>\n",
       "    </tr>\n",
       "    <tr>\n",
       "      <th>427</th>\n",
       "      <td>Tucumán</td>\n",
       "      <td>Abril 2019</td>\n",
       "      <td>6</td>\n",
       "    </tr>\n",
       "    <tr>\n",
       "      <th>428</th>\n",
       "      <td>Tucumán</td>\n",
       "      <td>Agosto 2018</td>\n",
       "      <td>5</td>\n",
       "    </tr>\n",
       "    <tr>\n",
       "      <th>429</th>\n",
       "      <td>Tucumán</td>\n",
       "      <td>Agosto 2019</td>\n",
       "      <td>3</td>\n",
       "    </tr>\n",
       "    <tr>\n",
       "      <th>430</th>\n",
       "      <td>Tucumán</td>\n",
       "      <td>Diciembre 2018</td>\n",
       "      <td>2</td>\n",
       "    </tr>\n",
       "    <tr>\n",
       "      <th>431</th>\n",
       "      <td>Tucumán</td>\n",
       "      <td>Enero 2018</td>\n",
       "      <td>3</td>\n",
       "    </tr>\n",
       "    <tr>\n",
       "      <th>432</th>\n",
       "      <td>Tucumán</td>\n",
       "      <td>Enero 2019</td>\n",
       "      <td>7</td>\n",
       "    </tr>\n",
       "    <tr>\n",
       "      <th>433</th>\n",
       "      <td>Tucumán</td>\n",
       "      <td>Febrero 2018</td>\n",
       "      <td>3</td>\n",
       "    </tr>\n",
       "    <tr>\n",
       "      <th>434</th>\n",
       "      <td>Tucumán</td>\n",
       "      <td>Febrero 2019</td>\n",
       "      <td>2</td>\n",
       "    </tr>\n",
       "    <tr>\n",
       "      <th>435</th>\n",
       "      <td>Tucumán</td>\n",
       "      <td>Julio 2018</td>\n",
       "      <td>2</td>\n",
       "    </tr>\n",
       "    <tr>\n",
       "      <th>436</th>\n",
       "      <td>Tucumán</td>\n",
       "      <td>Julio 2019</td>\n",
       "      <td>5</td>\n",
       "    </tr>\n",
       "    <tr>\n",
       "      <th>437</th>\n",
       "      <td>Tucumán</td>\n",
       "      <td>Junio 2018</td>\n",
       "      <td>2</td>\n",
       "    </tr>\n",
       "    <tr>\n",
       "      <th>438</th>\n",
       "      <td>Tucumán</td>\n",
       "      <td>Junio 2019</td>\n",
       "      <td>3</td>\n",
       "    </tr>\n",
       "    <tr>\n",
       "      <th>439</th>\n",
       "      <td>Tucumán</td>\n",
       "      <td>Marzo 2018</td>\n",
       "      <td>6</td>\n",
       "    </tr>\n",
       "    <tr>\n",
       "      <th>440</th>\n",
       "      <td>Tucumán</td>\n",
       "      <td>Marzo 2019</td>\n",
       "      <td>4</td>\n",
       "    </tr>\n",
       "    <tr>\n",
       "      <th>441</th>\n",
       "      <td>Tucumán</td>\n",
       "      <td>Mayo 2018</td>\n",
       "      <td>3</td>\n",
       "    </tr>\n",
       "    <tr>\n",
       "      <th>442</th>\n",
       "      <td>Tucumán</td>\n",
       "      <td>Mayo 2019</td>\n",
       "      <td>2</td>\n",
       "    </tr>\n",
       "    <tr>\n",
       "      <th>443</th>\n",
       "      <td>Tucumán</td>\n",
       "      <td>Noviembre 2018</td>\n",
       "      <td>7</td>\n",
       "    </tr>\n",
       "    <tr>\n",
       "      <th>444</th>\n",
       "      <td>Tucumán</td>\n",
       "      <td>Octubre 2018</td>\n",
       "      <td>5</td>\n",
       "    </tr>\n",
       "    <tr>\n",
       "      <th>445</th>\n",
       "      <td>Tucumán</td>\n",
       "      <td>Septiembre 2018</td>\n",
       "      <td>5</td>\n",
       "    </tr>\n",
       "    <tr>\n",
       "      <th>446</th>\n",
       "      <td>Tucumán</td>\n",
       "      <td>Septiembre 2019</td>\n",
       "      <td>4</td>\n",
       "    </tr>\n",
       "  </tbody>\n",
       "</table>\n",
       "<p>447 rows × 3 columns</p>\n",
       "</div>"
      ],
      "text/plain": [
       "    registro_seccional_provincia            fecha  robos\n",
       "0                   Buenos Aires       Abril 2018   1842\n",
       "1                   Buenos Aires       Abril 2019   1916\n",
       "2                   Buenos Aires      Agosto 2018   2156\n",
       "3                   Buenos Aires      Agosto 2019   2027\n",
       "4                   Buenos Aires   Diciembre 2018   1582\n",
       "5                   Buenos Aires       Enero 2018   1977\n",
       "6                   Buenos Aires       Enero 2019   2030\n",
       "7                   Buenos Aires     Febrero 2018   1621\n",
       "8                   Buenos Aires     Febrero 2019   1839\n",
       "9                   Buenos Aires       Julio 2018   2085\n",
       "10                  Buenos Aires       Julio 2019   1998\n",
       "11                  Buenos Aires       Junio 2018   1712\n",
       "12                  Buenos Aires       Junio 2019   1610\n",
       "13                  Buenos Aires       Marzo 2018   1894\n",
       "14                  Buenos Aires       Marzo 2019   1869\n",
       "15                  Buenos Aires        Mayo 2018   1954\n",
       "16                  Buenos Aires        Mayo 2019   2048\n",
       "17                  Buenos Aires   Noviembre 2018   1799\n",
       "18                  Buenos Aires     Octubre 2018   1948\n",
       "19                  Buenos Aires  Septiembre 2018   1721\n",
       "20                  Buenos Aires  Septiembre 2019   1957\n",
       "21                     Catamarca       Abril 2018      2\n",
       "22                     Catamarca      Agosto 2019      2\n",
       "23                     Catamarca       Julio 2018      2\n",
       "24                     Catamarca       Julio 2019      1\n",
       "25                     Catamarca       Marzo 2019      1\n",
       "26                     Catamarca        Mayo 2019      1\n",
       "27                     Catamarca   Noviembre 2018      1\n",
       "28                     Catamarca  Septiembre 2019      2\n",
       "29                         Chaco       Abril 2018      1\n",
       "..                           ...              ...    ...\n",
       "417             Tierra del Fuego       Junio 2018      1\n",
       "418             Tierra del Fuego       Marzo 2018      2\n",
       "419             Tierra del Fuego       Marzo 2019      2\n",
       "420             Tierra del Fuego        Mayo 2018      5\n",
       "421             Tierra del Fuego        Mayo 2019      1\n",
       "422             Tierra del Fuego   Noviembre 2018      2\n",
       "423             Tierra del Fuego     Octubre 2018      5\n",
       "424             Tierra del Fuego  Septiembre 2018      4\n",
       "425             Tierra del Fuego  Septiembre 2019      1\n",
       "426                      Tucumán       Abril 2018      2\n",
       "427                      Tucumán       Abril 2019      6\n",
       "428                      Tucumán      Agosto 2018      5\n",
       "429                      Tucumán      Agosto 2019      3\n",
       "430                      Tucumán   Diciembre 2018      2\n",
       "431                      Tucumán       Enero 2018      3\n",
       "432                      Tucumán       Enero 2019      7\n",
       "433                      Tucumán     Febrero 2018      3\n",
       "434                      Tucumán     Febrero 2019      2\n",
       "435                      Tucumán       Julio 2018      2\n",
       "436                      Tucumán       Julio 2019      5\n",
       "437                      Tucumán       Junio 2018      2\n",
       "438                      Tucumán       Junio 2019      3\n",
       "439                      Tucumán       Marzo 2018      6\n",
       "440                      Tucumán       Marzo 2019      4\n",
       "441                      Tucumán        Mayo 2018      3\n",
       "442                      Tucumán        Mayo 2019      2\n",
       "443                      Tucumán   Noviembre 2018      7\n",
       "444                      Tucumán     Octubre 2018      5\n",
       "445                      Tucumán  Septiembre 2018      5\n",
       "446                      Tucumán  Septiembre 2019      4\n",
       "\n",
       "[447 rows x 3 columns]"
      ]
     },
     "execution_count": 135,
     "metadata": {},
     "output_type": "execute_result"
    }
   ],
   "source": [
    "robados_por_provincia_mes_pivot_df.rename(columns={'tramite_tipo':'robos'})"
   ]
  },
  {
   "cell_type": "code",
   "execution_count": null,
   "metadata": {},
   "outputs": [],
   "source": [
    "#Vemos cuanto se recupero en relación al robo de cada año de modelo de auto.\n",
    "\n",
    "sns.set_style(\"white\")\n",
    "sns.set_context({\"figure.figsize\": (24, 10)})\n",
    "\n",
    "#Plot 1 - background - \"total\" (top) series\n",
    "sns.barplot(x =  y = robos_recuperos_anio_modelo.total_robados_anio_modelo, color = \"red\")\n",
    "\n",
    "#Plot 2 - overlay - \"bottom\" series\n",
    "bottom_plot = sns.barplot(x = robos_recuperos_anio_modelo.anio_modelo, y = robos_recuperos_anio_modelo.total_recuperados_anio_modelo, color = \"#0000A3\")\n",
    "\n",
    "\n",
    "topbar = plt.Rectangle((0,0),1,1,fc=\"red\", edgecolor = 'none')\n",
    "bottombar = plt.Rectangle((0,0),1,1,fc='#0000A3',  edgecolor = 'none')\n",
    "l = plt.legend([bottombar, topbar], ['Recuperados', 'Robados'], loc=1, ncol = 2, prop={'size':16})\n",
    "l.draw_frame(False)\n",
    "\n",
    "#Optional code - Make plot look nicer\n",
    "plt.xticks(rotation=90)\n",
    "sns.despine(left=True) \n",
    "bottom_plot.set_ylabel(\"Y-axis label\")\n",
    "bottom_plot.set_xlabel(\"X-axis label\")\n",
    "\n",
    "#Set fonts to consistent 16pt size\n",
    "for item in ([bottom_plot.xaxis.label, bottom_plot.yaxis.label] +\n",
    "             bottom_plot.get_xticklabels() + bottom_plot.get_yticklabels()):\n",
    "    item.set_fontsize(16)"
   ]
  },
  {
   "cell_type": "code",
   "execution_count": null,
   "metadata": {},
   "outputs": [],
   "source": []
  },
  {
   "cell_type": "code",
   "execution_count": null,
   "metadata": {},
   "outputs": [],
   "source": []
  },
  {
   "cell_type": "code",
   "execution_count": null,
   "metadata": {},
   "outputs": [],
   "source": []
>>>>>>> Stashed changes
  },
  {
   "cell_type": "code",
   "execution_count": null,
   "metadata": {
    "Collapsed": "false"
   },
   "outputs": [],
   "source": []
  }
 ],
 "metadata": {
  "kernelspec": {
   "display_name": "Python 3",
   "language": "python",
   "name": "python3"
  },
  "language_info": {
   "codemirror_mode": {
    "name": "ipython",
    "version": 3
   },
   "file_extension": ".py",
   "mimetype": "text/x-python",
   "name": "python",
   "nbconvert_exporter": "python",
   "pygments_lexer": "ipython3",
   "version": "3.7.1"
  }
 },
 "nbformat": 4,
 "nbformat_minor": 4
}
