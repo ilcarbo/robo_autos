{
 "cells": [
  {
   "cell_type": "markdown",
   "metadata": {},
   "source": [
    "# Clasifición de recuperados y no recuperados utilizando SMOTE\n",
    "\n",
    "A continuación vamos a balancear nuestro dataset (cantidad de autos recuperados vs. no recuperados) subsampleando la clase mayoritaria (autos no recuperados ~95%) y sobresampleando la clase minoritaria (autos recuperados ~5%).\n",
    "\n",
    "## Preparación y caracterización del dataset"
   ]
  },
  {
   "cell_type": "code",
   "execution_count": 24,
   "metadata": {},
   "outputs": [],
   "source": [
    "# Cargamos las librerías\n",
    "import pandas as pd\n",
    "import numpy as np\n",
    "import matplotlib.pyplot as plt\n",
    "import seaborn as sns\n",
    "from sklearn.model_selection import train_test_split\n",
    "\n",
    "import warnings\n",
    "warnings.filterwarnings('ignore')"
   ]
  },
  {
   "cell_type": "code",
   "execution_count": 25,
   "metadata": {},
   "outputs": [],
   "source": [
    "# Cargamos los datos y dropeamos NaNs y una columna que quedó de más\n",
    "data_total = pd.read_csv('./curados/ULTIMATE_DATASET.csv')\n",
    "data_total.dropna(inplace=True) # Dropeamos NaNs\n",
    "data_total.drop(['Unnamed: 0'], axis=1, inplace=True) # Dropeamos una columna extra"
   ]
  },
  {
   "cell_type": "code",
   "execution_count": 26,
   "metadata": {},
   "outputs": [
    {
     "name": "stdout",
     "output_type": "stream",
     "text": [
      "Hay 59986 no recuperados y 2925 recuperados\n",
      "El porcentaje de recuperados en el dataset es 4.9 %\n"
     ]
    }
   ],
   "source": [
    "# Vemos cuántas denuncias de robo hay (es decir, cuántos no recuperados) y cuántas notificaciones\n",
    "# de recupero hay (es decir, recuperados)\n",
    "print(\"Hay \"+ str(data_total['tramite_tipo'].value_counts()[0])+ ' no recuperados y '+\n",
    "              str(data_total['tramite_tipo'].value_counts()[1])+ ' recuperados')\n",
    "print(\"El porcentaje de recuperados en el dataset es \"+ \n",
    "      str(round(data_total['tramite_tipo'].value_counts()[1]/data_total['tramite_tipo'].value_counts()[0],3)*100)+ ' %')"
   ]
  },
  {
   "cell_type": "code",
   "execution_count": 27,
   "metadata": {},
   "outputs": [],
   "source": [
    "#cambio los valores de la columna tramite_tipo apra que robado sea 0 y recuperado 1\n",
    "data_total['tramite_tipo'] = data_total['tramite_tipo'].map({'DENUNCIA DE ROBO O HURTO': 0, \n",
    "                                                             'COMUNICACIÓN DE RECUPERO': 1})\n",
    "\n",
    "# Y cambiamos el nombre de la columna a \"recuperados\" con 0 cuando no están recuperados y 1 cuando\n",
    "# si fueron recuperados\n",
    "data_total = data_total.rename(columns={'tramite_tipo':'recuperados'})"
   ]
  },
  {
   "cell_type": "code",
   "execution_count": 28,
   "metadata": {},
   "outputs": [
    {
     "data": {
      "text/plain": [
       "Index(['recuperados', 'tramite_fecha', 'fecha_inscripcion_inicial',\n",
       "       'registro_seccional_descripcion', 'registro_seccional_provincia',\n",
       "       'automotor_origen', 'automotor_anio_modelo',\n",
       "       'automotor_tipo_descripcion', 'automotor_marca_descripcion',\n",
       "       'automotor_modelo_descripcion', 'automotor_uso_descripcion',\n",
       "       'titular_tipo_persona', 'titular_domicilio_localidad',\n",
       "       'titular_domicilio_provincia', 'titular_genero',\n",
       "       'titular_anio_nacimiento', 'titular_pais_nacimiento', 'unico_duenio',\n",
       "       'dia_anio'],\n",
       "      dtype='object')"
      ]
     },
     "execution_count": 28,
     "metadata": {},
     "output_type": "execute_result"
    }
   ],
   "source": [
    "# List de las columnas\n",
    "data_total.columns"
   ]
  },
  {
   "cell_type": "code",
   "execution_count": 29,
   "metadata": {},
   "outputs": [],
   "source": [
    "# Dropeamos las columnas 'registro_seccional_descripcion' y 'titular_domicilio_localidad' porque\n",
    "# no las consideramos relevantes para la prediccioón\n",
    "data_total.drop(['registro_seccional_descripcion', 'titular_domicilio_localidad',], \n",
    "                axis= 1, inplace = True)"
   ]
  },
  {
   "cell_type": "code",
   "execution_count": 30,
   "metadata": {},
   "outputs": [],
   "source": [
    "# Convertimos las fechas a datetime64\n",
    "data_total['tramite_fecha']             = pd.to_datetime(data_total['tramite_fecha'])\n",
    "data_total['fecha_inscripcion_inicial'] = pd.to_datetime(data_total['fecha_inscripcion_inicial'])"
   ]
  },
  {
   "cell_type": "code",
   "execution_count": 32,
   "metadata": {},
   "outputs": [],
   "source": [
    "# Creamos columnas con el día, mes y año de robo más una columna con el año de patentamiento\n",
    "data_total['dia_robo'] = data_total['tramite_fecha'].apply(lambda x: int(x.isoweekday())) #lunes es 1, domingo 7\n",
    "data_total['mes_robo'] = data_total['tramite_fecha'].apply(lambda x: int(x.month))\n",
    "data_total['dia_del_anio'] = data_total['tramite_fecha'].apply(lambda x: int(x.timetuple().tm_yday))\n",
    "data_total['anio_pat'] = data_total['fecha_inscripcion_inicial'].apply(lambda x: int(x.year))"
   ]
  },
  {
   "cell_type": "code",
   "execution_count": 33,
   "metadata": {},
   "outputs": [],
   "source": [
    "# Una nueva columna que dice si el titular está radicado en la misma provincia que el auto\n",
    "data_total['tit_radicado'] = ((data_total['registro_seccional_provincia']).apply(lambda x: x.upper()) == data_total['titular_domicilio_provincia']).astype(int)"
   ]
  },
  {
   "cell_type": "code",
   "execution_count": 34,
   "metadata": {},
   "outputs": [
    {
     "data": {
      "text/html": [
       "<div>\n",
       "<style scoped>\n",
       "    .dataframe tbody tr th:only-of-type {\n",
       "        vertical-align: middle;\n",
       "    }\n",
       "\n",
       "    .dataframe tbody tr th {\n",
       "        vertical-align: top;\n",
       "    }\n",
       "\n",
       "    .dataframe thead th {\n",
       "        text-align: right;\n",
       "    }\n",
       "</style>\n",
       "<table border=\"1\" class=\"dataframe\">\n",
       "  <thead>\n",
       "    <tr style=\"text-align: right;\">\n",
       "      <th></th>\n",
       "      <th>recuperados</th>\n",
       "      <th>registro_seccional_provincia</th>\n",
       "      <th>automotor_origen</th>\n",
       "      <th>automotor_anio_modelo</th>\n",
       "      <th>automotor_tipo_descripcion</th>\n",
       "      <th>automotor_marca_descripcion</th>\n",
       "      <th>automotor_modelo_descripcion</th>\n",
       "      <th>automotor_uso_descripcion</th>\n",
       "      <th>titular_tipo_persona</th>\n",
       "      <th>titular_genero</th>\n",
       "      <th>titular_anio_nacimiento</th>\n",
       "      <th>titular_pais_nacimiento</th>\n",
       "      <th>unico_duenio</th>\n",
       "      <th>dia_anio</th>\n",
       "      <th>dia_robo</th>\n",
       "      <th>mes_robo</th>\n",
       "      <th>dia_del_anio</th>\n",
       "      <th>anio_pat</th>\n",
       "      <th>tit_radicado</th>\n",
       "    </tr>\n",
       "  </thead>\n",
       "  <tbody>\n",
       "    <tr>\n",
       "      <td>0</td>\n",
       "      <td>0</td>\n",
       "      <td>Buenos Aires</td>\n",
       "      <td>Nacional</td>\n",
       "      <td>2000.0</td>\n",
       "      <td>SEDAN 4 P</td>\n",
       "      <td>CHEVROLET</td>\n",
       "      <td>CORSA</td>\n",
       "      <td>Privado</td>\n",
       "      <td>Física</td>\n",
       "      <td>Masculino</td>\n",
       "      <td>1981.0</td>\n",
       "      <td>ARGENTINA</td>\n",
       "      <td>1</td>\n",
       "      <td>17</td>\n",
       "      <td>3</td>\n",
       "      <td>1</td>\n",
       "      <td>17</td>\n",
       "      <td>2000</td>\n",
       "      <td>1</td>\n",
       "    </tr>\n",
       "    <tr>\n",
       "      <td>1</td>\n",
       "      <td>0</td>\n",
       "      <td>Buenos Aires</td>\n",
       "      <td>Nacional</td>\n",
       "      <td>2007.0</td>\n",
       "      <td>FURGON</td>\n",
       "      <td>PEUGEOT</td>\n",
       "      <td>PARTNER</td>\n",
       "      <td>Privado</td>\n",
       "      <td>Física</td>\n",
       "      <td>Femenino</td>\n",
       "      <td>1990.0</td>\n",
       "      <td>ARGENTINA</td>\n",
       "      <td>1</td>\n",
       "      <td>3</td>\n",
       "      <td>3</td>\n",
       "      <td>1</td>\n",
       "      <td>3</td>\n",
       "      <td>2007</td>\n",
       "      <td>1</td>\n",
       "    </tr>\n",
       "    <tr>\n",
       "      <td>2</td>\n",
       "      <td>0</td>\n",
       "      <td>Buenos Aires</td>\n",
       "      <td>Nacional</td>\n",
       "      <td>1995.0</td>\n",
       "      <td>SEDAN 4 P</td>\n",
       "      <td>RENAULT</td>\n",
       "      <td>RENAULT 19</td>\n",
       "      <td>Privado</td>\n",
       "      <td>Física</td>\n",
       "      <td>Masculino</td>\n",
       "      <td>1986.0</td>\n",
       "      <td>ARGENTINA</td>\n",
       "      <td>1</td>\n",
       "      <td>12</td>\n",
       "      <td>5</td>\n",
       "      <td>1</td>\n",
       "      <td>12</td>\n",
       "      <td>1995</td>\n",
       "      <td>1</td>\n",
       "    </tr>\n",
       "  </tbody>\n",
       "</table>\n",
       "</div>"
      ],
      "text/plain": [
       "   recuperados registro_seccional_provincia automotor_origen  \\\n",
       "0            0                 Buenos Aires         Nacional   \n",
       "1            0                 Buenos Aires         Nacional   \n",
       "2            0                 Buenos Aires         Nacional   \n",
       "\n",
       "   automotor_anio_modelo automotor_tipo_descripcion  \\\n",
       "0                 2000.0                  SEDAN 4 P   \n",
       "1                 2007.0                     FURGON   \n",
       "2                 1995.0                  SEDAN 4 P   \n",
       "\n",
       "  automotor_marca_descripcion automotor_modelo_descripcion  \\\n",
       "0                   CHEVROLET                        CORSA   \n",
       "1                     PEUGEOT                      PARTNER   \n",
       "2                     RENAULT                   RENAULT 19   \n",
       "\n",
       "  automotor_uso_descripcion titular_tipo_persona titular_genero  \\\n",
       "0                   Privado               Física      Masculino   \n",
       "1                   Privado               Física       Femenino   \n",
       "2                   Privado               Física      Masculino   \n",
       "\n",
       "   titular_anio_nacimiento titular_pais_nacimiento  unico_duenio  dia_anio  \\\n",
       "0                   1981.0               ARGENTINA             1        17   \n",
       "1                   1990.0               ARGENTINA             1         3   \n",
       "2                   1986.0               ARGENTINA             1        12   \n",
       "\n",
       "   dia_robo  mes_robo  dia_del_anio  anio_pat  tit_radicado  \n",
       "0         3         1            17      2000             1  \n",
       "1         3         1             3      2007             1  \n",
       "2         5         1            12      1995             1  "
      ]
     },
     "execution_count": 34,
     "metadata": {},
     "output_type": "execute_result"
    }
   ],
   "source": [
    "# Finalmente dropeamos las columnas que utilizamos para crear estas columnas aucxiliares\n",
    "data_total.drop(['tramite_fecha', 'fecha_inscripcion_inicial', 'titular_domicilio_provincia'], axis = 1, inplace= True)\n",
    "data_total.head(3)"
   ]
  },
  {
   "cell_type": "markdown",
   "metadata": {},
   "source": [
    "A continuación vamos a generar los dummies correspondientes a las columnas que utilizaremos en los modelos de predicción."
   ]
  },
  {
   "cell_type": "code",
   "execution_count": 35,
   "metadata": {},
   "outputs": [],
   "source": [
    "prov_dummie     = pd.get_dummies(data_total.registro_seccional_provincia)\n",
    "origen_dummie   = pd.get_dummies(data_total.automotor_origen)\n",
    "tipo_dummie     =  pd.get_dummies(data_total.automotor_tipo_descripcion)\n",
    "marca_dummie    = pd.get_dummies(data_total.automotor_marca_descripcion)\n",
    "modelo_dummie   = pd.get_dummies(data_total.automotor_modelo_descripcion)\n",
    "uso_dummie      = pd.get_dummies(data_total.automotor_uso_descripcion)\n",
    "pais_tit_dummie = pd.get_dummies(data_total.titular_pais_nacimiento)\n",
    "# MARCA NO LA NECESITAMOS, CON MODELO YA TENÉS MARCA"
   ]
  },
  {
   "cell_type": "code",
   "execution_count": 36,
   "metadata": {},
   "outputs": [],
   "source": [
    "# Correción de algunos dummies\n",
    "tipo_dummie = tipo_dummie.rename(columns={'PICK UP':'PICK UP tipo'})\n",
    "data_total  = data_total.join([prov_dummie, origen_dummie, tipo_dummie,  modelo_dummie, uso_dummie, pais_tit_dummie, marca_dummie]) #marca_dummie,"
   ]
  },
  {
   "cell_type": "code",
   "execution_count": 38,
   "metadata": {},
   "outputs": [],
   "source": [
    "# Creamos dummies para las variables con dos niveles\n",
    "data_total['titular_pers_fisica'] = np.where(data_total['titular_tipo_persona'] == 'Física', 1, 0)\n",
    "data_total['titular_masculino']   = np.where(data_total['titular_genero'] == 'Masculino', 1, 0)"
   ]
  },
  {
   "cell_type": "code",
   "execution_count": 41,
   "metadata": {},
   "outputs": [
    {
     "data": {
      "text/html": [
       "<div>\n",
       "<style scoped>\n",
       "    .dataframe tbody tr th:only-of-type {\n",
       "        vertical-align: middle;\n",
       "    }\n",
       "\n",
       "    .dataframe tbody tr th {\n",
       "        vertical-align: top;\n",
       "    }\n",
       "\n",
       "    .dataframe thead th {\n",
       "        text-align: right;\n",
       "    }\n",
       "</style>\n",
       "<table border=\"1\" class=\"dataframe\">\n",
       "  <thead>\n",
       "    <tr style=\"text-align: right;\">\n",
       "      <th></th>\n",
       "      <th>ACOPLADO</th>\n",
       "      <th>AMBULANCIA</th>\n",
       "      <th>ARENERO</th>\n",
       "      <th>CAMION</th>\n",
       "      <th>CASA RODANTE</th>\n",
       "      <th>CHASIS CON CABINA</th>\n",
       "      <th>COMBI</th>\n",
       "      <th>COMERCIAL LIVIANO</th>\n",
       "      <th>COUPE</th>\n",
       "      <th>DESCAPOTABLE</th>\n",
       "      <th>...</th>\n",
       "      <th>OTROS</th>\n",
       "      <th>PICK UP tipo</th>\n",
       "      <th>SEDAN</th>\n",
       "      <th>SEDAN 3 P</th>\n",
       "      <th>SEDAN 4 P</th>\n",
       "      <th>SEMIRREMOLQUE</th>\n",
       "      <th>TODO TERRENO</th>\n",
       "      <th>TRACTOR</th>\n",
       "      <th>TRANSP. PASAJEROS</th>\n",
       "      <th>UTILITARIO</th>\n",
       "    </tr>\n",
       "  </thead>\n",
       "  <tbody>\n",
       "    <tr>\n",
       "      <td>0</td>\n",
       "      <td>0</td>\n",
       "      <td>0</td>\n",
       "      <td>0</td>\n",
       "      <td>0</td>\n",
       "      <td>0</td>\n",
       "      <td>0</td>\n",
       "      <td>0</td>\n",
       "      <td>0</td>\n",
       "      <td>0</td>\n",
       "      <td>0</td>\n",
       "      <td>...</td>\n",
       "      <td>0</td>\n",
       "      <td>0</td>\n",
       "      <td>0</td>\n",
       "      <td>0</td>\n",
       "      <td>1</td>\n",
       "      <td>0</td>\n",
       "      <td>0</td>\n",
       "      <td>0</td>\n",
       "      <td>0</td>\n",
       "      <td>0</td>\n",
       "    </tr>\n",
       "    <tr>\n",
       "      <td>1</td>\n",
       "      <td>0</td>\n",
       "      <td>0</td>\n",
       "      <td>0</td>\n",
       "      <td>0</td>\n",
       "      <td>0</td>\n",
       "      <td>0</td>\n",
       "      <td>0</td>\n",
       "      <td>0</td>\n",
       "      <td>0</td>\n",
       "      <td>0</td>\n",
       "      <td>...</td>\n",
       "      <td>0</td>\n",
       "      <td>0</td>\n",
       "      <td>0</td>\n",
       "      <td>0</td>\n",
       "      <td>0</td>\n",
       "      <td>0</td>\n",
       "      <td>0</td>\n",
       "      <td>0</td>\n",
       "      <td>0</td>\n",
       "      <td>0</td>\n",
       "    </tr>\n",
       "    <tr>\n",
       "      <td>2</td>\n",
       "      <td>0</td>\n",
       "      <td>0</td>\n",
       "      <td>0</td>\n",
       "      <td>0</td>\n",
       "      <td>0</td>\n",
       "      <td>0</td>\n",
       "      <td>0</td>\n",
       "      <td>0</td>\n",
       "      <td>0</td>\n",
       "      <td>0</td>\n",
       "      <td>...</td>\n",
       "      <td>0</td>\n",
       "      <td>0</td>\n",
       "      <td>0</td>\n",
       "      <td>0</td>\n",
       "      <td>1</td>\n",
       "      <td>0</td>\n",
       "      <td>0</td>\n",
       "      <td>0</td>\n",
       "      <td>0</td>\n",
       "      <td>0</td>\n",
       "    </tr>\n",
       "    <tr>\n",
       "      <td>3</td>\n",
       "      <td>0</td>\n",
       "      <td>0</td>\n",
       "      <td>0</td>\n",
       "      <td>0</td>\n",
       "      <td>0</td>\n",
       "      <td>0</td>\n",
       "      <td>0</td>\n",
       "      <td>0</td>\n",
       "      <td>0</td>\n",
       "      <td>0</td>\n",
       "      <td>...</td>\n",
       "      <td>0</td>\n",
       "      <td>0</td>\n",
       "      <td>0</td>\n",
       "      <td>1</td>\n",
       "      <td>0</td>\n",
       "      <td>0</td>\n",
       "      <td>0</td>\n",
       "      <td>0</td>\n",
       "      <td>0</td>\n",
       "      <td>0</td>\n",
       "    </tr>\n",
       "    <tr>\n",
       "      <td>4</td>\n",
       "      <td>0</td>\n",
       "      <td>0</td>\n",
       "      <td>0</td>\n",
       "      <td>0</td>\n",
       "      <td>0</td>\n",
       "      <td>0</td>\n",
       "      <td>0</td>\n",
       "      <td>0</td>\n",
       "      <td>0</td>\n",
       "      <td>0</td>\n",
       "      <td>...</td>\n",
       "      <td>0</td>\n",
       "      <td>0</td>\n",
       "      <td>0</td>\n",
       "      <td>0</td>\n",
       "      <td>0</td>\n",
       "      <td>0</td>\n",
       "      <td>0</td>\n",
       "      <td>0</td>\n",
       "      <td>0</td>\n",
       "      <td>0</td>\n",
       "    </tr>\n",
       "  </tbody>\n",
       "</table>\n",
       "<p>5 rows × 24 columns</p>\n",
       "</div>"
      ],
      "text/plain": [
       "   ACOPLADO  AMBULANCIA  ARENERO  CAMION  CASA RODANTE  CHASIS CON CABINA  \\\n",
       "0         0           0        0       0             0                  0   \n",
       "1         0           0        0       0             0                  0   \n",
       "2         0           0        0       0             0                  0   \n",
       "3         0           0        0       0             0                  0   \n",
       "4         0           0        0       0             0                  0   \n",
       "\n",
       "   COMBI  COMERCIAL LIVIANO  COUPE  DESCAPOTABLE  ...  OTROS  PICK UP tipo  \\\n",
       "0      0                  0      0             0  ...      0             0   \n",
       "1      0                  0      0             0  ...      0             0   \n",
       "2      0                  0      0             0  ...      0             0   \n",
       "3      0                  0      0             0  ...      0             0   \n",
       "4      0                  0      0             0  ...      0             0   \n",
       "\n",
       "   SEDAN  SEDAN 3 P  SEDAN 4 P  SEMIRREMOLQUE  TODO TERRENO  TRACTOR  \\\n",
       "0      0          0          1              0             0        0   \n",
       "1      0          0          0              0             0        0   \n",
       "2      0          0          1              0             0        0   \n",
       "3      0          1          0              0             0        0   \n",
       "4      0          0          0              0             0        0   \n",
       "\n",
       "   TRANSP. PASAJEROS  UTILITARIO  \n",
       "0                  0           0  \n",
       "1                  0           0  \n",
       "2                  0           0  \n",
       "3                  0           0  \n",
       "4                  0           0  \n",
       "\n",
       "[5 rows x 24 columns]"
      ]
     },
     "execution_count": 41,
     "metadata": {},
     "output_type": "execute_result"
    }
   ],
   "source": [
    "tipo_dummie.iloc[:,:-1].head()"
   ]
  },
  {
   "cell_type": "code",
   "execution_count": 42,
   "metadata": {},
   "outputs": [],
   "source": [
    "# Join con las dummies descartando la ultima columna\n",
    "data_total = data_total.join([prov_dummie.iloc[:,:-1], origen_dummie.iloc[:,:-1], \n",
    "                              tipo_dummie.iloc[:,:-1], modelo_dummie.iloc[:,:-1], \n",
    "                              uso_dummie.iloc[:,:-1], pais_tit_dummie.iloc[:,:-1], \n",
    "                              marca_dummie.iloc[:,:-1]]) #marca_dummie,"
   ]
  },
  {
   "cell_type": "code",
   "execution_count": 45,
   "metadata": {},
   "outputs": [
    {
     "ename": "KeyError",
     "evalue": "\"['registro_seccional_provincia' 'automotor_origen'\\n 'automotor_uso_descripcion' 'automotor_tipo_descripcion'\\n 'automotor_marca_descripcion' 'automotor_modelo_descripcion'\\n 'titular_pais_nacimiento' 'titular_tipo_persona' 'titular_genero'] not found in axis\"",
     "output_type": "error",
     "traceback": [
      "\u001b[0;31m---------------------------------------------------------------------------\u001b[0m",
      "\u001b[0;31mKeyError\u001b[0m                                  Traceback (most recent call last)",
      "\u001b[0;32m<ipython-input-45-14402aab9e16>\u001b[0m in \u001b[0;36m<module>\u001b[0;34m\u001b[0m\n\u001b[1;32m      2\u001b[0m data_total.drop(['registro_seccional_provincia', 'automotor_origen', 'automotor_uso_descripcion','automotor_tipo_descripcion',\n\u001b[1;32m      3\u001b[0m         \u001b[0;34m'automotor_marca_descripcion'\u001b[0m\u001b[0;34m,\u001b[0m \u001b[0;34m'automotor_modelo_descripcion'\u001b[0m\u001b[0;34m,\u001b[0m\u001b[0;34m'titular_pais_nacimiento'\u001b[0m\u001b[0;34m,\u001b[0m\u001b[0;34m\u001b[0m\u001b[0;34m\u001b[0m\u001b[0m\n\u001b[0;32m----> 4\u001b[0;31m        'titular_tipo_persona', 'titular_genero'], axis= 1, inplace = True)\n\u001b[0m",
      "\u001b[0;32m/opt/anaconda3/lib/python3.7/site-packages/pandas/core/frame.py\u001b[0m in \u001b[0;36mdrop\u001b[0;34m(self, labels, axis, index, columns, level, inplace, errors)\u001b[0m\n\u001b[1;32m   4100\u001b[0m             \u001b[0mlevel\u001b[0m\u001b[0;34m=\u001b[0m\u001b[0mlevel\u001b[0m\u001b[0;34m,\u001b[0m\u001b[0;34m\u001b[0m\u001b[0;34m\u001b[0m\u001b[0m\n\u001b[1;32m   4101\u001b[0m             \u001b[0minplace\u001b[0m\u001b[0;34m=\u001b[0m\u001b[0minplace\u001b[0m\u001b[0;34m,\u001b[0m\u001b[0;34m\u001b[0m\u001b[0;34m\u001b[0m\u001b[0m\n\u001b[0;32m-> 4102\u001b[0;31m             \u001b[0merrors\u001b[0m\u001b[0;34m=\u001b[0m\u001b[0merrors\u001b[0m\u001b[0;34m,\u001b[0m\u001b[0;34m\u001b[0m\u001b[0;34m\u001b[0m\u001b[0m\n\u001b[0m\u001b[1;32m   4103\u001b[0m         )\n\u001b[1;32m   4104\u001b[0m \u001b[0;34m\u001b[0m\u001b[0m\n",
      "\u001b[0;32m/opt/anaconda3/lib/python3.7/site-packages/pandas/core/generic.py\u001b[0m in \u001b[0;36mdrop\u001b[0;34m(self, labels, axis, index, columns, level, inplace, errors)\u001b[0m\n\u001b[1;32m   3912\u001b[0m         \u001b[0;32mfor\u001b[0m \u001b[0maxis\u001b[0m\u001b[0;34m,\u001b[0m \u001b[0mlabels\u001b[0m \u001b[0;32min\u001b[0m \u001b[0maxes\u001b[0m\u001b[0;34m.\u001b[0m\u001b[0mitems\u001b[0m\u001b[0;34m(\u001b[0m\u001b[0;34m)\u001b[0m\u001b[0;34m:\u001b[0m\u001b[0;34m\u001b[0m\u001b[0;34m\u001b[0m\u001b[0m\n\u001b[1;32m   3913\u001b[0m             \u001b[0;32mif\u001b[0m \u001b[0mlabels\u001b[0m \u001b[0;32mis\u001b[0m \u001b[0;32mnot\u001b[0m \u001b[0;32mNone\u001b[0m\u001b[0;34m:\u001b[0m\u001b[0;34m\u001b[0m\u001b[0;34m\u001b[0m\u001b[0m\n\u001b[0;32m-> 3914\u001b[0;31m                 \u001b[0mobj\u001b[0m \u001b[0;34m=\u001b[0m \u001b[0mobj\u001b[0m\u001b[0;34m.\u001b[0m\u001b[0m_drop_axis\u001b[0m\u001b[0;34m(\u001b[0m\u001b[0mlabels\u001b[0m\u001b[0;34m,\u001b[0m \u001b[0maxis\u001b[0m\u001b[0;34m,\u001b[0m \u001b[0mlevel\u001b[0m\u001b[0;34m=\u001b[0m\u001b[0mlevel\u001b[0m\u001b[0;34m,\u001b[0m \u001b[0merrors\u001b[0m\u001b[0;34m=\u001b[0m\u001b[0merrors\u001b[0m\u001b[0;34m)\u001b[0m\u001b[0;34m\u001b[0m\u001b[0;34m\u001b[0m\u001b[0m\n\u001b[0m\u001b[1;32m   3915\u001b[0m \u001b[0;34m\u001b[0m\u001b[0m\n\u001b[1;32m   3916\u001b[0m         \u001b[0;32mif\u001b[0m \u001b[0minplace\u001b[0m\u001b[0;34m:\u001b[0m\u001b[0;34m\u001b[0m\u001b[0;34m\u001b[0m\u001b[0m\n",
      "\u001b[0;32m/opt/anaconda3/lib/python3.7/site-packages/pandas/core/generic.py\u001b[0m in \u001b[0;36m_drop_axis\u001b[0;34m(self, labels, axis, level, errors)\u001b[0m\n\u001b[1;32m   3944\u001b[0m                 \u001b[0mnew_axis\u001b[0m \u001b[0;34m=\u001b[0m \u001b[0maxis\u001b[0m\u001b[0;34m.\u001b[0m\u001b[0mdrop\u001b[0m\u001b[0;34m(\u001b[0m\u001b[0mlabels\u001b[0m\u001b[0;34m,\u001b[0m \u001b[0mlevel\u001b[0m\u001b[0;34m=\u001b[0m\u001b[0mlevel\u001b[0m\u001b[0;34m,\u001b[0m \u001b[0merrors\u001b[0m\u001b[0;34m=\u001b[0m\u001b[0merrors\u001b[0m\u001b[0;34m)\u001b[0m\u001b[0;34m\u001b[0m\u001b[0;34m\u001b[0m\u001b[0m\n\u001b[1;32m   3945\u001b[0m             \u001b[0;32melse\u001b[0m\u001b[0;34m:\u001b[0m\u001b[0;34m\u001b[0m\u001b[0;34m\u001b[0m\u001b[0m\n\u001b[0;32m-> 3946\u001b[0;31m                 \u001b[0mnew_axis\u001b[0m \u001b[0;34m=\u001b[0m \u001b[0maxis\u001b[0m\u001b[0;34m.\u001b[0m\u001b[0mdrop\u001b[0m\u001b[0;34m(\u001b[0m\u001b[0mlabels\u001b[0m\u001b[0;34m,\u001b[0m \u001b[0merrors\u001b[0m\u001b[0;34m=\u001b[0m\u001b[0merrors\u001b[0m\u001b[0;34m)\u001b[0m\u001b[0;34m\u001b[0m\u001b[0;34m\u001b[0m\u001b[0m\n\u001b[0m\u001b[1;32m   3947\u001b[0m             \u001b[0mresult\u001b[0m \u001b[0;34m=\u001b[0m \u001b[0mself\u001b[0m\u001b[0;34m.\u001b[0m\u001b[0mreindex\u001b[0m\u001b[0;34m(\u001b[0m\u001b[0;34m**\u001b[0m\u001b[0;34m{\u001b[0m\u001b[0maxis_name\u001b[0m\u001b[0;34m:\u001b[0m \u001b[0mnew_axis\u001b[0m\u001b[0;34m}\u001b[0m\u001b[0;34m)\u001b[0m\u001b[0;34m\u001b[0m\u001b[0;34m\u001b[0m\u001b[0m\n\u001b[1;32m   3948\u001b[0m \u001b[0;34m\u001b[0m\u001b[0m\n",
      "\u001b[0;32m/opt/anaconda3/lib/python3.7/site-packages/pandas/core/indexes/base.py\u001b[0m in \u001b[0;36mdrop\u001b[0;34m(self, labels, errors)\u001b[0m\n\u001b[1;32m   5338\u001b[0m         \u001b[0;32mif\u001b[0m \u001b[0mmask\u001b[0m\u001b[0;34m.\u001b[0m\u001b[0many\u001b[0m\u001b[0;34m(\u001b[0m\u001b[0;34m)\u001b[0m\u001b[0;34m:\u001b[0m\u001b[0;34m\u001b[0m\u001b[0;34m\u001b[0m\u001b[0m\n\u001b[1;32m   5339\u001b[0m             \u001b[0;32mif\u001b[0m \u001b[0merrors\u001b[0m \u001b[0;34m!=\u001b[0m \u001b[0;34m\"ignore\"\u001b[0m\u001b[0;34m:\u001b[0m\u001b[0;34m\u001b[0m\u001b[0;34m\u001b[0m\u001b[0m\n\u001b[0;32m-> 5340\u001b[0;31m                 \u001b[0;32mraise\u001b[0m \u001b[0mKeyError\u001b[0m\u001b[0;34m(\u001b[0m\u001b[0;34m\"{} not found in axis\"\u001b[0m\u001b[0;34m.\u001b[0m\u001b[0mformat\u001b[0m\u001b[0;34m(\u001b[0m\u001b[0mlabels\u001b[0m\u001b[0;34m[\u001b[0m\u001b[0mmask\u001b[0m\u001b[0;34m]\u001b[0m\u001b[0;34m)\u001b[0m\u001b[0;34m)\u001b[0m\u001b[0;34m\u001b[0m\u001b[0;34m\u001b[0m\u001b[0m\n\u001b[0m\u001b[1;32m   5341\u001b[0m             \u001b[0mindexer\u001b[0m \u001b[0;34m=\u001b[0m \u001b[0mindexer\u001b[0m\u001b[0;34m[\u001b[0m\u001b[0;34m~\u001b[0m\u001b[0mmask\u001b[0m\u001b[0;34m]\u001b[0m\u001b[0;34m\u001b[0m\u001b[0;34m\u001b[0m\u001b[0m\n\u001b[1;32m   5342\u001b[0m         \u001b[0;32mreturn\u001b[0m \u001b[0mself\u001b[0m\u001b[0;34m.\u001b[0m\u001b[0mdelete\u001b[0m\u001b[0;34m(\u001b[0m\u001b[0mindexer\u001b[0m\u001b[0;34m)\u001b[0m\u001b[0;34m\u001b[0m\u001b[0;34m\u001b[0m\u001b[0m\n",
      "\u001b[0;31mKeyError\u001b[0m: \"['registro_seccional_provincia' 'automotor_origen'\\n 'automotor_uso_descripcion' 'automotor_tipo_descripcion'\\n 'automotor_marca_descripcion' 'automotor_modelo_descripcion'\\n 'titular_pais_nacimiento' 'titular_tipo_persona' 'titular_genero'] not found in axis\""
     ]
    }
   ],
   "source": [
    "# Dropeamos las columnas a partir de las cuales generamos los dummies\n",
    "data_total.drop(['registro_seccional_provincia', 'automotor_origen', 'automotor_uso_descripcion','automotor_tipo_descripcion',\n",
    "        'automotor_marca_descripcion', 'automotor_modelo_descripcion','titular_pais_nacimiento', \n",
    "       'titular_tipo_persona', 'titular_genero'], axis= 1, inplace = True)"
   ]
  },
  {
   "cell_type": "code",
   "execution_count": 46,
   "metadata": {},
   "outputs": [
    {
     "data": {
      "text/plain": [
       "(62911, 1996)"
      ]
     },
     "execution_count": 46,
     "metadata": {},
     "output_type": "execute_result"
    }
   ],
   "source": [
    "np.shape(data_total)"
   ]
  },
  {
   "cell_type": "markdown",
   "metadata": {},
   "source": [
    "## Preparación de los datos para el ajuste del modelo"
   ]
  },
  {
   "cell_type": "code",
   "execution_count": 47,
   "metadata": {},
   "outputs": [],
   "source": [
    "# Separación entre x e y\n",
    "x = data_total.drop('recuperados', axis = 1)\n",
    "y = data_total.recuperados"
   ]
  },
  {
   "cell_type": "code",
   "execution_count": 48,
   "metadata": {},
   "outputs": [
    {
     "data": {
      "text/plain": [
       "(array([], dtype=int64), array([], dtype=int64))"
      ]
     },
     "execution_count": 48,
     "metadata": {},
     "output_type": "execute_result"
    }
   ],
   "source": [
    "# Verifico que no haya NANs en x\n",
    "np.where(np.isnan(x))"
   ]
  },
  {
   "cell_type": "code",
   "execution_count": 55,
   "metadata": {},
   "outputs": [
    {
     "data": {
      "text/plain": [
       "0.05"
      ]
     },
     "execution_count": 55,
     "metadata": {},
     "output_type": "execute_result"
    }
   ],
   "source": [
    "round(ytest.sum()/np.shape(ytest)[0],2)"
   ]
  },
  {
   "cell_type": "code",
   "execution_count": 61,
   "metadata": {},
   "outputs": [
    {
     "name": "stdout",
     "output_type": "stream",
     "text": [
      "La proporción de recuperados en el test es 0.05\n",
      "La proporción de recuperados en el test es 0.05\n"
     ]
    }
   ],
   "source": [
    "xtrain, xtest, ytrain, ytest = train_test_split(x, y, test_size=0.3, random_state=42, stratify=y)\n",
    "print(\"La proporción de recuperados en el test es \"+ str(round(ytest.sum()/np.shape(ytest)[0],2)))\n",
    "print(\"La proporción de recuperados en el train es \"+ str(round(ytrain.sum()/np.shape(ytrain)[0],2)))"
   ]
  },
  {
   "cell_type": "markdown",
   "metadata": {},
   "source": [
    "Vemos que la proporción de recuperados es, aproximadamente, .05 en el train y el test set. Es decir, la estratificación funcionó bien."
   ]
  },
  {
   "cell_type": "markdown",
   "metadata": {},
   "source": [
    "## Auto-escaleo de las muestras\n",
    "\n",
    "Antes de empezar a trabajar en el balanceo de las muestras, vamos a escalear el xtrain y xtest. De este modo, tanto cuando quitemos muestras como cuando creemos nuevas lo haremos en el espacio normalizado."
   ]
  },
  {
   "cell_type": "code",
   "execution_count": 74,
   "metadata": {},
   "outputs": [],
   "source": [
    "from sklearn import preprocessing"
   ]
  },
  {
   "cell_type": "code",
   "execution_count": 75,
   "metadata": {},
   "outputs": [],
   "source": [
    "# Auto-escaleo de las muestras (mean = 0, std = 1)\n",
    "scaler = preprocessing.StandardScaler().fit(xtrain)\n",
    "xtrain_scal = scaler.transform(xtrain)  \n",
    "xtest_scal = scaler.transform(xtest)  "
   ]
  },
  {
   "cell_type": "markdown",
   "metadata": {},
   "source": [
    "## Balanceo de la muestra\n",
    "\n",
    "### Undersampling con random\n",
    "\n",
    "Vamos a balancear la muestra como para ver que entendemos el procedimiento, antes de empezar a ajutar cualquier modelo.\n",
    "\n",
    "Lo primero que voy a hacer es probar randowm undersampling, es deir, borrar muestras de la majority al azar. Me quedo con N muestras, que en este caso lo puse como un tercio de los autos no recuperados."
   ]
  },
  {
   "cell_type": "code",
   "execution_count": 62,
   "metadata": {},
   "outputs": [],
   "source": [
    "# Mezclamos el dataset\n",
    "shuffled_df = xtrain.sample(frac=1,random_state=4)\n",
    "\n",
    "# Todos los recuperados por un lado\n",
    "recup_df = xtrain.loc[ytrain == 1]\n",
    "recup_df[\"recup\"] = ytrain.loc[ytrain == 1]\n",
    "\n",
    "# Los no recuperados por otro lado\n",
    "no_recup_df = xtrain.loc[ytrain == 0]\n",
    "no_recup_df[\"recup\"] = ytrain.loc[ytrain == 0]\n",
    "\n",
    "# Me quedo con N samples de los no recuperados\n",
    "N = round(no_recup_df.shape[0]/3) # Me quedo con un tercio\n",
    "no_recup_df = no_recup_df.sample(n=N,random_state=42)"
   ]
  },
  {
   "cell_type": "code",
   "execution_count": 63,
   "metadata": {},
   "outputs": [],
   "source": [
    "undersampled_xtrain = pd.concat([recup_df, no_recup_df], ignore_index=True)\n",
    "undersampled_ytrain = undersampled_xtrain[\"recup\"]\n",
    "undersampled_xtrain.drop('recup', axis=1, inplace=True)"
   ]
  },
  {
   "cell_type": "markdown",
   "metadata": {},
   "source": [
    "### Oversampling con SMOTE\n",
    "\n",
    "SMOTE me permite aumentar el número de muestras de la minoría hasta una cierta proporción de la mayoría (dada en el código por *prop*)."
   ]
  },
  {
   "cell_type": "code",
   "execution_count": 69,
   "metadata": {},
   "outputs": [],
   "source": [
    "from imblearn.over_sampling import SMOTE\n",
    "\n",
    "prop = .5 # Es decir, la minería va a ser prop veces la mayoría\n",
    "\n",
    "# Resampleo la minoría\n",
    "sm = SMOTE(sampling_strategy=prop, random_state=7)\n",
    "\n",
    "# Fiteo el modelo para generar la nueva data sintética\n",
    "balanced_xtrain, balanced_ytrain = sm.fit_sample(undersampled_xtrain, undersampled_ytrain)"
   ]
  },
  {
   "cell_type": "code",
   "execution_count": 70,
   "metadata": {},
   "outputs": [
    {
     "name": "stdout",
     "output_type": "stream",
     "text": [
      "La cantidad de muestras originales es 16044\n",
      "La cantidad de muestras aumentadas es 20995\n"
     ]
    }
   ],
   "source": [
    "print(\"La cantidad de muestras originales es \" + str(undersampled_xtrain.shape[0]))\n",
    "print(\"La cantidad de muestras aumentadas es \" + str(balanced_xtrain.shape[0]))"
   ]
  },
  {
   "cell_type": "code",
   "execution_count": 71,
   "metadata": {},
   "outputs": [
    {
     "name": "stdout",
     "output_type": "stream",
     "text": [
      "La cantidad de recuperados originales es 2047\n",
      "La cantidad de recuperados aumentados es 6998\n"
     ]
    }
   ],
   "source": [
    "print(\"La cantidad de recuperados originales es \" + str(undersampled_ytrain.sum()))\n",
    "print(\"La cantidad de recuperados aumentados es \" + str(balanced_ytrain.sum()))"
   ]
  },
  {
   "cell_type": "code",
   "execution_count": 72,
   "metadata": {},
   "outputs": [
    {
     "name": "stdout",
     "output_type": "stream",
     "text": [
      "La proporción de recuperados en la muestra aumentada es 0.3333174565372708\n"
     ]
    }
   ],
   "source": [
    "print(\"La proporción de recuperados en la muestra aumentada es \" + str(oversampled_ytrain.sum()/oversampled_xtrain.shape[0]))"
   ]
  },
  {
   "cell_type": "markdown",
   "metadata": {},
   "source": [
    "De esta forma logramos tener que 1 de cada 3 muestras sea de un auto recuperado.\n",
    "\n",
    "Ahora que comprendemos como funcione el balanceo (random oversampling y SMOTe), tenemos que decidir cómo elegir la mejor combinación de parámetros para nuestro modelo. Como tenemos recursos (hardware y tiempo) limitados, vamos a hacer un barrido enre algunos posibles valores de los parámetros y vamos a ajustar un KNN para ver cual combinación mejora más la performance."
   ]
  },
  {
   "cell_type": "markdown",
   "metadata": {},
   "source": [
    "## KNN\n",
    "\n",
    "Vamos a ajustar un KNN (con K de 1 a 10) para los datos originales y para versiones del dataset modificado modificando dos parámetros: la cantidad de muestras extraídas en el undersampling y la cantidad de muestras agregadas en el oversampling. Entre todas estas versiones del modelo nos vamos a quedar con el que maximice el Recall (una medida más confiable para muestras no balanceadas).\n",
    "\n",
    "Para el undersampling nos vamos a quedar con el 25%, 50% y 75% de los autos no recuperados originales, y para cada uno de esos datasets vamos a hacer un SMOTe que iguales las proporciones de recuperados y no recuperados (*prop = 1*) o en el que la proporción de recuperados sea 0.5 (*prop =0.5*)."
   ]
  },
  {
   "cell_type": "markdown",
   "metadata": {},
   "source": [
    "### KNN con los datos originales"
   ]
  },
  {
   "cell_type": "code",
   "execution_count": 102,
   "metadata": {},
   "outputs": [],
   "source": [
    "from sklearn.metrics import accuracy_score, recall_score\n",
    "from sklearn import metrics\n",
    "from sklearn.metrics import confusion_matrix\n",
    "from sklearn.neighbors import KNeighborsClassifier\n",
    "from imblearn.over_sampling import SMOTE"
   ]
  },
  {
   "cell_type": "code",
   "execution_count": 129,
   "metadata": {},
   "outputs": [
    {
     "ename": "TypeError",
     "evalue": "type list doesn't define __round__ method",
     "output_type": "error",
     "traceback": [
      "\u001b[0;31m---------------------------------------------------------------------------\u001b[0m",
      "\u001b[0;31mTypeError\u001b[0m                                 Traceback (most recent call last)",
      "\u001b[0;32m<ipython-input-129-cd6a22bdda0b>\u001b[0m in \u001b[0;36m<module>\u001b[0;34m\u001b[0m\n\u001b[1;32m      4\u001b[0m \u001b[0;31m#      Undersampling\u001b[0m\u001b[0;34m\u001b[0m\u001b[0;34m\u001b[0m\u001b[0;34m\u001b[0m\u001b[0m\n\u001b[1;32m      5\u001b[0m \u001b[0mn_norecup\u001b[0m \u001b[0;34m=\u001b[0m \u001b[0mxtrain\u001b[0m\u001b[0;34m.\u001b[0m\u001b[0mloc\u001b[0m\u001b[0;34m[\u001b[0m\u001b[0mytrain\u001b[0m \u001b[0;34m==\u001b[0m \u001b[0;36m0\u001b[0m\u001b[0;34m]\u001b[0m\u001b[0;34m.\u001b[0m\u001b[0mshape\u001b[0m\u001b[0;34m[\u001b[0m\u001b[0;36m0\u001b[0m\u001b[0;34m]\u001b[0m \u001b[0;31m# Cantidad de autos no recuperados\u001b[0m\u001b[0;34m\u001b[0m\u001b[0;34m\u001b[0m\u001b[0m\n\u001b[0;32m----> 6\u001b[0;31m \u001b[0mparams_under\u001b[0m \u001b[0;34m=\u001b[0m \u001b[0mround\u001b[0m\u001b[0;34m(\u001b[0m\u001b[0;34m[\u001b[0m\u001b[0mn_norecup\u001b[0m\u001b[0;34m*\u001b[0m\u001b[0;36m.75\u001b[0m\u001b[0;34m,\u001b[0m \u001b[0mn_norecup\u001b[0m\u001b[0;34m*\u001b[0m\u001b[0;36m.5\u001b[0m\u001b[0;34m,\u001b[0m \u001b[0mn_norecup\u001b[0m\u001b[0;34m*\u001b[0m\u001b[0;36m.25\u001b[0m\u001b[0;34m]\u001b[0m\u001b[0;34m)\u001b[0m \u001b[0;31m# Nos quedamos con 75%, 50% o 25% de\u001b[0m\u001b[0;34m\u001b[0m\u001b[0;34m\u001b[0m\u001b[0m\n\u001b[0m\u001b[1;32m      7\u001b[0m                                                             \u001b[0;31m# los no recuperados\u001b[0m\u001b[0;34m\u001b[0m\u001b[0;34m\u001b[0m\u001b[0;34m\u001b[0m\u001b[0m\n\u001b[1;32m      8\u001b[0m \u001b[0;31m#      Overrsampling\u001b[0m\u001b[0;34m\u001b[0m\u001b[0;34m\u001b[0m\u001b[0;34m\u001b[0m\u001b[0m\n",
      "\u001b[0;31mTypeError\u001b[0m: type list doesn't define __round__ method"
     ]
    }
   ],
   "source": [
    "# Creo las variables en las que voy a guardas los recalls\n",
    "\n",
    "# Indicamos la cantidad de valores de balanceo que queremos probar\n",
    "#      Undersampling\n",
    "n_norecup = xtrain.loc[ytrain == 0].shape[0] # Cantidad de autos no recuperados\n",
    "params_under = [n_norecup*.75, n_norecup*.5, n_norecup*.25] # Nos quedamos con 75%, 50% o 25% de \n",
    "                                                            # los no recuperados\n",
    "#      Overrsampling\n",
    "params_smote = [.5, 1] # Hacemos que los recuperados sean la mitad o la misma cantidad que los no\n",
    "                      # recuperados\n",
    "    \n",
    "iteraciones_balanceo = np.shape(params_under)[0]*np.shape(params_smote)[0] + 1 \n",
    "# El \"+1\" es para guardar el ajuste de los datos sin balancear\n",
    "\n",
    "# Indicamos la cantidad de valores de K que queremos probar para cada combinación anterior\n",
    "Ks = range(1,10)\n",
    "\n",
    "# Creo un vector para guardar en recall del original y uno para los balanceados\n",
    "original_recall_knn = np.zeros(np.shape(Ks)[0])\n",
    "balanced_recall_knn = np.zeros([ np.shape(params_under)[0],  \n",
    "                                 np.shape(params_smote)[0], \n",
    "                                 np.shape(Ks)[0]])"
   ]
  },
  {
   "cell_type": "code",
   "execution_count": 124,
   "metadata": {},
   "outputs": [],
   "source": [
    "# Corro el KNN con los datos originales\n",
    "for r in Ks:\n",
    "    # entreno un KNN classifier con \"k=r+1\"\n",
    "    neigh = KNeighborsClassifier(n_neighbors=r)\n",
    "    neigh.fit(xtrain,ytrain)\n",
    "    # calculo la prediccion\n",
    "    ypred_knn = neigh.predict(xtest)\n",
    "    # guardo el resultado de prediccion en la posicion r del vector \"acc_knn\"\n",
    "    original_recall_knn[r-1] = recall_score(ytest, ypred_knn)"
   ]
  },
  {
   "cell_type": "code",
   "execution_count": 126,
   "metadata": {},
   "outputs": [
    {
     "data": {
      "image/png": "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\n",
      "text/plain": [
       "<Figure size 648x432 with 1 Axes>"
      ]
     },
     "metadata": {
      "needs_background": "light"
     },
     "output_type": "display_data"
    }
   ],
   "source": [
    "# Veamos el recall en función de K para los datos originales\n",
    "customPalette = ['#630C3A', '#39C8C6', '#D3500C', '#FFB139']\n",
    "plt.figure(figsize=(9,6))\n",
    "plt.xlabel('#Ks')\n",
    "plt.ylabel('Recall')\n",
    "plt.title('Recall con KNN de los datos originales')\n",
    "plt.plot(Ks,original_recall_knn,color=customPalette[0])\n",
    "plt.show()"
   ]
  },
  {
   "cell_type": "code",
   "execution_count": 127,
   "metadata": {},
   "outputs": [
    {
     "name": "stdout",
     "output_type": "stream",
     "text": [
      "El recall más grande es con 0.18 con 2 neighbours\n"
     ]
    }
   ],
   "source": [
    "# Cuál es el mejor recall en el KNN con los datos originales\n",
    "max_recall = max(original_recall_knn)\n",
    "max_K = Ks[np.argmax(original_recall_knn)]\n",
    "print(\"El recall más grande es con \" + str(round(max_recall,2))+ ' con '+ \n",
    "      str(max_K)+ ' neighbours')"
   ]
  },
  {
   "cell_type": "markdown",
   "metadata": {},
   "source": [
    "En los datos originales el mayor recall da para k=2.\n",
    "\n",
    "A continuación vamos a evaluar como se modifica el recall para las opciones de oversampling y undersampling antes descriptas."
   ]
  },
  {
   "cell_type": "code",
   "execution_count": 224,
   "metadata": {},
   "outputs": [
    {
     "data": {
      "text/plain": [
       "KNeighborsClassifier(algorithm='auto', leaf_size=30, metric='minkowski',\n",
       "                     metric_params=None, n_jobs=None, n_neighbors=8, p=2,\n",
       "                     weights='uniform')"
      ]
     },
     "execution_count": 224,
     "metadata": {},
     "output_type": "execute_result"
    }
   ],
   "source": [
    "# Dejamos fiteado el mejor KNN\n",
    "best_KNN = KNeighborsClassifier(n_neighbors=max_K)\n",
    "best_KNN.fit(xtrain,ytrain)"
   ]
  },
  {
   "cell_type": "code",
   "execution_count": 225,
   "metadata": {},
   "outputs": [
    {
     "name": "stdout",
     "output_type": "stream",
     "text": [
      "[[13629  4367]\n",
      " [  362   516]]\n"
     ]
    }
   ],
   "source": [
    "# Verificamos la performance con el ytest (vemos la matriz de confusión)\n",
    "ypred_knn = best_KNN.predict(xtest)\n",
<<<<<<< HEAD
    "cm_knn    = confusion_matrix(ytest, ypred_knn)\n",
    "print(cm_knn)"
=======
    "cm_knn  = confusion_matrix(ytest, ypred_knn_bal)\n",
    "print(cm_knn_bal)"
>>>>>>> 4b5f882d45bfae647743ea41d23ff696470d1116
   ]
  },
  {
   "cell_type": "code",
<<<<<<< HEAD
   "execution_count": 39,
=======
   "execution_count": 226,
>>>>>>> 4b5f882d45bfae647743ea41d23ff696470d1116
   "metadata": {},
   "outputs": [
    {
     "name": "stdout",
     "output_type": "stream",
     "text": [
      "El recall obtenido con el mejor KNN y el dataset original es de: 0.4\n",
      "La accuracy obtenido con el mejor KNN y el dataset original es de: 0.97\n"
     ]
    }
   ],
   "source": [
    "print('El recall obtenido con el mejor KNN y el dataset original es de:',\n",
    "      + round(recall_score(ytest, ypred_rf),2))\n",
    "print('La accuracy obtenido con el mejor KNN y el dataset original es de:',\n",
    "      + round(accuracy_score(ytest, ypred_rf),2))"
   ]
  },
  {
   "cell_type": "markdown",
   "metadata": {},
   "source": [
    "Como es de esperarse para datos desbalanceados, el accuracy es alto pero el recall es bajo."
   ]
  },
  {
   "cell_type": "markdown",
   "metadata": {},
   "source": [
    "### KNN con los datos balanceados"
   ]
  },
  {
   "cell_type": "code",
<<<<<<< HEAD
   "execution_count": 40,
   "metadata": {},
   "outputs": [],
   "source": [
    "# Creo las variables en las que voy a guardas los recalls\n",
    "\n",
    "# Indicamos la cantidad de valores de balanceo que queremos probar\n",
    "#      Undersampling\n",
    "n_norecup = xtrain.loc[ytrain == 0].shape[0] # Cantidad de autos no recuperados\n",
    "params_under = [n_norecup*.75, n_norecup*.5, n_norecup*.25] # Nos quedamos con 75%, 50% o 25% de \n",
    "                                                            # los no recuperados\n",
    "#      Overrsampling\n",
    "params_smote = [.5, 1] # Hacemos que los recuperados sean la mitad o la misma cantidad que los no\n",
    "                      # recuperados\n",
    "    \n",
    "# Indicamos la cantidad de valores de K que queremos probar para cada combinación anterior\n",
    "Ks = range(1,10)\n",
    "\n",
    "# Creo un vector para guardar en recall para los datos balanceados\n",
    "balanced_recall_knn = np.zeros([ np.shape(params_under)[0],  \n",
    "                                 np.shape(params_smote)[0], \n",
    "                                 np.shape(Ks)[0]])"
   ]
  },
  {
   "cell_type": "code",
   "execution_count": 43,
=======
   "execution_count": 131,
>>>>>>> 4b5f882d45bfae647743ea41d23ff696470d1116
   "metadata": {},
   "outputs": [],
   "source": [
    "# Ahora voy a preprocesar y correr el KNN para cada combinación de \n",
    "# parámetros de under y oversampling\n",
    "for idx_under in range(0,np.shape(params_under)[0]):\n",
    "    for idx_smote in range(0,np.shape(params_smote)[0]):\n",
    "        for r in Ks:\n",
    "        \n",
    "            ### UNDERSAMPLING ###\n",
    "\n",
    "            # Mezclamos el dataset\n",
    "            shuffled_df = xtrain.sample(frac=1,random_state=4)\n",
    "\n",
    "            # Todos los recuperados por un lado\n",
    "            recup_df = xtrain.loc[ytrain == 1]\n",
    "            recup_df[\"recup\"] = ytrain.loc[ytrain == 1]\n",
    "\n",
    "            # Los no recuperados por otro lado\n",
    "            no_recup_df = xtrain.loc[ytrain == 0]\n",
    "            no_recup_df[\"recup\"] = ytrain.loc[ytrain == 0]\n",
    "\n",
    "            # Me quedo con N samples de los no recuperados\n",
    "            no_recup_df = no_recup_df.sample(n=round(params_under[idx_under]),random_state=42)\n",
    "\n",
    "            # Armo el x_train e y_train undersampleados\n",
    "            undersampled_xtrain = pd.concat([recup_df, no_recup_df], ignore_index=True)\n",
    "            undersampled_ytrain = undersampled_xtrain[\"recup\"]\n",
    "            undersampled_xtrain.drop('recup', axis=1, inplace=True)\n",
    "\n",
    "            ### SMOTE ###\n",
    "\n",
    "            # Creo el objeto de SMOTE\n",
    "            sm = SMOTE(sampling_strategy=params_smote[idx_smote], random_state=42)\n",
    "\n",
    "            # Fiteo el modelo para generar la nueva data sintética\n",
    "            balanced_xtrain, balanced_ytrain = sm.fit_sample(undersampled_xtrain, undersampled_ytrain)\n",
    "\n",
    "            ### KNN ###\n",
    "\n",
    "            # entreno un KNN classifier con \"k=r+1\"\n",
    "            neigh = KNeighborsClassifier(n_neighbors=r)\n",
    "            neigh.fit(balanced_xtrain,balanced_ytrain)\n",
    "            # calculo la prediccion\n",
    "            ypred_knn = neigh.predict(xtest)\n",
    "            # guardo el resultado de prediccion en la posicion r del vector \"acc_knn\"\n",
    "            balanced_recall_knn[idx_under, idx_smote, r-1] = recall_score(ytest, ypred_knn)\n"
   ]
  },
  {
   "cell_type": "code",
<<<<<<< HEAD
   "execution_count": 44,
=======
   "execution_count": 150,
>>>>>>> 4b5f882d45bfae647743ea41d23ff696470d1116
   "metadata": {},
   "outputs": [
    {
     "data": {
<<<<<<< HEAD
      "image/png": "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\n",
=======
      "image/png": "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\n",
>>>>>>> 4b5f882d45bfae647743ea41d23ff696470d1116
      "text/plain": [
       "<Figure size 864x648 with 1 Axes>"
      ]
     },
     "metadata": {
      "needs_background": "light"
     },
     "output_type": "display_data"
    }
   ],
   "source": [
    "# Veamos el recall en función de K para los datos balanceados\n",
    "markers = ['s', 'o']\n",
    "plt.figure(figsize=(12,9))\n",
    "plt.xlabel('#Ks')\n",
    "plt.ylabel('Recall')\n",
    "plt.title('Recall con KNN de los datos balanceados')\n",
    "for idx_under in range(0,np.shape(params_under)[0]):\n",
    "    for idx_smote in range(0,np.shape(params_smote)[0]):\n",
    "        plt.plot(Ks, balanced_recall_knn[idx_under, idx_smote, :],\n",
    "                 color=customPalette[idx_under])\n",
    "        plt.scatter(Ks, balanced_recall_knn[idx_under, idx_smote, :],\n",
    "                    color=customPalette[idx_under], marker=markers[idx_smote],\n",
    "                    label='Under:'+ str(params_under[idx_under])+ ' SMOTe:' + str(params_smote[idx_smote]))\n",
    "plt.legend()\n",
    "plt.savefig('./figs/Recalls_SMOTe_KNN.png')"
   ]
  },
  {
   "cell_type": "code",
   "execution_count": 168,
   "metadata": {},
   "outputs": [
    {
     "name": "stdout",
     "output_type": "stream",
     "text": [
      "El recall más grande es con 0.63 con 8 neighbours, undersamplig a 10497.5 muestras y con una proporcion de SMOTE de 1\n"
     ]
    }
   ],
   "source": [
    "# Cuál es el mejor recall en el KNN con los datos balanceados\n",
    "max_recall = np.amax(balanced_recall_knn)\n",
    "max_under  = params_under[np.where(balanced_recall_knn == np.amax(balanced_recall_knn))[0][0]]\n",
    "max_smote  = params_smote[np.where(balanced_recall_knn == np.amax(balanced_recall_knn))[1][0]]\n",
    "max_K      = Ks[np.where(balanced_recall_knn == np.amax(balanced_recall_knn))[2][0]]\n",
    "\n",
    "print(\"El recall más grande es con \" + str(round(max_recall,2))+ \n",
    "      ' con '+ str(max_K)+ ' neighbours'+ \n",
    "      ', undersamplig a '+ str(max_under) + ' muestras'+\n",
    "      ' y con una proporcion de SMOTE de '+ str(max_smote))\n",
    "        "
   ]
  },
  {
   "cell_type": "markdown",
   "metadata": {},
   "source": [
    "Como vemos que no llega a converger en número de Ks, vamos a tomar las opciones de SMOTe y undersampling con mejor performance y extender la simulación a K=100"
   ]
  },
  {
   "cell_type": "code",
   "execution_count": 169,
   "metadata": {},
   "outputs": [],
   "source": [
    "# Primero creamos el balanced data con el mejor Fit\n",
    "\n",
    "### UNDERSAMPLING ###\n",
    "\n",
    "# Mezclamos el dataset\n",
    "shuffled_df = xtrain.sample(frac=1,random_state=4)\n",
    "\n",
    "# Todos los recuperados por un lado\n",
    "recup_df = xtrain.loc[ytrain == 1]\n",
    "recup_df[\"recup\"] = ytrain.loc[ytrain == 1]\n",
    "\n",
    "# Los no recuperados por otro lado\n",
    "no_recup_df = xtrain.loc[ytrain == 0]\n",
    "no_recup_df[\"recup\"] = ytrain.loc[ytrain == 0]\n",
    "\n",
    "# Me quedo con N samples de los no recuperados\n",
    "no_recup_df = no_recup_df.sample(n=round(max_under),random_state=42)\n",
    "\n",
    "# Armo el x_train e y_train undersampleados\n",
    "undersampled_xtrain = pd.concat([recup_df, no_recup_df], ignore_index=True)\n",
    "undersampled_ytrain = undersampled_xtrain[\"recup\"]\n",
    "undersampled_xtrain.drop('recup', axis=1, inplace=True)\n",
    "\n",
    "### SMOTE ###\n",
    "\n",
    "# Creo el objeto de SMOTE\n",
    "sm = SMOTE(sampling_strategy=max_smote, random_state=42)\n",
    "\n",
    "# Fiteo el modelo para generar la nueva data sintética\n",
    "balanced_xtrain, balanced_ytrain = sm.fit_sample(undersampled_xtrain, undersampled_ytrain)"
   ]
  },
  {
   "cell_type": "code",
   "execution_count": 178,
   "metadata": {},
   "outputs": [],
   "source": [
    "# Y ahora vamos a correr un loop en KNN\n",
    "Ks = np.arange(10,110,10)\n",
    "best_recall_knn = np.zeros(np.shape(Ks)[0])\n",
    "for r in range(0, np.shape(Ks)[0]):\n",
    "    # entreno un KNN classifier con \"k=r+1\"\n",
    "    neigh = KNeighborsClassifier(n_neighbors=Ks[r])\n",
    "    neigh.fit(balanced_xtrain,balanced_ytrain)\n",
    "    # calculo la prediccion\n",
    "    ypred_knn = neigh.predict(xtest)\n",
    "    # guardo el resultado de prediccion en la posicion r del vector \"acc_knn\"\n",
    "    best_recall_knn[r-1] = recall_score(ytest, ypred_knn)"
   ]
  },
  {
   "cell_type": "code",
   "execution_count": 179,
   "metadata": {},
   "outputs": [
    {
     "data": {
      "image/png": "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\n",
      "text/plain": [
       "<Figure size 648x432 with 1 Axes>"
      ]
     },
     "metadata": {
      "needs_background": "light"
     },
     "output_type": "display_data"
    }
   ],
   "source": [
    "# Veamos el recall en función de K el best balanceado\n",
    "plt.figure(figsize=(9,6))\n",
    "plt.xlabel('#Ks')\n",
    "plt.ylabel('Recall')\n",
    "plt.title('Recall con KNN de los mejores undersampling y SMOTe')\n",
    "plt.plot(Ks,best_recall_knn,color=customPalette[0])\n",
    "plt.show()"
   ]
  },
  {
<<<<<<< HEAD
   "cell_type": "code",
   "execution_count": 49,
   "metadata": {},
   "outputs": [
    {
     "name": "stdout",
     "output_type": "stream",
     "text": [
      "El recall para k=10 es 0.649\n"
     ]
    }
   ],
   "source": [
    "print('El recall para k=10 es '+ str(round(best_recall_knn[0],3)))"
   ]
  },
  {
=======
>>>>>>> 4b5f882d45bfae647743ea41d23ff696470d1116
   "cell_type": "markdown",
   "metadata": {},
   "source": [
    "Como parece que aumentando mucho el K o hay un gran aumento del recall, nos vamos a quedar ocnconverger a un valor de recall razonable, nos vamos a quedar con los *max_under*, *max_smote* y *max_K* definidos anteriormente para lo que sigue del ajuste."
   ]
  },
  {
   "cell_type": "code",
<<<<<<< HEAD
   "execution_count": 50,
=======
   "execution_count": 222,
>>>>>>> 4b5f882d45bfae647743ea41d23ff696470d1116
   "metadata": {},
   "outputs": [
    {
     "data": {
      "text/plain": [
       "KNeighborsClassifier(algorithm='auto', leaf_size=30, metric='minkowski',\n",
       "                     metric_params=None, n_jobs=None, n_neighbors=8, p=2,\n",
       "                     weights='uniform')"
      ]
     },
<<<<<<< HEAD
     "execution_count": 50,
=======
     "execution_count": 222,
>>>>>>> 4b5f882d45bfae647743ea41d23ff696470d1116
     "metadata": {},
     "output_type": "execute_result"
    }
   ],
   "source": [
    "# Dejamos fiteado el mejor KNN\n",
    "best_KNN_bal = KNeighborsClassifier(n_neighbors=max_K)\n",
    "best_KNN_bal.fit(balanced_xtrain,balanced_ytrain)"
   ]
  },
  {
   "cell_type": "code",
<<<<<<< HEAD
   "execution_count": 51,
=======
   "execution_count": 223,
>>>>>>> 4b5f882d45bfae647743ea41d23ff696470d1116
   "metadata": {},
   "outputs": [
    {
     "name": "stdout",
     "output_type": "stream",
     "text": [
      "[[13629  4367]\n",
      " [  362   516]]\n"
     ]
    }
   ],
   "source": [
    "# Verificamos la performance con el ytest (vemos la matriz de confusión)\n",
    "ypred_knn_bal = best_KNN_bal.predict(xtest)\n",
    "cm_knn_bal = confusion_matrix(ytest, ypred_knn_bal)\n",
    "print(cm_knn_bal)"
   ]
  },
  {
   "cell_type": "code",
<<<<<<< HEAD
   "execution_count": 52,
=======
   "execution_count": 205,
>>>>>>> 4b5f882d45bfae647743ea41d23ff696470d1116
   "metadata": {},
   "outputs": [
    {
     "name": "stdout",
     "output_type": "stream",
     "text": [
      "El recall obtenido con el mejor KNN y el dataset balanceado es de: 0.59\n",
      "La accuracy obtenido con el mejor KNN y el dataset balanceado es de: 0.75\n"
     ]
    }
   ],
   "source": [
    "print('El recall obtenido con el mejor KNN y el dataset balanceado es de:',\n",
    "      + round(recall_score(ytest, ypred_knn_bal),2))\n",
    "print('La accuracy obtenido con el mejor KNN y el dataset balanceado es de:',\n",
    "      + round(accuracy_score(ytest, ypred_knn_bal),2))"
   ]
  },
  {
   "cell_type": "markdown",
   "metadata": {},
   "source": [
    "## Random forest"
   ]
  },
  {
   "cell_type": "markdown",
   "metadata": {},
   "source": [
    "### Random forest con los datos originales"
   ]
  },
  {
   "cell_type": "markdown",
   "metadata": {},
   "source": [
    "Hacemos un Random Forest con los datos originales."
   ]
  },
  {
   "cell_type": "code",
<<<<<<< HEAD
   "execution_count": 53,
=======
   "execution_count": 216,
>>>>>>> 4b5f882d45bfae647743ea41d23ff696470d1116
   "metadata": {},
   "outputs": [],
   "source": [
    "from sklearn.ensemble import RandomForestClassifier\n",
    "from sklearn.model_selection import GridSearchCV"
   ]
  },
  {
   "cell_type": "code",
<<<<<<< HEAD
   "execution_count": 54,
=======
   "execution_count": 217,
>>>>>>> 4b5f882d45bfae647743ea41d23ff696470d1116
   "metadata": {},
   "outputs": [
    {
     "data": {
      "text/plain": [
       "GridSearchCV(cv=5, error_score='raise-deprecating',\n",
       "             estimator=RandomForestClassifier(bootstrap=True, class_weight=None,\n",
       "                                              criterion='gini', max_depth=None,\n",
       "                                              max_features='auto',\n",
       "                                              max_leaf_nodes=None,\n",
       "                                              min_impurity_decrease=0.0,\n",
       "                                              min_impurity_split=None,\n",
       "                                              min_samples_leaf=1,\n",
       "                                              min_samples_split=2,\n",
       "                                              min_weight_fraction_leaf=0.0,\n",
       "                                              n_estimators='warn', n_jobs=None,\n",
       "                                              oob_score=False, random_state=42,\n",
       "                                              verbose=0, warm_start=False),\n",
       "             iid='warn', n_jobs=None,\n",
       "             param_grid={'criterion': ['gini'], 'max_depth': [40],\n",
       "                         'max_features': ['sqrt', 'log2'],\n",
       "                         'n_estimators': [20, 50]},\n",
       "             pre_dispatch='2*n_jobs', refit=True, return_train_score=False,\n",
       "             scoring=None, verbose=0)"
      ]
     },
<<<<<<< HEAD
     "execution_count": 54,
=======
     "execution_count": 217,
>>>>>>> 4b5f882d45bfae647743ea41d23ff696470d1116
     "metadata": {},
     "output_type": "execute_result"
    }
   ],
   "source": [
    "# Creamos el objeto Random Forest\n",
    "rfc=RandomForestClassifier(random_state=42)\n",
    "# Hacemos un gridsearch\n",
    "param_grid = { \n",
    "    'n_estimators': [20,50],\n",
    "    'max_features': ['sqrt', 'log2'],\n",
    "    'max_depth' : [40],\n",
    "    'criterion' :['gini']\n",
    "}\n",
    "CV_rfc = GridSearchCV(estimator=rfc, param_grid=param_grid, cv= 5)\n",
    "CV_rfc.fit(xtrain, ytrain)"
   ]
  },
  {
   "cell_type": "code",
<<<<<<< HEAD
   "execution_count": 55,
=======
   "execution_count": 218,
>>>>>>> 4b5f882d45bfae647743ea41d23ff696470d1116
   "metadata": {},
   "outputs": [
    {
     "data": {
      "text/plain": [
       "{'criterion': 'gini',\n",
       " 'max_depth': 40,\n",
       " 'max_features': 'sqrt',\n",
       " 'n_estimators': 50}"
      ]
     },
<<<<<<< HEAD
     "execution_count": 55,
=======
     "execution_count": 218,
>>>>>>> 4b5f882d45bfae647743ea41d23ff696470d1116
     "metadata": {},
     "output_type": "execute_result"
    }
   ],
   "source": [
    "# Los mejores parámetros del Random Forest son\n",
    "CV_rfc.best_params_"
   ]
  },
  {
   "cell_type": "code",
<<<<<<< HEAD
   "execution_count": 56,
=======
   "execution_count": 219,
>>>>>>> 4b5f882d45bfae647743ea41d23ff696470d1116
   "metadata": {},
   "outputs": [
    {
     "data": {
      "text/plain": [
       "RandomForestClassifier(bootstrap=True, class_weight=None, criterion='gini',\n",
       "                       max_depth=40, max_features='sqrt', max_leaf_nodes=None,\n",
       "                       min_impurity_decrease=0.0, min_impurity_split=None,\n",
       "                       min_samples_leaf=1, min_samples_split=2,\n",
       "                       min_weight_fraction_leaf=0.0, n_estimators=50,\n",
       "                       n_jobs=None, oob_score=False, random_state=42, verbose=0,\n",
       "                       warm_start=False)"
      ]
     },
<<<<<<< HEAD
     "execution_count": 56,
=======
     "execution_count": 219,
>>>>>>> 4b5f882d45bfae647743ea41d23ff696470d1116
     "metadata": {},
     "output_type": "execute_result"
    }
   ],
   "source": [
    "# Finalmente ajusatmos le mejor modelo\n",
    "rfc1=RandomForestClassifier(random_state = 42, \n",
    "                            max_features = CV_rfc.best_params_['max_features'], \n",
    "                            n_estimators = CV_rfc.best_params_['n_estimators'], \n",
    "                            max_depth    = CV_rfc.best_params_['max_depth'], \n",
    "                            criterion    = CV_rfc.best_params_['criterion'])\n",
    "rfc1.fit(xtrain, ytrain)"
   ]
  },
  {
   "cell_type": "code",
<<<<<<< HEAD
   "execution_count": 57,
=======
   "execution_count": 220,
>>>>>>> 4b5f882d45bfae647743ea41d23ff696470d1116
   "metadata": {},
   "outputs": [
    {
     "name": "stdout",
     "output_type": "stream",
     "text": [
      "[[17932    64]\n",
      " [  528   350]]\n"
     ]
    }
   ],
   "source": [
    "# Verificamos la performance con el ytest (vemos la matriz de confusión)\n",
    "ypred_rf = CV_rfc.predict(xtest)\n",
    "cm_rf = confusion_matrix(ytest, ypred_rf)\n",
    "print(cm_rf)"
   ]
  },
  {
   "cell_type": "code",
<<<<<<< HEAD
   "execution_count": 58,
=======
   "execution_count": 221,
>>>>>>> 4b5f882d45bfae647743ea41d23ff696470d1116
   "metadata": {},
   "outputs": [
    {
     "name": "stdout",
     "output_type": "stream",
     "text": [
<<<<<<< HEAD
      "El recall obtenido con el mejor Random Forest y el dataset original es de: 0.42\n",
      "La accuracy obtenido con el mejor Random Forest y el dataset original es de: 0.97\n"
=======
      "El recall obtenido con el mejor Random Forest y el dataset balanceado es de: 0.4\n",
      "La accuracy obtenido con el mejor KNN y el dataset balanceado es de: 0.97\n"
>>>>>>> 4b5f882d45bfae647743ea41d23ff696470d1116
     ]
    }
   ],
   "source": [
    "print('El recall obtenido con el mejor Random Forest y el dataset balanceado es de:',\n",
    "      + round(recall_score(ytest, ypred_rf),2))\n",
    "print('La accuracy obtenido con el mejor Random Forest y el dataset balanceado es de:',\n",
    "      + round(accuracy_score(ytest, ypred_rf),2))"
   ]
  },
  {
   "cell_type": "markdown",
   "metadata": {},
   "source": [
    "Como es de esperarse, el accuracy da muy bien pero el recall da muy mal (algo típico en datasets dsbalanceados)."
   ]
  },
  {
   "cell_type": "markdown",
   "metadata": {},
   "source": [
    "### Random forest con los datos balanceados"
   ]
  },
  {
   "cell_type": "markdown",
   "metadata": {},
   "source": [
    "Ahora vamos a ajustar un Random Forest con los datos balanceados (el mejor balanceo) obtenido anteriormente."
   ]
  },
  {
   "cell_type": "code",
<<<<<<< HEAD
   "execution_count": null,
   "metadata": {},
   "outputs": [],
=======
   "execution_count": 186,
   "metadata": {},
   "outputs": [
    {
     "data": {
      "text/plain": [
       "GridSearchCV(cv=5, error_score='raise-deprecating',\n",
       "             estimator=RandomForestClassifier(bootstrap=True, class_weight=None,\n",
       "                                              criterion='gini', max_depth=None,\n",
       "                                              max_features='auto',\n",
       "                                              max_leaf_nodes=None,\n",
       "                                              min_impurity_decrease=0.0,\n",
       "                                              min_impurity_split=None,\n",
       "                                              min_samples_leaf=1,\n",
       "                                              min_samples_split=2,\n",
       "                                              min_weight_fraction_leaf=0.0,\n",
       "                                              n_estimators='warn', n_jobs=None,\n",
       "                                              oob_score=False, random_state=42,\n",
       "                                              verbose=0, warm_start=False),\n",
       "             iid='warn', n_jobs=None,\n",
       "             param_grid={'criterion': ['gini'], 'max_depth': [40],\n",
       "                         'max_features': ['sqrt', 'log2'],\n",
       "                         'n_estimators': [20, 50]},\n",
       "             pre_dispatch='2*n_jobs', refit=True, return_train_score=False,\n",
       "             scoring=None, verbose=0)"
      ]
     },
     "execution_count": 186,
     "metadata": {},
     "output_type": "execute_result"
    }
   ],
>>>>>>> 4b5f882d45bfae647743ea41d23ff696470d1116
   "source": [
    "# Creamos el objeto Random Forest\n",
    "rfc=RandomForestClassifier(random_state=42)\n",
    "# Hacemos un gridsearch\n",
    "param_grid = { \n",
    "    'n_estimators': [20,50],\n",
    "    'max_features': ['sqrt', 'log2'],\n",
    "    'max_depth' : [40],\n",
    "    'criterion' :['gini']\n",
    "}\n",
    "CV_rfc = GridSearchCV(estimator=rfc, param_grid=param_grid, cv= 5)\n",
    "CV_rfc.fit(balanced_xtrain, balanced_ytrain)"
   ]
  },
  {
   "cell_type": "code",
<<<<<<< HEAD
   "execution_count": null,
   "metadata": {},
   "outputs": [],
=======
   "execution_count": 191,
   "metadata": {},
   "outputs": [
    {
     "data": {
      "text/plain": [
       "{'criterion': 'gini',\n",
       " 'max_depth': 40,\n",
       " 'max_features': 'sqrt',\n",
       " 'n_estimators': 50}"
      ]
     },
     "execution_count": 191,
     "metadata": {},
     "output_type": "execute_result"
    }
   ],
>>>>>>> 4b5f882d45bfae647743ea41d23ff696470d1116
   "source": [
    "# Los mejores parámetros del Random Forest son\n",
    "CV_rfc.best_params_"
   ]
  },
  {
   "cell_type": "code",
<<<<<<< HEAD
   "execution_count": null,
   "metadata": {},
   "outputs": [],
=======
   "execution_count": 192,
   "metadata": {},
   "outputs": [
    {
     "data": {
      "text/plain": [
       "RandomForestClassifier(bootstrap=True, class_weight=None, criterion='gini',\n",
       "                       max_depth=40, max_features='sqrt', max_leaf_nodes=None,\n",
       "                       min_impurity_decrease=0.0, min_impurity_split=None,\n",
       "                       min_samples_leaf=1, min_samples_split=2,\n",
       "                       min_weight_fraction_leaf=0.0, n_estimators=50,\n",
       "                       n_jobs=None, oob_score=False, random_state=42, verbose=0,\n",
       "                       warm_start=False)"
      ]
     },
     "execution_count": 192,
     "metadata": {},
     "output_type": "execute_result"
    }
   ],
>>>>>>> 4b5f882d45bfae647743ea41d23ff696470d1116
   "source": [
    "# Finalmente ajusatmos le mejor modelo\n",
    "rfc1=RandomForestClassifier(random_state = 42, \n",
    "                            max_features = CV_rfc.best_params_['max_features'], \n",
    "                            n_estimators = CV_rfc.best_params_['n_estimators'], \n",
    "                            max_depth    = CV_rfc.best_params_['max_depth'], \n",
    "                            criterion    = CV_rfc.best_params_['criterion'])\n",
    "rfc1.fit(oversampled_xtrain, oversampled_ytrain)"
   ]
  },
  {
   "cell_type": "code",
<<<<<<< HEAD
   "execution_count": null,
   "metadata": {},
   "outputs": [],
=======
   "execution_count": 194,
   "metadata": {},
   "outputs": [
    {
     "name": "stdout",
     "output_type": "stream",
     "text": [
      "[[17655   341]\n",
      " [  425   453]]\n"
     ]
    }
   ],
>>>>>>> 4b5f882d45bfae647743ea41d23ff696470d1116
   "source": [
    "# Verificamos la performance con el ytest (vemos la matriz de confusión)\n",
    "ypred_rf_bal = CV_rfc.predict(xtest)\n",
    "cm_rf_bal = confusion_matrix(ytest, ypred_rf_bal)\n",
    "print(cm_rf)"
   ]
  },
  {
   "cell_type": "code",
<<<<<<< HEAD
   "execution_count": null,
   "metadata": {},
   "outputs": [],
=======
   "execution_count": 206,
   "metadata": {},
   "outputs": [
    {
     "name": "stdout",
     "output_type": "stream",
     "text": [
      "El recall obtenido con el mejor Random Forest y el dataset balanceado es de: 0.52\n",
      "La accuracy obtenido con el mejor KNN y el dataset balanceado es de: 0.96\n"
     ]
    }
   ],
>>>>>>> 4b5f882d45bfae647743ea41d23ff696470d1116
   "source": [
    "print('El recall obtenido con el mejor Random Forest y el dataset balanceado es de:',\n",
    "      + round(recall_score(ytest, ypred_rf_bal),2))\n",
    "print('La accuracy obtenido con el mejor KNN y el dataset balanceado es de:',\n",
    "      + round(accuracy_score(ytest, ypred_rf_bal),2))"
   ]
  },
  {
   "cell_type": "markdown",
   "metadata": {},
   "source": [
    "El recall da peor que en el KNN pero el accuracy da mucho mejor. Habría que analizar qué significa esto para nuestro problema."
   ]
  },
  {
   "cell_type": "markdown",
   "metadata": {},
   "source": [
    "### Random Forest con PCA"
   ]
  },
  {
   "cell_type": "markdown",
   "metadata": {},
   "source": [
    "Vamos a probar hacer un Random Forest con el dataset balanceado. Para esto empezamos ajustando un PCA con el dataset balanceado."
   ]
  },
  {
   "cell_type": "code",
<<<<<<< HEAD
   "execution_count": null,
=======
   "execution_count": 207,
>>>>>>> 4b5f882d45bfae647743ea41d23ff696470d1116
   "metadata": {},
   "outputs": [],
   "source": [
    "from sklearn.decomposition import PCA\n",
    "# Cantidad de componentes a extraer\n",
    "n_comps = 5\n",
    "# Definimos PCA\n",
    "pca = PCA(n_components= n_comps)\n",
    "# Fit_transform del PCA a nuestros datos\n",
    "xpca = pd.DataFrame(pca.fit_transform(balanced_xtrain))\n",
    "# Obtenemos los auto-valores\n",
    "eigenvalues = pca.explained_variance_ratio_"
   ]
  },
  {
   "cell_type": "code",
<<<<<<< HEAD
   "execution_count": null,
   "metadata": {},
   "outputs": [],
   "source": [
    "print('Las cinco componentes explican el '+ str(round(sum(eigenvalues)*100,2))+ '% de la varianza')"
   ]
  },
  {
   "cell_type": "code",
   "execution_count": null,
=======
   "execution_count": 209,
>>>>>>> 4b5f882d45bfae647743ea41d23ff696470d1116
   "metadata": {},
   "outputs": [],
   "source": [
    "# Una figura que muestra la varianza explicada por cada componente\n",
    "components = range(1,n_comps + 1)\n",
    "plt.bar(components,eigenvalues)\n",
    "plt.xticks(components)\n",
    "plt.title('Explained variance of top 5 principal components')\n",
    "plt.xlabel('Top 20 Principal Components')\n",
    "plt.ylabel('Explained Variance')\n",
    "plt.show()"
   ]
  },
  {
   "cell_type": "markdown",
   "metadata": {},
   "source": [
    "Ahora sí vamos a ajustar el Random Forest y ver cuánto cambia la performance."
   ]
  },
  {
   "cell_type": "code",
<<<<<<< HEAD
   "execution_count": null,
   "metadata": {},
   "outputs": [],
=======
   "execution_count": 210,
   "metadata": {},
   "outputs": [
    {
     "data": {
      "text/plain": [
       "GridSearchCV(cv=5, error_score='raise-deprecating',\n",
       "             estimator=RandomForestClassifier(bootstrap=True, class_weight=None,\n",
       "                                              criterion='gini', max_depth=None,\n",
       "                                              max_features='auto',\n",
       "                                              max_leaf_nodes=None,\n",
       "                                              min_impurity_decrease=0.0,\n",
       "                                              min_impurity_split=None,\n",
       "                                              min_samples_leaf=1,\n",
       "                                              min_samples_split=2,\n",
       "                                              min_weight_fraction_leaf=0.0,\n",
       "                                              n_estimators='warn', n_jobs=None,\n",
       "                                              oob_score=False, random_state=42,\n",
       "                                              verbose=0, warm_start=False),\n",
       "             iid='warn', n_jobs=None,\n",
       "             param_grid={'criterion': ['gini'], 'max_depth': [40],\n",
       "                         'max_features': ['sqrt', 'log2'],\n",
       "                         'n_estimators': [20, 50]},\n",
       "             pre_dispatch='2*n_jobs', refit=True, return_train_score=False,\n",
       "             scoring=None, verbose=0)"
      ]
     },
     "execution_count": 210,
     "metadata": {},
     "output_type": "execute_result"
    }
   ],
>>>>>>> 4b5f882d45bfae647743ea41d23ff696470d1116
   "source": [
    "# Random Forest con PCA\n",
    "rfc=RandomForestClassifier(random_state=42)\n",
    "param_grid = { \n",
    "    'n_estimators': [20,50],\n",
    "    'max_features': ['sqrt', 'log2'],\n",
    "    'max_depth' : [40],\n",
    "    'criterion' :['gini']\n",
    "}\n",
    "CV_rfc = GridSearchCV(estimator=rfc, param_grid=param_grid, cv= 5)\n",
    "CV_rfc.fit(xpca, balanced_ytrain)"
   ]
  },
  {
   "cell_type": "code",
<<<<<<< HEAD
   "execution_count": null,
=======
   "execution_count": 211,
>>>>>>> 4b5f882d45bfae647743ea41d23ff696470d1116
   "metadata": {},
   "outputs": [],
   "source": [
    "# Tranformamos el xtest al espacio del PCA\n",
    "xpca_test = pd.DataFrame(pca.fit_transform(xtest))"
   ]
  },
  {
   "cell_type": "code",
<<<<<<< HEAD
   "execution_count": null,
   "metadata": {},
   "outputs": [],
=======
   "execution_count": 213,
   "metadata": {},
   "outputs": [
    {
     "name": "stdout",
     "output_type": "stream",
     "text": [
      "[[11947  6049]\n",
      " [  312   566]]\n"
     ]
    }
   ],
>>>>>>> 4b5f882d45bfae647743ea41d23ff696470d1116
   "source": [
    "# Verificamos la performance con el ytest (vemos la matriz de confusión)\n",
    "ypred_rf_pca = CV_rfc.predict(xpca_test)\n",
    "cm_rf_pca = confusion_matrix(ytest, ypred_rf_pca)\n",
    "print(cm_rf_pca)"
   ]
  },
  {
   "cell_type": "code",
<<<<<<< HEAD
   "execution_count": null,
   "metadata": {},
   "outputs": [],
=======
   "execution_count": 214,
   "metadata": {},
   "outputs": [
    {
     "name": "stdout",
     "output_type": "stream",
     "text": [
      "El recall obtenido con el mejor Random Forest y el dataset balanceado es de: 0.64\n",
      "La accuracy obtenido con el mejor KNN y el dataset balanceado es de: 0.66\n"
     ]
    }
   ],
>>>>>>> 4b5f882d45bfae647743ea41d23ff696470d1116
   "source": [
    "print('El recall obtenido con el mejor Random Forest, PCA y el dataset balanceado es de:',\n",
    "      + round(recall_score(ytest, ypred_rf_pca),2))\n",
    "print('La accuracy obtenido con el mejor Random Forest, PCA y el dataset balanceado es de:',\n",
    "      + round(accuracy_score(ytest, ypred_rf_pca),2))"
   ]
  },
  {
   "cell_type": "markdown",
   "metadata": {},
   "source": [
    "En este caso sube el recall de nuevo pero con el costo de bajar también el accuracy."
   ]
  }
 ],
 "metadata": {
  "kernelspec": {
   "display_name": "Python 3",
   "language": "python",
   "name": "python3"
  },
  "language_info": {
   "codemirror_mode": {
    "name": "ipython",
    "version": 3
   },
   "file_extension": ".py",
   "mimetype": "text/x-python",
   "name": "python",
   "nbconvert_exporter": "python",
   "pygments_lexer": "ipython3",
   "version": "3.7.4"
  }
 },
 "nbformat": 4,
 "nbformat_minor": 4
}
