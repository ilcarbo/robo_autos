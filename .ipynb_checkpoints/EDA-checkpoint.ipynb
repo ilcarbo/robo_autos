{
 "cells": [
  {
   "cell_type": "markdown",
   "metadata": {
    "Collapsed": "false"
   },
   "source": [
    "# Imports"
   ]
  },
  {
   "cell_type": "code",
   "execution_count": 1,
   "metadata": {
    "Collapsed": "false"
   },
   "outputs": [],
   "source": [
    "import pandas as pd"
   ]
  },
  {
   "cell_type": "code",
   "execution_count": 2,
   "metadata": {
    "Collapsed": "false"
   },
   "outputs": [],
   "source": [
    "import pandas as pd\n",
    "import numpy as np\n",
    "import matplotlib.pyplot as plt\n",
    "import seaborn as sns\n",
    "import datetime\n",
    "\n",
    "pd.options.display.max_columns = 999\n",
    "%matplotlib inline\n",
    "\n",
    "import warnings\n",
    "warnings.filterwarnings('ignore')"
   ]
  },
  {
   "cell_type": "markdown",
   "metadata": {
    "Collapsed": "false"
   },
   "source": [
    "# Cargar los csvs como pandas dataframes"
   ]
  },
  {
   "cell_type": "code",
   "execution_count": 3,
   "metadata": {
    "Collapsed": "false"
   },
   "outputs": [
    {
     "data": {
      "text/html": [
       "<div>\n",
       "<style scoped>\n",
       "    .dataframe tbody tr th:only-of-type {\n",
       "        vertical-align: middle;\n",
       "    }\n",
       "\n",
       "    .dataframe tbody tr th {\n",
       "        vertical-align: top;\n",
       "    }\n",
       "\n",
       "    .dataframe thead th {\n",
       "        text-align: right;\n",
       "    }\n",
       "</style>\n",
       "<table border=\"1\" class=\"dataframe\">\n",
       "  <thead>\n",
       "    <tr style=\"text-align: right;\">\n",
       "      <th></th>\n",
       "      <th>tramite_tipo</th>\n",
       "      <th>tramite_fecha</th>\n",
       "      <th>fecha_inscripcion_inicial</th>\n",
       "      <th>registro_seccional_codigo</th>\n",
       "      <th>registro_seccional_descripcion</th>\n",
       "      <th>registro_seccional_provincia</th>\n",
       "      <th>automotor_origen</th>\n",
       "      <th>automotor_anio_modelo</th>\n",
       "      <th>automotor_tipo_codigo</th>\n",
       "      <th>automotor_tipo_descripcion</th>\n",
       "      <th>automotor_marca_codigo</th>\n",
       "      <th>automotor_marca_descripcion</th>\n",
       "      <th>automotor_modelo_codigo</th>\n",
       "      <th>automotor_modelo_descripcion</th>\n",
       "      <th>automotor_uso_codigo</th>\n",
       "      <th>automotor_uso_descripcion</th>\n",
       "      <th>titular_tipo_persona</th>\n",
       "      <th>titular_domicilio_localidad</th>\n",
       "      <th>titular_domicilio_provincia</th>\n",
       "      <th>titular_genero</th>\n",
       "      <th>titular_anio_nacimiento</th>\n",
       "      <th>titular_pais_nacimiento</th>\n",
       "      <th>titular_porcentaje_titularidad</th>\n",
       "      <th>titular_domicilio_provincia_indec_id</th>\n",
       "      <th>titular_pais_nacimiento_indec_id</th>\n",
       "    </tr>\n",
       "  </thead>\n",
       "  <tbody>\n",
       "    <tr>\n",
       "      <th>0</th>\n",
       "      <td>DENUNCIA DE ROBO O HURTO</td>\n",
       "      <td>2018-01-17</td>\n",
       "      <td>2000-10-05</td>\n",
       "      <td>1029</td>\n",
       "      <td>ESTEBAN ECHEVERRIA Nº 1</td>\n",
       "      <td>Buenos Aires</td>\n",
       "      <td>Nacional</td>\n",
       "      <td>2000.0</td>\n",
       "      <td>NaN</td>\n",
       "      <td>SEDAN</td>\n",
       "      <td>08</td>\n",
       "      <td>CHEVROLET</td>\n",
       "      <td>57</td>\n",
       "      <td>CORSA 4 PUERTAS WIND 1.6 MPFI</td>\n",
       "      <td>1.0</td>\n",
       "      <td>Privado</td>\n",
       "      <td>Física</td>\n",
       "      <td>MONTE GRANDE</td>\n",
       "      <td>BUENOS AIRES</td>\n",
       "      <td>Masculino</td>\n",
       "      <td>1981.0</td>\n",
       "      <td>Argentina</td>\n",
       "      <td>100</td>\n",
       "      <td>6</td>\n",
       "      <td>ARG</td>\n",
       "    </tr>\n",
       "    <tr>\n",
       "      <th>1</th>\n",
       "      <td>DENUNCIA DE ROBO O HURTO</td>\n",
       "      <td>2018-01-03</td>\n",
       "      <td>2007-11-22</td>\n",
       "      <td>1047</td>\n",
       "      <td>LANUS Nº 1</td>\n",
       "      <td>Buenos Aires</td>\n",
       "      <td>Nacional</td>\n",
       "      <td>2007.0</td>\n",
       "      <td>NaN</td>\n",
       "      <td>FURGON 600</td>\n",
       "      <td>34</td>\n",
       "      <td>PEUGEOT</td>\n",
       "      <td>EP</td>\n",
       "      <td>PARTNER FURGON D PLC PRESENCE</td>\n",
       "      <td>1.0</td>\n",
       "      <td>Privado</td>\n",
       "      <td>Física</td>\n",
       "      <td>VALENTIN ALSINA</td>\n",
       "      <td>BUENOS AIRES</td>\n",
       "      <td>Femenino</td>\n",
       "      <td>1990.0</td>\n",
       "      <td>Argentina</td>\n",
       "      <td>100</td>\n",
       "      <td>6</td>\n",
       "      <td>ARG</td>\n",
       "    </tr>\n",
       "    <tr>\n",
       "      <th>2</th>\n",
       "      <td>DENUNCIA DE ROBO O HURTO</td>\n",
       "      <td>2018-01-12</td>\n",
       "      <td>1995-02-01</td>\n",
       "      <td>1059</td>\n",
       "      <td>MAR DEL PLATA Nº 02</td>\n",
       "      <td>Buenos Aires</td>\n",
       "      <td>Nacional</td>\n",
       "      <td>1995.0</td>\n",
       "      <td>NaN</td>\n",
       "      <td>BERLINA 5 PUERTAS</td>\n",
       "      <td>37</td>\n",
       "      <td>RENAULT</td>\n",
       "      <td>AH</td>\n",
       "      <td>19 RN INYECCION BIC.</td>\n",
       "      <td>1.0</td>\n",
       "      <td>Privado</td>\n",
       "      <td>Física</td>\n",
       "      <td>UNIDAD TURISTICA CHAPADMALAL</td>\n",
       "      <td>BUENOS AIRES</td>\n",
       "      <td>Masculino</td>\n",
       "      <td>1986.0</td>\n",
       "      <td>Argentina</td>\n",
       "      <td>100</td>\n",
       "      <td>6</td>\n",
       "      <td>ARG</td>\n",
       "    </tr>\n",
       "    <tr>\n",
       "      <th>3</th>\n",
       "      <td>DENUNCIA DE ROBO O HURTO</td>\n",
       "      <td>2018-01-02</td>\n",
       "      <td>1999-09-28</td>\n",
       "      <td>1066</td>\n",
       "      <td>NECOCHEA Nº 1</td>\n",
       "      <td>Buenos Aires</td>\n",
       "      <td>Nacional</td>\n",
       "      <td>1999.0</td>\n",
       "      <td>NaN</td>\n",
       "      <td>BERLINA 3 PUERTAS</td>\n",
       "      <td>37</td>\n",
       "      <td>RENAULT</td>\n",
       "      <td>CC</td>\n",
       "      <td>CLIO RL DIESEL 3 PUERTAS</td>\n",
       "      <td>1.0</td>\n",
       "      <td>Privado</td>\n",
       "      <td>Física</td>\n",
       "      <td>NECOCHEA BS.AS.</td>\n",
       "      <td>BUENOS AIRES</td>\n",
       "      <td>No identificado</td>\n",
       "      <td>1964.0</td>\n",
       "      <td>No identificado</td>\n",
       "      <td>100</td>\n",
       "      <td>6</td>\n",
       "      <td>NaN</td>\n",
       "    </tr>\n",
       "    <tr>\n",
       "      <th>4</th>\n",
       "      <td>DENUNCIA DE ROBO O HURTO</td>\n",
       "      <td>2018-01-09</td>\n",
       "      <td>2006-09-07</td>\n",
       "      <td>1074</td>\n",
       "      <td>PILAR Nº 1</td>\n",
       "      <td>Buenos Aires</td>\n",
       "      <td>Nacional</td>\n",
       "      <td>2006.0</td>\n",
       "      <td>NaN</td>\n",
       "      <td>FURGON 600</td>\n",
       "      <td>34</td>\n",
       "      <td>PEUGEOT</td>\n",
       "      <td>DM</td>\n",
       "      <td>PARTNER FURGON 1.4 N PRESENCE</td>\n",
       "      <td>1.0</td>\n",
       "      <td>Privado</td>\n",
       "      <td>Física</td>\n",
       "      <td>PTE. DERQUI</td>\n",
       "      <td>BUENOS AIRES</td>\n",
       "      <td>Femenino</td>\n",
       "      <td>1961.0</td>\n",
       "      <td>Argentina</td>\n",
       "      <td>100</td>\n",
       "      <td>6</td>\n",
       "      <td>ARG</td>\n",
       "    </tr>\n",
       "  </tbody>\n",
       "</table>\n",
       "</div>"
      ],
      "text/plain": [
       "               tramite_tipo tramite_fecha fecha_inscripcion_inicial  \\\n",
       "0  DENUNCIA DE ROBO O HURTO    2018-01-17                2000-10-05   \n",
       "1  DENUNCIA DE ROBO O HURTO    2018-01-03                2007-11-22   \n",
       "2  DENUNCIA DE ROBO O HURTO    2018-01-12                1995-02-01   \n",
       "3  DENUNCIA DE ROBO O HURTO    2018-01-02                1999-09-28   \n",
       "4  DENUNCIA DE ROBO O HURTO    2018-01-09                2006-09-07   \n",
       "\n",
       "   registro_seccional_codigo registro_seccional_descripcion  \\\n",
       "0                       1029        ESTEBAN ECHEVERRIA Nº 1   \n",
       "1                       1047                     LANUS Nº 1   \n",
       "2                       1059            MAR DEL PLATA Nº 02   \n",
       "3                       1066                  NECOCHEA Nº 1   \n",
       "4                       1074                     PILAR Nº 1   \n",
       "\n",
       "  registro_seccional_provincia automotor_origen  automotor_anio_modelo  \\\n",
       "0                 Buenos Aires         Nacional                 2000.0   \n",
       "1                 Buenos Aires         Nacional                 2007.0   \n",
       "2                 Buenos Aires         Nacional                 1995.0   \n",
       "3                 Buenos Aires         Nacional                 1999.0   \n",
       "4                 Buenos Aires         Nacional                 2006.0   \n",
       "\n",
       "   automotor_tipo_codigo automotor_tipo_descripcion automotor_marca_codigo  \\\n",
       "0                    NaN                      SEDAN                     08   \n",
       "1                    NaN                 FURGON 600                     34   \n",
       "2                    NaN          BERLINA 5 PUERTAS                     37   \n",
       "3                    NaN          BERLINA 3 PUERTAS                     37   \n",
       "4                    NaN                 FURGON 600                     34   \n",
       "\n",
       "  automotor_marca_descripcion automotor_modelo_codigo  \\\n",
       "0                   CHEVROLET                      57   \n",
       "1                     PEUGEOT                      EP   \n",
       "2                     RENAULT                      AH   \n",
       "3                     RENAULT                      CC   \n",
       "4                     PEUGEOT                      DM   \n",
       "\n",
       "    automotor_modelo_descripcion  automotor_uso_codigo  \\\n",
       "0  CORSA 4 PUERTAS WIND 1.6 MPFI                   1.0   \n",
       "1  PARTNER FURGON D PLC PRESENCE                   1.0   \n",
       "2           19 RN INYECCION BIC.                   1.0   \n",
       "3       CLIO RL DIESEL 3 PUERTAS                   1.0   \n",
       "4  PARTNER FURGON 1.4 N PRESENCE                   1.0   \n",
       "\n",
       "  automotor_uso_descripcion titular_tipo_persona  \\\n",
       "0                   Privado               Física   \n",
       "1                   Privado               Física   \n",
       "2                   Privado               Física   \n",
       "3                   Privado               Física   \n",
       "4                   Privado               Física   \n",
       "\n",
       "    titular_domicilio_localidad titular_domicilio_provincia   titular_genero  \\\n",
       "0                  MONTE GRANDE                BUENOS AIRES        Masculino   \n",
       "1               VALENTIN ALSINA                BUENOS AIRES         Femenino   \n",
       "2  UNIDAD TURISTICA CHAPADMALAL                BUENOS AIRES        Masculino   \n",
       "3               NECOCHEA BS.AS.                BUENOS AIRES  No identificado   \n",
       "4                   PTE. DERQUI                BUENOS AIRES         Femenino   \n",
       "\n",
       "   titular_anio_nacimiento titular_pais_nacimiento  \\\n",
       "0                   1981.0               Argentina   \n",
       "1                   1990.0               Argentina   \n",
       "2                   1986.0               Argentina   \n",
       "3                   1964.0         No identificado   \n",
       "4                   1961.0               Argentina   \n",
       "\n",
       "   titular_porcentaje_titularidad  titular_domicilio_provincia_indec_id  \\\n",
       "0                             100                                     6   \n",
       "1                             100                                     6   \n",
       "2                             100                                     6   \n",
       "3                             100                                     6   \n",
       "4                             100                                     6   \n",
       "\n",
       "  titular_pais_nacimiento_indec_id  \n",
       "0                              ARG  \n",
       "1                              ARG  \n",
       "2                              ARG  \n",
       "3                              NaN  \n",
       "4                              ARG  "
      ]
     },
     "execution_count": 3,
     "metadata": {},
     "output_type": "execute_result"
    }
   ],
   "source": [
    "robados = pd.read_csv('./curados/robados.csv', parse_dates= ['tramite_fecha', 'fecha_inscripcion_inicial'])\n",
    "robados.head()"
   ]
  },
  {
   "cell_type": "code",
   "execution_count": 4,
   "metadata": {
    "Collapsed": "false"
   },
   "outputs": [
    {
     "data": {
      "text/plain": [
       "tramite_tipo                                    object\n",
       "tramite_fecha                           datetime64[ns]\n",
       "fecha_inscripcion_inicial               datetime64[ns]\n",
       "registro_seccional_codigo                        int64\n",
       "registro_seccional_descripcion                  object\n",
       "registro_seccional_provincia                    object\n",
       "automotor_origen                                object\n",
       "automotor_anio_modelo                          float64\n",
       "automotor_tipo_codigo                          float64\n",
       "automotor_tipo_descripcion                      object\n",
       "automotor_marca_codigo                          object\n",
       "automotor_marca_descripcion                     object\n",
       "automotor_modelo_codigo                         object\n",
       "automotor_modelo_descripcion                    object\n",
       "automotor_uso_codigo                           float64\n",
       "automotor_uso_descripcion                       object\n",
       "titular_tipo_persona                            object\n",
       "titular_domicilio_localidad                     object\n",
       "titular_domicilio_provincia                     object\n",
       "titular_genero                                  object\n",
       "titular_anio_nacimiento                        float64\n",
       "titular_pais_nacimiento                         object\n",
       "titular_porcentaje_titularidad                   int64\n",
       "titular_domicilio_provincia_indec_id             int64\n",
       "titular_pais_nacimiento_indec_id                object\n",
       "dtype: object"
      ]
     },
     "execution_count": 4,
     "metadata": {},
     "output_type": "execute_result"
    }
   ],
   "source": [
    "robados.dtypes"
   ]
  },
  {
   "cell_type": "markdown",
   "metadata": {
    "Collapsed": "false"
   },
   "source": [
    "# Limpieza del dataframe"
   ]
  },
  {
   "cell_type": "markdown",
   "metadata": {
    "Collapsed": "false"
   },
   "source": [
    "La idea de esta parte del EDA es sacarnos de encima los NaNs y las columnas que no vamos a usar para nada."
   ]
  },
  {
   "cell_type": "code",
   "execution_count": 5,
   "metadata": {
    "Collapsed": "false"
   },
   "outputs": [
    {
     "data": {
      "text/plain": [
       "tramite_tipo                            0.000000\n",
       "tramite_fecha                           0.000000\n",
       "fecha_inscripcion_inicial               0.003243\n",
       "registro_seccional_codigo               0.000000\n",
       "registro_seccional_descripcion          0.000000\n",
       "registro_seccional_provincia            0.000000\n",
       "automotor_origen                        0.000000\n",
       "automotor_anio_modelo                   0.483233\n",
       "automotor_tipo_codigo                   4.684764\n",
       "automotor_tipo_descripcion              0.000000\n",
       "automotor_marca_codigo                  2.288059\n",
       "automotor_marca_descripcion             0.000000\n",
       "automotor_modelo_codigo                 2.497243\n",
       "automotor_modelo_descripcion            0.000000\n",
       "automotor_uso_codigo                    0.003243\n",
       "automotor_uso_descripcion               0.003243\n",
       "titular_tipo_persona                    0.000000\n",
       "titular_domicilio_localidad             0.134592\n",
       "titular_domicilio_provincia             0.000000\n",
       "titular_genero                          0.000000\n",
       "titular_anio_nacimiento                 0.001622\n",
       "titular_pais_nacimiento                 0.000000\n",
       "titular_porcentaje_titularidad          0.000000\n",
       "titular_domicilio_provincia_indec_id    0.000000\n",
       "titular_pais_nacimiento_indec_id        5.056107\n",
       "dtype: float64"
      ]
     },
     "execution_count": 5,
     "metadata": {},
     "output_type": "execute_result"
    }
   ],
   "source": [
    "# Porcentaje de NaNs por columna\n",
    "robados.isnull().sum()/np.shape(robados)[0]*100"
   ]
  },
  {
   "cell_type": "markdown",
   "metadata": {
    "Collapsed": "false"
   },
   "source": [
    "Las columnas que mas NaNs tienen son los códigos de tipo, marca, modelo y uso y el país de nacimiento del titular. Primero vamos a tirar todas las columnas que codifican y nos vamos a quedar sólo con las descripciones."
   ]
  },
  {
   "cell_type": "code",
   "execution_count": 6,
   "metadata": {
    "Collapsed": "false"
   },
   "outputs": [
    {
     "data": {
      "text/html": [
       "<div>\n",
       "<style scoped>\n",
       "    .dataframe tbody tr th:only-of-type {\n",
       "        vertical-align: middle;\n",
       "    }\n",
       "\n",
       "    .dataframe tbody tr th {\n",
       "        vertical-align: top;\n",
       "    }\n",
       "\n",
       "    .dataframe thead th {\n",
       "        text-align: right;\n",
       "    }\n",
       "</style>\n",
       "<table border=\"1\" class=\"dataframe\">\n",
       "  <thead>\n",
       "    <tr style=\"text-align: right;\">\n",
       "      <th></th>\n",
       "      <th>tramite_tipo</th>\n",
       "      <th>tramite_fecha</th>\n",
       "      <th>fecha_inscripcion_inicial</th>\n",
       "      <th>registro_seccional_codigo</th>\n",
       "      <th>registro_seccional_descripcion</th>\n",
       "      <th>registro_seccional_provincia</th>\n",
       "      <th>automotor_origen</th>\n",
       "      <th>automotor_anio_modelo</th>\n",
       "      <th>automotor_tipo_descripcion</th>\n",
       "      <th>automotor_marca_descripcion</th>\n",
       "      <th>automotor_modelo_descripcion</th>\n",
       "      <th>automotor_uso_descripcion</th>\n",
       "      <th>titular_tipo_persona</th>\n",
       "      <th>titular_domicilio_localidad</th>\n",
       "      <th>titular_domicilio_provincia</th>\n",
       "      <th>titular_genero</th>\n",
       "      <th>titular_anio_nacimiento</th>\n",
       "      <th>titular_pais_nacimiento</th>\n",
       "      <th>titular_porcentaje_titularidad</th>\n",
       "      <th>titular_domicilio_provincia_indec_id</th>\n",
       "      <th>titular_pais_nacimiento_indec_id</th>\n",
       "    </tr>\n",
       "  </thead>\n",
       "  <tbody>\n",
       "    <tr>\n",
       "      <th>0</th>\n",
       "      <td>DENUNCIA DE ROBO O HURTO</td>\n",
       "      <td>2018-01-17</td>\n",
       "      <td>2000-10-05</td>\n",
       "      <td>1029</td>\n",
       "      <td>ESTEBAN ECHEVERRIA Nº 1</td>\n",
       "      <td>Buenos Aires</td>\n",
       "      <td>Nacional</td>\n",
       "      <td>2000.0</td>\n",
       "      <td>SEDAN</td>\n",
       "      <td>CHEVROLET</td>\n",
       "      <td>CORSA 4 PUERTAS WIND 1.6 MPFI</td>\n",
       "      <td>Privado</td>\n",
       "      <td>Física</td>\n",
       "      <td>MONTE GRANDE</td>\n",
       "      <td>BUENOS AIRES</td>\n",
       "      <td>Masculino</td>\n",
       "      <td>1981.0</td>\n",
       "      <td>Argentina</td>\n",
       "      <td>100</td>\n",
       "      <td>6</td>\n",
       "      <td>ARG</td>\n",
       "    </tr>\n",
       "    <tr>\n",
       "      <th>1</th>\n",
       "      <td>DENUNCIA DE ROBO O HURTO</td>\n",
       "      <td>2018-01-03</td>\n",
       "      <td>2007-11-22</td>\n",
       "      <td>1047</td>\n",
       "      <td>LANUS Nº 1</td>\n",
       "      <td>Buenos Aires</td>\n",
       "      <td>Nacional</td>\n",
       "      <td>2007.0</td>\n",
       "      <td>FURGON 600</td>\n",
       "      <td>PEUGEOT</td>\n",
       "      <td>PARTNER FURGON D PLC PRESENCE</td>\n",
       "      <td>Privado</td>\n",
       "      <td>Física</td>\n",
       "      <td>VALENTIN ALSINA</td>\n",
       "      <td>BUENOS AIRES</td>\n",
       "      <td>Femenino</td>\n",
       "      <td>1990.0</td>\n",
       "      <td>Argentina</td>\n",
       "      <td>100</td>\n",
       "      <td>6</td>\n",
       "      <td>ARG</td>\n",
       "    </tr>\n",
       "    <tr>\n",
       "      <th>2</th>\n",
       "      <td>DENUNCIA DE ROBO O HURTO</td>\n",
       "      <td>2018-01-12</td>\n",
       "      <td>1995-02-01</td>\n",
       "      <td>1059</td>\n",
       "      <td>MAR DEL PLATA Nº 02</td>\n",
       "      <td>Buenos Aires</td>\n",
       "      <td>Nacional</td>\n",
       "      <td>1995.0</td>\n",
       "      <td>BERLINA 5 PUERTAS</td>\n",
       "      <td>RENAULT</td>\n",
       "      <td>19 RN INYECCION BIC.</td>\n",
       "      <td>Privado</td>\n",
       "      <td>Física</td>\n",
       "      <td>UNIDAD TURISTICA CHAPADMALAL</td>\n",
       "      <td>BUENOS AIRES</td>\n",
       "      <td>Masculino</td>\n",
       "      <td>1986.0</td>\n",
       "      <td>Argentina</td>\n",
       "      <td>100</td>\n",
       "      <td>6</td>\n",
       "      <td>ARG</td>\n",
       "    </tr>\n",
       "    <tr>\n",
       "      <th>3</th>\n",
       "      <td>DENUNCIA DE ROBO O HURTO</td>\n",
       "      <td>2018-01-02</td>\n",
       "      <td>1999-09-28</td>\n",
       "      <td>1066</td>\n",
       "      <td>NECOCHEA Nº 1</td>\n",
       "      <td>Buenos Aires</td>\n",
       "      <td>Nacional</td>\n",
       "      <td>1999.0</td>\n",
       "      <td>BERLINA 3 PUERTAS</td>\n",
       "      <td>RENAULT</td>\n",
       "      <td>CLIO RL DIESEL 3 PUERTAS</td>\n",
       "      <td>Privado</td>\n",
       "      <td>Física</td>\n",
       "      <td>NECOCHEA BS.AS.</td>\n",
       "      <td>BUENOS AIRES</td>\n",
       "      <td>No identificado</td>\n",
       "      <td>1964.0</td>\n",
       "      <td>No identificado</td>\n",
       "      <td>100</td>\n",
       "      <td>6</td>\n",
       "      <td>NaN</td>\n",
       "    </tr>\n",
       "    <tr>\n",
       "      <th>4</th>\n",
       "      <td>DENUNCIA DE ROBO O HURTO</td>\n",
       "      <td>2018-01-09</td>\n",
       "      <td>2006-09-07</td>\n",
       "      <td>1074</td>\n",
       "      <td>PILAR Nº 1</td>\n",
       "      <td>Buenos Aires</td>\n",
       "      <td>Nacional</td>\n",
       "      <td>2006.0</td>\n",
       "      <td>FURGON 600</td>\n",
       "      <td>PEUGEOT</td>\n",
       "      <td>PARTNER FURGON 1.4 N PRESENCE</td>\n",
       "      <td>Privado</td>\n",
       "      <td>Física</td>\n",
       "      <td>PTE. DERQUI</td>\n",
       "      <td>BUENOS AIRES</td>\n",
       "      <td>Femenino</td>\n",
       "      <td>1961.0</td>\n",
       "      <td>Argentina</td>\n",
       "      <td>100</td>\n",
       "      <td>6</td>\n",
       "      <td>ARG</td>\n",
       "    </tr>\n",
       "  </tbody>\n",
       "</table>\n",
       "</div>"
      ],
      "text/plain": [
       "               tramite_tipo tramite_fecha fecha_inscripcion_inicial  \\\n",
       "0  DENUNCIA DE ROBO O HURTO    2018-01-17                2000-10-05   \n",
       "1  DENUNCIA DE ROBO O HURTO    2018-01-03                2007-11-22   \n",
       "2  DENUNCIA DE ROBO O HURTO    2018-01-12                1995-02-01   \n",
       "3  DENUNCIA DE ROBO O HURTO    2018-01-02                1999-09-28   \n",
       "4  DENUNCIA DE ROBO O HURTO    2018-01-09                2006-09-07   \n",
       "\n",
       "   registro_seccional_codigo registro_seccional_descripcion  \\\n",
       "0                       1029        ESTEBAN ECHEVERRIA Nº 1   \n",
       "1                       1047                     LANUS Nº 1   \n",
       "2                       1059            MAR DEL PLATA Nº 02   \n",
       "3                       1066                  NECOCHEA Nº 1   \n",
       "4                       1074                     PILAR Nº 1   \n",
       "\n",
       "  registro_seccional_provincia automotor_origen  automotor_anio_modelo  \\\n",
       "0                 Buenos Aires         Nacional                 2000.0   \n",
       "1                 Buenos Aires         Nacional                 2007.0   \n",
       "2                 Buenos Aires         Nacional                 1995.0   \n",
       "3                 Buenos Aires         Nacional                 1999.0   \n",
       "4                 Buenos Aires         Nacional                 2006.0   \n",
       "\n",
       "  automotor_tipo_descripcion automotor_marca_descripcion  \\\n",
       "0                      SEDAN                   CHEVROLET   \n",
       "1                 FURGON 600                     PEUGEOT   \n",
       "2          BERLINA 5 PUERTAS                     RENAULT   \n",
       "3          BERLINA 3 PUERTAS                     RENAULT   \n",
       "4                 FURGON 600                     PEUGEOT   \n",
       "\n",
       "    automotor_modelo_descripcion automotor_uso_descripcion  \\\n",
       "0  CORSA 4 PUERTAS WIND 1.6 MPFI                   Privado   \n",
       "1  PARTNER FURGON D PLC PRESENCE                   Privado   \n",
       "2           19 RN INYECCION BIC.                   Privado   \n",
       "3       CLIO RL DIESEL 3 PUERTAS                   Privado   \n",
       "4  PARTNER FURGON 1.4 N PRESENCE                   Privado   \n",
       "\n",
       "  titular_tipo_persona   titular_domicilio_localidad  \\\n",
       "0               Física                  MONTE GRANDE   \n",
       "1               Física               VALENTIN ALSINA   \n",
       "2               Física  UNIDAD TURISTICA CHAPADMALAL   \n",
       "3               Física               NECOCHEA BS.AS.   \n",
       "4               Física                   PTE. DERQUI   \n",
       "\n",
       "  titular_domicilio_provincia   titular_genero  titular_anio_nacimiento  \\\n",
       "0                BUENOS AIRES        Masculino                   1981.0   \n",
       "1                BUENOS AIRES         Femenino                   1990.0   \n",
       "2                BUENOS AIRES        Masculino                   1986.0   \n",
       "3                BUENOS AIRES  No identificado                   1964.0   \n",
       "4                BUENOS AIRES         Femenino                   1961.0   \n",
       "\n",
       "  titular_pais_nacimiento  titular_porcentaje_titularidad  \\\n",
       "0               Argentina                             100   \n",
       "1               Argentina                             100   \n",
       "2               Argentina                             100   \n",
       "3         No identificado                             100   \n",
       "4               Argentina                             100   \n",
       "\n",
       "   titular_domicilio_provincia_indec_id titular_pais_nacimiento_indec_id  \n",
       "0                                     6                              ARG  \n",
       "1                                     6                              ARG  \n",
       "2                                     6                              ARG  \n",
       "3                                     6                              NaN  \n",
       "4                                     6                              ARG  "
      ]
     },
     "execution_count": 6,
     "metadata": {},
     "output_type": "execute_result"
    }
   ],
   "source": [
    "cols2drop = ['automotor_tipo_codigo', 'automotor_marca_codigo', 'automotor_modelo_codigo', \n",
    "             'automotor_uso_codigo']\n",
    "robados = robados.drop(cols2drop, axis=1)\n",
    "robados.head()"
   ]
  },
  {
   "cell_type": "markdown",
   "metadata": {
    "Collapsed": "false"
   },
   "source": [
    "Y ahora vamos a dropear el resto de los NaNs."
   ]
  },
  {
   "cell_type": "code",
   "execution_count": 7,
   "metadata": {
    "Collapsed": "false"
   },
   "outputs": [],
   "source": [
    "# Tiramos los NaNs\n",
    "robados_ncol_old = np.shape(robados)[0]\n",
    "robados = robados.dropna()\n",
    "robados_ncol_new = np.shape(robados)[0]"
   ]
  },
  {
   "cell_type": "code",
   "execution_count": 8,
   "metadata": {
    "Collapsed": "false"
   },
   "outputs": [
    {
     "name": "stdout",
     "output_type": "stream",
     "text": [
      "Nos quedamos con 58250 trámites de los 61668 trámites originales\n",
      "Es decir, tiramos el 5.54% de los casos\n"
     ]
    }
   ],
   "source": [
    "print('Nos quedamos con %2d trámites de los %2d trámites originales' %(robados_ncol_new, robados_ncol_old))\n",
    "print('Es decir, tiramos el %.2f%% de los casos' %((robados_ncol_old-robados_ncol_new)/robados_ncol_old*100))"
   ]
  },
  {
   "cell_type": "markdown",
   "metadata": {
    "Collapsed": "false"
   },
   "source": [
    "Chequeamos que no quede ningún NaN"
   ]
  },
  {
   "cell_type": "code",
   "execution_count": 9,
   "metadata": {
    "Collapsed": "false"
   },
   "outputs": [
    {
     "data": {
      "text/plain": [
       "tramite_tipo                            0.0\n",
       "tramite_fecha                           0.0\n",
       "fecha_inscripcion_inicial               0.0\n",
       "registro_seccional_codigo               0.0\n",
       "registro_seccional_descripcion          0.0\n",
       "registro_seccional_provincia            0.0\n",
       "automotor_origen                        0.0\n",
       "automotor_anio_modelo                   0.0\n",
       "automotor_tipo_descripcion              0.0\n",
       "automotor_marca_descripcion             0.0\n",
       "automotor_modelo_descripcion            0.0\n",
       "automotor_uso_descripcion               0.0\n",
       "titular_tipo_persona                    0.0\n",
       "titular_domicilio_localidad             0.0\n",
       "titular_domicilio_provincia             0.0\n",
       "titular_genero                          0.0\n",
       "titular_anio_nacimiento                 0.0\n",
       "titular_pais_nacimiento                 0.0\n",
       "titular_porcentaje_titularidad          0.0\n",
       "titular_domicilio_provincia_indec_id    0.0\n",
       "titular_pais_nacimiento_indec_id        0.0\n",
       "dtype: float64"
      ]
     },
     "execution_count": 9,
     "metadata": {},
     "output_type": "execute_result"
    }
   ],
   "source": [
    "# Porcentaje de NaNs por columna\n",
    "robados.isnull().sum()/np.shape(robados)[0]*100"
   ]
  },
  {
   "cell_type": "markdown",
   "metadata": {
    "Collapsed": "false"
   },
   "source": [
    "Listo, no hay más NaNs en el dataframe."
   ]
  },
  {
   "cell_type": "markdown",
   "metadata": {
    "Collapsed": "false"
   },
   "source": [
    "## EDA"
   ]
  },
  {
   "cell_type": "markdown",
   "metadata": {
    "Collapsed": "false"
   },
   "source": [
    "### Robos por año"
   ]
  },
  {
   "cell_type": "code",
   "execution_count": 69,
   "metadata": {
    "Collapsed": "false"
   },
   "outputs": [],
   "source": [
    "# Creo una nueva columna en la que esté codificado el día de la de semana\n",
    "robados[\"anio\"] = robados[\"tramite_fecha\"].dt.year"
   ]
  },
  {
   "cell_type": "code",
   "execution_count": null,
   "metadata": {
    "Collapsed": "false"
   },
   "outputs": [],
   "source": [
    "#dia_semana_pivot = pd.pivot_table(robados, values = 'tramite_tipo', columns = 'dia_semana',fill_value=0, aggfunc = 'count')\n",
    "plt.figure(figsize=(10,6))\n",
    "ax = sns.countplot(x=\"anio\", data=robados, palette=\"Set3\")\n",
    "ax.set_xticklabels(ax.get_xticklabels(), rotation=40, ha=\"right\")\n",
    "plt.title(\"Cantidad de tramites (robos) por mes\")\n",
    "plt.show()"
   ]
  },
  {
   "cell_type": "markdown",
   "metadata": {
    "Collapsed": "false"
   },
   "source": [
    "### Robos por mes del año"
   ]
  },
  {
   "cell_type": "code",
   "execution_count": null,
   "metadata": {
    "Collapsed": "false"
   },
   "outputs": [],
   "source": [
    "# Creo una nueva columna en la que esté codificado el día de la de semana\n",
    "robados[\"mes_idx\"] = robados[\"tramite_fecha\"].dt.month"
   ]
  },
  {
   "cell_type": "code",
   "execution_count": null,
   "metadata": {
    "Collapsed": "false"
   },
   "outputs": [],
   "source": [
    "# Armo una función que codifique los días de la semana \n",
    "def label_month(month_code):\n",
    "    if (month_code==1):\n",
    "        return \"Enero\"\n",
    "    elif (month_code==2):\n",
    "        return \"Febrero\"\n",
    "    elif (month_code==3):\n",
    "        return \"Marzo\"\n",
    "    elif (month_code==4):\n",
    "        return \"Abril\"\n",
    "    elif (month_code==5):\n",
    "        return \"Mayo\"\n",
    "    elif (month_code==6):\n",
    "        return \"Junio\"\n",
    "    elif (month_code==7):\n",
    "        return \"Julio\"\n",
    "    elif (month_code==8):\n",
    "        return \"Agosto\"\n",
    "    elif (month_code==9):\n",
    "        return \"Septiembre\"\n",
    "    elif (month_code==10):\n",
    "        return \"Octubre\"\n",
    "    elif (month_code==11):\n",
    "        return \"Noviembre\"\n",
    "    elif (month_code==12):\n",
    "        return \"Diciembre\""
   ]
  },
  {
   "cell_type": "code",
   "execution_count": null,
   "metadata": {
    "Collapsed": "false"
   },
   "outputs": [],
   "source": [
    "# Aplico la funcion a una nueva columna \"dia_semana\"\n",
    "robados[\"mes\"] = robados[\"mes_idx\"].apply(lambda x: label_month(x))"
   ]
  },
  {
   "cell_type": "code",
   "execution_count": null,
   "metadata": {
    "Collapsed": "false"
   },
   "outputs": [],
   "source": [
    "robados[\"mes_anio\"] = robados[\"mes\"].astype(str).str.cat(robados[\"anio\"].astype(str), sep =\" \") "
   ]
  },
  {
   "cell_type": "code",
   "execution_count": null,
   "metadata": {
    "Collapsed": "false"
   },
   "outputs": [],
   "source": [
    "# Ploteamos en un countplot la cantidad de tramites por mes\n",
    "plt.figure(figsize=(10,6))\n",
    "ax = sns.countplot(x=\"mes_anio\", data=robados, palette=\"Set3\")\n",
    "ax.set_xticklabels(ax.get_xticklabels(), rotation=40, ha=\"right\")\n",
    "plt.title(\"Cantidad de tramites (robos) por mes\")\n",
    "plt.show()"
   ]
  },
  {
   "cell_type": "markdown",
   "metadata": {
    "Collapsed": "false"
   },
   "source": [
    "Ahora lo que podemos hacer es combinar los meses pero dividir por dos los que aparecen dos veces."
   ]
  },
  {
   "cell_type": "code",
   "execution_count": null,
   "metadata": {
    "Collapsed": "false"
   },
   "outputs": [],
   "source": [
    "# Armamos un pivot con la cantidad de tramites por mes\n",
    "mes_pivot = pd.pivot_table(robados, values = 'tramite_tipo', columns = 'mes',fill_value=0, aggfunc = 'count')"
   ]
  },
  {
   "cell_type": "code",
   "execution_count": null,
   "metadata": {
    "Collapsed": "false"
   },
   "outputs": [],
   "source": [
    "# OReordenamos los meses\n",
    "cols = [\"Enero\", \"Febrero\", \"Marzo\", \"Abril\", \"Mayo\", \"Junio\", \"Julio\", \n",
    "        \"Agosto\", \"Septiembre\", \"Octubre\", \"Noviembre\", \"Diciembre\"]\n",
    "mes_pivot = mes_pivot[cols]\n",
    "# Dividimos por dos los meses que aparecen dos veces\n",
    "mes_pivot[cols[0:9]] = mes_pivot[cols[0:9]]/2"
   ]
  },
  {
   "cell_type": "code",
   "execution_count": null,
   "metadata": {
    "Collapsed": "false"
   },
   "outputs": [],
   "source": [
    "# Convertimos el pivot de mes a formato long para poder plotear con sns\n",
    "long_mes_pivot = pd.melt(mes_pivot)\n",
    "\n",
    "# Ploteamos un barplot con la cantidad de tramites por mes\n",
    "plt.figure(figsize=(10,6))\n",
    "ax = sns.barplot(y = \"value\", x = \"mes\", data = long_mes_pivot,\n",
    "            palette=\"Set3\")\n",
    "ax.set_xticklabels(ax.get_xticklabels(), rotation=40, ha=\"right\")\n",
    "plt.title(\"Cantidad de tramites por mes\")\n",
    "plt.show()"
   ]
  },
  {
   "cell_type": "markdown",
   "metadata": {
    "Collapsed": "false"
   },
   "source": [
    "### Robos por día de la semana"
   ]
  },
  {
   "cell_type": "code",
   "execution_count": null,
   "metadata": {
    "Collapsed": "false"
   },
   "outputs": [],
   "source": [
    "# Creo una nueva columna en la que esté codificado el día de la de semana\n",
    "robados[\"dia_semana_idx\"] = robados[\"tramite_fecha\"].dt.dayofweek"
   ]
  },
  {
   "cell_type": "code",
   "execution_count": null,
   "metadata": {
    "Collapsed": "false"
   },
   "outputs": [],
   "source": [
    "# Armo una función que codifique los días de la semana \n",
    "def label_weekday(day_code):\n",
    "    if (day_code==0):\n",
    "        return \"Lunes\"\n",
    "    elif (day_code==1):\n",
    "        return \"Martes\"\n",
    "    elif (day_code==2):\n",
    "        return \"Miercoles\"\n",
    "    elif (day_code==3):\n",
    "        return \"Jueves\"\n",
    "    elif (day_code==4):\n",
    "        return \"Viernes\"\n",
    "    elif (day_code==5):\n",
    "        return \"Sabado\"\n",
    "    elif (day_code==6):\n",
    "        return \"Domingo\""
   ]
  },
  {
   "cell_type": "code",
   "execution_count": null,
   "metadata": {
    "Collapsed": "false"
   },
   "outputs": [],
   "source": [
    "# Aplico la funcion a una nueva columna \"dia_semana\"\n",
    "robados[\"dia_semana\"] = robados[\"dia_semana_idx\"].apply(lambda x: label_weekday(x))"
   ]
  },
  {
   "cell_type": "markdown",
   "metadata": {
    "Collapsed": "false"
   },
   "source": [
    "Ahora creamos una tabla pivote para resumir la cantidad de robos por dia de la semana."
   ]
  },
  {
   "cell_type": "code",
   "execution_count": null,
   "metadata": {
    "Collapsed": "false"
   },
   "outputs": [],
   "source": [
    "#dia_semana_pivot = pd.pivot_table(robados, values = 'tramite_tipo', columns = 'dia_semana',fill_value=0, aggfunc = 'count')\n",
    "plt.figure(figsize=(10,6))\n",
    "ax = sns.countplot(x=\"dia_semana\", data=robados, palette=\"Set3\")\n",
    "ax.set_xticklabels(ax.get_xticklabels(), rotation=40, ha=\"right\")\n",
    "plt.title(\"Cantidad de tramites por dia de la semana\")\n",
    "plt.show()"
   ]
  },
  {
   "cell_type": "markdown",
   "metadata": {
    "Collapsed": "false"
   },
   "source": [
    "### Robos por marca"
   ]
  },
  {
   "cell_type": "code",
   "execution_count": null,
   "metadata": {
    "Collapsed": "false"
   },
   "outputs": [],
   "source": [
    "# Arreglo las marcas que están mal codificadas\n",
    "robados[\"automotor_marca_descripcion\"].unique()"
   ]
  },
  {
   "cell_type": "code",
   "execution_count": null,
   "metadata": {
    "Collapsed": "false"
   },
   "outputs": [],
   "source": [
    "# VOLKSWAGEN\n",
    "robados[\"automotor_marca_descripcion\"][robados[\"automotor_marca_descripcion\"] == 'VOLKSWAGEN (136)'] = 'VOLKSWAGEN'\n",
    "robados[\"automotor_marca_descripcion\"][robados[\"automotor_marca_descripcion\"] == '136-VOLKSWAGEN'] = 'VOLKSWAGEN'\n",
    "robados[\"automotor_marca_descripcion\"][robados[\"automotor_marca_descripcion\"] == 'VOLKSWGEN'] = 'VOLKSWAGEN'\n",
    "robados[\"automotor_marca_descripcion\"][robados[\"automotor_marca_descripcion\"] == 'VOLKKSWAGEN'] = 'VOLKSWAGEN'\n",
    "robados[\"automotor_marca_descripcion\"][robados[\"automotor_marca_descripcion\"] == 'VOKSWAGEN'] = 'VOLKSWAGEN'\n",
    "robados[\"automotor_marca_descripcion\"][robados[\"automotor_marca_descripcion\"] == 'VOLKSAGEN'] = 'VOLKSWAGEN'\n",
    "robados[\"automotor_marca_descripcion\"][robados[\"automotor_marca_descripcion\"] == 'VOLSWAGEN'] = 'VOLKSWAGEN'\n",
    "robados[\"automotor_marca_descripcion\"][robados[\"automotor_marca_descripcion\"] == 'WOLKSWAGEN'] = 'VOLKSWAGEN'\n",
    "robados[\"automotor_marca_descripcion\"][robados[\"automotor_marca_descripcion\"] == 'VOLKWAGEN'] = 'VOLKSWAGEN'\n",
    "robados[\"automotor_marca_descripcion\"][robados[\"automotor_marca_descripcion\"] == 'VLKSWAGEN'] = 'VOLKSWAGEN'\n",
    "robados[\"automotor_marca_descripcion\"][robados[\"automotor_marca_descripcion\"] == '-136-VOLKSWAGEN'] = 'VOLKSWAGEN'\n",
    "robados[\"automotor_marca_descripcion\"][robados[\"automotor_marca_descripcion\"] == 'VW SENDA NAFTA'] = 'VOLKSWAGEN'\n",
    "robados[\"automotor_marca_descripcion\"][robados[\"automotor_marca_descripcion\"] == 'VOLKSWAGEN/MARCOPOLO'] = 'VOLKSWAGEN'\n",
    "robados[\"automotor_marca_descripcion\"][robados[\"automotor_marca_descripcion\"] == 'VOLKSWAGN'] = 'VOLKSWAGEN'\n",
    "robados[\"automotor_marca_descripcion\"][robados[\"automotor_marca_descripcion\"] == 'VOLKSWAGEN (034)'] = 'VOLKSWAGEN'\n",
    "robados[\"automotor_marca_descripcion\"][robados[\"automotor_marca_descripcion\"] == 'VOLKSWGEN'] = 'VOLKSWAGEN'\n",
    "robados[\"automotor_marca_descripcion\"][robados[\"automotor_marca_descripcion\"] == 'VOLKSWGAEN'] = 'VOLKSWAGEN'\n",
    "robados[\"automotor_marca_descripcion\"][robados[\"automotor_marca_descripcion\"] == 'VOKKSWAGEN'] = 'VOLKSWAGEN'\n",
    "robados[\"automotor_marca_descripcion\"][robados[\"automotor_marca_descripcion\"] == 'VOLSKWAGEN'] = 'VOLKSWAGEN'\n",
    "# RENAULT\n",
    "robados[\"automotor_marca_descripcion\"][robados[\"automotor_marca_descripcion\"] == 'RENAULT 21'] = 'RENAULT'\n",
    "robados[\"automotor_marca_descripcion\"][robados[\"automotor_marca_descripcion\"] == 'RENAUTL'] = 'RENAULT'\n",
    "robados[\"automotor_marca_descripcion\"][robados[\"automotor_marca_descripcion\"] == 'RENEULT'] = 'RENAULT'\n",
    "robados[\"automotor_marca_descripcion\"][robados[\"automotor_marca_descripcion\"] == 'RENAUTL'] = 'RENAULT'\n",
    "robados[\"automotor_marca_descripcion\"][robados[\"automotor_marca_descripcion\"] == 'RENAULT (033)'] = 'RENAULT'\n",
    "robados[\"automotor_marca_descripcion\"][robados[\"automotor_marca_descripcion\"] == 'RENULT'] = 'RENAULT'\n",
    "robados[\"automotor_marca_descripcion\"][robados[\"automotor_marca_descripcion\"] == 'RENAUL'] = 'RENAULT'\n",
    "robados[\"automotor_marca_descripcion\"][robados[\"automotor_marca_descripcion\"] == 'REANULT'] = 'RENAULT'\n",
    "robados[\"automotor_marca_descripcion\"][robados[\"automotor_marca_descripcion\"] == 'RENUALT'] = 'RENAULT'\n",
    "robados[\"automotor_marca_descripcion\"][robados[\"automotor_marca_descripcion\"] == '-112-RENAULT'] = 'RENAULT'\n",
    "robados[\"automotor_marca_descripcion\"][robados[\"automotor_marca_descripcion\"] == 'RENAULT 9 RN'] = 'RENAULT'\n",
    "robados[\"automotor_marca_descripcion\"][robados[\"automotor_marca_descripcion\"] == '-112- RENAULT'] = 'RENAULT'\n",
    "# MERCEDES BENZ\n",
    "robados[\"automotor_marca_descripcion\"][robados[\"automotor_marca_descripcion\"] == 'M. BENZ'] = 'MERCEDES BENZ'\n",
    "robados[\"automotor_marca_descripcion\"][robados[\"automotor_marca_descripcion\"] == 'MERCEDEZ BENZ'] = 'MERCEDES BENZ'\n",
    "robados[\"automotor_marca_descripcion\"][robados[\"automotor_marca_descripcion\"] == 'MERCEDES-BENZ'] = 'MERCEDES BENZ'\n",
    "robados[\"automotor_marca_descripcion\"][robados[\"automotor_marca_descripcion\"] == 'MECEDES BENZ'] = 'MERCEDES BENZ'\n",
    "robados[\"automotor_marca_descripcion\"][robados[\"automotor_marca_descripcion\"] == 'M.BENZ'] = 'MERCEDES BENZ'\n",
    "robados[\"automotor_marca_descripcion\"][robados[\"automotor_marca_descripcion\"] == 'MERSEDES BENZ'] = 'MERCEDES BENZ'\n",
    "robados[\"automotor_marca_descripcion\"][robados[\"automotor_marca_descripcion\"] == 'MERCEDES  BENZ'] = 'MERCEDES BENZ'\n",
    "# SUZUKI\n",
    "robados[\"automotor_marca_descripcion\"][robados[\"automotor_marca_descripcion\"] == 'SUZUKI SWIFT SEDAN NLX'] = 'SUZUKI'\n",
    "robados[\"automotor_marca_descripcion\"][robados[\"automotor_marca_descripcion\"] == 'ZUZUKI'] = 'SUZUKI'\n",
    "robados[\"automotor_marca_descripcion\"][robados[\"automotor_marca_descripcion\"] == 'SUZUKI SWIFT GTI'] = 'SUZUKI'\n",
    "robados[\"automotor_marca_descripcion\"][robados[\"automotor_marca_descripcion\"] == 'SUZUKI SWIFT  SEDAN NLX'] = 'SUZUKI'\n",
    "robados[\"automotor_marca_descripcion\"][robados[\"automotor_marca_descripcion\"] == 'SUZUKI CARRY'] = 'SUZUKI'\n",
    "robados[\"automotor_marca_descripcion\"][robados[\"automotor_marca_descripcion\"] == 'SUZUKI SWIFT SEDAN GLX'] = 'SUZUKI'\n",
    "# GMC\n",
    "robados[\"automotor_marca_descripcion\"][robados[\"automotor_marca_descripcion\"] == 'GMC CHEVETTE'] = 'GMC'\n",
    "robados[\"automotor_marca_descripcion\"][robados[\"automotor_marca_descripcion\"] == 'GMC  CHEVETTE'] = 'GMC'\n",
    "robados[\"automotor_marca_descripcion\"][robados[\"automotor_marca_descripcion\"] == 'GMC  CHEVROLET'] = 'GMC'\n",
    "robados[\"automotor_marca_descripcion\"][robados[\"automotor_marca_descripcion\"] == 'GMC CHEVROLET'] = 'GMC'\n",
    "robados[\"automotor_marca_descripcion\"][robados[\"automotor_marca_descripcion\"] == 'GMC   CHEVETTE'] = 'GMC'\n",
    "robados[\"automotor_marca_descripcion\"][robados[\"automotor_marca_descripcion\"] == 'GMC CHEVETTE (GENERAL MOTORS CORPORATION)'] = 'GMC'\n",
    "robados[\"automotor_marca_descripcion\"][robados[\"automotor_marca_descripcion\"] == 'GENERAL MOTORS'] = 'GMC'\n",
    "# JEEP\n",
    "robados[\"automotor_marca_descripcion\"][robados[\"automotor_marca_descripcion\"] == 'JEEP GLADIATOR 500'] = 'JEEP'\n",
    "robados[\"automotor_marca_descripcion\"][robados[\"automotor_marca_descripcion\"] == 'JEEP ESTANCIERA'] = 'JEEP'\n",
    "# PEUGEOT\n",
    "robados[\"automotor_marca_descripcion\"][robados[\"automotor_marca_descripcion\"] == 'PEUGEOT (039)'] = 'PEUGEOT'\n",
    "robados[\"automotor_marca_descripcion\"][robados[\"automotor_marca_descripcion\"] == '.PEUGEOT'] = 'PEUGEOT'\n",
    "# NISSAN\n",
    "robados[\"automotor_marca_descripcion\"][robados[\"automotor_marca_descripcion\"] == 'NISSAN (102)'] = 'NISSAN'\n",
    "robados[\"automotor_marca_descripcion\"][robados[\"automotor_marca_descripcion\"] == '-102-NISSAN'] = 'NISSAN'\n",
    "# CHEVROLET\n",
    "robados[\"automotor_marca_descripcion\"][robados[\"automotor_marca_descripcion\"] == 'CHEVROELT'] = 'CHEVROLET'\n",
    "robados[\"automotor_marca_descripcion\"][robados[\"automotor_marca_descripcion\"] == 'CHEVROLER'] = 'CHEVROLET'\n",
    "robados[\"automotor_marca_descripcion\"][robados[\"automotor_marca_descripcion\"] == 'CHEROLET'] = 'CHEVROLET'\n",
    "robados[\"automotor_marca_descripcion\"][robados[\"automotor_marca_descripcion\"] == 'CHEWVROLET'] = 'CHEVROLET'\n",
    "# FIAT\n",
    "robados[\"automotor_marca_descripcion\"][robados[\"automotor_marca_descripcion\"] == 'FIAT.-'] = 'FIAT'\n",
    "robados[\"automotor_marca_descripcion\"][robados[\"automotor_marca_descripcion\"] == '-044-FIAT'] = 'FIAT'\n",
    "robados[\"automotor_marca_descripcion\"][robados[\"automotor_marca_descripcion\"] == '044 FIAT'] = 'FIAT'\n",
    "robados[\"automotor_marca_descripcion\"][robados[\"automotor_marca_descripcion\"] == 'DUNA SDL 1.3'] = 'FIAT'\n",
    "# FORD\n",
    "robados[\"automotor_marca_descripcion\"][robados[\"automotor_marca_descripcion\"] == 'FORD F-100'] = 'FORD'\n",
    "robados[\"automotor_marca_descripcion\"][robados[\"automotor_marca_descripcion\"] == '-047- FORD'] = 'FORD'\n",
    "robados[\"automotor_marca_descripcion\"][robados[\"automotor_marca_descripcion\"] == '19 - FORD'] = 'FORD'\n",
    "# SEAT\n",
    "robados[\"automotor_marca_descripcion\"][robados[\"automotor_marca_descripcion\"] == 'SEAT CORDOBA AZUL'] = 'SEAT'\n",
    "# CITROEN\n",
    "robados[\"automotor_marca_descripcion\"][robados[\"automotor_marca_descripcion\"] == 'CITROËN'] = 'CITROEN'\n",
    "# BMW\n",
    "robados[\"automotor_marca_descripcion\"][robados[\"automotor_marca_descripcion\"] == 'B.M.W.'] = 'BMW'\n",
    "robados[\"automotor_marca_descripcion\"][robados[\"automotor_marca_descripcion\"] == 'B M W'] = 'BMW'\n",
    "# MITSUBISHI\n",
    "robados[\"automotor_marca_descripcion\"][robados[\"automotor_marca_descripcion\"] == 'MITSIBISHI'] = 'MITSUBISHI'\n",
    "# CHRYSLER\n",
    "robados[\"automotor_marca_descripcion\"][robados[\"automotor_marca_descripcion\"] == 'CHRYSLER-DODGE']  = 'CHRYSLER DODGE'\n",
    "# DEUTZ-AGRALE\n",
    "robados[\"automotor_marca_descripcion\"][robados[\"automotor_marca_descripcion\"] == 'DEUTZ - AGRALE']  = 'DEUTZ-AGRALE'\n",
    "robados[\"automotor_marca_descripcion\"][robados[\"automotor_marca_descripcion\"] == 'AGRALE']  = 'DEUTZ-AGRALE'"
   ]
  },
  {
   "cell_type": "code",
   "execution_count": null,
   "metadata": {
    "Collapsed": "false"
   },
   "outputs": [],
   "source": [
    "# Me quedo con las marcas que tiene mas de n tramites\n",
    "n = 100\n",
    "vc = robados.groupby('automotor_marca_descripcion').automotor_marca_descripcion.count()>n\n",
    "vc = vc[vc]\n",
    "robados_n_marcas = robados.loc[robados.automotor_marca_descripcion.isin(vc.index)]"
   ]
  },
  {
   "cell_type": "code",
   "execution_count": null,
   "metadata": {
    "Collapsed": "false"
   },
   "outputs": [],
   "source": [
    "# Robos absolutos por marca\n",
    "\n",
    "plt.figure(figsize = (18,6))\n",
    "ax = sns.countplot(x = \"automotor_marca_descripcion\", \n",
    "                   data = robados_n_marcas, \n",
    "                   palette = \"Set3\",\n",
    "                   order = robados_n_marcas[\"automotor_marca_descripcion\"].value_counts().index)\n",
    "ax.set_xticklabels(ax.get_xticklabels(), rotation=40, ha=\"right\")\n",
    "plt.title(\"Cantidad de tramites por marca\")\n",
    "plt.show()"
   ]
  },
  {
   "cell_type": "markdown",
   "metadata": {
    "Collapsed": "false"
   },
   "source": [
    "Uno de las limitaciones al interpretar estos datos es que si en el parque automotor hay mas VW que Seat es lógico esperar que haya mas robos de VW que de otra marca. En caso de que nosotroa quisiéramos tener algo parecido a la probabilidad de que nos roben un auto dada su marca, tendríamos que normalizar estos daos a la cantidad de autos de una determinada marca en el parque automotor de Argentina.\n",
    "\n",
    "De momento en contamos con una fuente confiable de la cantidad de automobiles por marca en la argentina, pero esta nota periodistica (https://tn.com.ar/autos/lo-ultimo/parque-automotor-las-marcas-y-modelos-con-mas-presencia-en-las-calles-argentinas_873776) nos da una idea, aunque sea grosera, de la composición del parque automotor (fecha: 06/06/2018): \"*El parque automotor de la Argentina está compuesto por 13.302.670 de vehículos. Y el 87 por ciento de esta cantidad está representado por apenas siete marcas: Volkswagen (16,5%), Renault (15,5%), Ford (13,5%), Fiat (13,5%), Chevrolet (12%), Peugeot (10%) y Toyota (5,3%)*\". A continuación vamos a relativizar los datos previamente hallados al porcentaje del parque automotor por marca."
   ]
  },
  {
   "cell_type": "code",
   "execution_count": null,
   "metadata": {
    "Collapsed": "false"
   },
   "outputs": [],
   "source": [
    "# Creamos un dataframe con las siete marcas mas vendidas en los index y el marketshare como dato\n",
    "marcasTN = ['VOLKSWAGEN', 'RENAULT', 'FIAT', 'CHEVROLET', 'FORD', 'PEUGEOT', 'TOYOTA']\n",
    "ShareTN  = {'share':[.165, .155, .135, .135, .12, .2, .053]}\n",
    "marketShare_Marcas = pd.DataFrame(ShareTN, index = marcasTN)\n",
    "marketShare_Marcas"
   ]
  },
  {
   "cell_type": "code",
   "execution_count": null,
   "metadata": {
    "Collapsed": "false"
   },
   "outputs": [],
   "source": [
    "# Ahora creo una tabla pivot con solo las siete marcas mas representadas\n",
    "robadosTN = robados.loc[robados.automotor_marca_descripcion.isin(marcasTN)].groupby('automotor_marca_descripcion').tramite_tipo.agg('count')\n",
    "robadosTN.head()"
   ]
  },
  {
   "cell_type": "code",
   "execution_count": null,
   "metadata": {
    "Collapsed": "false",
    "scrolled": true
   },
   "outputs": [],
   "source": [
    "# Junto las dos cosas\n",
    "robadosNorm = pd.concat([robadosTN, marketShare_Marcas], axis=1)\n",
    "robadosNorm"
   ]
  },
  {
   "cell_type": "code",
   "execution_count": null,
   "metadata": {
    "Collapsed": "false"
   },
   "outputs": [],
   "source": [
    "# Normalizo por el MarketShare\n",
    "N_vehiculos = 13302670\n",
    "robadosNorm['robosNorm'] = robadosNorm['tramite_tipo'] / (robadosNorm['share']*N_vehiculos)*100\n",
    "robadosNorm = robadosNorm.sort_values(by=['robosNorm'], ascending = False)\n",
    "robadosNorm"
   ]
  },
  {
   "cell_type": "markdown",
   "metadata": {},
   "source": [
    "# Robos por año"
   ]
  },
  {
   "cell_type": "code",
   "execution_count": 70,
   "metadata": {},
   "outputs": [
    {
     "data": {
      "image/png": "[encoded data removed]",
      "text/plain": [
       "<Figure size 1440x720 with 1 Axes>"
      ]
     },
     "metadata": {
      "needs_background": "light"
     },
     "output_type": "display_data"
    }
   ],
   "source": [
    "plt.figure(figsize=(20,10))\n",
    "ax = sns.countplot(x=\"automotor_anio_modelo\", data=robados, palette=\"Set3\")\n",
    "ax.set_xticklabels(ax.get_xticklabels(), rotation=40, ha=\"right\")\n",
    "plt.title(\"Robos por año\")\n",
    "plt.show()"
   ]
  },
  {
   "cell_type": "markdown",
   "metadata": {
    "Collapsed": "false"
   },
   "source": [
    "### Robos por modelo"
   ]
  },
  {
   "cell_type": "code",
   "execution_count": null,
   "metadata": {
    "Collapsed": "false"
   },
   "outputs": [],
   "source": [
    "# Arreglo las marcas que están mal codificadas\n",
    "np.shape(robados[\"automotor_modelo_descripcion\"].unique())"
   ]
  },
  {
   "cell_type": "markdown",
   "metadata": {
    "Collapsed": "false"
   },
   "source": [
    "Acá la cosa se complica un poco más y que, como podemos ver, hay 8684 modelos distintos, muchos de esos repetidos con pequeñas variaciones (por ejemplo: XXX). \n",
    "\n",
    "En este caso tenemos como dato los 59 modelos con más patentamientos en los años 2018 y 2019 que, si bien no son directamente la composición del parque automotor, nos dan una idea grosera de la frecuencia relativa de cada uno de ellos. Por supuesto que este dato tiene claras limitaciones, por ejemplo, uno de los autos que más se encuentra en el parque automotor argentino es el Fiat Duna, sin embargo, no vamos a encontrar ninguna patentado en el período 2018-19.\n",
    "\n",
    "Para poder combinar ambos datos vamos a acomodar los modelos del dataframe *robados* tratando de encontrar a estos 59 modelos."
   ]
  },
  {
   "cell_type": "markdown",
   "metadata": {
    "Collapsed": "false"
   },
   "source": [
    "### Robos por provincia"
   ]
  },
  {
   "cell_type": "code",
   "execution_count": null,
   "metadata": {
    "Collapsed": "false"
   },
   "outputs": [],
   "source": [
    "# Countplot de robos por provincia\n",
    "plt.figure(figsize=(10,6))\n",
    "ax = sns.countplot(x = \"registro_seccional_provincia\", \n",
    "                   data = robados, \n",
    "                   order = robados_n_marcas[\"registro_seccional_provincia\"].value_counts().index,\n",
    "                   palette = \"Set3\")\n",
    "ax.set_xticklabels(ax.get_xticklabels(), rotation=40, ha=\"right\")\n",
    "plt.title(\"Cantidad de tramites (robos) por dia de la semana\")\n",
    "plt.show()"
   ]
  },
  {
   "cell_type": "code",
   "execution_count": null,
   "metadata": {
    "Collapsed": "false"
   },
   "outputs": [],
   "source": [
    "# Calculo los robos por provincia\n",
    "robados_por_provincia = robados.groupby('registro_seccional_provincia').tramite_tipo.agg('count')"
   ]
  },
  {
   "cell_type": "code",
   "execution_count": null,
   "metadata": {
    "Collapsed": "false",
    "scrolled": true
   },
   "outputs": [],
   "source": [
    "import geopandas as gpd\n",
    "# El shapefile que tiene todas las provincias\n",
    "shapefile = './GEO/provincia/provincia.shp'\n",
    "# Lo leo usando Geopandas\n",
    "provincias = gpd.read_file(shapefile)[['fna', 'nam', 'geometry']]\n",
    "# Le cambio el nombre a \"Tierra del Fuego, Antártida e Islas del Atlántico sur\" por \"Tierra del Fuego\"\n",
    "provincias.nam[16] = \"Tierra del Fuego\"\n",
    "provincias.nam[0] = \"Ciudad Autónoma de Bs.As.\""
   ]
  },
  {
   "cell_type": "code",
   "execution_count": null,
   "metadata": {
    "Collapsed": "false"
   },
   "outputs": [],
   "source": [
    "# Junto el geopandas con los poligionos de las provincias con los robos por provincia\n",
    "provincias = provincias.merge(robados_por_provincia, left_on='nam', right_index=True)"
   ]
  },
  {
   "cell_type": "code",
   "execution_count": null,
   "metadata": {
    "Collapsed": "false"
   },
   "outputs": [],
   "source": [
    "# El mapa me plotea la antartida y las islas asi que hago un rectangulo cortando solo el pais\n",
    "shapefile = './GEO/AOI/AOI.shp'\n",
    "# Read shapefile using Geopandas\n",
    "AOI = gpd.read_file(shapefile)"
   ]
  },
  {
   "cell_type": "code",
   "execution_count": null,
   "metadata": {
    "Collapsed": "false"
   },
   "outputs": [],
   "source": [
    "# Construyo la intersección entre el rectángulo y el shapefile de las provincias\n",
    "provincias_en_Argentina = gpd.overlay(provincias, AOI, how='intersection')\n",
    "provincias_en_Argentina"
   ]
  },
  {
   "cell_type": "code",
   "execution_count": null,
   "metadata": {
    "Collapsed": "false",
    "scrolled": true
   },
   "outputs": [],
   "source": [
    "# Ploteo los robos absolutos por provincia\n",
    "\n",
    "# Tamaño de la figura\n",
    "fig, ax = plt.subplots(1, figsize=(20, 8))\n",
    "# Título\n",
    "ax.set_title('Cantidad absoluta de tramites de robo por provincia', fontdict={'fontsize': '16', 'fontweight' : '3'})\n",
    "# Borro los ejes\n",
    "ax.axis('off')\n",
    "\n",
    "# Creo el colorbar\n",
    "sm = plt.cm.ScalarMappable(cmap='Blues', norm=plt.Normalize(vmin=min(robados_por_provincia), vmax=max(robados_por_provincia)))\n",
    "sm._A = []\n",
    "cbar = fig.colorbar(sm)\n",
    "\n",
    "# Plotea final\n",
    "provincias_en_Argentina = provincias_en_Argentina.to_crs({'init': 'epsg:3395'}) # Lo paso a Mercator\n",
    "provincias_en_Argentina.plot(column='tramite_tipo', cmap='Blues', linewidth=0.8, ax=ax, edgecolor='0.8')\n"
   ]
  },
  {
   "cell_type": "markdown",
   "metadata": {
    "Collapsed": "false"
   },
   "source": [
    "Ahora voy a normalizar primero por el número de patentados en 2018 y 2019 y después por el número de habitantes de las provincias. Mi sospecha es que algunas provincias están claramente subrepresentadas (puede ser porque no cargan las denuncias al sistema, porque el sistema integral no alcanza a todas las jurisdicciones o porque no se hacen todas las denuncias). El análisis por jurisdicción lo vamos a poder ver más en detalle en el sección **Robos por departamento**."
   ]
  },
  {
   "cell_type": "code",
   "execution_count": null,
   "metadata": {
    "Collapsed": "false"
   },
   "outputs": [],
   "source": [
    "patentados_por_provincia = pd.read_csv('./accesorios/Patentamiento autos.csv', sep=';', encoding='latin-1')\n",
    "patentados_por_provincia = patentados_por_provincia.rename(columns={\"CABA\": \"Ciudad Autónoma de Bs.As.\"})\n",
    "patentados_por_provincia = patentados_por_provincia.iloc[:,2:].sum(axis = 0)\n",
    "patentados_por_provincia = pd.DataFrame(data = patentados_por_provincia.values, index = patentados_por_provincia.index, columns=['Patentados'])"
   ]
  },
  {
   "cell_type": "code",
   "execution_count": null,
   "metadata": {
    "Collapsed": "false"
   },
   "outputs": [],
   "source": [
    "provincias_en_Argentina = provincias_en_Argentina.merge(patentados_por_provincia, left_on='nam', right_index=True)\n",
    "provincias_en_Argentina[\"Robos_norm\"] = provincias_en_Argentina[\"tramite_tipo\"]/provincias_en_Argentina[\"Patentados\"]\n",
    "provincias_en_Argentina"
   ]
  },
  {
   "cell_type": "code",
   "execution_count": null,
   "metadata": {
    "Collapsed": "false"
   },
   "outputs": [],
   "source": [
    "# Ploteo los robos absolutos por provincia\n",
    "\n",
    "# Tamaño de la figura\n",
    "fig, ax = plt.subplots(1, figsize=(20, 8))\n",
    "# Título\n",
    "ax.set_title('Cantidad normalizada de tramites de robo por provincia', fontdict={'fontsize': '16', 'fontweight' : '3'})\n",
    "# Borro los ejes\n",
    "ax.axis('off')\n",
    "\n",
    "# Creo el colorbar\n",
    "sm = plt.cm.ScalarMappable(cmap='Blues', norm=plt.Normalize(vmin=min(robados_por_provincia), vmax=max(robados_por_provincia)))\n",
    "sm._A = []\n",
    "cbar = fig.colorbar(sm)\n",
    "\n",
    "# Plotea final\n",
    "provincias_en_Argentina = provincias_en_Argentina.to_crs({'init': 'epsg:3395'}) # Lo paso a Mercator\n",
    "provincias_en_Argentina.plot(column='Robos_norm', cmap='Blues', linewidth=0.8, ax=ax, edgecolor='0.8')"
   ]
  },
  {
   "cell_type": "markdown",
   "metadata": {
    "Collapsed": "false"
   },
   "source": [
    "### recuperados"
   ]
  },
  {
   "cell_type": "code",
   "execution_count": 10,
   "metadata": {},
   "outputs": [],
   "source": [
    "recuperados = pd.read_csv(r'C:\\Users\\Luciano\\Trabajo final UTN\\robo_autos\\curados\\recus_limpio.csv')"
   ]
  },
  {
   "cell_type": "code",
   "execution_count": 11,
   "metadata": {},
   "outputs": [
    {
     "data": {
      "image/png": "[encoded data removed]",
      "text/plain": [
       "<Figure size 720x432 with 1 Axes>"
      ]
     },
     "metadata": {
      "needs_background": "light"
     },
     "output_type": "display_data"
    }
   ],
   "source": [
    "#Vemos la cantidad de autos recuperados en función del origen del mismo\n",
    "plt.figure(figsize=(10,6))\n",
    "ax = sns.countplot(x=\"automotor_origen\", data=recuperados, palette=\"Set3\")\n",
    "ax.set_xticklabels(ax.get_xticklabels(), rotation=40, ha=\"right\")\n",
    "plt.title(\"Recuperos por origen de automotor\")\n",
    "plt.show()"
   ]
  },
  {
   "cell_type": "code",
   "execution_count": 12,
   "metadata": {},
   "outputs": [
    {
     "data": {
      "image/png": "[encoded data removed]",
      "text/plain": [
       "<Figure size 1440x720 with 1 Axes>"
      ]
     },
     "metadata": {
      "needs_background": "light"
     },
     "output_type": "display_data"
    }
   ],
   "source": [
    "#Vemos recuperados por provincia\n",
    "plt.figure(figsize=(20,10))\n",
    "ax = sns.countplot(x=\"registro_seccional_provincia\", data=recuperados, palette=\"Set3\")\n",
    "ax.set_xticklabels(ax.get_xticklabels(), rotation=40, ha=\"right\")\n",
    "plt.title(\"Recuperos por provincia\")\n",
    "plt.show()"
   ]
  },
  {
   "cell_type": "code",
   "execution_count": 13,
   "metadata": {},
   "outputs": [
    {
     "data": {
      "image/png": "[encoded data removed]",
      "text/plain": [
       "<Figure size 1440x720 with 1 Axes>"
      ]
     },
     "metadata": {
      "needs_background": "light"
     },
     "output_type": "display_data"
    }
   ],
   "source": [
    "plt.figure(figsize=(20,10))\n",
    "ax = sns.countplot(x=\"automotor_anio_modelo\", data=recuperados, palette=\"Set3\")\n",
    "ax.set_xticklabels(ax.get_xticklabels(), rotation=40, ha=\"right\")\n",
    "plt.title(\"Recuperos por provincia\")\n",
    "plt.show()"
   ]
  },
  {
   "cell_type": "code",
   "execution_count": 14,
   "metadata": {},
   "outputs": [],
   "source": [
    "#Vamos a comparar los recuperados por anio de modelo en relación a lso robados totales de ese anio de modelo\n",
    "robados_anio_count = robados['automotor_anio_modelo'].value_counts()\n",
    "recuperados_anio_count = recuperados['automotor_anio_modelo'].value_counts()"
   ]
  },
  {
   "cell_type": "code",
   "execution_count": 15,
   "metadata": {},
   "outputs": [],
   "source": [
    "robados_anio_count = pd.DataFrame(robados_anio_count)\n",
    "recuperados_anio_count = pd.DataFrame(recuperados_anio_count)"
   ]
  },
  {
   "cell_type": "code",
   "execution_count": 16,
   "metadata": {},
   "outputs": [
    {
     "data": {
      "text/plain": [
       "Index(['total_robados_anio_modelo'], dtype='object')"
      ]
     },
     "execution_count": 16,
     "metadata": {},
     "output_type": "execute_result"
    }
   ],
   "source": [
    "robados_anio_count.columns = ['total_robados_anio_modelo']\n",
    "robados_anio_count.columns"
   ]
  },
  {
   "cell_type": "code",
   "execution_count": 17,
   "metadata": {},
   "outputs": [
    {
     "data": {
      "text/plain": [
       "Index(['total_recuperados_anio_modelo'], dtype='object')"
      ]
     },
     "execution_count": 17,
     "metadata": {},
     "output_type": "execute_result"
    }
   ],
   "source": [
    "recuperados_anio_count.columns = ['total_recuperados_anio_modelo']\n",
    "recuperados_anio_count.columns"
   ]
  },
  {
   "cell_type": "code",
   "execution_count": 18,
   "metadata": {},
   "outputs": [],
   "source": [
    "robos_recuperos_anio_modelo = pd.merge(robados_anio_count, recuperados_anio_count, left_index=True, right_index=True, how='outer')"
   ]
  },
  {
   "cell_type": "raw",
   "metadata": {},
   "source": [
    "robos_recuperos_anio_modelo = pd.DataFrame(robos_recuperos_anio_modelo)"
   ]
  },
  {
   "cell_type": "code",
   "execution_count": 19,
   "metadata": {},
   "outputs": [],
   "source": [
    "robos_recuperos_anio_modelo.fillna(0, inplace=True)"
   ]
  },
  {
   "cell_type": "code",
   "execution_count": 24,
   "metadata": {},
   "outputs": [],
   "source": [
    "robos_recuperos_anio_modelo['anio_modelo'] = robos_recuperos_anio_modelo.index\n",
    "#tiramos el index viejo, metemos uno nuevo y el viejo lo igualamos a una columna que inventamos\n",
    "robos_recuperos_anio_modelo = robos_recuperos_anio_modelo.reset_index(drop=True)"
   ]
  },
  {
   "cell_type": "code",
   "execution_count": 25,
   "metadata": {},
   "outputs": [],
   "source": [
    "robos_recuperos_anio_modelo = robos_recuperos_anio_modelo.iloc[1:]"
   ]
  },
  {
   "cell_type": "code",
   "execution_count": 26,
   "metadata": {},
   "outputs": [],
   "source": [
    "robos_recuperos_anio_modelo['recuperados_relativo_robo'] = robos_recuperos_anio_modelo['total_recuperados_anio_modelo'] / robos_recuperos_anio_modelo['total_robados_anio_modelo']"
   ]
  },
  {
   "cell_type": "code",
   "execution_count": 34,
   "metadata": {},
   "outputs": [
    {
     "data": {
      "text/plain": [
       "Index(['total_robados_anio_modelo', 'total_recuperados_anio_modelo',\n",
       "       'anio_modelo', 'recuperados_relativo_robo'],\n",
       "      dtype='object')"
      ]
     },
     "execution_count": 34,
     "metadata": {},
     "output_type": "execute_result"
    }
   ],
   "source": [
    "robos_recuperos_anio_modelo.columns"
   ]
  },
  {
   "cell_type": "code",
   "execution_count": 67,
   "metadata": {},
   "outputs": [],
   "source": [
    "anio_modelo_list = list(robos_recuperos_anio_modelo['anio_modelo'])\n",
    "recuperados_relativo_robo_list = list(robos_recuperos_anio_modelo['recuperados_relativo_robo'])\n",
    "tasa_sobre_robo = list(robos_recuperos_anio_modelo['recuperados_relativo_robo']/robos_recuperos_anio_modelo['total_robados_anio_modelo'])\n",
    "tasa_por_robo = list(1/(robos_recuperos_anio_modelo['recuperados_relativo_robo']/robos_recuperos_anio_modelo['total_robados_anio_modelo']))"
   ]
  },
  {
   "cell_type": "code",
   "execution_count": 63,
   "metadata": {},
   "outputs": [
    {
     "data": {
      "image/png": "[encoded data removed]",
      "text/plain": [
       "<Figure size 432x288 with 1 Axes>"
      ]
     },
     "metadata": {
      "needs_background": "light"
     },
     "output_type": "display_data"
    }
   ],
   "source": [
    "#Vemos la tasa de recupero por año de modelo del auto\n",
    "plt.scatter(anio_modelo_list,recuperados_relativo_robo_list)\n",
    "plt.show()"
   ]
  },
  {
   "cell_type": "code",
   "execution_count": 79,
   "metadata": {
    "scrolled": false
   },
   "outputs": [
    {
     "data": {
      "image/png": "[encoded data removed]",
      "text/plain": [
       "<Figure size 1728x720 with 1 Axes>"
      ]
     },
     "metadata": {},
     "output_type": "display_data"
    }
   ],
   "source": [
    "#Vemos cuanto se recupero en relación al robo de cada año de modelo de auto.\n",
    "\n",
    "sns.set_style(\"white\")\n",
    "sns.set_context({\"figure.figsize\": (24, 10)})\n",
    "\n",
    "#Plot 1 - background - \"total\" (top) series\n",
    "sns.barplot(x = robos_recuperos_anio_modelo.anio_modelo, y = robos_recuperos_anio_modelo.total_robados_anio_modelo, color = \"red\")\n",
    "\n",
    "#Plot 2 - overlay - \"bottom\" series\n",
    "bottom_plot = sns.barplot(x = robos_recuperos_anio_modelo.anio_modelo, y = robos_recuperos_anio_modelo.total_recuperados_anio_modelo, color = \"#0000A3\")\n",
    "\n",
    "\n",
    "topbar = plt.Rectangle((0,0),1,1,fc=\"red\", edgecolor = 'none')\n",
    "bottombar = plt.Rectangle((0,0),1,1,fc='#0000A3',  edgecolor = 'none')\n",
    "l = plt.legend([bottombar, topbar], ['Bottom Bar', 'Top Bar'], loc=1, ncol = 2, prop={'size':16})\n",
    "l.draw_frame(False)\n",
    "\n",
    "#Optional code - Make plot look nicer\n",
    "plt.xticks(rotation=90)\n",
    "sns.despine(left=True)\n",
    "bottom_plot.set_ylabel(\"Y-axis label\")\n",
    "bottom_plot.set_xlabel(\"X-axis label\")\n",
    "\n",
    "#Set fonts to consistent 16pt size\n",
    "for item in ([bottom_plot.xaxis.label, bottom_plot.yaxis.label] +\n",
    "             bottom_plot.get_xticklabels() + bottom_plot.get_yticklabels()):\n",
    "    item.set_fontsize(16)"
   ]
  },
  {
   "cell_type": "code",
   "execution_count": null,
   "metadata": {},
   "outputs": [],
   "source": []
  }
 ],
 "metadata": {
  "kernelspec": {
   "display_name": "Python 3",
   "language": "python",
   "name": "python3"
  },
  "language_info": {
   "codemirror_mode": {
    "name": "ipython",
    "version": 3
   },
   "file_extension": ".py",
   "mimetype": "text/x-python",
   "name": "python",
   "nbconvert_exporter": "python",
   "pygments_lexer": "ipython3",
   "version": "3.7.3"
  }
 },
 "nbformat": 4,
 "nbformat_minor": 4
}
