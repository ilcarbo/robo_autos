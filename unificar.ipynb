{
 "cells": [
  {
   "cell_type": "code",
   "execution_count": 1,
   "metadata": {
    "Collapsed": "false"
   },
   "outputs": [],
   "source": [
    "import pandas as pd\n",
    "import numpy as np"
   ]
  },
  {
   "cell_type": "code",
   "execution_count": null,
   "metadata": {
    "Collapsed": "false"
   },
   "outputs": [],
   "source": [
    "#rob = pd.read_csv('./robo_autos/curados/robados.csv')\n",
    "#rec = pd.read_csv('./robo_autos/curados/recuperados.csv')"
   ]
  },
  {
   "cell_type": "code",
   "execution_count": null,
   "metadata": {
    "Collapsed": "false"
   },
   "outputs": [],
   "source": [
    "#rob.columns"
   ]
  },
  {
   "cell_type": "code",
   "execution_count": null,
   "metadata": {
    "Collapsed": "false"
   },
   "outputs": [],
   "source": [
    "#rec['tramite_fecha'].sort_values()"
   ]
  },
  {
   "cell_type": "code",
   "execution_count": 2,
   "metadata": {
    "Collapsed": "false"
   },
   "outputs": [],
   "source": [
    "todo = pd.read_csv('./curados/robos1819_total.csv')"
   ]
  },
  {
   "cell_type": "code",
   "execution_count": null,
   "metadata": {
    "Collapsed": "false"
   },
   "outputs": [],
   "source": [
    "todo.groupby('tramite_tipo')['tramite_fecha'].count()"
   ]
  },
  {
   "cell_type": "code",
   "execution_count": null,
   "metadata": {
    "Collapsed": "false"
   },
   "outputs": [],
   "source": [
    "#ver que columnas se pueden dropear (por empezar todo lo que está por código y nombre)\n",
    "todo.columns\n",
    "# 'registro_seccional_codigo', 'automotor_tipo_codigo', 'automotor_marca_codigo', 'automotor_modelo_codigo', 'automotor_uso_codigo', 'titular_domicilio_provincia_indec_id', 'titular_pais_nacimiento_indec_id'"
   ]
  },
  {
   "cell_type": "code",
   "execution_count": 3,
   "metadata": {
    "Collapsed": "false"
   },
   "outputs": [],
   "source": [
    "#dropear columnas de códigos\n",
    "todo.drop(['registro_seccional_codigo', 'automotor_tipo_codigo', 'automotor_marca_codigo', 'automotor_modelo_codigo', \n",
    "           'automotor_uso_codigo', 'titular_domicilio_provincia_indec_id', 'titular_pais_nacimiento_indec_id'], \n",
    "          axis= 1, inplace= True)"
   ]
  },
  {
   "cell_type": "code",
   "execution_count": 4,
   "metadata": {
    "Collapsed": "false"
   },
   "outputs": [
    {
     "data": {
      "text/plain": [
       "titular_pais_nacimiento\n",
       "Argentina          37903\n",
       "ARGENTINA          19143\n",
       "No aplica           3261\n",
       "No identificado     1385\n",
       "Paraguay             794\n",
       "PARAGUAY             439\n",
       "Bolivia              346\n",
       "Uruguay              194\n",
       "BOLIVIA              183\n",
       "Perú                 180\n",
       "Italia               153\n",
       "Name: tramite_tipo, dtype: int64"
      ]
     },
     "execution_count": 4,
     "metadata": {},
     "output_type": "execute_result"
    }
   ],
   "source": [
    "todo.groupby('titular_pais_nacimiento')['tramite_tipo'].count().sort_values(ascending= False)[0:11]\n",
    "# Los paises de nacimiento están repetidos en mayuscula y minúscula. pasar todo a may o min y unificar"
   ]
  },
  {
   "cell_type": "code",
   "execution_count": 5,
   "metadata": {
    "Collapsed": "false"
   },
   "outputs": [],
   "source": [
    "# pasar todo pais nacimiento a upper para unificar\n",
    "todo['titular_pais_nacimiento'] = todo['titular_pais_nacimiento'].map(lambda x: x.upper())"
   ]
  },
  {
   "cell_type": "code",
   "execution_count": 6,
   "metadata": {
    "Collapsed": "false"
   },
   "outputs": [],
   "source": [
    "# \"normalizar\" los strings para que las duplicaciones con y sin tildes se unifiquen.\n",
    "todo['titular_pais_nacimiento'] = todo['titular_pais_nacimiento'].str.normalize('NFKD').str.encode('ascii', errors='ignore').str.decode('utf-8')"
   ]
  },
  {
   "cell_type": "code",
   "execution_count": 7,
   "metadata": {
    "Collapsed": "false"
   },
   "outputs": [],
   "source": [
    "# Tratar casos especiales y cambiar (z franca cdo rivadavia y rivera)\n",
    "todo['titular_pais_nacimiento'] = todo['titular_pais_nacimiento'].replace('Z.F. CDRO.RIVADAVIA(ARG.)', 'ARGENTINA')\n",
    "todo['titular_pais_nacimiento'] = todo['titular_pais_nacimiento'].replace('Z.FRANCA CDRO. RIVADAVIA (ARG)', 'ARGENTINA')\n",
    "todo['titular_pais_nacimiento'] = todo['titular_pais_nacimiento'].replace('Z.F. PUNTA ARENAS (CHILE)', 'CHILE')\n",
    "todo['titular_pais_nacimiento'] = todo['titular_pais_nacimiento'].replace('RIVERA (URUGUAY)', 'URUGUAY')\n",
    "# Cambiar \"NO APLICA\" y \"NO IDENTIFICADO\" por NaN // REEMPLAZAR POR NO IDENTIFICADO?\n",
    "todo['titular_pais_nacimiento'] = todo['titular_pais_nacimiento'].replace('NO APLICA', np.nan)\n",
    "todo['titular_pais_nacimiento'] = todo['titular_pais_nacimiento'].replace('NO IDENTIFICADO', np.nan)"
   ]
  },
  {
   "cell_type": "code",
   "execution_count": 8,
   "metadata": {
    "Collapsed": "false"
   },
   "outputs": [],
   "source": [
    "#todo['automotor_anio_modelo'].unique()\n",
    "#todo[todo['automotor_anio_modelo'] == 20].count()\n",
    "# en 'automotor_anio_modelo' hay 27 registros que figuran como \"20\" ver que hacer y como tratarlos // YO DROPEARIA\n",
    "# los tiro\n",
    "cond_index = todo[todo['automotor_anio_modelo'] == 20].index\n",
    "todo.drop(cond_index, inplace = True)"
   ]
  },
  {
   "cell_type": "code",
   "execution_count": null,
   "metadata": {
    "Collapsed": "false"
   },
   "outputs": [],
   "source": [
    "#todo.groupby('titular_pais_nacimiento')['tramite_tipo'].count().sort_values(ascending= False)\n",
    "todo.columns"
   ]
  },
  {
   "cell_type": "code",
   "execution_count": 9,
   "metadata": {
    "Collapsed": "false"
   },
   "outputs": [],
   "source": [
    "# HACER DESPUES DE DUPLICADOS\n",
    "## Con 'titular_porcentaje_titularidad' hay que tener cuidado, ver si hay registros duplicados por diferentes porcentajes\n",
    "#    y de ser así unificarlos y generar una columna 'es_titular_unico' \n",
    "#todo['titular_porcentaje_titularidad'].unique()\n",
    "#todo[(todo['titular_porcentaje_titularidad'] == 20) | (todo['titular_porcentaje_titularidad'] == 80)]\n",
    "# no parecerían estar repetidos. hacer columna 'es dueño unico'\n",
    "todo['unico_duenio'] = np.where(todo.titular_porcentaje_titularidad == 100, 1, 0)"
   ]
  },
  {
   "cell_type": "code",
   "execution_count": 10,
   "metadata": {
    "Collapsed": "false"
   },
   "outputs": [],
   "source": [
    "## 'titular_genero' hay que unificar no identificado y no aplica --> pasa todo a ser No identificado\n",
    "#todo.groupby('titular_genero')['tramite_tipo'].count().sort_values(ascending= False)\n",
    "todo['titular_genero'] = todo['titular_genero'].replace('No aplica', 'No identificado')"
   ]
  },
  {
   "cell_type": "code",
   "execution_count": null,
   "metadata": {
    "Collapsed": "false"
   },
   "outputs": [],
   "source": [
    "## 'automotor_modelo_descripcion' es imposible. CRUZAR CON EL DE PATENTAMIENTOS Y BUSCAR LAS PRINCIPALES 50 POR REGEX\n",
    "todo['automotor_modelo_descripcion'].nunique()"
   ]
  },
  {
   "cell_type": "markdown",
   "metadata": {
    "Collapsed": "false"
   },
   "source": [
    "----------------------"
   ]
  },
  {
   "cell_type": "markdown",
   "metadata": {
    "Collapsed": "false"
   },
   "source": [
    "### VOY A DROPEAR AHROA MODELO PARA PROBAR (14/10) ACORDARSE DE VOLVERLA SI NO CAMBIA"
   ]
  },
  {
   "cell_type": "code",
   "execution_count": 11,
   "metadata": {
    "Collapsed": "false"
   },
   "outputs": [],
   "source": [
    "todo.drop('automotor_modelo_descripcion', axis= 1, inplace= True)"
   ]
  },
  {
   "cell_type": "code",
   "execution_count": null,
   "metadata": {
    "Collapsed": "false"
   },
   "outputs": [],
   "source": [
    "todo.groupby('tramite_tipo')['tramite_fecha'].count()"
   ]
  },
  {
   "cell_type": "markdown",
   "metadata": {
    "Collapsed": "false"
   },
   "source": [
    "-----------------------"
   ]
  },
  {
   "cell_type": "code",
   "execution_count": null,
   "metadata": {
    "Collapsed": "false"
   },
   "outputs": [],
   "source": [
    "## 'automotor_tipo_descripcion' es un bardo, capaz conviene volarla o hacer un serio tratamiento de RegEx\n",
    "todo['automotor_tipo_descripcion'].unique()\n",
    "todo['automotor_tipo_descripcion'].nunique()"
   ]
  },
  {
   "cell_type": "code",
   "execution_count": null,
   "metadata": {
    "Collapsed": "false"
   },
   "outputs": [],
   "source": [
    "## 'automotor_marca_descripcion' es enquilombado también pero se puede manejar con un poco de carigno\n",
    "#todo['automotor_marca_descripcion'].unique()\n",
    "todo['automotor_marca_descripcion'].nunique()"
   ]
  },
  {
   "cell_type": "markdown",
   "metadata": {
    "Collapsed": "false"
   },
   "source": [
    "--------------------------------------"
   ]
  },
  {
   "cell_type": "markdown",
   "metadata": {
    "Collapsed": "false"
   },
   "source": [
    "## ver como unificar los recuperados con robados"
   ]
  },
  {
   "cell_type": "code",
   "execution_count": null,
   "metadata": {
    "Collapsed": "false"
   },
   "outputs": [],
   "source": [
    "todo.loc[todo['tramite_tipo'] == 'COMUNICACIÓN DE RECUPERO']"
   ]
  },
  {
   "cell_type": "code",
   "execution_count": null,
   "metadata": {
    "Collapsed": "false"
   },
   "outputs": [],
   "source": [
    "# buscar filas duplicadas sin tener en cuenta tipo ni fecha. TRATAR DE ENCONTRAR ROBOS Y RECUPEROS DEL MISMO AUTO\n",
    "# si los sorteo por fecha_inscripcion_inicial los tengo ordenados. tengo que iterar para agregar columna?"
   ]
  },
  {
   "cell_type": "code",
   "execution_count": 12,
   "metadata": {
    "Collapsed": "false"
   },
   "outputs": [],
   "source": [
    "# sortear por fecha inscripción para tener juntos mismos autos, modelo en caso que se repita fecha y fecha trámite para que esté primero robo desps recuepro (si saqué modelo usar marca acá)\n",
    "#dupli = todo[todo.drop(['tramite_tipo', 'tramite_fecha'],axis=1).duplicated(keep = False)].sort_values(by= ['fecha_inscripcion_inicial', 'automotor_modelo_descripcion', 'tramite_fecha'])\n",
    "dupli = todo[todo.drop(['tramite_tipo', 'tramite_fecha'],axis=1).duplicated(keep = False)].sort_values(by= ['fecha_inscripcion_inicial', 'automotor_marca_descripcion', 'tramite_fecha'])"
   ]
  },
  {
   "cell_type": "markdown",
   "metadata": {
    "Collapsed": "false"
   },
   "source": [
    "### recheckear bien qué hay que sacar a mano porque unificando nombres de paises cambia el número"
   ]
  },
  {
   "cell_type": "code",
   "execution_count": null,
   "metadata": {
    "Collapsed": "false"
   },
   "outputs": [],
   "source": [
    "# Checkear manualmente las fechas sospechosas\n",
    "#dupli.loc[dupli.fecha_inscripcion_inicial == '2017-06-28']"
   ]
  },
  {
   "cell_type": "code",
   "execution_count": 13,
   "metadata": {
    "Collapsed": "false"
   },
   "outputs": [],
   "source": [
    "# Sacar a mano los \"triplicados\" y denuncias duplicadas (no importa sacar un nuevo robo de acá pq despues modifico sobre el orig) , NO. TENGO QUE SACAR TRIPLICADO PORQUE ME CAMBIA EL DATAFRAME DE DUPLICADOS\n",
    "# robado de nuevo\n",
    "dupli.drop(dupli[(dupli['fecha_inscripcion_inicial'] == '1995-04-07') & (dupli['tramite_fecha'] == '2019-03-19')].index , inplace= True)\n",
    "# robo triplicado\n",
    "dupli.drop(dupli[(dupli['fecha_inscripcion_inicial'] == '1998-09-15')].index , inplace= True)\n",
    "# robo triplicado\n",
    "dupli.drop(dupli[(dupli['fecha_inscripcion_inicial'] == '2001-05-04') & (dupli['tramite_fecha'] == '2019-04-05')].index , inplace= True)\n",
    "# robado de nuevo\n",
    "dupli.drop(dupli[(dupli['fecha_inscripcion_inicial'] == '2006-01-05') & (dupli['tramite_fecha'] == '2018-12-28')].index , inplace= True)\n",
    "# un robo duplicado\n",
    "dupli.drop(dupli[(dupli['fecha_inscripcion_inicial'] == '2008-01-02') & (dupli['tramite_fecha'] == '2018-02-22')].index[0], inplace = True)\n",
    "# recupero duplicado\n",
    "dupli.drop(dupli[(dupli['fecha_inscripcion_inicial'] == '2012-11-15') & (dupli['tramite_fecha'] == '2019-04-10')].index , inplace= True)\n",
    "# robado de nuevo\n",
    "dupli.drop(dupli[(dupli['fecha_inscripcion_inicial'] == '2013-06-05') & (dupli['tramite_fecha'] == '2019-09-05')].index , inplace= True)\n",
    "# dos denuncias de robo\n",
    "dupli.drop(dupli[(dupli['fecha_inscripcion_inicial'] == '2016-10-03') & (dupli['tramite_fecha'] == '2018-03-27')].index , inplace= True)\n",
    "# robado de nuevo\n",
    "dupli.drop(dupli[(dupli['fecha_inscripcion_inicial'] == '2017-06-28') & (dupli['tramite_fecha'] == '2019-04-12')].index , inplace= True)\n",
    "\n",
    "#dupli[(dupli['fecha_inscripcion_inicial'] == '2008-01-02') & (dupli['tramite_fecha'] == '2018-02-22')] #drop by index 14771\n",
    "#dupli.drop(dupli.index[14771]) // dropear el primero de los dos "
   ]
  },
  {
   "cell_type": "code",
   "execution_count": 13,
   "metadata": {
    "Collapsed": "false"
   },
   "outputs": [
    {
     "data": {
      "text/plain": [
       "tramite_tipo\n",
       "COMUNICACIÓN DE RECUPERO    858\n",
       "DENUNCIA DE ROBO O HURTO    940\n",
       "Name: tramite_fecha, dtype: int64"
      ]
     },
     "execution_count": 13,
     "metadata": {},
     "output_type": "execute_result"
    }
   ],
   "source": [
    "#dupli.groupby('tramite_tipo')['tramite_fecha'].count()\n",
    "# hay robos duplicados, los tengo que dropear!"
   ]
  },
  {
   "cell_type": "code",
   "execution_count": null,
   "metadata": {
    "Collapsed": "false"
   },
   "outputs": [],
   "source": [
    "# generar columna de indices para el df dupli\n",
    "\n",
    "# Con for loop\n",
    "#indeces = []\n",
    "#for i in range(1,(dupli.shape[0] // 2) + 1):\n",
    "#    indeces.append(i)\n",
    "#    indeces.append(i)\n",
    "\n",
    "# con numpy repeat\n",
    "#rango = np.arange(1, (dupli.shape[0] // 2) + 1)\n",
    "#np.repeat(rango, 2)"
   ]
  },
  {
   "cell_type": "code",
   "execution_count": 14,
   "metadata": {
    "Collapsed": "false"
   },
   "outputs": [],
   "source": [
    "# generar columna de indices para el df dupli\n",
    "dupli['indice'] = np.repeat(np.arange(1, (dupli.shape[0] // 2) + 1), 2)"
   ]
  },
  {
   "cell_type": "code",
   "execution_count": null,
   "metadata": {
    "Collapsed": "false"
   },
   "outputs": [],
   "source": [
    "#dupli.head(10)"
   ]
  },
  {
   "cell_type": "code",
   "execution_count": 15,
   "metadata": {
    "Collapsed": "false"
   },
   "outputs": [],
   "source": [
    "# reordenar columnas para llevar indice a primero\n",
    "cols = dupli.columns.tolist()\n",
    "cols = cols[-1:] + cols[:-1]\n",
    "dupli = dupli[cols]"
   ]
  },
  {
   "cell_type": "code",
   "execution_count": 16,
   "metadata": {
    "Collapsed": "false"
   },
   "outputs": [],
   "source": [
    "# generar df accesorio para poder hacer la columna con el shift\n",
    "dupli_test = dupli[['indice', 'tramite_tipo', 'tramite_fecha']]\n",
    "# hacer la columna directamente en el df dupli\n",
    "dupli['fecha_recup'] = dupli_test.groupby('indice')['tramite_fecha'].shift(-1)"
   ]
  },
  {
   "cell_type": "code",
   "execution_count": 17,
   "metadata": {
    "Collapsed": "false"
   },
   "outputs": [],
   "source": [
    "#modificar df original y dupli para poder tener las mismas columnas y reemplazar directamente\n",
    "dupli.drop('indice', axis = 1, inplace = True)\n",
    "dupli.drop(dupli[dupli['tramite_tipo'] == 'COMUNICACIÓN DE RECUPERO'].index, inplace= True)\n",
    "todo['fecha_recup'] = np.nan\n",
    "#todo['dias_recu'] = np.nan esto no, al pedo"
   ]
  },
  {
   "cell_type": "markdown",
   "metadata": {
    "Collapsed": "false"
   },
   "source": [
    "## HACER UNA COLUMNA QUE SE LLAME DE_ROBO PARA PODER DESPUES BORRAR EN EL DF ORIGINAL AQUELLOS RECUPEROS QUE VIENEN DE ROBO Y DEJAR EL RESTO."
   ]
  },
  {
   "cell_type": "code",
   "execution_count": null,
   "metadata": {
    "Collapsed": "false"
   },
   "outputs": [],
   "source": [
    "#dupli.head()"
   ]
  },
  {
   "cell_type": "code",
   "execution_count": 18,
   "metadata": {
    "Collapsed": "false"
   },
   "outputs": [],
   "source": [
    "#updatear las filas en todo con las fechas de recupero\n",
    "todo.update(dupli)"
   ]
  },
  {
   "cell_type": "code",
   "execution_count": 19,
   "metadata": {
    "Collapsed": "false"
   },
   "outputs": [],
   "source": [
    "# dropear recuperos en df grande\n",
    "todo.drop(todo[todo['tramite_tipo'] == 'COMUNICACIÓN DE RECUPERO'].index, inplace= True)"
   ]
  },
  {
   "cell_type": "code",
   "execution_count": 20,
   "metadata": {
    "Collapsed": "false"
   },
   "outputs": [],
   "source": [
    "# cambiar tipo de columnas a fechas (HACER ESTO SI O SI)\n",
    "todo['tramite_fecha'] = pd.to_datetime(todo['tramite_fecha'], format=\"%Y/%m/%d\")\n",
    "todo['fecha_recup'] = pd.to_datetime(todo['fecha_recup'], format=\"%Y/%m/%d\")"
   ]
  },
  {
   "cell_type": "code",
   "execution_count": 21,
   "metadata": {
    "Collapsed": "false"
   },
   "outputs": [],
   "source": [
    "# GENERAR LA COLUMNA NUEVA CON LA DIFERENCIA DE DÍAS\n",
    "todo['dias'] = todo['fecha_recup'] - todo['tramite_fecha']"
   ]
  },
  {
   "cell_type": "code",
   "execution_count": 22,
   "metadata": {
    "Collapsed": "false"
   },
   "outputs": [
    {
     "data": {
      "text/plain": [
       "(61636, 20)"
      ]
     },
     "execution_count": 22,
     "metadata": {},
     "output_type": "execute_result"
    }
   ],
   "source": [
    "todo.shape"
   ]
  },
  {
   "cell_type": "code",
   "execution_count": 23,
   "metadata": {
    "Collapsed": "false"
   },
   "outputs": [
    {
     "data": {
      "text/plain": [
       "count                         873\n",
       "mean     121 days 06:09:29.072164\n",
       "std       98 days 16:20:41.940867\n",
       "min               0 days 00:00:00\n",
       "25%              49 days 00:00:00\n",
       "50%              98 days 00:00:00\n",
       "75%             167 days 00:00:00\n",
       "max             525 days 00:00:00\n",
       "Name: dias, dtype: object"
      ]
     },
     "execution_count": 23,
     "metadata": {},
     "output_type": "execute_result"
    }
   ],
   "source": [
    "#todo.loc[todo['fecha_inscripcion_inicial'] == '1973-01-22']\n",
    "todo.dias.describe()"
   ]
  },
  {
   "cell_type": "code",
   "execution_count": 24,
   "metadata": {
    "Collapsed": "false"
   },
   "outputs": [
    {
     "data": {
      "text/html": [
       "<div>\n",
       "<style scoped>\n",
       "    .dataframe tbody tr th:only-of-type {\n",
       "        vertical-align: middle;\n",
       "    }\n",
       "\n",
       "    .dataframe tbody tr th {\n",
       "        vertical-align: top;\n",
       "    }\n",
       "\n",
       "    .dataframe thead th {\n",
       "        text-align: right;\n",
       "    }\n",
       "</style>\n",
       "<table border=\"1\" class=\"dataframe\">\n",
       "  <thead>\n",
       "    <tr style=\"text-align: right;\">\n",
       "      <th></th>\n",
       "      <th>tramite_tipo</th>\n",
       "      <th>tramite_fecha</th>\n",
       "      <th>fecha_inscripcion_inicial</th>\n",
       "      <th>registro_seccional_descripcion</th>\n",
       "      <th>registro_seccional_provincia</th>\n",
       "      <th>automotor_origen</th>\n",
       "      <th>automotor_anio_modelo</th>\n",
       "      <th>automotor_tipo_descripcion</th>\n",
       "      <th>automotor_marca_descripcion</th>\n",
       "      <th>automotor_uso_descripcion</th>\n",
       "      <th>titular_tipo_persona</th>\n",
       "      <th>titular_domicilio_localidad</th>\n",
       "      <th>titular_domicilio_provincia</th>\n",
       "      <th>titular_genero</th>\n",
       "      <th>titular_anio_nacimiento</th>\n",
       "      <th>titular_pais_nacimiento</th>\n",
       "      <th>titular_porcentaje_titularidad</th>\n",
       "      <th>unico_duenio</th>\n",
       "      <th>fecha_recup</th>\n",
       "      <th>dias</th>\n",
       "    </tr>\n",
       "  </thead>\n",
       "  <tbody>\n",
       "    <tr>\n",
       "      <td>0</td>\n",
       "      <td>DENUNCIA DE ROBO O HURTO</td>\n",
       "      <td>2018-01-17</td>\n",
       "      <td>2000-10-05</td>\n",
       "      <td>ESTEBAN ECHEVERRIA Nº 1</td>\n",
       "      <td>Buenos Aires</td>\n",
       "      <td>Nacional</td>\n",
       "      <td>2000.0</td>\n",
       "      <td>SEDAN</td>\n",
       "      <td>CHEVROLET</td>\n",
       "      <td>Privado</td>\n",
       "      <td>Física</td>\n",
       "      <td>MONTE GRANDE</td>\n",
       "      <td>BUENOS AIRES</td>\n",
       "      <td>Masculino</td>\n",
       "      <td>1981.0</td>\n",
       "      <td>ARGENTINA</td>\n",
       "      <td>100.0</td>\n",
       "      <td>1.0</td>\n",
       "      <td>NaT</td>\n",
       "      <td>NaT</td>\n",
       "    </tr>\n",
       "    <tr>\n",
       "      <td>1</td>\n",
       "      <td>DENUNCIA DE ROBO O HURTO</td>\n",
       "      <td>2018-01-03</td>\n",
       "      <td>2007-11-22</td>\n",
       "      <td>LANUS Nº 1</td>\n",
       "      <td>Buenos Aires</td>\n",
       "      <td>Nacional</td>\n",
       "      <td>2007.0</td>\n",
       "      <td>FURGON 600</td>\n",
       "      <td>PEUGEOT</td>\n",
       "      <td>Privado</td>\n",
       "      <td>Física</td>\n",
       "      <td>VALENTIN ALSINA</td>\n",
       "      <td>BUENOS AIRES</td>\n",
       "      <td>Femenino</td>\n",
       "      <td>1990.0</td>\n",
       "      <td>ARGENTINA</td>\n",
       "      <td>100.0</td>\n",
       "      <td>1.0</td>\n",
       "      <td>NaT</td>\n",
       "      <td>NaT</td>\n",
       "    </tr>\n",
       "    <tr>\n",
       "      <td>2</td>\n",
       "      <td>DENUNCIA DE ROBO O HURTO</td>\n",
       "      <td>2018-01-12</td>\n",
       "      <td>1995-02-01</td>\n",
       "      <td>MAR DEL PLATA Nº 02</td>\n",
       "      <td>Buenos Aires</td>\n",
       "      <td>Nacional</td>\n",
       "      <td>1995.0</td>\n",
       "      <td>BERLINA 5 PUERTAS</td>\n",
       "      <td>RENAULT</td>\n",
       "      <td>Privado</td>\n",
       "      <td>Física</td>\n",
       "      <td>UNIDAD TURISTICA CHAPADMALAL</td>\n",
       "      <td>BUENOS AIRES</td>\n",
       "      <td>Masculino</td>\n",
       "      <td>1986.0</td>\n",
       "      <td>ARGENTINA</td>\n",
       "      <td>100.0</td>\n",
       "      <td>1.0</td>\n",
       "      <td>NaT</td>\n",
       "      <td>NaT</td>\n",
       "    </tr>\n",
       "    <tr>\n",
       "      <td>3</td>\n",
       "      <td>DENUNCIA DE ROBO O HURTO</td>\n",
       "      <td>2018-01-02</td>\n",
       "      <td>1999-09-28</td>\n",
       "      <td>NECOCHEA Nº 1</td>\n",
       "      <td>Buenos Aires</td>\n",
       "      <td>Nacional</td>\n",
       "      <td>1999.0</td>\n",
       "      <td>BERLINA 3 PUERTAS</td>\n",
       "      <td>RENAULT</td>\n",
       "      <td>Privado</td>\n",
       "      <td>Física</td>\n",
       "      <td>NECOCHEA BS.AS.</td>\n",
       "      <td>BUENOS AIRES</td>\n",
       "      <td>No identificado</td>\n",
       "      <td>1964.0</td>\n",
       "      <td>NaN</td>\n",
       "      <td>100.0</td>\n",
       "      <td>1.0</td>\n",
       "      <td>NaT</td>\n",
       "      <td>NaT</td>\n",
       "    </tr>\n",
       "    <tr>\n",
       "      <td>4</td>\n",
       "      <td>DENUNCIA DE ROBO O HURTO</td>\n",
       "      <td>2018-01-09</td>\n",
       "      <td>2006-09-07</td>\n",
       "      <td>PILAR Nº 1</td>\n",
       "      <td>Buenos Aires</td>\n",
       "      <td>Nacional</td>\n",
       "      <td>2006.0</td>\n",
       "      <td>FURGON 600</td>\n",
       "      <td>PEUGEOT</td>\n",
       "      <td>Privado</td>\n",
       "      <td>Física</td>\n",
       "      <td>PTE. DERQUI</td>\n",
       "      <td>BUENOS AIRES</td>\n",
       "      <td>Femenino</td>\n",
       "      <td>1961.0</td>\n",
       "      <td>ARGENTINA</td>\n",
       "      <td>100.0</td>\n",
       "      <td>1.0</td>\n",
       "      <td>NaT</td>\n",
       "      <td>NaT</td>\n",
       "    </tr>\n",
       "  </tbody>\n",
       "</table>\n",
       "</div>"
      ],
      "text/plain": [
       "               tramite_tipo tramite_fecha fecha_inscripcion_inicial  \\\n",
       "0  DENUNCIA DE ROBO O HURTO    2018-01-17                2000-10-05   \n",
       "1  DENUNCIA DE ROBO O HURTO    2018-01-03                2007-11-22   \n",
       "2  DENUNCIA DE ROBO O HURTO    2018-01-12                1995-02-01   \n",
       "3  DENUNCIA DE ROBO O HURTO    2018-01-02                1999-09-28   \n",
       "4  DENUNCIA DE ROBO O HURTO    2018-01-09                2006-09-07   \n",
       "\n",
       "  registro_seccional_descripcion registro_seccional_provincia  \\\n",
       "0        ESTEBAN ECHEVERRIA Nº 1                 Buenos Aires   \n",
       "1                     LANUS Nº 1                 Buenos Aires   \n",
       "2            MAR DEL PLATA Nº 02                 Buenos Aires   \n",
       "3                  NECOCHEA Nº 1                 Buenos Aires   \n",
       "4                     PILAR Nº 1                 Buenos Aires   \n",
       "\n",
       "  automotor_origen  automotor_anio_modelo automotor_tipo_descripcion  \\\n",
       "0         Nacional                 2000.0                      SEDAN   \n",
       "1         Nacional                 2007.0                 FURGON 600   \n",
       "2         Nacional                 1995.0          BERLINA 5 PUERTAS   \n",
       "3         Nacional                 1999.0          BERLINA 3 PUERTAS   \n",
       "4         Nacional                 2006.0                 FURGON 600   \n",
       "\n",
       "  automotor_marca_descripcion automotor_uso_descripcion titular_tipo_persona  \\\n",
       "0                   CHEVROLET                   Privado               Física   \n",
       "1                     PEUGEOT                   Privado               Física   \n",
       "2                     RENAULT                   Privado               Física   \n",
       "3                     RENAULT                   Privado               Física   \n",
       "4                     PEUGEOT                   Privado               Física   \n",
       "\n",
       "    titular_domicilio_localidad titular_domicilio_provincia   titular_genero  \\\n",
       "0                  MONTE GRANDE                BUENOS AIRES        Masculino   \n",
       "1               VALENTIN ALSINA                BUENOS AIRES         Femenino   \n",
       "2  UNIDAD TURISTICA CHAPADMALAL                BUENOS AIRES        Masculino   \n",
       "3               NECOCHEA BS.AS.                BUENOS AIRES  No identificado   \n",
       "4                   PTE. DERQUI                BUENOS AIRES         Femenino   \n",
       "\n",
       "   titular_anio_nacimiento titular_pais_nacimiento  \\\n",
       "0                   1981.0               ARGENTINA   \n",
       "1                   1990.0               ARGENTINA   \n",
       "2                   1986.0               ARGENTINA   \n",
       "3                   1964.0                     NaN   \n",
       "4                   1961.0               ARGENTINA   \n",
       "\n",
       "   titular_porcentaje_titularidad  unico_duenio fecha_recup dias  \n",
       "0                           100.0           1.0         NaT  NaT  \n",
       "1                           100.0           1.0         NaT  NaT  \n",
       "2                           100.0           1.0         NaT  NaT  \n",
       "3                           100.0           1.0         NaT  NaT  \n",
       "4                           100.0           1.0         NaT  NaT  "
      ]
     },
     "execution_count": 24,
     "metadata": {},
     "output_type": "execute_result"
    }
   ],
   "source": [
    "todo.head()"
   ]
  },
  {
   "cell_type": "code",
   "execution_count": 25,
   "metadata": {
    "Collapsed": "false"
   },
   "outputs": [],
   "source": [
    "# guardar csv\n",
    "todo.to_csv('./curados/curados.csv',index=False, encoding='utf-8-sig')"
   ]
  },
  {
   "cell_type": "markdown",
   "metadata": {
    "Collapsed": "false"
   },
   "source": [
    "## pruebas, hay que cambiarle antes el nombre a las columnas"
   ]
  },
  {
   "cell_type": "code",
   "execution_count": null,
   "metadata": {
    "Collapsed": "false"
   },
   "outputs": [],
   "source": [
    "#todo.sort_values('diff')0\n",
    "#testear = todo.iloc[[26483, 26770, 25782] ,:]\n",
    "#TESTEAR CON NANs\n",
    "#testear = todo.iloc[[0, 58823, 9999, 26770, 25782, 40264, 41557] ,:]\n",
    "testear = todo.copy()"
   ]
  },
  {
   "cell_type": "code",
   "execution_count": null,
   "metadata": {
    "Collapsed": "false"
   },
   "outputs": [],
   "source": [
    "# cambiar tipo de columnas a fechas (HACER ESTO SI O SI)\n",
    "testear['tramite_fecha'] = pd.to_datetime(testear['tramite_fecha'], format=\"%Y/%m/%d\")\n",
    "testear['fecha_recup'] = pd.to_datetime(testear['fecha_recup'], format=\"%Y/%m/%d\")"
   ]
  },
  {
   "cell_type": "code",
   "execution_count": null,
   "metadata": {
    "Collapsed": "false"
   },
   "outputs": [],
   "source": [
    "# GENERAR LA COLUMNA NUEVA CON LA DIFERENCIA DE DÍAS\n",
    "testear['dias'] = testear['fecha_recup'] - testear['tramite_fecha']"
   ]
  },
  {
   "cell_type": "code",
   "execution_count": null,
   "metadata": {
    "Collapsed": "false"
   },
   "outputs": [],
   "source": [
    "testear.loc[testear['fecha_inscripcion_inicial'] == '1973-01-22']"
   ]
  },
  {
   "cell_type": "markdown",
   "metadata": {
    "Collapsed": "false"
   },
   "source": [
    "### acomodar todo y agregar columna RECUPERADO, si/no ó 1/0.\n",
    "### ver en qué formato dejar días.\n",
    "### exportar csv para laburar"
   ]
  },
  {
   "cell_type": "markdown",
   "metadata": {
    "Collapsed": "false"
   },
   "source": [
    "------------------------"
   ]
  },
  {
   "cell_type": "markdown",
   "metadata": {
    "Collapsed": "false"
   },
   "source": [
    "# Para checkear fechas triplicadas o erroneas"
   ]
  },
  {
   "cell_type": "code",
   "execution_count": null,
   "metadata": {
    "Collapsed": "false"
   },
   "outputs": [],
   "source": [
    "#CREAR DF DE PRUEBA SOLO CON FECHA TRÁMITE Y FECHA ID DE LO QUE ESTÁ DUPLICADO (solo fecha inscripcion)\n",
    "duplicados = todo[todo.drop(['tramite_tipo', 'tramite_fecha'],axis=1).duplicated(keep = False)].sort_values(by= 'fecha_inscripcion_inicial')[['tramite_tipo', 'tramite_fecha', 'fecha_inscripcion_inicial']]"
   ]
  },
  {
   "cell_type": "code",
   "execution_count": null,
   "metadata": {
    "Collapsed": "false"
   },
   "outputs": [],
   "source": [
    "#CREAR DF DE PRUEBA SOLO CON FECHA TRÁMITE Y FECHA ID DE LO QUE ESTÁ DUPLICADO\n",
    "duplicados = todo[todo.drop(['tramite_tipo', 'tramite_fecha'],axis=1).duplicated(keep = False)].sort_values(by= ['fecha_inscripcion_inicial', 'automotor_modelo_descripcion', 'tramite_fecha'])[['tramite_tipo', 'tramite_fecha', 'fecha_inscripcion_inicial']]"
   ]
  },
  {
   "cell_type": "code",
   "execution_count": null,
   "metadata": {
    "Collapsed": "false"
   },
   "outputs": [],
   "source": [
    "#CREAR DF DE PRUEBA SOLO CON FECHA TRÁMITE Y FECHA ID DE LO QUE ESTÁ DUPLICADO (habiendo dropeado modelo, gano 10 samples)\n",
    "duplicados = todo[todo.drop(['tramite_tipo', 'tramite_fecha'],axis=1).duplicated(keep = False)].sort_values(by= ['fecha_inscripcion_inicial', 'automotor_marca_descripcion', 'tramite_fecha'])[['tramite_tipo', 'tramite_fecha', 'fecha_inscripcion_inicial']]"
   ]
  },
  {
   "cell_type": "code",
   "execution_count": null,
   "metadata": {
    "Collapsed": "false"
   },
   "outputs": [],
   "source": [
    "duplicados.shape"
   ]
  },
  {
   "cell_type": "code",
   "execution_count": null,
   "metadata": {
    "Collapsed": "false"
   },
   "outputs": [],
   "source": [
    "duplicados.head()"
   ]
  },
  {
   "cell_type": "code",
   "execution_count": null,
   "metadata": {
    "Collapsed": "false"
   },
   "outputs": [],
   "source": [
    "#prueba1 de stack overflow (https://stackoverflow.com/questions/52084133/pandas-create-new-column-based-on-duplicates)\n",
    "newdf=duplicados.assign(Newid=duplicados.groupby('fecha_inscripcion_inicial').cumcount())\n",
    "newdf.pivot('fecha_inscripcion_inicial','Newid','tramite_fecha')\n",
    "# esto anda para ver fecha principio y fin, tnego que ver qué onda con los que tienen más de 2 registros. \n",
    "# mostrar index en el pivot para poder ubicar el original?"
   ]
  },
  {
   "cell_type": "code",
   "execution_count": null,
   "metadata": {
    "Collapsed": "false"
   },
   "outputs": [],
   "source": [
    "# with statement para mostrar solo en este caso las 1000 lineas\n",
    "with pd.option_context(\"display.max_rows\", 1000): \n",
    "        display(newdf.pivot('fecha_inscripcion_inicial','Newid','tramite_fecha'))"
   ]
  },
  {
   "cell_type": "markdown",
   "metadata": {
    "Collapsed": "false"
   },
   "source": [
    "---------------------------------------"
   ]
  },
  {
   "cell_type": "markdown",
   "metadata": {
    "Collapsed": "false"
   },
   "source": [
    "# CHICHITOS APARTE"
   ]
  },
  {
   "cell_type": "code",
   "execution_count": null,
   "metadata": {
    "Collapsed": "false"
   },
   "outputs": [],
   "source": [
    "# otra opción de stackoverflow (mismo post)\n",
    "# VER BIEN. CAPAZ ES NECESARIO AGREGAR COLUMNA CON INDICE COMÚN\n",
    "from collections import defaultdict\n",
    "from itertools import count\n",
    "\n",
    "d = defaultdict(count)\n",
    "\n",
    "i, r = pd.factorize([*zip(duplicados.fecha_inscripcion_inicial, duplicados.)])\n",
    "j = np.array([next(d[x]) for x in i])\n",
    "\n",
    "n, m = len(r), j.max() + 1\n",
    "\n",
    "b = np.empty((n, m), dtype=np.object)\n",
    "b[i, j] = df.animal\n",
    "\n",
    "d1 = pd.DataFrame(r.tolist(), columns=['id', 'name'])\n",
    "d2 = pd.DataFrame(b, columns=['animal', 'more_animal'])\n",
    "d1.join(d2)"
   ]
  },
  {
   "cell_type": "code",
   "execution_count": null,
   "metadata": {
    "Collapsed": "false"
   },
   "outputs": [],
   "source": [
    "from collections import defaultdict\n",
    "from itertools import count\n",
    "\n",
    "d = defaultdict(count)\n",
    "\n",
    "i, r = pd.factorize([*zip(duplicados.fecha_inscripcion_inicial, duplicados.tramite_fecha)])"
   ]
  },
  {
   "cell_type": "code",
   "execution_count": null,
   "metadata": {
    "Collapsed": "false"
   },
   "outputs": [],
   "source": [
    "r"
   ]
  },
  {
   "cell_type": "code",
   "execution_count": null,
   "metadata": {
    "Collapsed": "false"
   },
   "outputs": [],
   "source": []
  }
 ],
 "metadata": {
  "kernelspec": {
   "display_name": "Python 3",
   "language": "python",
   "name": "python3"
  },
  "language_info": {
   "codemirror_mode": {
    "name": "ipython",
    "version": 3
   },
   "file_extension": ".py",
   "mimetype": "text/x-python",
   "name": "python",
   "nbconvert_exporter": "python",
   "pygments_lexer": "ipython3",
   "version": "3.7.1"
  }
 },
 "nbformat": 4,
 "nbformat_minor": 4
}
