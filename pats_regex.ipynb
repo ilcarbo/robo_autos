{
 "cells": [
  {
   "cell_type": "code",
   "execution_count": 1,
   "metadata": {
    "Collapsed": "false"
   },
   "outputs": [],
   "source": [
    "import pandas as pd\n",
    "import numpy as np"
   ]
  },
  {
   "cell_type": "code",
   "execution_count": 2,
   "metadata": {
    "Collapsed": "false"
   },
   "outputs": [],
   "source": [
    "import regex as re\n",
    "from datetime import datetime\n"
   ]
  },
  {
   "cell_type": "code",
   "execution_count": 3,
   "metadata": {
    "Collapsed": "false"
   },
   "outputs": [
    {
     "ename": "ParserError",
     "evalue": "Error tokenizing data. C error: Expected 278 fields in line 123, saw 386\n",
     "output_type": "error",
     "traceback": [
      "\u001b[1;31m---------------------------------------------------------------------------\u001b[0m",
      "\u001b[1;31mParserError\u001b[0m                               Traceback (most recent call last)",
      "\u001b[1;32m<ipython-input-3-4c5ab5407685>\u001b[0m in \u001b[0;36m<module>\u001b[1;34m\u001b[0m\n\u001b[1;32m----> 1\u001b[1;33m \u001b[0mdata\u001b[0m \u001b[1;33m=\u001b[0m \u001b[0mpd\u001b[0m\u001b[1;33m.\u001b[0m\u001b[0mread_csv\u001b[0m\u001b[1;33m(\u001b[0m\u001b[1;34m'https://drive.google.com/open?id=1AqXutrwtbySQmteaNtHnc5ZXNapCZYd8'\u001b[0m\u001b[1;33m)\u001b[0m\u001b[1;33m\u001b[0m\u001b[1;33m\u001b[0m\u001b[0m\n\u001b[0m",
      "\u001b[1;32mC:\\ProgramData\\Anaconda3\\lib\\site-packages\\pandas\\io\\parsers.py\u001b[0m in \u001b[0;36mparser_f\u001b[1;34m(filepath_or_buffer, sep, delimiter, header, names, index_col, usecols, squeeze, prefix, mangle_dupe_cols, dtype, engine, converters, true_values, false_values, skipinitialspace, skiprows, skipfooter, nrows, na_values, keep_default_na, na_filter, verbose, skip_blank_lines, parse_dates, infer_datetime_format, keep_date_col, date_parser, dayfirst, cache_dates, iterator, chunksize, compression, thousands, decimal, lineterminator, quotechar, quoting, doublequote, escapechar, comment, encoding, dialect, error_bad_lines, warn_bad_lines, delim_whitespace, low_memory, memory_map, float_precision)\u001b[0m\n\u001b[0;32m    683\u001b[0m         )\n\u001b[0;32m    684\u001b[0m \u001b[1;33m\u001b[0m\u001b[0m\n\u001b[1;32m--> 685\u001b[1;33m         \u001b[1;32mreturn\u001b[0m \u001b[0m_read\u001b[0m\u001b[1;33m(\u001b[0m\u001b[0mfilepath_or_buffer\u001b[0m\u001b[1;33m,\u001b[0m \u001b[0mkwds\u001b[0m\u001b[1;33m)\u001b[0m\u001b[1;33m\u001b[0m\u001b[1;33m\u001b[0m\u001b[0m\n\u001b[0m\u001b[0;32m    686\u001b[0m \u001b[1;33m\u001b[0m\u001b[0m\n\u001b[0;32m    687\u001b[0m     \u001b[0mparser_f\u001b[0m\u001b[1;33m.\u001b[0m\u001b[0m__name__\u001b[0m \u001b[1;33m=\u001b[0m \u001b[0mname\u001b[0m\u001b[1;33m\u001b[0m\u001b[1;33m\u001b[0m\u001b[0m\n",
      "\u001b[1;32mC:\\ProgramData\\Anaconda3\\lib\\site-packages\\pandas\\io\\parsers.py\u001b[0m in \u001b[0;36m_read\u001b[1;34m(filepath_or_buffer, kwds)\u001b[0m\n\u001b[0;32m    461\u001b[0m \u001b[1;33m\u001b[0m\u001b[0m\n\u001b[0;32m    462\u001b[0m     \u001b[1;32mtry\u001b[0m\u001b[1;33m:\u001b[0m\u001b[1;33m\u001b[0m\u001b[1;33m\u001b[0m\u001b[0m\n\u001b[1;32m--> 463\u001b[1;33m         \u001b[0mdata\u001b[0m \u001b[1;33m=\u001b[0m \u001b[0mparser\u001b[0m\u001b[1;33m.\u001b[0m\u001b[0mread\u001b[0m\u001b[1;33m(\u001b[0m\u001b[0mnrows\u001b[0m\u001b[1;33m)\u001b[0m\u001b[1;33m\u001b[0m\u001b[1;33m\u001b[0m\u001b[0m\n\u001b[0m\u001b[0;32m    464\u001b[0m     \u001b[1;32mfinally\u001b[0m\u001b[1;33m:\u001b[0m\u001b[1;33m\u001b[0m\u001b[1;33m\u001b[0m\u001b[0m\n\u001b[0;32m    465\u001b[0m         \u001b[0mparser\u001b[0m\u001b[1;33m.\u001b[0m\u001b[0mclose\u001b[0m\u001b[1;33m(\u001b[0m\u001b[1;33m)\u001b[0m\u001b[1;33m\u001b[0m\u001b[1;33m\u001b[0m\u001b[0m\n",
      "\u001b[1;32mC:\\ProgramData\\Anaconda3\\lib\\site-packages\\pandas\\io\\parsers.py\u001b[0m in \u001b[0;36mread\u001b[1;34m(self, nrows)\u001b[0m\n\u001b[0;32m   1152\u001b[0m     \u001b[1;32mdef\u001b[0m \u001b[0mread\u001b[0m\u001b[1;33m(\u001b[0m\u001b[0mself\u001b[0m\u001b[1;33m,\u001b[0m \u001b[0mnrows\u001b[0m\u001b[1;33m=\u001b[0m\u001b[1;32mNone\u001b[0m\u001b[1;33m)\u001b[0m\u001b[1;33m:\u001b[0m\u001b[1;33m\u001b[0m\u001b[1;33m\u001b[0m\u001b[0m\n\u001b[0;32m   1153\u001b[0m         \u001b[0mnrows\u001b[0m \u001b[1;33m=\u001b[0m \u001b[0m_validate_integer\u001b[0m\u001b[1;33m(\u001b[0m\u001b[1;34m\"nrows\"\u001b[0m\u001b[1;33m,\u001b[0m \u001b[0mnrows\u001b[0m\u001b[1;33m)\u001b[0m\u001b[1;33m\u001b[0m\u001b[1;33m\u001b[0m\u001b[0m\n\u001b[1;32m-> 1154\u001b[1;33m         \u001b[0mret\u001b[0m \u001b[1;33m=\u001b[0m \u001b[0mself\u001b[0m\u001b[1;33m.\u001b[0m\u001b[0m_engine\u001b[0m\u001b[1;33m.\u001b[0m\u001b[0mread\u001b[0m\u001b[1;33m(\u001b[0m\u001b[0mnrows\u001b[0m\u001b[1;33m)\u001b[0m\u001b[1;33m\u001b[0m\u001b[1;33m\u001b[0m\u001b[0m\n\u001b[0m\u001b[0;32m   1155\u001b[0m \u001b[1;33m\u001b[0m\u001b[0m\n\u001b[0;32m   1156\u001b[0m         \u001b[1;31m# May alter columns / col_dict\u001b[0m\u001b[1;33m\u001b[0m\u001b[1;33m\u001b[0m\u001b[1;33m\u001b[0m\u001b[0m\n",
      "\u001b[1;32mC:\\ProgramData\\Anaconda3\\lib\\site-packages\\pandas\\io\\parsers.py\u001b[0m in \u001b[0;36mread\u001b[1;34m(self, nrows)\u001b[0m\n\u001b[0;32m   2057\u001b[0m     \u001b[1;32mdef\u001b[0m \u001b[0mread\u001b[0m\u001b[1;33m(\u001b[0m\u001b[0mself\u001b[0m\u001b[1;33m,\u001b[0m \u001b[0mnrows\u001b[0m\u001b[1;33m=\u001b[0m\u001b[1;32mNone\u001b[0m\u001b[1;33m)\u001b[0m\u001b[1;33m:\u001b[0m\u001b[1;33m\u001b[0m\u001b[1;33m\u001b[0m\u001b[0m\n\u001b[0;32m   2058\u001b[0m         \u001b[1;32mtry\u001b[0m\u001b[1;33m:\u001b[0m\u001b[1;33m\u001b[0m\u001b[1;33m\u001b[0m\u001b[0m\n\u001b[1;32m-> 2059\u001b[1;33m             \u001b[0mdata\u001b[0m \u001b[1;33m=\u001b[0m \u001b[0mself\u001b[0m\u001b[1;33m.\u001b[0m\u001b[0m_reader\u001b[0m\u001b[1;33m.\u001b[0m\u001b[0mread\u001b[0m\u001b[1;33m(\u001b[0m\u001b[0mnrows\u001b[0m\u001b[1;33m)\u001b[0m\u001b[1;33m\u001b[0m\u001b[1;33m\u001b[0m\u001b[0m\n\u001b[0m\u001b[0;32m   2060\u001b[0m         \u001b[1;32mexcept\u001b[0m \u001b[0mStopIteration\u001b[0m\u001b[1;33m:\u001b[0m\u001b[1;33m\u001b[0m\u001b[1;33m\u001b[0m\u001b[0m\n\u001b[0;32m   2061\u001b[0m             \u001b[1;32mif\u001b[0m \u001b[0mself\u001b[0m\u001b[1;33m.\u001b[0m\u001b[0m_first_chunk\u001b[0m\u001b[1;33m:\u001b[0m\u001b[1;33m\u001b[0m\u001b[1;33m\u001b[0m\u001b[0m\n",
      "\u001b[1;32mpandas\\_libs\\parsers.pyx\u001b[0m in \u001b[0;36mpandas._libs.parsers.TextReader.read\u001b[1;34m()\u001b[0m\n",
      "\u001b[1;32mpandas\\_libs\\parsers.pyx\u001b[0m in \u001b[0;36mpandas._libs.parsers.TextReader._read_low_memory\u001b[1;34m()\u001b[0m\n",
      "\u001b[1;32mpandas\\_libs\\parsers.pyx\u001b[0m in \u001b[0;36mpandas._libs.parsers.TextReader._read_rows\u001b[1;34m()\u001b[0m\n",
      "\u001b[1;32mpandas\\_libs\\parsers.pyx\u001b[0m in \u001b[0;36mpandas._libs.parsers.TextReader._tokenize_rows\u001b[1;34m()\u001b[0m\n",
      "\u001b[1;32mpandas\\_libs\\parsers.pyx\u001b[0m in \u001b[0;36mpandas._libs.parsers.raise_parser_error\u001b[1;34m()\u001b[0m\n",
      "\u001b[1;31mParserError\u001b[0m: Error tokenizing data. C error: Expected 278 fields in line 123, saw 386\n"
     ]
    }
   ],
   "source": [
    "data = pd.read_csv('https://drive.google.com/open?id=1AqXutrwtbySQmteaNtHnc5ZXNapCZYd8')"
   ]
  },
  {
   "cell_type": "code",
   "execution_count": 7,
   "metadata": {
    "Collapsed": "false"
   },
   "outputs": [],
   "source": [
    "data.drop(['registro_seccional_codigo', 'automotor_tipo_codigo', 'automotor_marca_codigo','automotor_modelo_codigo', 'automotor_uso_codigo', \n",
    "          'titular_domicilio_provincia_indec_id', 'titular_pais_nacimiento_indec_id'], axis = 1, inplace = True)"
   ]
  },
  {
   "cell_type": "markdown",
   "metadata": {
    "Collapsed": "false"
   },
   "source": [
    "-----------------"
   ]
  },
  {
   "cell_type": "markdown",
   "metadata": {
    "Collapsed": "false"
   },
   "source": [
    "Pequeña prueba con fechas"
   ]
  },
  {
   "cell_type": "code",
   "execution_count": 960,
   "metadata": {
    "Collapsed": "false"
   },
   "outputs": [],
   "source": [
    "# Convertir fechas a datetime\n",
    "data['fechas'] = pd.to_datetime(data['tramite_fecha'])"
   ]
  },
  {
   "cell_type": "code",
   "execution_count": 961,
   "metadata": {
    "Collapsed": "false"
   },
   "outputs": [],
   "source": [
    "# generar columna nueva con n de dia del año\n",
    "data['dia_anio'] = data.fechas.apply(lambda x: x.timetuple().tm_yday)"
   ]
  },
  {
   "cell_type": "code",
   "execution_count": 40,
   "metadata": {
    "Collapsed": "false"
   },
   "outputs": [
    {
     "data": {
      "text/plain": [
       "0         17\n",
       "1          3\n",
       "2         12\n",
       "3          2\n",
       "4          9\n",
       "        ... \n",
       "61663    256\n",
       "61664    246\n",
       "61665    263\n",
       "61666    269\n",
       "61667    248\n",
       "Name: dia_anio, Length: 61668, dtype: int64"
      ]
     },
     "execution_count": 40,
     "metadata": {},
     "output_type": "execute_result"
    }
   ],
   "source": [
    "data['dia_anio']"
   ]
  },
  {
   "cell_type": "code",
   "execution_count": 962,
   "metadata": {
    "Collapsed": "false"
   },
   "outputs": [
    {
     "data": {
      "text/html": [
       "<div>\n",
       "<style scoped>\n",
       "    .dataframe tbody tr th:only-of-type {\n",
       "        vertical-align: middle;\n",
       "    }\n",
       "\n",
       "    .dataframe tbody tr th {\n",
       "        vertical-align: top;\n",
       "    }\n",
       "\n",
       "    .dataframe thead th {\n",
       "        text-align: right;\n",
       "    }\n",
       "</style>\n",
       "<table border=\"1\" class=\"dataframe\">\n",
       "  <thead>\n",
       "    <tr style=\"text-align: right;\">\n",
       "      <th></th>\n",
       "      <th>tramite_tipo</th>\n",
       "      <th>tramite_fecha</th>\n",
       "      <th>fecha_inscripcion_inicial</th>\n",
       "      <th>registro_seccional_descripcion</th>\n",
       "      <th>registro_seccional_provincia</th>\n",
       "      <th>automotor_origen</th>\n",
       "      <th>automotor_anio_modelo</th>\n",
       "      <th>automotor_tipo_descripcion</th>\n",
       "      <th>automotor_marca_descripcion</th>\n",
       "      <th>automotor_modelo_descripcion</th>\n",
       "      <th>automotor_uso_descripcion</th>\n",
       "      <th>titular_tipo_persona</th>\n",
       "      <th>titular_domicilio_localidad</th>\n",
       "      <th>titular_domicilio_provincia</th>\n",
       "      <th>titular_genero</th>\n",
       "      <th>titular_anio_nacimiento</th>\n",
       "      <th>titular_pais_nacimiento</th>\n",
       "      <th>unico_duenio</th>\n",
       "      <th>fechas</th>\n",
       "      <th>dia_anio</th>\n",
       "    </tr>\n",
       "  </thead>\n",
       "  <tbody>\n",
       "    <tr>\n",
       "      <td>0</td>\n",
       "      <td>DENUNCIA DE ROBO O HURTO</td>\n",
       "      <td>2018-01-17</td>\n",
       "      <td>2000-10-05</td>\n",
       "      <td>ESTEBAN ECHEVERRIA Nº 1</td>\n",
       "      <td>Buenos Aires</td>\n",
       "      <td>Nacional</td>\n",
       "      <td>2000.0</td>\n",
       "      <td>SEDAN</td>\n",
       "      <td>CHEVROLET</td>\n",
       "      <td>CORSA 4 PUERTAS WIND 1.6 MPFI</td>\n",
       "      <td>Privado</td>\n",
       "      <td>Física</td>\n",
       "      <td>MONTE GRANDE</td>\n",
       "      <td>BUENOS AIRES</td>\n",
       "      <td>Masculino</td>\n",
       "      <td>1981.0</td>\n",
       "      <td>ARGENTINA</td>\n",
       "      <td>1</td>\n",
       "      <td>2018-01-17</td>\n",
       "      <td>17</td>\n",
       "    </tr>\n",
       "    <tr>\n",
       "      <td>1</td>\n",
       "      <td>DENUNCIA DE ROBO O HURTO</td>\n",
       "      <td>2018-01-03</td>\n",
       "      <td>2007-11-22</td>\n",
       "      <td>LANUS Nº 1</td>\n",
       "      <td>Buenos Aires</td>\n",
       "      <td>Nacional</td>\n",
       "      <td>2007.0</td>\n",
       "      <td>FURGON 600</td>\n",
       "      <td>PEUGEOT</td>\n",
       "      <td>PARTNER FURGON D PLC PRESENCE</td>\n",
       "      <td>Privado</td>\n",
       "      <td>Física</td>\n",
       "      <td>VALENTIN ALSINA</td>\n",
       "      <td>BUENOS AIRES</td>\n",
       "      <td>Femenino</td>\n",
       "      <td>1990.0</td>\n",
       "      <td>ARGENTINA</td>\n",
       "      <td>1</td>\n",
       "      <td>2018-01-03</td>\n",
       "      <td>3</td>\n",
       "    </tr>\n",
       "    <tr>\n",
       "      <td>2</td>\n",
       "      <td>DENUNCIA DE ROBO O HURTO</td>\n",
       "      <td>2018-01-12</td>\n",
       "      <td>1995-02-01</td>\n",
       "      <td>MAR DEL PLATA Nº 02</td>\n",
       "      <td>Buenos Aires</td>\n",
       "      <td>Nacional</td>\n",
       "      <td>1995.0</td>\n",
       "      <td>BERLINA 5 PUERTAS</td>\n",
       "      <td>RENAULT</td>\n",
       "      <td>19 RN INYECCION BIC.</td>\n",
       "      <td>Privado</td>\n",
       "      <td>Física</td>\n",
       "      <td>UNIDAD TURISTICA CHAPADMALAL</td>\n",
       "      <td>BUENOS AIRES</td>\n",
       "      <td>Masculino</td>\n",
       "      <td>1986.0</td>\n",
       "      <td>ARGENTINA</td>\n",
       "      <td>1</td>\n",
       "      <td>2018-01-12</td>\n",
       "      <td>12</td>\n",
       "    </tr>\n",
       "    <tr>\n",
       "      <td>3</td>\n",
       "      <td>DENUNCIA DE ROBO O HURTO</td>\n",
       "      <td>2018-01-02</td>\n",
       "      <td>1999-09-28</td>\n",
       "      <td>NECOCHEA Nº 1</td>\n",
       "      <td>Buenos Aires</td>\n",
       "      <td>Nacional</td>\n",
       "      <td>1999.0</td>\n",
       "      <td>BERLINA 3 PUERTAS</td>\n",
       "      <td>RENAULT</td>\n",
       "      <td>CLIO RL DIESEL 3 PUERTAS</td>\n",
       "      <td>Privado</td>\n",
       "      <td>Física</td>\n",
       "      <td>NECOCHEA BS.AS.</td>\n",
       "      <td>BUENOS AIRES</td>\n",
       "      <td>No identificado</td>\n",
       "      <td>1964.0</td>\n",
       "      <td>NO IDENTIFICADO</td>\n",
       "      <td>1</td>\n",
       "      <td>2018-01-02</td>\n",
       "      <td>2</td>\n",
       "    </tr>\n",
       "    <tr>\n",
       "      <td>4</td>\n",
       "      <td>DENUNCIA DE ROBO O HURTO</td>\n",
       "      <td>2018-01-09</td>\n",
       "      <td>2006-09-07</td>\n",
       "      <td>PILAR Nº 1</td>\n",
       "      <td>Buenos Aires</td>\n",
       "      <td>Nacional</td>\n",
       "      <td>2006.0</td>\n",
       "      <td>FURGON 600</td>\n",
       "      <td>PEUGEOT</td>\n",
       "      <td>PARTNER FURGON 1.4 N PRESENCE</td>\n",
       "      <td>Privado</td>\n",
       "      <td>Física</td>\n",
       "      <td>PTE. DERQUI</td>\n",
       "      <td>BUENOS AIRES</td>\n",
       "      <td>Femenino</td>\n",
       "      <td>1961.0</td>\n",
       "      <td>ARGENTINA</td>\n",
       "      <td>1</td>\n",
       "      <td>2018-01-09</td>\n",
       "      <td>9</td>\n",
       "    </tr>\n",
       "  </tbody>\n",
       "</table>\n",
       "</div>"
      ],
      "text/plain": [
       "               tramite_tipo tramite_fecha fecha_inscripcion_inicial  \\\n",
       "0  DENUNCIA DE ROBO O HURTO    2018-01-17                2000-10-05   \n",
       "1  DENUNCIA DE ROBO O HURTO    2018-01-03                2007-11-22   \n",
       "2  DENUNCIA DE ROBO O HURTO    2018-01-12                1995-02-01   \n",
       "3  DENUNCIA DE ROBO O HURTO    2018-01-02                1999-09-28   \n",
       "4  DENUNCIA DE ROBO O HURTO    2018-01-09                2006-09-07   \n",
       "\n",
       "  registro_seccional_descripcion registro_seccional_provincia  \\\n",
       "0        ESTEBAN ECHEVERRIA Nº 1                 Buenos Aires   \n",
       "1                     LANUS Nº 1                 Buenos Aires   \n",
       "2            MAR DEL PLATA Nº 02                 Buenos Aires   \n",
       "3                  NECOCHEA Nº 1                 Buenos Aires   \n",
       "4                     PILAR Nº 1                 Buenos Aires   \n",
       "\n",
       "  automotor_origen  automotor_anio_modelo automotor_tipo_descripcion  \\\n",
       "0         Nacional                 2000.0                      SEDAN   \n",
       "1         Nacional                 2007.0                 FURGON 600   \n",
       "2         Nacional                 1995.0          BERLINA 5 PUERTAS   \n",
       "3         Nacional                 1999.0          BERLINA 3 PUERTAS   \n",
       "4         Nacional                 2006.0                 FURGON 600   \n",
       "\n",
       "  automotor_marca_descripcion   automotor_modelo_descripcion  \\\n",
       "0                   CHEVROLET  CORSA 4 PUERTAS WIND 1.6 MPFI   \n",
       "1                     PEUGEOT  PARTNER FURGON D PLC PRESENCE   \n",
       "2                     RENAULT           19 RN INYECCION BIC.   \n",
       "3                     RENAULT       CLIO RL DIESEL 3 PUERTAS   \n",
       "4                     PEUGEOT  PARTNER FURGON 1.4 N PRESENCE   \n",
       "\n",
       "  automotor_uso_descripcion titular_tipo_persona  \\\n",
       "0                   Privado               Física   \n",
       "1                   Privado               Física   \n",
       "2                   Privado               Física   \n",
       "3                   Privado               Física   \n",
       "4                   Privado               Física   \n",
       "\n",
       "    titular_domicilio_localidad titular_domicilio_provincia   titular_genero  \\\n",
       "0                  MONTE GRANDE                BUENOS AIRES        Masculino   \n",
       "1               VALENTIN ALSINA                BUENOS AIRES         Femenino   \n",
       "2  UNIDAD TURISTICA CHAPADMALAL                BUENOS AIRES        Masculino   \n",
       "3               NECOCHEA BS.AS.                BUENOS AIRES  No identificado   \n",
       "4                   PTE. DERQUI                BUENOS AIRES         Femenino   \n",
       "\n",
       "   titular_anio_nacimiento titular_pais_nacimiento  unico_duenio     fechas  \\\n",
       "0                   1981.0               ARGENTINA             1 2018-01-17   \n",
       "1                   1990.0               ARGENTINA             1 2018-01-03   \n",
       "2                   1986.0               ARGENTINA             1 2018-01-12   \n",
       "3                   1964.0         NO IDENTIFICADO             1 2018-01-02   \n",
       "4                   1961.0               ARGENTINA             1 2018-01-09   \n",
       "\n",
       "   dia_anio  \n",
       "0        17  \n",
       "1         3  \n",
       "2        12  \n",
       "3         2  \n",
       "4         9  "
      ]
     },
     "execution_count": 962,
     "metadata": {},
     "output_type": "execute_result"
    }
   ],
   "source": [
    "data.head()"
   ]
  },
  {
   "cell_type": "code",
   "execution_count": 963,
   "metadata": {
    "Collapsed": "false"
   },
   "outputs": [],
   "source": [
    "data.drop('fechas', axis= 1, inplace= True)"
   ]
  },
  {
   "cell_type": "code",
   "execution_count": null,
   "metadata": {
    "Collapsed": "false"
   },
   "outputs": [],
   "source": [
    "#fechas[0]\n",
    "#fechas[0].timetuple().tm_yday\n",
    "#day_of_year = datetime.now().timetuple().tm_yday"
   ]
  },
  {
   "cell_type": "markdown",
   "metadata": {
    "Collapsed": "false"
   },
   "source": [
    "--------------------"
   ]
  },
  {
   "cell_type": "code",
   "execution_count": 8,
   "metadata": {
    "Collapsed": "false"
   },
   "outputs": [
    {
     "data": {
      "text/plain": [
       "(1186464, 18)"
      ]
     },
     "execution_count": 8,
     "metadata": {},
     "output_type": "execute_result"
    }
   ],
   "source": [
    "data.shape"
   ]
  },
  {
   "cell_type": "code",
   "execution_count": 14,
   "metadata": {
    "Collapsed": "false"
   },
   "outputs": [
    {
     "data": {
      "text/plain": [
       "Index(['tramite_tipo', 'tramite_fecha', 'fecha_inscripcion_inicial',\n",
       "       'registro_seccional_codigo', 'registro_seccional_descripcion',\n",
       "       'registro_seccional_provincia', 'automotor_origen',\n",
       "       'automotor_anio_modelo', 'automotor_tipo_codigo',\n",
       "       'automotor_tipo_descripcion', 'automotor_marca_codigo',\n",
       "       'automotor_marca_descripcion', 'automotor_modelo_codigo',\n",
       "       'automotor_modelo_descripcion', 'automotor_uso_codigo',\n",
       "       'automotor_uso_descripcion', 'titular_tipo_persona',\n",
       "       'titular_domicilio_localidad', 'titular_domicilio_provincia',\n",
       "       'titular_genero', 'titular_anio_nacimiento', 'titular_pais_nacimiento',\n",
       "       'titular_porcentaje_titularidad',\n",
       "       'titular_domicilio_provincia_indec_id',\n",
       "       'titular_pais_nacimiento_indec_id'],\n",
       "      dtype='object')"
      ]
     },
     "execution_count": 14,
     "metadata": {},
     "output_type": "execute_result"
    }
   ],
   "source": [
    "#data.automotor_tipo_descripcion.unique()\n",
    "data.columns"
   ]
  },
  {
   "cell_type": "code",
   "execution_count": 15,
   "metadata": {
    "Collapsed": "false"
   },
   "outputs": [
    {
     "data": {
      "text/plain": [
       "59"
      ]
     },
     "execution_count": 15,
     "metadata": {},
     "output_type": "execute_result"
    }
   ],
   "source": [
    "data['automotor_tipo_descripcion'].nunique()"
   ]
  },
  {
   "cell_type": "code",
   "execution_count": 19,
   "metadata": {
    "Collapsed": "false"
   },
   "outputs": [
    {
     "data": {
      "text/plain": [
       "array(['SEDAN 4 P', 'SEDAN 3 P', 'SEDAN'], dtype=object)"
      ]
     },
     "execution_count": 19,
     "metadata": {},
     "output_type": "execute_result"
    }
   ],
   "source": [
    "# Checkear los nombres que solo tienen el string...\n",
    "#data[data['automotor_tipo_descripcion'].str.contains('FURGON')]['automotor_tipo_descripcion'].unique()\n",
    "data[data['automotor_tipo_descripcion'].str.contains('SEDAN')]['automotor_tipo_descripcion'].unique()"
   ]
  },
  {
   "cell_type": "code",
   "execution_count": 17,
   "metadata": {
    "Collapsed": "false"
   },
   "outputs": [
    {
     "data": {
      "text/plain": [
       "1186341"
      ]
     },
     "execution_count": 17,
     "metadata": {},
     "output_type": "execute_result"
    }
   ],
   "source": [
    "# los primeros 20 suman 60k\n",
    "data.groupby('automotor_tipo_descripcion')['tramite_tipo'].count().sort_values(ascending= False)[0:20].sum()"
   ]
  },
  {
   "cell_type": "code",
   "execution_count": 18,
   "metadata": {
    "Collapsed": "false"
   },
   "outputs": [
    {
     "data": {
      "text/plain": [
       "automotor_tipo_descripcion\n",
       "SEDAN 4 P                   843137\n",
       "PICK UP                     182104\n",
       "FURGON                       60900\n",
       "TODO TERRENO                 36890\n",
       "CHASIS CON CABINA            22925\n",
       "SEMIRREMOLQUE                11210\n",
       "TRACTOR                       9419\n",
       "SEDAN 3 P                     6550\n",
       "ACOPLADO                      4739\n",
       "TRANSP. PASAJEROS             2288\n",
       "COMBI                         1701\n",
       "COUPE                         1687\n",
       "CAMION                         910\n",
       "ARENERO                        724\n",
       "FAMILIAR                       487\n",
       "UTILITARIO                     279\n",
       "CARRETON                       162\n",
       "SIN ESPECIFICACION             118\n",
       "DESCAPOTABLE                    80\n",
       "VOLQUETE                        31\n",
       "PHAETON                         17\n",
       "ROADSTER                        16\n",
       "AMBULANCIA                      15\n",
       "UNIDAD DE BOMBEROS              11\n",
       "CASA RODANTE                     7\n",
       "CABRIOLET                        6\n",
       "SEDAN                            4\n",
       "TOURING                          4\n",
       "BARREDORA                        3\n",
       "CUADRICICLO LIGERO L6(B)         3\n",
       "PAGODA                           3\n",
       "SPORT                            2\n",
       "DROPHEAD                         2\n",
       "DELIVERY                         2\n",
       "ANTIGUO                          2\n",
       "TUDOR                            2\n",
       "RUNABOUT                         2\n",
       "ISETTA 300                       1\n",
       "35C                              1\n",
       "519/520 BIPOSTO                  1\n",
       "Name: tramite_tipo, dtype: int64"
      ]
     },
     "execution_count": 18,
     "metadata": {},
     "output_type": "execute_result"
    }
   ],
   "source": [
    "data.groupby('automotor_tipo_descripcion')['tramite_tipo'].count().sort_values(ascending= False)[0:40]"
   ]
  },
  {
   "cell_type": "code",
   "execution_count": 206,
   "metadata": {
    "Collapsed": "false"
   },
   "outputs": [],
   "source": [
    "# drop rows where tipo isunique?"
   ]
  },
  {
   "cell_type": "markdown",
   "metadata": {
    "Collapsed": "false"
   },
   "source": [
    "## tips regex\n",
    "\n",
    "    - '.' busca cualquier caracter\n",
    "    - '*' busca cualquier numero de repeticiones de lo que está antes\n",
    "    - '\\s' busca cualquier whitespace\n"
   ]
  },
  {
   "cell_type": "markdown",
   "metadata": {
    "Collapsed": "false"
   },
   "source": [
    "## DECIDÍ AGRUPAR MUCHO MÁS PORQUE SI NO VA A SER UN DELIRIO Y MILLONES DE DUMMIES, GENERALIZO MÁS (SEDAN, PICKUP, ETC)"
   ]
  },
  {
   "cell_type": "code",
   "execution_count": 86,
   "metadata": {
    "Collapsed": "false"
   },
   "outputs": [],
   "source": [
    "#data['automotor_tipo_descripcion'].replace(to_replace= '^(?!SEDAN.3.P$).*$.*SEDAN.*', value= 'SEDAN 4 P', regex= True, inplace= True)\n",
    "# ACCESORIO --> busca todo lo que NO SEA sedan 3.p y si tenga sedan\n",
    "data['automotor_tipo_descripcion'].replace(to_replace= '^(?!.*SEDAN.3.P.*).*SEDAN.*', value= 'SEDAN 4 P', regex= True, inplace= True)"
   ]
  },
  {
   "cell_type": "code",
   "execution_count": 14,
   "metadata": {
    "Collapsed": "false"
   },
   "outputs": [],
   "source": [
    "data['automotor_tipo_descripcion'].replace(to_replace= '.*SEDAN\\s+4.*', value= 'SEDAN 4 P', regex= True, inplace= True)\n",
    "data['automotor_tipo_descripcion'].replace(to_replace= '.*S.*4.*', value= 'SEDAN 4 P', regex= True, inplace= True)\n",
    "data['automotor_tipo_descripcion'].replace(to_replace= '.*BELINA.*4.*', value= 'SEDAN 4 P', regex= True, inplace= True)\n",
    "data['automotor_tipo_descripcion'].replace(to_replace= '.*CUATRO.*PUERTAS.*| .*4.*PUERTAS.*', value= 'SEDAN 4 P', regex= True, inplace= True)\n",
    "\n",
    "data['automotor_tipo_descripcion'].replace(to_replace= '.*SEDAN\\s+5.*', value= 'SEDAN 4 P', regex= True, inplace= True)\n",
    "data['automotor_tipo_descripcion'].replace(to_replace= '.*SEDAN\\s+3.*', value= 'SEDAN 3 P', regex= True, inplace= True)\n",
    "data['automotor_tipo_descripcion'].replace(to_replace= '.*3\\s+P.*', value= 'SEDAN 3 P', regex= True, inplace= True)\n",
    "data['automotor_tipo_descripcion'].replace(to_replace= '.*5\\s+P.*', value= 'SEDAN 4 P', regex= True, inplace= True)\n",
    "\n",
    "\n",
    "# SEDAN 2 PUERTAS ES COUPE\n",
    "data['automotor_tipo_descripcion'].replace(to_replace= '.*SEDAN\\s+2.*', value= 'COUPE', regex= True, inplace= True)\n",
    "data['automotor_tipo_descripcion'].replace(to_replace= '.*2\\s+P.*', value= 'COUPE', regex= True, inplace= True)\n",
    "\n",
    "#TODO LO QUE QUEDA COMO SEDAN PASA A SER 4 PUERTAS\n",
    "data['automotor_tipo_descripcion'].replace(to_replace= '^(?!.*SEDAN.3.P.*).*SEDAN.*', value= 'SEDAN 4 P', regex= True, inplace= True)\n",
    "data['automotor_tipo_descripcion'].replace(to_replace= 'SEDAN$', value= 'SEDAN 4 P', regex= True, inplace= True)\n",
    "\n",
    "#LO QUE QUEDA DE PUERTAS SON SEDANES\n",
    "#data['automotor_tipo_descripcion'].replace(to_replace= '.*PUERTA.*', value= 'SEDAN', regex= True, inplace= True)\n",
    "# SEDAN VA TODO JUNTO (NO, DIVIDIR POR PUERTAS)\n",
    "#data['automotor_tipo_descripcion'].replace(to_replace= '.*S.DAN.*', value= 'SEDAN', regex= True, inplace= True)\n",
    "\n",
    "#data['automotor_tipo_descripcion'].replace(to_replace= 'RURAL\\s+4.*', value= 'RURAL 4 P', regex= True, inplace= True)\n",
    "data['automotor_tipo_descripcion'].replace(to_replace= '.*TRACTOR.*', value= 'TRACTOR', regex= True, inplace= True)\n",
    "data['automotor_tipo_descripcion'].replace(to_replace= 'MINIBUS.*', value= 'MINIBUS', regex= True, inplace= True)\n",
    "data['automotor_tipo_descripcion'].replace(to_replace= '.*FAMILIAR.*|.*FAMLIAR.*', value= 'FAMILIAR', regex= True, inplace= True)\n",
    "data['automotor_tipo_descripcion'].replace(to_replace= 'BERLINA\\s+3.*', value= 'BERLINA 3 P', regex= True, inplace= True)\n",
    "data['automotor_tipo_descripcion'].replace(to_replace= 'BERLINA\\s+4.*', value= 'BERLINA 4 P', regex= True, inplace= True)\n",
    "data['automotor_tipo_descripcion'].replace(to_replace= 'BERLINA\\s+5.*', value= 'BERLINA 5 P', regex= True, inplace= True)\n",
    "#data['automotor_tipo_descripcion'].replace(to_replace= '.*FURGON VID.*', value= 'FURGON VIDRIADO', regex= True, inplace= True)\n",
    "# UNIFICAR TODO FURGON Y FURGONETA\n",
    "data['automotor_tipo_descripcion'].replace(to_replace= '.*FURGON.*|.*FOUR.*', value= 'FURGON', regex= True, inplace= True)\n",
    "data['automotor_tipo_descripcion'].replace(to_replace= '.*SEMIRREMOLQUE.*', value= 'SEMIRREMOLQUE', regex= True, inplace= True)\n",
    "data['automotor_tipo_descripcion'].replace(to_replace= '.*REMOLQUE.*', value= 'SEMIRREMOLQUE', regex= True, inplace= True)\n",
    "data['automotor_tipo_descripcion'].replace(to_replace= '.*PICK.*UP.*', value= 'PICK UP', regex= True, inplace= True)\n",
    "#RURAL PASA A SER FAMILIAR\n",
    "data['automotor_tipo_descripcion'].replace(to_replace= '.*RURAL.*', value= 'FAMILIAR', regex= True, inplace= True)\n",
    "data['automotor_tipo_descripcion'].replace(to_replace= '.*4+X+4.*', value= 'TODO TERRENO', regex= True, inplace= True)\n",
    "# FURGONETA PASA A SER FURGON\n",
    "data['automotor_tipo_descripcion'].replace(to_replace= '.*FURGONETA.*', value= 'FURGON', regex= True, inplace= True)\n",
    "data['automotor_tipo_descripcion'].replace(to_replace= '.*FOURGON.*', value= 'FURGON', regex= True, inplace= True)\n",
    "data['automotor_tipo_descripcion'].replace(to_replace= '.*FUR.*', value= 'FURGON', regex= True, inplace= True)\n",
    "data['automotor_tipo_descripcion'].replace(to_replace= '.*FGON.*|.*FUR.*', value= 'FURGON', regex= True, inplace= True)\n",
    "\n",
    "data['automotor_tipo_descripcion'].replace(to_replace= '.*CH.*', value= 'CHASIS CON CABINA', regex= True, inplace= True)\n",
    "#data['automotor_tipo_descripcion'].replace(to_replace= '.*CH*', value= 'CHASIS CON CABINA', regex= True, inplace= True)\n",
    "# SEDAN Y BERLINA VAN A TERMINAR TODOS JUNTOS\n",
    "data['automotor_tipo_descripcion'].replace(to_replace= '.*BERLINA.*', value= 'SEDAN', regex= True, inplace= True)\n",
    "data['automotor_tipo_descripcion'].replace(to_replace= '.*COUPE.*', value= 'COUPE', regex= True, inplace= True)\n",
    "data['automotor_tipo_descripcion'].replace(to_replace= '.*DEPOR.*', value= 'COUPE', regex= True, inplace= True)\n",
    "data['automotor_tipo_descripcion'].replace(to_replace= '.*PASAJERO.*|.*PERSON.*', value= 'TRANSP. PASAJEROS', regex= True, inplace= True)\n",
    "data['automotor_tipo_descripcion'].replace(to_replace= '.*OMNIBUS.*', value= 'TRANSP. PASAJEROS', regex= True, inplace= True)\n",
    "# TODO ESCOLAR PASA A SER TRANSP PASAJEROS\n",
    "data['automotor_tipo_descripcion'].replace(to_replace= '.*ESC.*', value= 'TRANSP. PASAJEROS', regex= True, inplace= True)\n",
    "\n",
    "# BREAK ES UN FAMILIAR, GUIENSÁ\n",
    "data['automotor_tipo_descripcion'].replace(to_replace= '.*BREAK.*', value= 'FAMILIAR', regex= True, inplace= True)\n",
    "data['automotor_tipo_descripcion'].replace(to_replace= '.*OMBI.*', value= 'COMBI', regex= True, inplace= True)\n",
    "# TODO LO QUE SEA BUS/VAN PASA A SER COMBI\n",
    "data['automotor_tipo_descripcion'].replace(to_replace= '.*BUS.*', value= 'COMBI', regex= True, inplace= True)\n",
    "data['automotor_tipo_descripcion'].replace(to_replace= '.*VAN.*', value= 'COMBI', regex= True, inplace= True)\n",
    "\n",
    "#data['automotor_tipo_descripcion'].replace(to_replace= '.*CAMION/s.*', value= 'CAMION', regex= True, inplace= True)\n",
    "# PASAR CAMIONETA A PICKUP PRIMERO PARA EVITAR LLEVARMELA PUESTA CON CAMION (IGUALMENTE VER COMO EXLCUIR)\n",
    "data['automotor_tipo_descripcion'].replace(to_replace= '.*CAMIONETA.*', value= 'PICK UP', regex= True, inplace= True)\n",
    "data['automotor_tipo_descripcion'].replace(to_replace= '.*CAMION.*', value= 'CAMION', regex= True, inplace= True)\n",
    "# TODO LO QUE TENGA CARGA ES CAMBION\n",
    "data['automotor_tipo_descripcion'].replace(to_replace= '.*CARGA.*', value= 'CAMION', regex= True, inplace= True)\n",
    "\n",
    "# CONVERTIBLE PASA A SER DESCAPOTABLE\n",
    "data['automotor_tipo_descripcion'].replace(to_replace= '.*CONV.*', value= 'DESCAPOTABLE', regex= True, inplace= True)\n",
    "# TODO LO QUE QUEDA CON PTAS ES SEDAN\n",
    "data['automotor_tipo_descripcion'].replace(to_replace= '.*PTAS.*', value= 'SEDAN', regex= True, inplace= True)\n",
    "data['automotor_tipo_descripcion'].replace(to_replace= '.*WAGON.*', value= 'FAMILIAR', regex= True, inplace= True)\n",
    "data['automotor_tipo_descripcion'].replace(to_replace= '.*UTIL.*', value= 'UTILITARIO', regex= True, inplace= True)\n",
    "data['automotor_tipo_descripcion'].replace(to_replace= '.*AUTO.*', value= 'SEDAN', regex= True, inplace= True)\n",
    "data['automotor_tipo_descripcion'].replace(to_replace= '.*JEEP.*', value= 'TODO TERRENO', regex= True, inplace= True)\n",
    "data['automotor_tipo_descripcion'].replace(to_replace= '.*AMB.*', value= 'AMBULANCIA', regex= True, inplace= True)\n",
    "\n",
    "data['automotor_tipo_descripcion'].replace(to_replace= '.*ACOPL.*', value= 'ACOPLADO', regex= True, inplace= True)\n",
    "data['automotor_tipo_descripcion'].replace(to_replace= '.*CASA.*', value= 'CASA RODANTE', regex= True, inplace= True)\n",
    "data['automotor_tipo_descripcion'].replace(to_replace= '.*HOME.*', value= 'CASA RODANTE', regex= True, inplace= True)\n",
    "data['automotor_tipo_descripcion'].replace(to_replace= '.*GRUA.*', value= 'GRUA', regex= True, inplace= True)\n"
   ]
  },
  {
   "cell_type": "code",
   "execution_count": 109,
   "metadata": {
    "Collapsed": "false"
   },
   "outputs": [],
   "source": [
    "#PROTOCOLO 21 SON AUTOS FABRICADOS EN EL MERCOUSR"
   ]
  },
  {
   "cell_type": "code",
   "execution_count": 20,
   "metadata": {
    "Collapsed": "false"
   },
   "outputs": [],
   "source": [
    "# remover los tipos que tienen menos de 7 ocurrencias\n",
    "conteo = data['automotor_tipo_descripcion'].value_counts() < 7\n",
    "remover = conteo[conteo].index\n",
    "data = data[~data.automotor_tipo_descripcion.isin(remover)]\n",
    "# remover SIN ESPECIFICACION\n",
    "data = data[data['automotor_tipo_descripcion'] != 'SIN ESPECIFICACION']"
   ]
  },
  {
   "cell_type": "code",
   "execution_count": 21,
   "metadata": {
    "Collapsed": "false"
   },
   "outputs": [
    {
     "data": {
      "text/plain": [
       "SEDAN 4 P             843137\n",
       "PICK UP               182104\n",
       "FURGON                 60900\n",
       "TODO TERRENO           36890\n",
       "CHASIS CON CABINA      22925\n",
       "SEMIRREMOLQUE          11210\n",
       "TRACTOR                 9419\n",
       "SEDAN 3 P               6550\n",
       "ACOPLADO                4739\n",
       "TRANSP. PASAJEROS       2288\n",
       "COMBI                   1701\n",
       "COUPE                   1687\n",
       "CAMION                   910\n",
       "ARENERO                  724\n",
       "FAMILIAR                 487\n",
       "UTILITARIO               279\n",
       "CARRETON                 162\n",
       "DESCAPOTABLE              80\n",
       "VOLQUETE                  31\n",
       "PHAETON                   17\n",
       "ROADSTER                  16\n",
       "AMBULANCIA                15\n",
       "UNIDAD DE BOMBEROS        11\n",
       "CASA RODANTE               7\n",
       "Name: automotor_tipo_descripcion, dtype: int64"
      ]
     },
     "execution_count": 21,
     "metadata": {},
     "output_type": "execute_result"
    }
   ],
   "source": [
    "data['automotor_tipo_descripcion'].value_counts()"
   ]
  },
  {
   "cell_type": "code",
   "execution_count": 22,
   "metadata": {
    "Collapsed": "false"
   },
   "outputs": [
    {
     "data": {
      "text/plain": [
       "(1186289, 18)"
      ]
     },
     "execution_count": 22,
     "metadata": {},
     "output_type": "execute_result"
    }
   ],
   "source": [
    "data.shape"
   ]
  },
  {
   "cell_type": "markdown",
   "metadata": {
    "Collapsed": "false"
   },
   "source": [
    "## MARCAS"
   ]
  },
  {
   "cell_type": "code",
   "execution_count": 975,
   "metadata": {
    "Collapsed": "false"
   },
   "outputs": [
    {
     "data": {
      "text/plain": [
       "63252"
      ]
     },
     "execution_count": 975,
     "metadata": {},
     "output_type": "execute_result"
    }
   ],
   "source": [
    "data.groupby('automotor_marca_descripcion')['tramite_tipo'].count().sort_values(ascending= False)[0:66].sum()"
   ]
  },
  {
   "cell_type": "code",
   "execution_count": 36,
   "metadata": {
    "Collapsed": "false"
   },
   "outputs": [
    {
     "data": {
      "text/plain": [
       "96"
      ]
     },
     "execution_count": 36,
     "metadata": {},
     "output_type": "execute_result"
    }
   ],
   "source": [
    "data['automotor_marca_descripcion'].nunique()"
   ]
  },
  {
   "cell_type": "code",
   "execution_count": 368,
   "metadata": {
    "Collapsed": "false"
   },
   "outputs": [
    {
     "data": {
      "text/plain": [
       "array(['TORINO'], dtype=object)"
      ]
     },
     "execution_count": 368,
     "metadata": {},
     "output_type": "execute_result"
    }
   ],
   "source": [
    "data[data['automotor_marca_descripcion'].str.contains('RINO')]['automotor_marca_descripcion'].unique()"
   ]
  },
  {
   "cell_type": "code",
   "execution_count": 34,
   "metadata": {
    "Collapsed": "false"
   },
   "outputs": [
    {
     "data": {
      "text/plain": [
       "SAYI                    67\n",
       "QME                     66\n",
       "YAMAHA                  65\n",
       "MM-MARTIN MEYER         65\n",
       "OIL TRAILERS            65\n",
       "NIÑO JESUS DE PRAGA     65\n",
       "FUR-TAN                 58\n",
       "KALYN/SIEBERT           56\n",
       "DFM                     54\n",
       "INDUSTRIAS BACO S.A.    53\n",
       "DIMATRA                 53\n",
       "ASTRA                   51\n",
       "FXV                     50\n",
       "MERTZ                   49\n",
       "BERTOTTO BOGLIONE       43\n",
       "RUTERA                  42\n",
       "METALURGICA HERRERA     42\n",
       "MONTESUR                40\n",
       "INDECAR                 40\n",
       "TRAIMAX                 39\n",
       "SUNEQUIP                38\n",
       "CHANGAN                 38\n",
       "ARCTIC CAT              38\n",
       "SABINO                  37\n",
       "COQUITO                 37\n",
       "VOLVO/MARCOPOLO         36\n",
       "CHRYSLER                35\n",
       "ACOPLANOA               33\n",
       "SORAZABAL               31\n",
       "GONELLA                 31\n",
       "Name: automotor_marca_descripcion, dtype: int64"
      ]
     },
     "execution_count": 34,
     "metadata": {},
     "output_type": "execute_result"
    }
   ],
   "source": [
    "data['automotor_marca_descripcion'].value_counts()[90:120]"
   ]
  },
  {
   "cell_type": "code",
   "execution_count": 24,
   "metadata": {
    "Collapsed": "false"
   },
   "outputs": [],
   "source": [
    "data['automotor_marca_descripcion'].replace(to_replace= 'W.*N$|V.*N$|.*VOLKSWAGEN.*|.*VW.*', value= 'VOLKSWAGEN', regex= True, inplace= True)\n",
    "data['automotor_marca_descripcion'].replace(to_replace= '^R.*T$|.*RENAULT.*|.*RENA.*', value= 'RENAULT', regex= True, inplace= True)\n",
    "data['automotor_marca_descripcion'].replace(to_replace= '.*FIAT.*|.*FIA.*', value= 'FIAT', regex= True, inplace= True)\n",
    "data['automotor_marca_descripcion'].replace(to_replace= '.*FORD.*', value= 'FORD', regex= True, inplace= True)\n",
    "data['automotor_marca_descripcion'].replace(to_replace= '.*GMC.*|.*MOT.*|^C.*T$|.*CHEV.*', value= 'CHEVROLET', regex= True, inplace= True)\n",
    "data['automotor_marca_descripcion'].replace(to_replace= '.*PEUGE.*', value= 'PEUGEOT', regex= True, inplace= True)\n",
    "data['automotor_marca_descripcion'].replace(to_replace= '.*CITR.*', value= 'CITROEN', regex= True, inplace= True)\n",
    "data['automotor_marca_descripcion'].replace(to_replace= '.*TOY.*', value= 'TOYOTA', regex= True, inplace= True)\n",
    "data['automotor_marca_descripcion'].replace(to_replace= '.*BEN.*', value= 'MERCEDES BENZ', regex= True, inplace= True)\n",
    "data['automotor_marca_descripcion'].replace(to_replace= '.*SUZ.*|.*UKI.*', value= 'SUZUKI', regex= True, inplace= True)\n",
    "data['automotor_marca_descripcion'].replace(to_replace= '.*NIS.*', value= 'NISSAN', regex= True, inplace= True)\n",
    "data['automotor_marca_descripcion'].replace(to_replace= '^B.*W', value= 'BMW', regex= True, inplace= True)\n",
    "data['automotor_marca_descripcion'].replace(to_replace= '.*JEEP.*', value= 'JEEP', regex= True, inplace= True)\n",
    "data['automotor_marca_descripcion'].replace(to_replace= '.*KIA.*', value= 'KIA', regex= True, inplace= True)\n",
    "data['automotor_marca_descripcion'].replace(to_replace= '.*MIT.*', value= 'MITSUBISHI', regex= True, inplace= True)\n",
    "data['automotor_marca_descripcion'].replace(to_replace= '.*ALF.*', value= 'ALFA ROMEO', regex= True, inplace= True)\n",
    "data['automotor_marca_descripcion'].replace(to_replace= '.*DODGE.*|RAM$', value= 'DODGE', regex= True, inplace= True)\n",
    "data['automotor_marca_descripcion'].replace(to_replace= '.*SEAT.*', value= 'SEAT', regex= True, inplace= True)\n",
    "data['automotor_marca_descripcion'].replace(to_replace= '.*ROV.*', value= 'LAND ROVER', regex= True, inplace= True)\n",
    "data['automotor_marca_descripcion'].replace(to_replace= '.*SCANIA.*', value= 'SCANIA', regex= True, inplace= True)\n",
    "data['automotor_marca_descripcion'].replace(to_replace= '.*AGRA.*', value= 'DEUTZ AGRALE', regex= True, inplace= True)\n",
    "\n",
    "# EXCEPCIONES\n"
   ]
  },
  {
   "cell_type": "code",
   "execution_count": 35,
   "metadata": {
    "Collapsed": "false"
   },
   "outputs": [],
   "source": [
    "# remover los tipos que tienen menos de 65 ocurrencias\n",
    "conteo2 = data['automotor_marca_descripcion'].value_counts() < 65\n",
    "remover2 = conteo2[conteo2].index\n",
    "data = data[~data.automotor_marca_descripcion.isin(remover2)]\n"
   ]
  },
  {
   "cell_type": "markdown",
   "metadata": {
    "Collapsed": "false"
   },
   "source": [
    "## MODELO?"
   ]
  },
  {
   "cell_type": "code",
   "execution_count": 75,
   "metadata": {
    "Collapsed": "false"
   },
   "outputs": [
    {
     "data": {
      "text/plain": [
       "1143447"
      ]
     },
     "execution_count": 75,
     "metadata": {},
     "output_type": "execute_result"
    }
   ],
   "source": [
    "data.groupby('automotor_modelo_descripcion')['tramite_tipo'].count().sort_values(ascending= False)[0:200].sum()"
   ]
  },
  {
   "cell_type": "code",
   "execution_count": 72,
   "metadata": {
    "Collapsed": "false"
   },
   "outputs": [
    {
     "data": {
      "text/plain": [
       "2586"
      ]
     },
     "execution_count": 72,
     "metadata": {},
     "output_type": "execute_result"
    }
   ],
   "source": [
    "data['automotor_modelo_descripcion'].nunique()"
   ]
  },
  {
   "cell_type": "code",
   "execution_count": 69,
   "metadata": {
    "Collapsed": "false"
   },
   "outputs": [
    {
     "data": {
      "text/plain": [
       "array(['INNOVA SRV 2.7 NAFTA 6 A/T 8A', 'INNOVA SR 2.7 NAFTA 6 A/T 8A'],\n",
       "      dtype=object)"
      ]
     },
     "execution_count": 69,
     "metadata": {},
     "output_type": "execute_result"
    }
   ],
   "source": [
    "data[data['automotor_modelo_descripcion'].str.contains('INNOVA')]['automotor_modelo_descripcion'].unique()"
   ]
  },
  {
   "cell_type": "code",
   "execution_count": 74,
   "metadata": {
    "Collapsed": "false"
   },
   "outputs": [
    {
     "data": {
      "text/plain": [
       "PASSAT                                               360\n",
       "SRV3E                                                359\n",
       "SENTRA EXCLUSIVE CVT PURE DRIVE                      359\n",
       "BMO 368 VERSION 1721L62 CA                           351\n",
       "RIO SX 1.6 A/T                                       345\n",
       "MONTANA                                              344\n",
       "X1 25I                                               343\n",
       "DS 3 PURETECH 110 AT6 SO CHIC                        331\n",
       "A 200 PROGRESSIVE                                    329\n",
       "SANTA FE                                             325\n",
       "Q2 1.4 TFSI                                          323\n",
       "A5                                                   309\n",
       "C15                                                  305\n",
       "BEETLE                                               305\n",
       "TECTOR 150E21                                        301\n",
       "VOLCADOR 3 EJES-1 DESPLAZ. SUSP. NEUM.DIREC.         295\n",
       "BARANDA VOLCABLE S.BV.3E.67 2+1                      289\n",
       "C35                                                  281\n",
       "MT 15.0 LE V 5500 6.7 5 226 AUTR                     280\n",
       "FOISON BOX (CARROZADA)                               277\n",
       "WR-V EX CVT                                          274\n",
       "G360 A4X2                                            274\n",
       "ABV3E930                                             273\n",
       "X1 20I                                               270\n",
       "220 I                                                270\n",
       "330I                                                 267\n",
       "BARANDAS VOLCABLES 3 EJES                            265\n",
       "VUELCO TRASERO S.VT.3E.83 2+1                        264\n",
       "X35                                                  262\n",
       "X25                                                  258\n",
       "Q3 2.0 TFSI QUATTRO                                  257\n",
       "320 I                                                256\n",
       "460S36 AT-                                           252\n",
       "STRALIS 490S44T                                      252\n",
       "BARANDA VOLCABLE A.BV.3E.23                          251\n",
       "SPORTAGE EX 2.0 A/T 4X4 CRDI                         249\n",
       "C32                                                  238\n",
       "SR.BA.02+01                                          237\n",
       "FOISON CARGO                                         236\n",
       "CR-V EXT AWD                                         235\n",
       "EMGRAND GS - GSP                                     232\n",
       "GLA 250 4MATIC                                       231\n",
       "5008 ALLURE THP TIPTRONIC                            224\n",
       "170E30TLA21                                          224\n",
       "EMGRAND X7 SPORT - GL AT 2.4                         216\n",
       "X2 20I                                               215\n",
       "695 VERSION 1735 45                                  208\n",
       "5008 ALLURE PLUS HDI TIPTRONIC                       197\n",
       "BDAS. VOLC. 3 EJES- 1 DESPLAZ. SUSP. NEUM. DIREC.    195\n",
       "5008 ALLURE PLUS THP TIPTRONIC                       192\n",
       "Name: automotor_modelo_descripcion, dtype: int64"
      ]
     },
     "execution_count": 74,
     "metadata": {},
     "output_type": "execute_result"
    }
   ],
   "source": [
    "data['automotor_modelo_descripcion'].value_counts()[150:200]"
   ]
  },
  {
   "cell_type": "code",
   "execution_count": 42,
   "metadata": {
    "Collapsed": "false"
   },
   "outputs": [],
   "source": [
    "#falta mejorar cosas. fijarse bien"
   ]
  },
  {
   "cell_type": "code",
   "execution_count": 70,
   "metadata": {
    "Collapsed": "false"
   },
   "outputs": [],
   "source": [
    "data['automotor_modelo_descripcion'].replace(to_replace= '.*YARIS.*', value= 'YARIS', regex= True, inplace= True)\n",
    "data['automotor_modelo_descripcion'].replace(to_replace= '.*VIRTUS.*', value= 'VIRTUS', regex= True, inplace= True)\n",
    "data['automotor_modelo_descripcion'].replace(to_replace= '.*MARCH.*', value= 'MARCH', regex= True, inplace= True)\n",
    "data['automotor_modelo_descripcion'].replace(to_replace= '.*KICKS.*', value= 'KICKS', regex= True, inplace= True)\n",
    "data['automotor_modelo_descripcion'].replace(to_replace= '.*VERSA.*', value= 'VERSA', regex= True, inplace= True)\n",
    "data['automotor_modelo_descripcion'].replace(to_replace= '.*NOTE.*', value= 'NOTE', regex= True, inplace= True)\n",
    "data['automotor_modelo_descripcion'].replace(to_replace= '.*TUCSON.*', value= 'TUCSON', regex= True, inplace= True)\n",
    "data['automotor_modelo_descripcion'].replace(to_replace= '.*ELY.*', value= 'C-ELYSEE', regex= True, inplace= True)\n",
    "data['automotor_modelo_descripcion'].replace(to_replace= '.*RAV4.*', value= 'RAV4', regex= True, inplace= True)\n",
    "data['automotor_modelo_descripcion'].replace(to_replace= '.*301.*', value= '301', regex= True, inplace= True)\n",
    "data['automotor_modelo_descripcion'].replace(to_replace= '.*UP!.*', value= 'UP', regex= True, inplace= True)\n",
    "data['automotor_modelo_descripcion'].replace(to_replace= '.*HR-V.*', value= 'HR-V', regex= True, inplace= True)\n",
    "data['automotor_modelo_descripcion'].replace(to_replace= '.*VITO.*', value= 'VITO', regex= True, inplace= True)\n",
    "data['automotor_modelo_descripcion'].replace(to_replace= '.*INNOVA.*', value= 'INNOVA', regex= True, inplace= True)"
   ]
  },
  {
   "cell_type": "code",
   "execution_count": 39,
   "metadata": {
    "Collapsed": "false"
   },
   "outputs": [],
   "source": [
    "data['automotor_modelo_descripcion'].replace(to_replace= '.*GOL\\s.*', value= 'GOL', regex= True, inplace= True)\n",
    "data['automotor_tipo_descripcion'].replace(to_replace= '^(?!.*GOLF.*).*GOL.*', value= 'GOL', regex= True, inplace= True)\n",
    "data['automotor_modelo_descripcion'].replace(to_replace= '.*GOLF\\s.*', value= 'GOLF', regex= True, inplace= True)\n",
    "\n",
    "data['automotor_modelo_descripcion'].replace(to_replace= '.*RENAULT\\s+9.*|.*RENAULT9.*|^9\\s.*|.*R-9.*', value= 'RENAULT 9', regex= True, inplace= True)\n",
    "data['automotor_modelo_descripcion'].replace(to_replace= '.*RENAULT\\s+19.*|.*RENAULT19.*|^19\\s.*|.*R-19.*', value= 'RENAULT 19', regex= True, inplace= True)\n",
    "data['automotor_modelo_descripcion'].replace(to_replace= '.*RENAULT\\s+11.*|.*RENAULT-11.*|^11\\s.*|.*R-11.*', value= 'RENAULT 11', regex= True, inplace= True)\n",
    "data['automotor_modelo_descripcion'].replace(to_replace= '.*RENAULT\\s+12.*|.*RENAULT-12.*|^12\\s.*|.*R-12.*', value= 'RENAULT 12', regex= True, inplace= True)\n",
    "\n",
    "data['automotor_modelo_descripcion'].replace(to_replace= '.*FIORINO.*', value= 'FIORINO', regex= True, inplace= True)\n",
    "data['automotor_modelo_descripcion'].replace(to_replace= '.*FOX.*', value= 'FOX', regex= True, inplace= True)\n",
    "data['automotor_modelo_descripcion'].replace(to_replace= '.*CORSA.*', value= 'CORSA', regex= True, inplace= True)\n",
    "data['automotor_modelo_descripcion'].replace(to_replace= '.*UNO.*', value= 'UNO', regex= True, inplace= True)\n",
    "data['automotor_modelo_descripcion'].replace(to_replace= '^KA\\s.*', value= 'KA', regex= True, inplace= True)\n",
    "# 147 Y TODOS SUS DERIVADOS\n",
    "data['automotor_modelo_descripcion'].replace(to_replace= '.*SPAZ.*|.*VIVACE.*|^147.*', value= '147', regex= True, inplace= True)\n",
    "\n",
    "data['automotor_modelo_descripcion'].replace(to_replace= '.*VOY.*', value= 'VOYAGE', regex= True, inplace= True)\n",
    "data['automotor_modelo_descripcion'].replace(to_replace= '^CLASSIC.*', value= 'CLASSIC', regex= True, inplace= True)\n",
    "data['automotor_modelo_descripcion'].replace(to_replace= '^ECO.*', value= 'ECOSPORT', regex= True, inplace= True)\n",
    "data['automotor_modelo_descripcion'].replace(to_replace= '^ESC.*', value= 'ESCORT', regex= True, inplace= True)\n",
    "data['automotor_modelo_descripcion'].replace(to_replace= '.*BORA.*', value= 'BORA', regex= True, inplace= True)\n",
    "data['automotor_modelo_descripcion'].replace(to_replace= '^MERI.*', value= 'MERIVA', regex= True, inplace= True)\n",
    "data['automotor_modelo_descripcion'].replace(to_replace= '.*SEND.*', value= 'SENDA', regex= True, inplace= True)\n",
    "data['automotor_modelo_descripcion'].replace(to_replace= '.*F.*?100.*', value= 'F-100', regex= True, inplace= True) #(NOTHING OR MORE BETWEEN)\n",
    "data['automotor_modelo_descripcion'].replace(to_replace= '.*F.*?150.*', value= 'F-150', regex= True, inplace= True) #(NOTHING OR MORE BETWEEN)\n",
    "data['automotor_modelo_descripcion'].replace(to_replace= '.*F.*?350.*', value= 'F-350', regex= True, inplace= True) #(NOTHING OR MORE BETWEEN)\n",
    "data['automotor_modelo_descripcion'].replace(to_replace= '.*ASTRA.*', value= 'ASTRA', regex= True, inplace= True) #(NOTHING OR MORE BETWEEN)\n",
    "data['automotor_modelo_descripcion'].replace(to_replace= '.*SIENA.*', value= 'SIENA', regex= True, inplace= True) #(NOTHING OR MORE BETWEEN)\n",
    "data['automotor_modelo_descripcion'].replace(to_replace= '.*VENTO.*', value= 'VENTO', regex= True, inplace= True) #(NOTHING OR MORE BETWEEN)\n",
    "data['automotor_modelo_descripcion'].replace(to_replace= '.*DUNA.*', value= 'DUNA', regex= True, inplace= True) #(NOTHING OR MORE BETWEEN)\n",
    "data['automotor_modelo_descripcion'].replace(to_replace= '^FUN.*', value= 'FUN', regex= True, inplace= True) #(NOTHING OR MORE BETWEEN)\n",
    "data['automotor_modelo_descripcion'].replace(to_replace= '.*PART.*|.*PARP.*|^PAR.*', value= 'PARTNER', regex= True, inplace= True) #(NOTHING OR MORE BETWEEN)\n",
    "data['automotor_modelo_descripcion'].replace(to_replace= '.*PALIO.*', value= 'PALIO', regex= True, inplace= True) #(NOTHING OR MORE BETWEEN)\n",
    "data['automotor_modelo_descripcion'].replace(to_replace= '.*FIESTA.*', value= 'FIESTA', regex= True, inplace= True) #(NOTHING OR MORE BETWEEN)\n",
    "data['automotor_modelo_descripcion'].replace(to_replace= '.*TWINGO.*', value= 'TWINGO', regex= True, inplace= True) #(NOTHING OR MORE BETWEEN)\n",
    "data['automotor_modelo_descripcion'].replace(to_replace= '.*105\\s+.*|^105.*|.*\\s+105.*', value= '105', regex= True, inplace= True) #(NOTHING OR MORE BETWEEN)\n",
    "data['automotor_modelo_descripcion'].replace(to_replace= '.*106\\s+.*|^106.*|.*\\s+106.*', value= '106', regex= True, inplace= True) #(NOTHING OR MORE BETWEEN)\n",
    "data['automotor_modelo_descripcion'].replace(to_replace= '.*205\\s+.*|^205.*|.*\\s+205.*', value= '205', regex= True, inplace= True) #(NOTHING OR MORE BETWEEN)\n",
    "data['automotor_modelo_descripcion'].replace(to_replace= '.*206\\s+.*|^206.*|.*\\s+206.*', value= '206', regex= True, inplace= True) #(NOTHING OR MORE BETWEEN)\n",
    "data['automotor_modelo_descripcion'].replace(to_replace= '.*207\\s+.*|^207.*|.*\\s+207.*', value= '207', regex= True, inplace= True) #(NOTHING OR MORE BETWEEN)\n",
    "data['automotor_modelo_descripcion'].replace(to_replace= '.*208\\s+.*|^208.*|.*\\s+208.*', value= '208', regex= True, inplace= True) #(NOTHING OR MORE BETWEEN)\n",
    "data['automotor_modelo_descripcion'].replace(to_replace= '.*2008\\s+.*|^2008.*|.*\\s+2008.*', value= '2008', regex= True, inplace= True) #(NOTHING OR MORE BETWEEN)\n",
    "data['automotor_modelo_descripcion'].replace(to_replace= '.*305\\s+.*|^305.*|.*\\s+305.*', value= '305', regex= True, inplace= True) #(NOTHING OR MORE BETWEEN)\n",
    "data['automotor_modelo_descripcion'].replace(to_replace= '.*306\\s+.*|^306.*|.*\\s+306.*', value= '306', regex= True, inplace= True) #(NOTHING OR MORE BETWEEN)\n",
    "data['automotor_modelo_descripcion'].replace(to_replace= '.*307\\s+.*|^307.*|.*\\s+307.*', value= '307', regex= True, inplace= True) #(NOTHING OR MORE BETWEEN)\n",
    "data['automotor_modelo_descripcion'].replace(to_replace= '.*308\\s+.*|^308.*|.*\\s+308.*', value= '308', regex= True, inplace= True) #(NOTHING OR MORE BETWEEN)\n",
    "data['automotor_modelo_descripcion'].replace(to_replace= '.*405\\s+.*|^405.*|.*\\s+405.*', value= '405', regex= True, inplace= True) #(NOTHING OR MORE BETWEEN)\n",
    "data['automotor_modelo_descripcion'].replace(to_replace= '.*406\\s+.*|^406.*|.*\\s+406.*', value= '406', regex= True, inplace= True) #(NOTHING OR MORE BETWEEN)\n",
    "data['automotor_modelo_descripcion'].replace(to_replace= '.*407\\s+.*|^407.*|.*\\s+407.*', value= '407', regex= True, inplace= True) #(NOTHING OR MORE BETWEEN)\n",
    "data['automotor_modelo_descripcion'].replace(to_replace= '.*408\\s+.*|^408.*|.*\\s+408.*', value= '408', regex= True, inplace= True) #(NOTHING OR MORE BETWEEN)\n",
    "data['automotor_modelo_descripcion'].replace(to_replace= '.*504\\s+.*|^504.*|.*\\s+504.*', value= '504', regex= True, inplace= True) #(NOTHING OR MORE BETWEEN)\n",
    "data['automotor_modelo_descripcion'].replace(to_replace= '.*505\\s+.*|^505.*|.*\\s+505.*', value= '505', regex= True, inplace= True) #(NOTHING OR MORE BETWEEN)\n",
    "\n",
    "data['automotor_modelo_descripcion'].replace(to_replace= '.*POLO.*', value= 'POLO', regex= True, inplace= True) #(NOTHING OR MORE BETWEEN)\n",
    "data['automotor_modelo_descripcion'].replace(to_replace= '.*C3\\s+.*', value= 'C3', regex= True, inplace= True) #(NOTHING OR MORE BETWEEN)\n",
    "data['automotor_modelo_descripcion'].replace(to_replace= '.*BERLINGO.*|^BER.*', value= 'BERLINGO', regex= True, inplace= True) #(NOTHING OR MORE BETWEEN)\n",
    "data['automotor_modelo_descripcion'].replace(to_replace= '.*ONIX.*', value= 'ONIX', regex= True, inplace= True) #(NOTHING OR MORE BETWEEN)\n",
    "data['automotor_modelo_descripcion'].replace(to_replace= '.*FOCUS.*', value= 'FOCUS', regex= True, inplace= True) #(NOTHING OR MORE BETWEEN)\n",
    "data['automotor_modelo_descripcion'].replace(to_replace= '.*TIGGO.*', value= 'TIGGO', regex= True, inplace= True) #(NOTHING OR MORE BETWEEN)\n",
    "data['automotor_modelo_descripcion'].replace(to_replace= '.*POINTER.*', value= 'POINTER', regex= True, inplace= True) #(NOTHING OR MORE BETWEEN)\n",
    "data['automotor_modelo_descripcion'].replace(to_replace= '.*AVEO.*', value= 'AVEO', regex= True, inplace= True) #(NOTHING OR MORE BETWEEN)\n",
    "data['automotor_modelo_descripcion'].replace(to_replace= '.*CLIO.*', value= 'CLIO', regex= True, inplace= True) #(NOTHING OR MORE BETWEEN)\n",
    "data['automotor_modelo_descripcion'].replace(to_replace= '.*ZAFIRA.*', value= 'ZAFIRA', regex= True, inplace= True) #(NOTHING OR MORE BETWEEN)\n",
    "data['automotor_modelo_descripcion'].replace(to_replace= '.*PUNTO.*', value= 'PUNTO', regex= True, inplace= True) #(NOTHING OR MORE BETWEEN)\n",
    "data['automotor_modelo_descripcion'].replace(to_replace= '.*AGILE.*', value= 'AGILE', regex= True, inplace= True) #(NOTHING OR MORE BETWEEN)\n",
    "data['automotor_modelo_descripcion'].replace(to_replace= '.*KANGOO.*', value= 'KANGOO', regex= True, inplace= True) #(NOTHING OR MORE BETWEEN)\n",
    "data['automotor_modelo_descripcion'].replace(to_replace= '.*HILUX.*', value= 'HILUX', regex= True, inplace= True) #(NOTHING OR MORE BETWEEN)\n",
    "data['automotor_modelo_descripcion'].replace(to_replace= '.*SURAN.*', value= 'SURAN', regex= True, inplace= True) #(NOTHING OR MORE BETWEEN)\n",
    "data['automotor_modelo_descripcion'].replace(to_replace= '^EXPRES.*', value= 'EXPRESS', regex= True, inplace= True) #(NOTHING OR MORE BETWEEN)\n",
    "data['automotor_modelo_descripcion'].replace(to_replace= '.*VECTRA.*', value= 'VECTRA', regex= True, inplace= True) #(NOTHING OR MORE BETWEEN)\n",
    "data['automotor_modelo_descripcion'].replace(to_replace= '.*COURIER.*', value= 'COURIER', regex= True, inplace= True) #(NOTHING OR MORE BETWEEN)\n",
    "data['automotor_modelo_descripcion'].replace(to_replace= '.*CELTA.*', value= 'CELTA', regex= True, inplace= True) #(NOTHING OR MORE BETWEEN)\n",
    "data['automotor_modelo_descripcion'].replace(to_replace= '.*FIT.*', value= 'FIT', regex= True, inplace= True) #(NOTHING OR MORE BETWEEN)\n",
    "data['automotor_modelo_descripcion'].replace(to_replace= '.*ORION.*', value= 'ORION', regex= True, inplace= True) #(NOTHING OR MORE BETWEEN)\n",
    "data['automotor_modelo_descripcion'].replace(to_replace= '.*RANGER.*', value= 'RANGER', regex= True, inplace= True) #(NOTHING OR MORE BETWEEN)\n",
    "data['automotor_modelo_descripcion'].replace(to_replace= '.*SAVEIRO.*', value= 'SAVEIRO', regex= True, inplace= True) #(NOTHING OR MORE BETWEEN)\n",
    "data['automotor_modelo_descripcion'].replace(to_replace= '.*SANDERO.*', value= 'SANDERO', regex= True, inplace= True) #(NOTHING OR MORE BETWEEN)\n",
    "data['automotor_modelo_descripcion'].replace(to_replace= '.*COROL.*', value= 'COROLLA', regex= True, inplace= True) #(NOTHING OR MORE BETWEEN)\n",
    "data['automotor_modelo_descripcion'].replace(to_replace= '.*MEGAN.*', value= 'MEGANE', regex= True, inplace= True) #(NOTHING OR MORE BETWEEN)\n",
    "data['automotor_modelo_descripcion'].replace(to_replace= '.*CIVIC.*', value= 'CIVIC', regex= True, inplace= True) #(NOTHING OR MORE BETWEEN)\n",
    "data['automotor_modelo_descripcion'].replace(to_replace= '.*S10.*', value= 'S10', regex= True, inplace= True) #(NOTHING OR MORE BETWEEN)\n",
    "data['automotor_modelo_descripcion'].replace(to_replace= '.*PRISMA.*', value= 'PRISMA', regex= True, inplace= True) #(NOTHING OR MORE BETWEEN)\n",
    "data['automotor_modelo_descripcion'].replace(to_replace= '.*LOGAN.*', value= 'LOGAN', regex= True, inplace= True) #(NOTHING OR MORE BETWEEN)\n",
    "data['automotor_modelo_descripcion'].replace(to_replace= '^HIGH.*', value= 'HIGH', regex= True, inplace= True) #(NOTHING OR MORE BETWEEN)\n",
    "data['automotor_modelo_descripcion'].replace(to_replace= '.*SARA.*|.*PICAS.*|.*XSARA.*', value= 'XSARA', regex= True, inplace= True) #(NOTHING OR MORE BETWEEN)\n",
    "data['automotor_modelo_descripcion'].replace(to_replace= '.*MOVE.*', value= 'MOVE', regex= True, inplace= True) #(NOTHING OR MORE BETWEEN)\n",
    "data['automotor_modelo_descripcion'].replace(to_replace= '.*CRUZE.*', value= 'CRUZE', regex= True, inplace= True) #(NOTHING OR MORE BETWEEN)\n",
    "data['automotor_modelo_descripcion'].replace(to_replace= '.*ETIOS.*', value= 'ETIOS', regex= True, inplace= True) #(NOTHING OR MORE BETWEEN)\n",
    "data['automotor_modelo_descripcion'].replace(to_replace= '.*SPIN\\s+.*', value= 'SPIN', regex= True, inplace= True) #(NOTHING OR MORE BETWEEN)\n",
    "data['automotor_modelo_descripcion'].replace(to_replace= '.*C.*?RV.*', value= 'CRV', regex= True, inplace= True) #(NOTHING OR MORE BETWEEN)\n",
    "data['automotor_modelo_descripcion'].replace(to_replace= '.*H.*?RV.*', value= 'HRV', regex= True, inplace= True) #(NOTHING OR MORE BETWEEN)\n",
    "data['automotor_modelo_descripcion'].replace(to_replace= '.*REGATTA.*|.*REGAT.*', value= 'REGATTA', regex= True, inplace= True) #(NOTHING OR MORE BETWEEN)\n",
    "data['automotor_modelo_descripcion'].replace(to_replace= '.*CADD.*', value= 'CADDY', regex= True, inplace= True)\n",
    "data['automotor_modelo_descripcion'].replace(to_replace= '.*EXPLOR.*', value= 'EXPLORER', regex= True, inplace= True)\n",
    "data['automotor_modelo_descripcion'].replace(to_replace= '.*TRACK.*', value= 'TRACKER', regex= True, inplace= True)\n",
    "data['automotor_modelo_descripcion'].replace(to_replace= '.*MOBI.*', value= 'MOBI', regex= True, inplace= True)\n",
    "data['automotor_modelo_descripcion'].replace(to_replace= '^PT.*', value= 'PT CRUISER', regex= True, inplace= True)\n",
    "data['automotor_modelo_descripcion'].replace(to_replace= '.*FALCON.*', value= 'FALCON', regex= True, inplace= True)\n",
    "data['automotor_modelo_descripcion'].replace(to_replace= '.*C3\\s+.*', value= 'C3', regex= True, inplace= True)\n",
    "data['automotor_modelo_descripcion'].replace(to_replace= '.*C4\\s+.*', value= 'C4', regex= True, inplace= True) \n",
    "data['automotor_modelo_descripcion'].replace(to_replace= '.*C5\\s+.*', value= 'C5', regex= True, inplace= True)\n",
    "data['automotor_modelo_descripcion'].replace(to_replace= '.*SONIC.*', value= 'SONIC', regex= True, inplace= True) \n",
    "data['automotor_modelo_descripcion'].replace(to_replace= '.*PASSAT.*', value= 'PASSAT', regex= True, inplace= True) \n",
    "data['automotor_modelo_descripcion'].replace(to_replace= '.*BOXER.*', value= 'BOXER', regex= True, inplace= True)\n",
    "data['automotor_modelo_descripcion'].replace(to_replace= '.*TRAF.*', value= 'TRAFIC', regex= True, inplace= True)\n",
    "data['automotor_modelo_descripcion'].replace(to_replace= '^500\\s+.*', value= '500', regex= True, inplace= True)\n",
    "data['automotor_modelo_descripcion'].replace(to_replace= '^CARG.*', value= 'CARGO', regex= True, inplace= True) \n",
    "data['automotor_modelo_descripcion'].replace(to_replace= '.*MONDEO.*', value= '500', regex= True, inplace= True)\n",
    "data['automotor_modelo_descripcion'].replace(to_replace= '.*SPRINT.*', value= 'SPRINTER', regex= True, inplace= True) \n",
    "data['automotor_modelo_descripcion'].replace(to_replace= '.*STRADA.*', value= 'STRADA', regex= True, inplace= True) \n",
    "data['automotor_modelo_descripcion'].replace(to_replace= '.*NEON.*', value= 'NEON', regex= True, inplace= True) \n",
    "data['automotor_modelo_descripcion'].replace(to_replace= '.*BLAZER.*', value= 'BLAZER', regex= True, inplace= True)\n",
    "data['automotor_modelo_descripcion'].replace(to_replace= '.*TRANSIT.*', value= 'TRANSIT', regex= True, inplace= True) \n",
    "data['automotor_modelo_descripcion'].replace(to_replace= '.*JOURNEY.*', value= 'JOURNEY', regex= True, inplace= True) \n",
    "data['automotor_modelo_descripcion'].replace(to_replace= '.*TAKE.*', value= 'TAKE', regex= True, inplace= True) \n",
    "data['automotor_modelo_descripcion'].replace(to_replace= '^ARGO.*', value= 'ARGO', regex= True, inplace= True) \n",
    "data['automotor_modelo_descripcion'].replace(to_replace= '.*FLUENCE.*', value= 'FLUENCE', regex= True, inplace= True) \n",
    "data['automotor_modelo_descripcion'].replace(to_replace= '.*TIIDA.*', value= 'TIIDA', regex= True, inplace= True) \n",
    "data['automotor_modelo_descripcion'].replace(to_replace= '^A4.*', value= 'A4', regex= True, inplace= True) \n",
    "data['automotor_modelo_descripcion'].replace(to_replace= '^A5.*', value= 'A5', regex= True, inplace= True) \n",
    "data['automotor_modelo_descripcion'].replace(to_replace= '.*DS3.*', value= 'DS3', regex= True, inplace= True) \n",
    "data['automotor_modelo_descripcion'].replace(to_replace= '.*SORENTO.*', value= 'SORENTO', regex= True, inplace= True) \n",
    "data['automotor_modelo_descripcion'].replace(to_replace= '.*ATOS.*', value= 'ATOS', regex= True, inplace= True) \n",
    "data['automotor_modelo_descripcion'].replace(to_replace= '^LS.*', value= 'LS', regex= True, inplace= True) \n",
    "data['automotor_modelo_descripcion'].replace(to_replace= '^146.*', value= '146', regex= True, inplace= True) \n",
    "data['automotor_modelo_descripcion'].replace(to_replace= '.*MASTER.*', value= 'MASTER', regex= True, inplace= True) \n",
    "data['automotor_modelo_descripcion'].replace(to_replace= '.*Q5.*', value= 'Q5', regex= True, inplace= True) \n",
    "data['automotor_modelo_descripcion'].replace(to_replace= '.*AMAROK.*', value= 'AMAROK', regex= True, inplace= True) \n",
    "data['automotor_modelo_descripcion'].replace(to_replace= '.*ACCORD.*', value= 'ACCORD', regex= True, inplace= True) \n",
    "data['automotor_modelo_descripcion'].replace(to_replace= '.*MB.*', value= 'MB', regex= True, inplace= True) \n",
    "data['automotor_modelo_descripcion'].replace(to_replace= '.*IDEA.*', value= 'IDEA', regex= True, inplace= True) \n",
    "data['automotor_modelo_descripcion'].replace(to_replace= '.*GACEL.*', value= 'GACEL', regex= True, inplace= True) \n",
    "data['automotor_modelo_descripcion'].replace(to_replace= '^A3.*', value= 'A3', regex= True, inplace= True) \n",
    "data['automotor_modelo_descripcion'].replace(to_replace= '.*SW4.*', value= 'SW4', regex= True, inplace= True) \n",
    "data['automotor_modelo_descripcion'].replace(to_replace= '.*L160.*', value= 'L160', regex= True, inplace= True) \n",
    "data['automotor_modelo_descripcion'].replace(to_replace= '^3008.*', value= '3008', regex= True, inplace= True) \n",
    "data['automotor_modelo_descripcion'].replace(to_replace= '.*RENEGADE.*', value= 'RENEGADE', regex= True, inplace= True) \n",
    "data['automotor_modelo_descripcion'].replace(to_replace= '.*CRONO.*', value= 'CRONOS', regex= True, inplace= True) \n",
    "data['automotor_modelo_descripcion'].replace(to_replace= '.*COBALT.*', value= 'COBALT', regex= True, inplace= True) \n",
    "data['automotor_modelo_descripcion'].replace(to_replace= '.*DUSTER.*', value= 'DUSTER', regex= True, inplace= True) \n",
    "data['automotor_modelo_descripcion'].replace(to_replace= '.*A160.*', value= 'A160', regex= True, inplace= True) \n",
    "data['automotor_modelo_descripcion'].replace(to_replace= '.*4000.*', value= 'F4000', regex= True, inplace= True) \n",
    "data['automotor_modelo_descripcion'].replace(to_replace= '.*SWIFT.*', value= 'SIWFT', regex= True, inplace= True) \n",
    "data['automotor_modelo_descripcion'].replace(to_replace= '.*GALAXY.*', value= 'GALAXY', regex= True, inplace= True) \n",
    "data['automotor_modelo_descripcion'].replace(to_replace= '.*TIPO.*', value= 'TIPO', regex= True, inplace= True) \n",
    "data['automotor_modelo_descripcion'].replace(to_replace= '.*TORO.*', value= 'TORO', regex= True, inplace= True) \n",
    "data['automotor_modelo_descripcion'].replace(to_replace= '.*CAPTIVA.*', value= 'CAPTIVA', regex= True, inplace= True) \n",
    "data['automotor_modelo_descripcion'].replace(to_replace= '.*CARAVAN.*', value= 'CARAVAN', regex= True, inplace= True) \n",
    "data['automotor_modelo_descripcion'].replace(to_replace= '.*SHARAN.*', value= 'SHARAN', regex= True, inplace= True) \n",
    "data['automotor_modelo_descripcion'].replace(to_replace= '.*SANTAMO.*', value= 'SANTAMO', regex= True, inplace= True) \n",
    "data['automotor_modelo_descripcion'].replace(to_replace= '.*ACCENT.*', value= 'ACCENT', regex= True, inplace= True) \n",
    "data['automotor_modelo_descripcion'].replace(to_replace= '.*V.*1500.*|^1500.*', value= '1500', regex= True, inplace= True) \n",
    "data['automotor_modelo_descripcion'].replace(to_replace= '.*DURAMO.*', value= 'DURAMO', regex= True, inplace= True) \n",
    "data['automotor_modelo_descripcion'].replace(to_replace= '.*SANTA FE.*', value= 'SANTA FE', regex= True, inplace= True) \n",
    "data['automotor_modelo_descripcion'].replace(to_replace= '.*CHEROKEE.*', value= 'CHEROKEE', regex= True, inplace= True) \n",
    "data['automotor_modelo_descripcion'].replace(to_replace= '.*323.*', value= '323', regex= True, inplace= True) \n",
    "data['automotor_modelo_descripcion'].replace(to_replace= '.*C15.*', value= 'C15', regex= True, inplace= True) \n",
    "data['automotor_modelo_descripcion'].replace(to_replace= '.*RAM.*', value= 'RAM', regex= True, inplace= True) \n",
    "data['automotor_modelo_descripcion'].replace(to_replace= '.*QQ.*', value= 'QQ', regex= True, inplace= True) \n",
    "data['automotor_modelo_descripcion'].replace(to_replace= '.*FRONT.*', value= 'FRONTIER', regex= True, inplace= True) \n",
    "data['automotor_modelo_descripcion'].replace(to_replace= '.*STILO.*', value= 'STILO', regex= True, inplace= True) \n",
    "data['automotor_modelo_descripcion'].replace(to_replace= '.*DUCATO.*', value= 'DUCATO', regex= True, inplace= True) \n",
    "data['automotor_modelo_descripcion'].replace(to_replace= '^120.*', value= '120', regex= True, inplace= True) \n",
    "data['automotor_modelo_descripcion'].replace(to_replace= '.*416.*', value= '416', regex= True, inplace= True) \n",
    "data['automotor_modelo_descripcion'].replace(to_replace= '.*145.*', value= '145', regex= True, inplace= True) \n",
    "data['automotor_modelo_descripcion'].replace(to_replace= '.*SCENIC.*', value= 'SCENIC', regex= True, inplace= True) \n",
    "data['automotor_modelo_descripcion'].replace(to_replace= '.*TAUNUS.*', value= 'TAUNUS', regex= True, inplace= True) \n",
    "data['automotor_modelo_descripcion'].replace(to_replace= '.*LANCER.*', value= 'LANCER', regex= True, inplace= True) \n",
    "data['automotor_modelo_descripcion'].replace(to_replace= '.*KUGA.*', value= 'KUGA', regex= True, inplace= True) \n",
    "data['automotor_modelo_descripcion'].replace(to_replace= '.*SPARK.*', value= 'SPARK', regex= True, inplace= True) \n",
    "data['automotor_modelo_descripcion'].replace(to_replace= '.*AXOR.*', value= 'AXOR', regex= True, inplace= True) \n",
    "data['automotor_modelo_descripcion'].replace(to_replace= '.*SANTANA.*', value= 'SANTANA', regex= True, inplace= True) \n",
    "data['automotor_modelo_descripcion'].replace(to_replace= '.*A1\\s+.*', value= 'A1', regex= True, inplace= True) \n",
    "data['automotor_modelo_descripcion'].replace(to_replace= '.*DOBLO.*', value= 'DOBLO', regex= True, inplace= True) \n",
    "data['automotor_modelo_descripcion'].replace(to_replace= '.*KWID.*', value= 'KWID', regex= True, inplace= True) \n",
    "data['automotor_modelo_descripcion'].replace(to_replace= '.*LAGUNA.*', value= 'LAGUNA', regex= True, inplace= True) \n",
    "data['automotor_modelo_descripcion'].replace(to_replace= '.*CITY.*', value= 'CITY', regex= True, inplace= True) \n",
    "data['automotor_modelo_descripcion'].replace(to_replace= '.*COOPER.*', value= 'COOPER', regex= True, inplace= True) \n",
    "data['automotor_modelo_descripcion'].replace(to_replace= '.*TIGUAN.*', value= 'TIGUAN', regex= True, inplace= True) \n",
    "data['automotor_modelo_descripcion'].replace(to_replace= '.*CAPTUR.*', value= 'CAPTUR', regex= True, inplace= True) \n",
    "data['automotor_modelo_descripcion'].replace(to_replace= '.*BEETLE.*', value= 'BEETLE', regex= True, inplace= True) \n",
    "data['automotor_modelo_descripcion'].replace(to_replace= '.*B2500.*', value= 'B2500', regex= True, inplace= True) \n",
    "data['automotor_modelo_descripcion'].replace(to_replace= '.*B200.*', value= 'B200', regex= True, inplace= True) \n",
    "data['automotor_modelo_descripcion'].replace(to_replace= '.*LEON.*', value= 'LEON', regex= True, inplace= True) \n",
    "data['automotor_modelo_descripcion'].replace(to_replace= '.*LINEA.*', value= 'LINEA', regex= True, inplace= True) \n",
    "data['automotor_modelo_descripcion'].replace(to_replace= '.*COMPASS.*', value= 'COMPASS', regex= True, inplace= True) \n",
    "data['automotor_modelo_descripcion'].replace(to_replace= '.*MONTANA.*', value= 'MONTANA', regex= True, inplace= True) \n",
    "data['automotor_modelo_descripcion'].replace(to_replace= '.*C.*?200.*', value= 'C 200', regex= True, inplace= True) #(NOTHING OR MORE BETWEEN)\n",
    "data['automotor_modelo_descripcion'].replace(to_replace= '.*C.*?220.*', value= 'C 220', regex= True, inplace= True) #(NOTHING OR MORE BETWEEN)\n",
    "data['automotor_modelo_descripcion'].replace(to_replace= '.*C.*?250.*', value= 'C 250', regex= True, inplace= True) #(NOTHING OR MORE BETWEEN)\n",
    "data['automotor_modelo_descripcion'].replace(to_replace= '.*MUSSO.*', value= 'MUSSO', regex= True, inplace= True) #(NOTHING OR MORE BETWEEN)\n",
    "data['automotor_modelo_descripcion'].replace(to_replace= '.*DAILY.*', value= 'DAILY', regex= True, inplace= True) #(NOTHING OR MORE BETWEEN)\n",
    "data['automotor_modelo_descripcion'].replace(to_replace= '^214.*', value= '214', regex= True, inplace= True) #(NOTHING OR MORE BETWEEN)\n",
    "data['automotor_modelo_descripcion'].replace(to_replace= '^216.*', value= '216', regex= True, inplace= True) #(NOTHING OR MORE BETWEEN)\n",
    "data['automotor_modelo_descripcion'].replace(to_replace= '^600.*', value= '600', regex= True, inplace= True) #(NOTHING OR MORE BETWEEN)\n",
    "data['automotor_modelo_descripcion'].replace(to_replace= '.*ATEGO.*', value= 'ATEGO', regex= True, inplace= True) #(NOTHING OR MORE BETWEEN)\n",
    "data['automotor_modelo_descripcion'].replace(to_replace= '.*X5.*', value= 'X5', regex= True, inplace= True) #(NOTHING OR MORE BETWEEN)\n",
    "data['automotor_modelo_descripcion'].replace(to_replace= '^318.*', value= '318', regex= True, inplace= True) #(NOTHING OR MORE BETWEEN)\n",
    "data['automotor_modelo_descripcion'].replace(to_replace= '.*528.*', value= '528', regex= True, inplace= True) #(NOTHING OR MORE BETWEEN)\n",
    "data['automotor_modelo_descripcion'].replace(to_replace= '.*CORDOBA.*', value= 'CORDOBA', regex= True, inplace= True) #(NOTHING OR MORE BETWEEN)\n",
    "data['automotor_modelo_descripcion'].replace(to_replace= '.*SAXO.*', value= 'SAXO', regex= True, inplace= True) #(NOTHING OR MORE BETWEEN)\n",
    "data['automotor_modelo_descripcion'].replace(to_replace= '.*IBIZA.*', value= 'IBIZA', regex= True, inplace= True) #(NOTHING OR MORE BETWEEN)\n",
    "data['automotor_modelo_descripcion'].replace(to_replace= '.*FULWIN.*', value= 'FULWIN', regex= True, inplace= True) #(NOTHING OR MORE BETWEEN)\n",
    "data['automotor_modelo_descripcion'].replace(to_replace= '.*INCA.*', value= 'INCA', regex= True, inplace= True) #(NOTHING OR MORE BETWEEN)\n",
    "data['automotor_modelo_descripcion'].replace(to_replace= '.*420.*', value= '420', regex= True, inplace= True) #(NOTHING OR MORE BETWEEN)\n",
    "data['automotor_modelo_descripcion'].replace(to_replace= '^H1.*', value= 'H1', regex= True, inplace= True) #(NOTHING OR MORE BETWEEN)\n",
    "data['automotor_modelo_descripcion'].replace(to_replace= '^156.*', value= '156', regex= True, inplace= True) #(NOTHING OR MORE BETWEEN)\n",
    "\n"
   ]
  },
  {
   "cell_type": "markdown",
   "metadata": {
    "Collapsed": "false"
   },
   "source": [
    "## Hay que seguir limpiando pero voy a frenar acá"
   ]
  },
  {
   "cell_type": "code",
   "execution_count": 76,
   "metadata": {
    "Collapsed": "false"
   },
   "outputs": [],
   "source": [
    "conteo3 = data['automotor_modelo_descripcion'].value_counts() < 200\n",
    "remover3 = conteo3[conteo3].index\n",
    "data = data[~data.automotor_modelo_descripcion.isin(remover3)]"
   ]
  },
  {
   "cell_type": "code",
   "execution_count": 77,
   "metadata": {
    "Collapsed": "false"
   },
   "outputs": [
    {
     "data": {
      "text/plain": [
       "(1142863, 18)"
      ]
     },
     "execution_count": 77,
     "metadata": {},
     "output_type": "execute_result"
    }
   ],
   "source": [
    "data.shape"
   ]
  },
  {
   "cell_type": "code",
   "execution_count": 78,
   "metadata": {
    "Collapsed": "false"
   },
   "outputs": [],
   "source": [
    "data.drop_duplicates(inplace= True)"
   ]
  },
  {
   "cell_type": "code",
   "execution_count": 79,
   "metadata": {
    "Collapsed": "false"
   },
   "outputs": [
    {
     "data": {
      "text/plain": [
       "(1089027, 18)"
      ]
     },
     "execution_count": 79,
     "metadata": {},
     "output_type": "execute_result"
    }
   ],
   "source": [
    "data.shape"
   ]
  },
  {
   "cell_type": "code",
   "execution_count": 80,
   "metadata": {
    "Collapsed": "false"
   },
   "outputs": [
    {
     "data": {
      "text/plain": [
       "tramite_tipo                         0\n",
       "tramite_fecha                        0\n",
       "fecha_inscripcion_inicial            0\n",
       "registro_seccional_descripcion       0\n",
       "registro_seccional_provincia         0\n",
       "automotor_origen                     0\n",
       "automotor_anio_modelo               21\n",
       "automotor_tipo_descripcion           0\n",
       "automotor_marca_descripcion          0\n",
       "automotor_modelo_descripcion         0\n",
       "automotor_uso_descripcion           51\n",
       "titular_tipo_persona                 0\n",
       "titular_domicilio_localidad       1543\n",
       "titular_domicilio_provincia          0\n",
       "titular_genero                       0\n",
       "titular_anio_nacimiento            238\n",
       "titular_pais_nacimiento              0\n",
       "titular_porcentaje_titularidad       0\n",
       "dtype: int64"
      ]
     },
     "execution_count": 80,
     "metadata": {},
     "output_type": "execute_result"
    }
   ],
   "source": [
    "data.isnull().sum()"
   ]
  },
  {
   "cell_type": "code",
   "execution_count": 81,
   "metadata": {
    "Collapsed": "false"
   },
   "outputs": [],
   "source": [
    "data.dropna(inplace= True)"
   ]
  },
  {
   "cell_type": "code",
   "execution_count": 83,
   "metadata": {
    "Collapsed": "false"
   },
   "outputs": [
    {
     "data": {
      "text/plain": [
       "(1087174, 18)"
      ]
     },
     "execution_count": 83,
     "metadata": {},
     "output_type": "execute_result"
    }
   ],
   "source": [
    "data.shape"
   ]
  },
  {
   "cell_type": "code",
   "execution_count": 84,
   "metadata": {
    "Collapsed": "false"
   },
   "outputs": [],
   "source": [
    "data.to_csv('./curados/pats_final.csv', index=False, encoding='utf-8-sig')"
   ]
  },
  {
   "cell_type": "code",
   "execution_count": null,
   "metadata": {
    "Collapsed": "false"
   },
   "outputs": [],
   "source": []
  }
 ],
 "metadata": {
  "kernelspec": {
   "display_name": "Python 3",
   "language": "python",
   "name": "python3"
  },
  "language_info": {
   "codemirror_mode": {
    "name": "ipython",
    "version": 3
   },
   "file_extension": ".py",
   "mimetype": "text/x-python",
   "name": "python",
   "nbconvert_exporter": "python",
   "pygments_lexer": "ipython3",
   "version": "3.7.1"
  }
 },
 "nbformat": 4,
 "nbformat_minor": 4
}
