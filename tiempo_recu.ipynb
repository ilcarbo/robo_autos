{
 "cells": [
  {
   "cell_type": "code",
   "execution_count": 1,
   "metadata": {
    "Collapsed": "false"
   },
   "outputs": [],
   "source": [
    "import pandas as pd\n",
    "import numpy as np"
   ]
  },
  {
   "cell_type": "code",
   "execution_count": 11,
   "metadata": {
    "Collapsed": "false"
   },
   "outputs": [],
   "source": [
    "import matplotlib.pyplot as plt\n",
    "import seaborn as sns\n",
    "\n",
    "%matplotlib inline"
   ]
  },
  {
   "cell_type": "markdown",
   "metadata": {
    "Collapsed": "false"
   },
   "source": [
    "---------------------"
   ]
  },
  {
   "cell_type": "code",
   "execution_count": 3,
   "metadata": {
    "Collapsed": "false"
   },
   "outputs": [],
   "source": [
    "recup = pd.read_csv('./curados/curados.csv')"
   ]
  },
  {
   "cell_type": "code",
   "execution_count": 4,
   "metadata": {
    "Collapsed": "false"
   },
   "outputs": [
    {
     "data": {
      "text/plain": [
       "(61636, 20)"
      ]
     },
     "execution_count": 4,
     "metadata": {},
     "output_type": "execute_result"
    }
   ],
   "source": [
    "recup.shape"
   ]
  },
  {
   "cell_type": "code",
   "execution_count": 62,
   "metadata": {
    "Collapsed": "false"
   },
   "outputs": [],
   "source": [
    "# dropeo todo o que tiene null (solo me quedo con lo robado y recuperado en este período.)\n",
    "recup = recup.dropna()"
   ]
  },
  {
   "cell_type": "code",
   "execution_count": 10,
   "metadata": {
    "Collapsed": "false"
   },
   "outputs": [
    {
     "data": {
      "text/plain": [
       "(824, 20)"
      ]
     },
     "execution_count": 10,
     "metadata": {},
     "output_type": "execute_result"
    }
   ],
   "source": [
    "recup.shape"
   ]
  },
  {
   "cell_type": "code",
   "execution_count": 12,
   "metadata": {
    "Collapsed": "false"
   },
   "outputs": [
    {
     "data": {
      "text/plain": [
       "Index(['tramite_tipo', 'tramite_fecha', 'fecha_inscripcion_inicial',\n",
       "       'registro_seccional_descripcion', 'registro_seccional_provincia',\n",
       "       'automotor_origen', 'automotor_anio_modelo',\n",
       "       'automotor_tipo_descripcion', 'automotor_marca_descripcion',\n",
       "       'automotor_uso_descripcion', 'titular_tipo_persona',\n",
       "       'titular_domicilio_localidad', 'titular_domicilio_provincia',\n",
       "       'titular_genero', 'titular_anio_nacimiento', 'titular_pais_nacimiento',\n",
       "       'titular_porcentaje_titularidad', 'unico_duenio', 'fecha_recup',\n",
       "       'dias'],\n",
       "      dtype='object')"
      ]
     },
     "execution_count": 12,
     "metadata": {},
     "output_type": "execute_result"
    }
   ],
   "source": [
    "recup.columns"
   ]
  },
  {
   "cell_type": "code",
   "execution_count": 24,
   "metadata": {
    "Collapsed": "false"
   },
   "outputs": [
    {
     "data": {
      "text/plain": [
       "'383 days 00:00:00.000000000'"
      ]
     },
     "execution_count": 24,
     "metadata": {},
     "output_type": "execute_result"
    }
   ],
   "source": [
    "recup.dias.iloc[0]"
   ]
  },
  {
   "cell_type": "code",
   "execution_count": 31,
   "metadata": {
    "Collapsed": "false"
   },
   "outputs": [
    {
     "data": {
      "text/plain": [
       "'383'"
      ]
     },
     "execution_count": 31,
     "metadata": {},
     "output_type": "execute_result"
    }
   ],
   "source": [
    "recup.dias.iloc[0].split(' ')[0]"
   ]
  },
  {
   "cell_type": "code",
   "execution_count": 42,
   "metadata": {
    "Collapsed": "false"
   },
   "outputs": [],
   "source": [
    "def daysonly(dias):\n",
    "    return int(dias.split(' ')[0])"
   ]
  },
  {
   "cell_type": "code",
   "execution_count": 63,
   "metadata": {
    "Collapsed": "false"
   },
   "outputs": [],
   "source": [
    "# genero una nueva columna donde el dato es solo la cantidad de dias como int\n",
    "recup['dias_'] = recup['dias'].apply(daysonly)"
   ]
  },
  {
   "cell_type": "code",
   "execution_count": 44,
   "metadata": {
    "Collapsed": "false"
   },
   "outputs": [
    {
     "data": {
      "text/html": [
       "<div>\n",
       "<style scoped>\n",
       "    .dataframe tbody tr th:only-of-type {\n",
       "        vertical-align: middle;\n",
       "    }\n",
       "\n",
       "    .dataframe tbody tr th {\n",
       "        vertical-align: top;\n",
       "    }\n",
       "\n",
       "    .dataframe thead th {\n",
       "        text-align: right;\n",
       "    }\n",
       "</style>\n",
       "<table border=\"1\" class=\"dataframe\">\n",
       "  <thead>\n",
       "    <tr style=\"text-align: right;\">\n",
       "      <th></th>\n",
       "      <th>tramite_tipo</th>\n",
       "      <th>tramite_fecha</th>\n",
       "      <th>fecha_inscripcion_inicial</th>\n",
       "      <th>registro_seccional_descripcion</th>\n",
       "      <th>registro_seccional_provincia</th>\n",
       "      <th>automotor_origen</th>\n",
       "      <th>automotor_anio_modelo</th>\n",
       "      <th>automotor_tipo_descripcion</th>\n",
       "      <th>automotor_marca_descripcion</th>\n",
       "      <th>automotor_uso_descripcion</th>\n",
       "      <th>...</th>\n",
       "      <th>titular_domicilio_localidad</th>\n",
       "      <th>titular_domicilio_provincia</th>\n",
       "      <th>titular_genero</th>\n",
       "      <th>titular_anio_nacimiento</th>\n",
       "      <th>titular_pais_nacimiento</th>\n",
       "      <th>titular_porcentaje_titularidad</th>\n",
       "      <th>unico_duenio</th>\n",
       "      <th>fecha_recup</th>\n",
       "      <th>dias</th>\n",
       "      <th>dias_</th>\n",
       "    </tr>\n",
       "  </thead>\n",
       "  <tbody>\n",
       "    <tr>\n",
       "      <td>137</td>\n",
       "      <td>DENUNCIA DE ROBO O HURTO</td>\n",
       "      <td>2018-01-11</td>\n",
       "      <td>1988-09-06</td>\n",
       "      <td>ESTEBAN ECHEVERRIA Nº 1</td>\n",
       "      <td>Buenos Aires</td>\n",
       "      <td>Nacional</td>\n",
       "      <td>1988.0</td>\n",
       "      <td>FURGON</td>\n",
       "      <td>FORD</td>\n",
       "      <td>Privado</td>\n",
       "      <td>...</td>\n",
       "      <td>LUIS GUILLON</td>\n",
       "      <td>BUENOS AIRES</td>\n",
       "      <td>Masculino</td>\n",
       "      <td>1988.0</td>\n",
       "      <td>ARGENTINA</td>\n",
       "      <td>100.0</td>\n",
       "      <td>1.0</td>\n",
       "      <td>2019-01-29</td>\n",
       "      <td>383 days 00:00:00.000000000</td>\n",
       "      <td>383</td>\n",
       "    </tr>\n",
       "    <tr>\n",
       "      <td>188</td>\n",
       "      <td>DENUNCIA DE ROBO O HURTO</td>\n",
       "      <td>2018-01-31</td>\n",
       "      <td>2017-03-31</td>\n",
       "      <td>LANUS Nº 1</td>\n",
       "      <td>Buenos Aires</td>\n",
       "      <td>Nacional</td>\n",
       "      <td>2017.0</td>\n",
       "      <td>SEDAN 5 PUERTAS</td>\n",
       "      <td>FIAT</td>\n",
       "      <td>Privado</td>\n",
       "      <td>...</td>\n",
       "      <td>LANUS</td>\n",
       "      <td>BUENOS AIRES</td>\n",
       "      <td>Masculino</td>\n",
       "      <td>1986.0</td>\n",
       "      <td>ARGENTINA</td>\n",
       "      <td>100.0</td>\n",
       "      <td>1.0</td>\n",
       "      <td>2018-09-25</td>\n",
       "      <td>237 days 00:00:00.000000000</td>\n",
       "      <td>237</td>\n",
       "    </tr>\n",
       "    <tr>\n",
       "      <td>305</td>\n",
       "      <td>DENUNCIA DE ROBO O HURTO</td>\n",
       "      <td>2018-01-11</td>\n",
       "      <td>1999-07-29</td>\n",
       "      <td>QUILMES Nº 1</td>\n",
       "      <td>Buenos Aires</td>\n",
       "      <td>Nacional</td>\n",
       "      <td>1999.0</td>\n",
       "      <td>SEDAN 3 PTAS</td>\n",
       "      <td>FIAT</td>\n",
       "      <td>Privado</td>\n",
       "      <td>...</td>\n",
       "      <td>BERNAL</td>\n",
       "      <td>BUENOS AIRES</td>\n",
       "      <td>Masculino</td>\n",
       "      <td>1996.0</td>\n",
       "      <td>ARGENTINA</td>\n",
       "      <td>100.0</td>\n",
       "      <td>1.0</td>\n",
       "      <td>2018-04-03</td>\n",
       "      <td>82 days 00:00:00.000000000</td>\n",
       "      <td>82</td>\n",
       "    </tr>\n",
       "    <tr>\n",
       "      <td>394</td>\n",
       "      <td>DENUNCIA DE ROBO O HURTO</td>\n",
       "      <td>2018-01-30</td>\n",
       "      <td>2017-12-07</td>\n",
       "      <td>BERAZATEGUI Nº 1</td>\n",
       "      <td>Buenos Aires</td>\n",
       "      <td>Nacional</td>\n",
       "      <td>2017.0</td>\n",
       "      <td>SEDAN 5 PUERTAS</td>\n",
       "      <td>PEUGEOT</td>\n",
       "      <td>Privado</td>\n",
       "      <td>...</td>\n",
       "      <td>BERAZATEGUI</td>\n",
       "      <td>BUENOS AIRES</td>\n",
       "      <td>Femenino</td>\n",
       "      <td>1968.0</td>\n",
       "      <td>ARGENTINA</td>\n",
       "      <td>100.0</td>\n",
       "      <td>1.0</td>\n",
       "      <td>2018-06-25</td>\n",
       "      <td>146 days 00:00:00.000000000</td>\n",
       "      <td>146</td>\n",
       "    </tr>\n",
       "    <tr>\n",
       "      <td>423</td>\n",
       "      <td>DENUNCIA DE ROBO O HURTO</td>\n",
       "      <td>2018-01-02</td>\n",
       "      <td>2012-05-03</td>\n",
       "      <td>SAN ISIDRO Nº 02</td>\n",
       "      <td>Buenos Aires</td>\n",
       "      <td>Importado</td>\n",
       "      <td>2012.0</td>\n",
       "      <td>SEDAN 5 PTAS</td>\n",
       "      <td>AUDI</td>\n",
       "      <td>Privado</td>\n",
       "      <td>...</td>\n",
       "      <td>BECCAR</td>\n",
       "      <td>BUENOS AIRES</td>\n",
       "      <td>Femenino</td>\n",
       "      <td>1967.0</td>\n",
       "      <td>ARGENTINA</td>\n",
       "      <td>100.0</td>\n",
       "      <td>1.0</td>\n",
       "      <td>2018-02-08</td>\n",
       "      <td>37 days 00:00:00.000000000</td>\n",
       "      <td>37</td>\n",
       "    </tr>\n",
       "  </tbody>\n",
       "</table>\n",
       "<p>5 rows × 21 columns</p>\n",
       "</div>"
      ],
      "text/plain": [
       "                 tramite_tipo tramite_fecha fecha_inscripcion_inicial  \\\n",
       "137  DENUNCIA DE ROBO O HURTO    2018-01-11                1988-09-06   \n",
       "188  DENUNCIA DE ROBO O HURTO    2018-01-31                2017-03-31   \n",
       "305  DENUNCIA DE ROBO O HURTO    2018-01-11                1999-07-29   \n",
       "394  DENUNCIA DE ROBO O HURTO    2018-01-30                2017-12-07   \n",
       "423  DENUNCIA DE ROBO O HURTO    2018-01-02                2012-05-03   \n",
       "\n",
       "    registro_seccional_descripcion registro_seccional_provincia  \\\n",
       "137        ESTEBAN ECHEVERRIA Nº 1                 Buenos Aires   \n",
       "188                     LANUS Nº 1                 Buenos Aires   \n",
       "305                   QUILMES Nº 1                 Buenos Aires   \n",
       "394               BERAZATEGUI Nº 1                 Buenos Aires   \n",
       "423               SAN ISIDRO Nº 02                 Buenos Aires   \n",
       "\n",
       "    automotor_origen  automotor_anio_modelo automotor_tipo_descripcion  \\\n",
       "137         Nacional                 1988.0                     FURGON   \n",
       "188         Nacional                 2017.0            SEDAN 5 PUERTAS   \n",
       "305         Nacional                 1999.0               SEDAN 3 PTAS   \n",
       "394         Nacional                 2017.0            SEDAN 5 PUERTAS   \n",
       "423        Importado                 2012.0               SEDAN 5 PTAS   \n",
       "\n",
       "    automotor_marca_descripcion automotor_uso_descripcion  ...  \\\n",
       "137                        FORD                   Privado  ...   \n",
       "188                        FIAT                   Privado  ...   \n",
       "305                        FIAT                   Privado  ...   \n",
       "394                     PEUGEOT                   Privado  ...   \n",
       "423                        AUDI                   Privado  ...   \n",
       "\n",
       "    titular_domicilio_localidad titular_domicilio_provincia titular_genero  \\\n",
       "137                LUIS GUILLON                BUENOS AIRES      Masculino   \n",
       "188                       LANUS                BUENOS AIRES      Masculino   \n",
       "305                      BERNAL                BUENOS AIRES      Masculino   \n",
       "394                 BERAZATEGUI                BUENOS AIRES       Femenino   \n",
       "423                      BECCAR                BUENOS AIRES       Femenino   \n",
       "\n",
       "    titular_anio_nacimiento  titular_pais_nacimiento  \\\n",
       "137                  1988.0                ARGENTINA   \n",
       "188                  1986.0                ARGENTINA   \n",
       "305                  1996.0                ARGENTINA   \n",
       "394                  1968.0                ARGENTINA   \n",
       "423                  1967.0                ARGENTINA   \n",
       "\n",
       "    titular_porcentaje_titularidad  unico_duenio  fecha_recup  \\\n",
       "137                          100.0           1.0   2019-01-29   \n",
       "188                          100.0           1.0   2018-09-25   \n",
       "305                          100.0           1.0   2018-04-03   \n",
       "394                          100.0           1.0   2018-06-25   \n",
       "423                          100.0           1.0   2018-02-08   \n",
       "\n",
       "                            dias dias_  \n",
       "137  383 days 00:00:00.000000000   383  \n",
       "188  237 days 00:00:00.000000000   237  \n",
       "305   82 days 00:00:00.000000000    82  \n",
       "394  146 days 00:00:00.000000000   146  \n",
       "423   37 days 00:00:00.000000000    37  \n",
       "\n",
       "[5 rows x 21 columns]"
      ]
     },
     "execution_count": 44,
     "metadata": {},
     "output_type": "execute_result"
    }
   ],
   "source": [
    "recup.head()"
   ]
  },
  {
   "cell_type": "code",
   "execution_count": 50,
   "metadata": {
    "Collapsed": "false"
   },
   "outputs": [
    {
     "data": {
      "text/plain": [
       "(0, 600)"
      ]
     },
     "execution_count": 50,
     "metadata": {},
     "output_type": "execute_result"
    },
    {
     "data": {
      "image/png": "[encoded data removed]",
      "text/plain": [
       "<Figure size 576x288 with 1 Axes>"
      ]
     },
     "metadata": {
      "needs_background": "light"
     },
     "output_type": "display_data"
    }
   ],
   "source": [
    "plt.figure(figsize= (8,4))\n",
    "sns.distplot(recup.dias_, bins= 100)\n",
    "plt.xlim(0,600)"
   ]
  },
  {
   "cell_type": "code",
   "execution_count": 51,
   "metadata": {
    "Collapsed": "false"
   },
   "outputs": [
    {
     "data": {
      "text/plain": [
       "count    824.000000\n",
       "mean     119.319175\n",
       "std       97.238587\n",
       "min        0.000000\n",
       "25%       49.000000\n",
       "50%       94.000000\n",
       "75%      164.000000\n",
       "max      525.000000\n",
       "Name: dias_, dtype: float64"
      ]
     },
     "execution_count": 51,
     "metadata": {},
     "output_type": "execute_result"
    }
   ],
   "source": [
    "recup.dias_.describe()"
   ]
  },
  {
   "cell_type": "markdown",
   "metadata": {
    "Collapsed": "false"
   },
   "source": [
    "-------------------------------------------"
   ]
  },
  {
   "cell_type": "markdown",
   "metadata": {
    "Collapsed": "false"
   },
   "source": [
    "# Voy a hacer una regresión para ver si puedo predecir días hasta recupero"
   ]
  },
  {
   "cell_type": "markdown",
   "metadata": {
    "Collapsed": "false"
   },
   "source": [
    "## limpio features y feature engineering"
   ]
  },
  {
   "cell_type": "code",
   "execution_count": 57,
   "metadata": {
    "Collapsed": "false"
   },
   "outputs": [
    {
     "data": {
      "text/plain": [
       "Index(['tramite_tipo', 'tramite_fecha', 'fecha_inscripcion_inicial',\n",
       "       'registro_seccional_descripcion', 'registro_seccional_provincia',\n",
       "       'automotor_origen', 'automotor_anio_modelo',\n",
       "       'automotor_tipo_descripcion', 'automotor_marca_descripcion',\n",
       "       'automotor_uso_descripcion', 'titular_tipo_persona',\n",
       "       'titular_domicilio_localidad', 'titular_domicilio_provincia',\n",
       "       'titular_genero', 'titular_anio_nacimiento', 'titular_pais_nacimiento',\n",
       "       'titular_porcentaje_titularidad', 'unico_duenio', 'fecha_recup', 'dias',\n",
       "       'dias_'],\n",
       "      dtype='object')"
      ]
     },
     "execution_count": 57,
     "metadata": {},
     "output_type": "execute_result"
    }
   ],
   "source": [
    "recup.columns"
   ]
  },
  {
   "cell_type": "code",
   "execution_count": 56,
   "metadata": {
    "Collapsed": "false"
   },
   "outputs": [
    {
     "data": {
      "text/plain": [
       "33"
      ]
     },
     "execution_count": 56,
     "metadata": {},
     "output_type": "execute_result"
    }
   ],
   "source": [
    "recup.automotor_tipo_descripcion.nunique()\n",
    "# si se puede mejorar esto se puede usar. evitar tantos para no sumar demasiadas features"
   ]
  },
  {
   "cell_type": "code",
   "execution_count": 64,
   "metadata": {
    "Collapsed": "false"
   },
   "outputs": [],
   "source": [
    "recup.drop(['tramite_tipo', 'registro_seccional_descripcion', 'automotor_marca_descripcion', 'titular_domicilio_localidad',\n",
    "            'dias', 'titular_porcentaje_titularidad'], axis= 1, inplace = True)"
   ]
  },
  {
   "cell_type": "markdown",
   "metadata": {
    "Collapsed": "false"
   },
   "source": [
    "### separo variable a predecir de X"
   ]
  },
  {
   "cell_type": "code",
   "execution_count": 66,
   "metadata": {
    "Collapsed": "false"
   },
   "outputs": [],
   "source": [
    "y = recup.dias_"
   ]
  },
  {
   "cell_type": "code",
   "execution_count": 72,
   "metadata": {
    "Collapsed": "false"
   },
   "outputs": [],
   "source": [
    "X = recup[['tramite_fecha', 'fecha_inscripcion_inicial',\n",
    "       'registro_seccional_provincia', 'automotor_origen',\n",
    "       'automotor_anio_modelo', 'automotor_tipo_descripcion',\n",
    "       'automotor_uso_descripcion', 'titular_tipo_persona',\n",
    "       'titular_domicilio_provincia', 'titular_genero',\n",
    "       'titular_anio_nacimiento', 'titular_pais_nacimiento', 'unico_duenio',\n",
    "       'fecha_recup']]"
   ]
  },
  {
   "cell_type": "code",
   "execution_count": 73,
   "metadata": {
    "Collapsed": "false"
   },
   "outputs": [],
   "source": [
    "origen_dummie= pd.get_dummies(recup.automotor_origen)\n",
    "uso_dummie= pd.get_dummies(recup.automotor_uso_descripcion)\n",
    "pais_tit_dummie = pd.get_dummies(recup.titular_pais_nacimiento)\n"
   ]
  },
  {
   "cell_type": "code",
   "execution_count": 79,
   "metadata": {
    "Collapsed": "false"
   },
   "outputs": [],
   "source": [
    "prov_dummie= pd.get_dummies(recup.registro_seccional_provincia)"
   ]
  },
  {
   "cell_type": "code",
   "execution_count": 75,
   "metadata": {
    "Collapsed": "false"
   },
   "outputs": [],
   "source": [
    "X['titular_pers_fisica'] = np.where(X['titular_tipo_persona'] == 'Física', 1, 0)"
   ]
  },
  {
   "cell_type": "code",
   "execution_count": 76,
   "metadata": {
    "Collapsed": "false"
   },
   "outputs": [],
   "source": [
    "X['titular_masculino'] = np.where(X['titular_genero'] == 'Masculino', 1, 0)"
   ]
  },
  {
   "cell_type": "code",
   "execution_count": 80,
   "metadata": {
    "Collapsed": "false"
   },
   "outputs": [],
   "source": [
    "X = X.join([prov_dummie, origen_dummie, uso_dummie, pais_tit_dummie])"
   ]
  },
  {
   "cell_type": "code",
   "execution_count": 81,
   "metadata": {
    "Collapsed": "false"
   },
   "outputs": [],
   "source": [
    "X.drop(['registro_seccional_provincia', 'automotor_origen', 'automotor_uso_descripcion', 'titular_pais_nacimiento', \n",
    "       'titular_tipo_persona', 'titular_genero'], axis= 1, inplace = True)"
   ]
  },
  {
   "cell_type": "code",
   "execution_count": 83,
   "metadata": {
    "Collapsed": "false"
   },
   "outputs": [],
   "source": [
    "#me quedó colgado tipo descripcion, después meterlo en el grupo de arriba\n",
    "tipo_dummie = pd.get_dummies(recup.automotor_tipo_descripcion)"
   ]
  },
  {
   "cell_type": "code",
   "execution_count": 84,
   "metadata": {
    "Collapsed": "false"
   },
   "outputs": [],
   "source": [
    "X = X.join([tipo_dummie])"
   ]
  },
  {
   "cell_type": "code",
   "execution_count": 85,
   "metadata": {
    "Collapsed": "false"
   },
   "outputs": [],
   "source": [
    "X.drop('automotor_tipo_descripcion', axis = 1, inplace= True)"
   ]
  },
  {
   "cell_type": "code",
   "execution_count": 86,
   "metadata": {
    "Collapsed": "false"
   },
   "outputs": [],
   "source": [
    "#dropear esto antes de arrancar\n",
    "X.drop('titular_domicilio_provincia', axis = 1, inplace = True)"
   ]
  },
  {
   "cell_type": "code",
   "execution_count": 92,
   "metadata": {
    "Collapsed": "false"
   },
   "outputs": [],
   "source": [
    "# ver si convertir o dropear fechas\n",
    "X.drop(['tramite_fecha', 'fecha_inscripcion_inicial', 'fecha_recup'], axis = 1, inplace= True)"
   ]
  },
  {
   "cell_type": "code",
   "execution_count": 95,
   "metadata": {
    "Collapsed": "false"
   },
   "outputs": [
    {
     "data": {
      "text/plain": [
       "automotor_anio_modelo      float64\n",
       "titular_anio_nacimiento    float64\n",
       "unico_duenio               float64\n",
       "titular_pers_fisica          int32\n",
       "titular_masculino            int32\n",
       "                            ...   \n",
       "SEDAN 5 PTAS                 uint8\n",
       "SEDAN 5 PUERTAS              uint8\n",
       "SEMIRREMOLQUE                uint8\n",
       "TODO TERRENO                 uint8\n",
       "UTILITARIO                   uint8\n",
       "Length: 72, dtype: object"
      ]
     },
     "execution_count": 95,
     "metadata": {},
     "output_type": "execute_result"
    }
   ],
   "source": [
    "X.dtypes"
   ]
  },
  {
   "cell_type": "code",
   "execution_count": 87,
   "metadata": {
    "Collapsed": "false"
   },
   "outputs": [
    {
     "data": {
      "text/plain": [
       "Index(['tramite_fecha', 'fecha_inscripcion_inicial', 'automotor_anio_modelo',\n",
       "       'titular_anio_nacimiento', 'unico_duenio', 'fecha_recup',\n",
       "       'titular_pers_fisica', 'titular_masculino', 'Buenos Aires', 'Chubut',\n",
       "       'Ciudad Autónoma de Bs.As.', 'Corrientes', 'Córdoba', 'Entre Ríos',\n",
       "       'Jujuy', 'La Pampa', 'Mendoza', 'Misiones', 'Neuquén', 'Río Negro',\n",
       "       'Salta', 'San Luis', 'Santa Fe', 'Tierra del Fuego', 'Importado',\n",
       "       'Nacional', 'Protocolo 21', 'No declarado', 'Privado', 'Público',\n",
       "       'ARGENTINA', 'BOLIVIA', 'BRASIL', 'CHILE', 'CHINA', 'COREA REPUBLICANA',\n",
       "       'ESPANA', 'ITALIA', 'PARAGUAY', 'PERU', 'URUGUAY', 'VENEZUELA',\n",
       "       'CAMION TRACTOR', 'CHASIS C/CABINA', 'COUPE', 'FAMILIAR', 'FURGON',\n",
       "       'FURGON 800', 'FURGON VIDRIADO', 'FURGON VIDRIADO C/ASI',\n",
       "       'FURGON VIDRIADO C/ASIENTOS', 'FURGON VIDRIADO CON ASIENTOS',\n",
       "       'FURGONETA', 'MINIBUS', 'PICK UP', 'PICK-UP', 'PICK-UP CABINA DOBLE',\n",
       "       'PICK-UP CABINA SIMPLE', 'RURAL', 'RURAL 3 PTAS', 'RURAL 5 PTAS',\n",
       "       'RURAL 5 PUERTAS', 'SEDAN 2 PTAS', 'SEDAN 2 PUERTAS', 'SEDAN 3 PTAS',\n",
       "       'SEDAN 3 PUERTAS', 'SEDAN 4 P', 'SEDAN 4 PTAS', 'SEDAN 4 PTAS Y TRASE',\n",
       "       'SEDAN 4 PUERTAS', 'SEDAN 5 PTAS', 'SEDAN 5 PUERTAS', 'SEMIRREMOLQUE',\n",
       "       'TODO TERRENO', 'UTILITARIO'],\n",
       "      dtype='object')"
      ]
     },
     "execution_count": 87,
     "metadata": {},
     "output_type": "execute_result"
    }
   ],
   "source": [
    "X.columns"
   ]
  },
  {
   "cell_type": "markdown",
   "metadata": {
    "Collapsed": "false"
   },
   "source": [
    "## Feature selection?"
   ]
  },
  {
   "cell_type": "markdown",
   "metadata": {
    "Collapsed": "false"
   },
   "source": [
    "----------------"
   ]
  },
  {
   "cell_type": "markdown",
   "metadata": {
    "Collapsed": "false"
   },
   "source": [
    "# Importo librerias de regresión"
   ]
  },
  {
   "cell_type": "code",
   "execution_count": 88,
   "metadata": {
    "Collapsed": "false"
   },
   "outputs": [],
   "source": [
    "from sklearn import preprocessing\n",
    "from sklearn.model_selection import train_test_split\n",
    "from sklearn.linear_model import LinearRegression\n",
    "from sklearn.svm import SVR\n",
    "from sklearn.svm import LinearSVR\n",
    "from sklearn.neighbors import KNeighborsRegressor\n",
    "from sklearn.metrics import mean_squared_error, r2_score\n",
    "from sklearn.model_selection import GridSearchCV"
   ]
  },
  {
   "cell_type": "markdown",
   "metadata": {
    "Collapsed": "false"
   },
   "source": [
    "## Hago cosita"
   ]
  },
  {
   "cell_type": "code",
   "execution_count": 96,
   "metadata": {
    "Collapsed": "false"
   },
   "outputs": [],
   "source": [
    "Xtrain, Xtest, ytrain, ytest = train_test_split(X, y, test_size=0.3, random_state=42)"
   ]
  },
  {
   "cell_type": "code",
   "execution_count": 90,
   "metadata": {
    "Collapsed": "false"
   },
   "outputs": [],
   "source": [
    "#linear regression\n",
    "lr = LinearRegression()"
   ]
  },
  {
   "cell_type": "code",
   "execution_count": 97,
   "metadata": {
    "Collapsed": "false"
   },
   "outputs": [
    {
     "data": {
      "text/plain": [
       "LinearRegression(copy_X=True, fit_intercept=True, n_jobs=None,\n",
       "         normalize=False)"
      ]
     },
     "execution_count": 97,
     "metadata": {},
     "output_type": "execute_result"
    }
   ],
   "source": [
    "lr.fit(Xtrain, ytrain)"
   ]
  },
  {
   "cell_type": "code",
   "execution_count": 98,
   "metadata": {
    "Collapsed": "false"
   },
   "outputs": [],
   "source": [
    "ypred = lr.predict(Xtest)"
   ]
  },
  {
   "cell_type": "code",
   "execution_count": 99,
   "metadata": {
    "Collapsed": "false"
   },
   "outputs": [
    {
     "data": {
      "text/plain": [
       "97.35425217276183"
      ]
     },
     "execution_count": 99,
     "metadata": {},
     "output_type": "execute_result"
    }
   ],
   "source": [
    "np.sqrt(mean_squared_error(ytest, ypred))"
   ]
  },
  {
   "cell_type": "code",
   "execution_count": 101,
   "metadata": {
    "Collapsed": "false"
   },
   "outputs": [
    {
     "data": {
      "text/plain": [
       "<matplotlib.axes._subplots.AxesSubplot at 0x2841e165978>"
      ]
     },
     "execution_count": 101,
     "metadata": {},
     "output_type": "execute_result"
    },
    {
     "data": {
      "image/png": "[encoded data removed]",
      "text/plain": [
       "<Figure size 432x288 with 1 Axes>"
      ]
     },
     "metadata": {
      "needs_background": "light"
     },
     "output_type": "display_data"
    }
   ],
   "source": [
    "sns.scatterplot(ypred, ytest)"
   ]
  },
  {
   "cell_type": "code",
   "execution_count": 102,
   "metadata": {
    "Collapsed": "false"
   },
   "outputs": [],
   "source": [
    "# KNN\n",
    "neigh = KNeighborsRegressor(weights = \"distance\")"
   ]
  },
  {
   "cell_type": "code",
   "execution_count": 108,
   "metadata": {
    "Collapsed": "false"
   },
   "outputs": [],
   "source": [
    "parameters_k = np.arange(1,31,1)\n"
   ]
  },
  {
   "cell_type": "code",
   "execution_count": 104,
   "metadata": {
    "Collapsed": "false"
   },
   "outputs": [],
   "source": [
    "parameters_knn = [{'n_neighbors': parameters_k}]"
   ]
  },
  {
   "cell_type": "code",
   "execution_count": 109,
   "metadata": {
    "Collapsed": "false"
   },
   "outputs": [],
   "source": [
    "regresor_neigh = GridSearchCV(neigh, parameters_knn, refit = True, cv= 5, verbose=True)"
   ]
  },
  {
   "cell_type": "code",
   "execution_count": 110,
   "metadata": {
    "Collapsed": "false"
   },
   "outputs": [
    {
     "name": "stdout",
     "output_type": "stream",
     "text": [
      "Fitting 5 folds for each of 3 candidates, totalling 15 fits\n"
     ]
    },
    {
     "name": "stderr",
     "output_type": "stream",
     "text": [
      "[Parallel(n_jobs=1)]: Using backend SequentialBackend with 1 concurrent workers.\n",
      "[Parallel(n_jobs=1)]: Done  15 out of  15 | elapsed:    0.2s finished\n"
     ]
    },
    {
     "data": {
      "text/plain": [
       "GridSearchCV(cv=5, error_score='raise-deprecating',\n",
       "       estimator=KNeighborsRegressor(algorithm='auto', leaf_size=30, metric='minkowski',\n",
       "          metric_params=None, n_jobs=None, n_neighbors=5, p=2,\n",
       "          weights='distance'),\n",
       "       fit_params=None, iid='warn', n_jobs=None,\n",
       "       param_grid=[{'n_neighbors': array([20, 25, 30])}],\n",
       "       pre_dispatch='2*n_jobs', refit=True, return_train_score='warn',\n",
       "       scoring=None, verbose=True)"
      ]
     },
     "execution_count": 110,
     "metadata": {},
     "output_type": "execute_result"
    }
   ],
   "source": [
    "regresor_neigh.fit(Xtrain, ytrain)"
   ]
  },
  {
   "cell_type": "code",
   "execution_count": 111,
   "metadata": {
    "Collapsed": "false"
   },
   "outputs": [
    {
     "data": {
      "text/plain": [
       "{'n_neighbors': 30}"
      ]
     },
     "execution_count": 111,
     "metadata": {},
     "output_type": "execute_result"
    }
   ],
   "source": [
    "regresor_neigh.best_params_"
   ]
  },
  {
   "cell_type": "code",
   "execution_count": 112,
   "metadata": {
    "Collapsed": "false"
   },
   "outputs": [
    {
     "data": {
      "text/plain": [
       "-0.07513117461804335"
      ]
     },
     "execution_count": 112,
     "metadata": {},
     "output_type": "execute_result"
    }
   ],
   "source": [
    "regresor_neigh.best_score_"
   ]
  },
  {
   "cell_type": "code",
   "execution_count": 113,
   "metadata": {
    "Collapsed": "false"
   },
   "outputs": [],
   "source": [
    "ypred2 = regresor_neigh.predict(Xtest)\n"
   ]
  },
  {
   "cell_type": "code",
   "execution_count": 114,
   "metadata": {
    "Collapsed": "false"
   },
   "outputs": [
    {
     "data": {
      "text/plain": [
       "94.88294918940561"
      ]
     },
     "execution_count": 114,
     "metadata": {},
     "output_type": "execute_result"
    }
   ],
   "source": [
    "np.sqrt(mean_squared_error(ytest, ypred2))"
   ]
  },
  {
   "cell_type": "code",
   "execution_count": 115,
   "metadata": {
    "Collapsed": "false"
   },
   "outputs": [
    {
     "data": {
      "text/plain": [
       "<matplotlib.axes._subplots.AxesSubplot at 0x284214da5c0>"
      ]
     },
     "execution_count": 115,
     "metadata": {},
     "output_type": "execute_result"
    },
    {
     "data": {
      "image/png": "[encoded data removed]",
      "text/plain": [
       "<Figure size 432x288 with 1 Axes>"
      ]
     },
     "metadata": {
      "needs_background": "light"
     },
     "output_type": "display_data"
    }
   ],
   "source": [
    "sns.scatterplot(ypred2, ytest)"
   ]
  },
  {
   "cell_type": "code",
   "execution_count": 117,
   "metadata": {
    "Collapsed": "false"
   },
   "outputs": [],
   "source": [
    "# SVR\n",
    "svreg = SVR()"
   ]
  },
  {
   "cell_type": "code",
   "execution_count": 118,
   "metadata": {
    "Collapsed": "false"
   },
   "outputs": [],
   "source": [
    "parameters_svr = [{'kernel':['rbf', 'linear'] , 'C': [1,10,100],'gamma': [0.1,0.5] }]"
   ]
  },
  {
   "cell_type": "code",
   "execution_count": 119,
   "metadata": {
    "Collapsed": "false"
   },
   "outputs": [],
   "source": [
    "regresor_svr = GridSearchCV(svreg, parameters_svr, cv= 5, verbose=True)"
   ]
  },
  {
   "cell_type": "code",
   "execution_count": 120,
   "metadata": {
    "Collapsed": "false",
    "scrolled": true
   },
   "outputs": [
    {
     "name": "stdout",
     "output_type": "stream",
     "text": [
      "Fitting 5 folds for each of 12 candidates, totalling 60 fits\n"
     ]
    },
    {
     "name": "stderr",
     "output_type": "stream",
     "text": [
      "[Parallel(n_jobs=1)]: Using backend SequentialBackend with 1 concurrent workers.\n",
      "[Parallel(n_jobs=1)]: Done  60 out of  60 | elapsed:   36.8s finished\n",
      "C:\\ProgramData\\Anaconda3\\lib\\site-packages\\sklearn\\model_selection\\_search.py:841: DeprecationWarning: The default of the `iid` parameter will change from True to False in version 0.22 and will be removed in 0.24. This will change numeric results when test-set sizes are unequal.\n",
      "  DeprecationWarning)\n"
     ]
    },
    {
     "data": {
      "text/plain": [
       "GridSearchCV(cv=5, error_score='raise-deprecating',\n",
       "       estimator=SVR(C=1.0, cache_size=200, coef0=0.0, degree=3, epsilon=0.1,\n",
       "  gamma='auto_deprecated', kernel='rbf', max_iter=-1, shrinking=True,\n",
       "  tol=0.001, verbose=False),\n",
       "       fit_params=None, iid='warn', n_jobs=None,\n",
       "       param_grid=[{'kernel': ['rbf', 'linear'], 'C': [1, 10, 100], 'gamma': [0.1, 0.5]}],\n",
       "       pre_dispatch='2*n_jobs', refit=True, return_train_score='warn',\n",
       "       scoring=None, verbose=True)"
      ]
     },
     "execution_count": 120,
     "metadata": {},
     "output_type": "execute_result"
    }
   ],
   "source": [
    "regresor_svr.fit(Xtrain, ytrain)\n"
   ]
  },
  {
   "cell_type": "code",
   "execution_count": 121,
   "metadata": {
    "Collapsed": "false"
   },
   "outputs": [
    {
     "data": {
      "text/plain": [
       "{'C': 10, 'gamma': 0.1, 'kernel': 'linear'}"
      ]
     },
     "execution_count": 121,
     "metadata": {},
     "output_type": "execute_result"
    }
   ],
   "source": [
    "regresor_svr.best_params_"
   ]
  },
  {
   "cell_type": "code",
   "execution_count": 122,
   "metadata": {
    "Collapsed": "false"
   },
   "outputs": [
    {
     "data": {
      "text/plain": [
       "-0.06553693225042063"
      ]
     },
     "execution_count": 122,
     "metadata": {},
     "output_type": "execute_result"
    }
   ],
   "source": [
    "regresor_svr.best_score_"
   ]
  },
  {
   "cell_type": "code",
   "execution_count": 124,
   "metadata": {
    "Collapsed": "false"
   },
   "outputs": [],
   "source": [
    "ypred3 = regresor_svr.predict(Xtest)\n"
   ]
  },
  {
   "cell_type": "code",
   "execution_count": 125,
   "metadata": {
    "Collapsed": "false"
   },
   "outputs": [
    {
     "data": {
      "text/plain": [
       "94.10379214287205"
      ]
     },
     "execution_count": 125,
     "metadata": {},
     "output_type": "execute_result"
    }
   ],
   "source": [
    "np.sqrt(mean_squared_error(ytest, ypred3))"
   ]
  },
  {
   "cell_type": "code",
   "execution_count": 134,
   "metadata": {
    "Collapsed": "false"
   },
   "outputs": [
    {
     "data": {
      "text/plain": [
       "<matplotlib.axes._subplots.AxesSubplot at 0x28422909ef0>"
      ]
     },
     "execution_count": 134,
     "metadata": {},
     "output_type": "execute_result"
    },
    {
     "data": {
      "image/png": "[encoded data removed]",
      "text/plain": [
       "<Figure size 432x288 with 1 Axes>"
      ]
     },
     "metadata": {
      "needs_background": "light"
     },
     "output_type": "display_data"
    }
   ],
   "source": [
    "sns.scatterplot(ytest, ypred3)"
   ]
  },
  {
   "cell_type": "code",
   "execution_count": null,
   "metadata": {
    "Collapsed": "false"
   },
   "outputs": [],
   "source": []
  }
 ],
 "metadata": {
  "kernelspec": {
   "display_name": "Python 3",
   "language": "python",
   "name": "python3"
  },
  "language_info": {
   "codemirror_mode": {
    "name": "ipython",
    "version": 3
   },
   "file_extension": ".py",
   "mimetype": "text/x-python",
   "name": "python",
   "nbconvert_exporter": "python",
   "pygments_lexer": "ipython3",
   "version": "3.7.1"
  }
 },
 "nbformat": 4,
 "nbformat_minor": 4
}
