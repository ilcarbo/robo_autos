{
 "cells": [
  {
   "cell_type": "code",
   "execution_count": 1,
   "metadata": {
    "Collapsed": "false"
   },
   "outputs": [],
   "source": [
    "import pandas as pd\n",
    "import numpy as np"
   ]
  },
  {
   "cell_type": "code",
   "execution_count": 2,
   "metadata": {
    "Collapsed": "false"
   },
   "outputs": [],
   "source": [
    "import matplotlib.pyplot as plt\n",
    "import seaborn as sns\n",
    "\n",
    "%matplotlib inline"
   ]
  },
  {
   "cell_type": "markdown",
   "metadata": {
    "Collapsed": "false"
   },
   "source": [
    "---------------------"
   ]
  },
  {
   "cell_type": "code",
   "execution_count": 203,
   "metadata": {
    "Collapsed": "false"
   },
   "outputs": [],
   "source": [
    "recup = pd.read_csv('./curados/para_reg.csv')"
   ]
  },
  {
   "cell_type": "code",
   "execution_count": 4,
   "metadata": {
    "Collapsed": "false"
   },
   "outputs": [
    {
     "data": {
      "text/plain": [
       "(756, 20)"
      ]
     },
     "execution_count": 4,
     "metadata": {},
     "output_type": "execute_result"
    }
   ],
   "source": [
    "recup.shape"
   ]
  },
  {
   "cell_type": "code",
   "execution_count": 204,
   "metadata": {
    "Collapsed": "false"
   },
   "outputs": [],
   "source": [
    "# dropeo todo o que tiene null (solo me quedo con lo robado y recuperado en este período.)\n",
    "recup = recup.dropna()"
   ]
  },
  {
   "cell_type": "code",
   "execution_count": 10,
   "metadata": {
    "Collapsed": "false"
   },
   "outputs": [
    {
     "data": {
      "text/plain": [
       "(824, 20)"
      ]
     },
     "execution_count": 10,
     "metadata": {},
     "output_type": "execute_result"
    }
   ],
   "source": [
    "recup.shape"
   ]
  },
  {
   "cell_type": "code",
   "execution_count": 5,
   "metadata": {
    "Collapsed": "false"
   },
   "outputs": [
    {
     "data": {
      "text/plain": [
       "Index(['tramite_tipo', 'tramite_fecha', 'fecha_inscripcion_inicial',\n",
       "       'registro_seccional_descripcion', 'registro_seccional_provincia',\n",
       "       'automotor_origen', 'automotor_anio_modelo',\n",
       "       'automotor_tipo_descripcion', 'automotor_marca_descripcion',\n",
       "       'automotor_modelo_descripcion', 'automotor_uso_descripcion',\n",
       "       'titular_tipo_persona', 'titular_domicilio_localidad',\n",
       "       'titular_domicilio_provincia', 'titular_genero',\n",
       "       'titular_anio_nacimiento', 'titular_pais_nacimiento', 'unico_duenio',\n",
       "       'fecha_recup', 'dias'],\n",
       "      dtype='object')"
      ]
     },
     "execution_count": 5,
     "metadata": {},
     "output_type": "execute_result"
    }
   ],
   "source": [
    "recup.columns"
   ]
  },
  {
   "cell_type": "code",
   "execution_count": 205,
   "metadata": {
    "Collapsed": "false"
   },
   "outputs": [],
   "source": [
    "def daysonly(dias):\n",
    "    return int(dias.split(' ')[0])"
   ]
  },
  {
   "cell_type": "code",
   "execution_count": 206,
   "metadata": {
    "Collapsed": "false"
   },
   "outputs": [],
   "source": [
    "# genero una nueva columna donde el dato es solo la cantidad de dias como int\n",
    "recup['dias_'] = recup['dias'].apply(daysonly)"
   ]
  },
  {
   "cell_type": "code",
   "execution_count": 9,
   "metadata": {
    "Collapsed": "false"
   },
   "outputs": [
    {
     "data": {
      "text/html": [
       "<div>\n",
       "<style scoped>\n",
       "    .dataframe tbody tr th:only-of-type {\n",
       "        vertical-align: middle;\n",
       "    }\n",
       "\n",
       "    .dataframe tbody tr th {\n",
       "        vertical-align: top;\n",
       "    }\n",
       "\n",
       "    .dataframe thead th {\n",
       "        text-align: right;\n",
       "    }\n",
       "</style>\n",
       "<table border=\"1\" class=\"dataframe\">\n",
       "  <thead>\n",
       "    <tr style=\"text-align: right;\">\n",
       "      <th></th>\n",
       "      <th>tramite_tipo</th>\n",
       "      <th>tramite_fecha</th>\n",
       "      <th>fecha_inscripcion_inicial</th>\n",
       "      <th>registro_seccional_descripcion</th>\n",
       "      <th>registro_seccional_provincia</th>\n",
       "      <th>automotor_origen</th>\n",
       "      <th>automotor_anio_modelo</th>\n",
       "      <th>automotor_tipo_descripcion</th>\n",
       "      <th>automotor_marca_descripcion</th>\n",
       "      <th>automotor_modelo_descripcion</th>\n",
       "      <th>...</th>\n",
       "      <th>titular_tipo_persona</th>\n",
       "      <th>titular_domicilio_localidad</th>\n",
       "      <th>titular_domicilio_provincia</th>\n",
       "      <th>titular_genero</th>\n",
       "      <th>titular_anio_nacimiento</th>\n",
       "      <th>titular_pais_nacimiento</th>\n",
       "      <th>unico_duenio</th>\n",
       "      <th>fecha_recup</th>\n",
       "      <th>dias</th>\n",
       "      <th>dias_</th>\n",
       "    </tr>\n",
       "  </thead>\n",
       "  <tbody>\n",
       "    <tr>\n",
       "      <td>0</td>\n",
       "      <td>DENUNCIA DE ROBO O HURTO</td>\n",
       "      <td>2018-01-11</td>\n",
       "      <td>1988-09-06</td>\n",
       "      <td>ESTEBAN ECHEVERRIA Nº 1</td>\n",
       "      <td>Buenos Aires</td>\n",
       "      <td>Nacional</td>\n",
       "      <td>1988.0</td>\n",
       "      <td>FURGON</td>\n",
       "      <td>FORD</td>\n",
       "      <td>F-100</td>\n",
       "      <td>...</td>\n",
       "      <td>Física</td>\n",
       "      <td>LUIS GUILLON</td>\n",
       "      <td>BUENOS AIRES</td>\n",
       "      <td>Masculino</td>\n",
       "      <td>1988.0</td>\n",
       "      <td>ARGENTINA</td>\n",
       "      <td>1.0</td>\n",
       "      <td>2019-01-29</td>\n",
       "      <td>383 days 00:00:00.000000000</td>\n",
       "      <td>383</td>\n",
       "    </tr>\n",
       "    <tr>\n",
       "      <td>1</td>\n",
       "      <td>DENUNCIA DE ROBO O HURTO</td>\n",
       "      <td>2018-01-31</td>\n",
       "      <td>2017-03-31</td>\n",
       "      <td>LANUS Nº 1</td>\n",
       "      <td>Buenos Aires</td>\n",
       "      <td>Nacional</td>\n",
       "      <td>2017.0</td>\n",
       "      <td>SEDAN 4 P</td>\n",
       "      <td>FIAT</td>\n",
       "      <td>PALIO</td>\n",
       "      <td>...</td>\n",
       "      <td>Física</td>\n",
       "      <td>LANUS</td>\n",
       "      <td>BUENOS AIRES</td>\n",
       "      <td>Masculino</td>\n",
       "      <td>1986.0</td>\n",
       "      <td>ARGENTINA</td>\n",
       "      <td>1.0</td>\n",
       "      <td>2018-09-25</td>\n",
       "      <td>237 days 00:00:00.000000000</td>\n",
       "      <td>237</td>\n",
       "    </tr>\n",
       "    <tr>\n",
       "      <td>2</td>\n",
       "      <td>DENUNCIA DE ROBO O HURTO</td>\n",
       "      <td>2018-01-11</td>\n",
       "      <td>1999-07-29</td>\n",
       "      <td>QUILMES Nº 1</td>\n",
       "      <td>Buenos Aires</td>\n",
       "      <td>Nacional</td>\n",
       "      <td>1999.0</td>\n",
       "      <td>SEDAN 3 P</td>\n",
       "      <td>FIAT</td>\n",
       "      <td>PALIO</td>\n",
       "      <td>...</td>\n",
       "      <td>Física</td>\n",
       "      <td>BERNAL</td>\n",
       "      <td>BUENOS AIRES</td>\n",
       "      <td>Masculino</td>\n",
       "      <td>1996.0</td>\n",
       "      <td>ARGENTINA</td>\n",
       "      <td>1.0</td>\n",
       "      <td>2018-04-03</td>\n",
       "      <td>82 days 00:00:00.000000000</td>\n",
       "      <td>82</td>\n",
       "    </tr>\n",
       "    <tr>\n",
       "      <td>3</td>\n",
       "      <td>DENUNCIA DE ROBO O HURTO</td>\n",
       "      <td>2018-01-30</td>\n",
       "      <td>2017-12-07</td>\n",
       "      <td>BERAZATEGUI Nº 1</td>\n",
       "      <td>Buenos Aires</td>\n",
       "      <td>Nacional</td>\n",
       "      <td>2017.0</td>\n",
       "      <td>SEDAN 4 P</td>\n",
       "      <td>PEUGEOT</td>\n",
       "      <td>308</td>\n",
       "      <td>...</td>\n",
       "      <td>Física</td>\n",
       "      <td>BERAZATEGUI</td>\n",
       "      <td>BUENOS AIRES</td>\n",
       "      <td>Femenino</td>\n",
       "      <td>1968.0</td>\n",
       "      <td>ARGENTINA</td>\n",
       "      <td>1.0</td>\n",
       "      <td>2018-06-25</td>\n",
       "      <td>146 days 00:00:00.000000000</td>\n",
       "      <td>146</td>\n",
       "    </tr>\n",
       "    <tr>\n",
       "      <td>4</td>\n",
       "      <td>DENUNCIA DE ROBO O HURTO</td>\n",
       "      <td>2018-01-02</td>\n",
       "      <td>2012-05-03</td>\n",
       "      <td>SAN ISIDRO Nº 02</td>\n",
       "      <td>Buenos Aires</td>\n",
       "      <td>Importado</td>\n",
       "      <td>2012.0</td>\n",
       "      <td>SEDAN 4 P</td>\n",
       "      <td>AUDI</td>\n",
       "      <td>A3</td>\n",
       "      <td>...</td>\n",
       "      <td>Física</td>\n",
       "      <td>BECCAR</td>\n",
       "      <td>BUENOS AIRES</td>\n",
       "      <td>Femenino</td>\n",
       "      <td>1967.0</td>\n",
       "      <td>ARGENTINA</td>\n",
       "      <td>1.0</td>\n",
       "      <td>2018-02-08</td>\n",
       "      <td>37 days 00:00:00.000000000</td>\n",
       "      <td>37</td>\n",
       "    </tr>\n",
       "  </tbody>\n",
       "</table>\n",
       "<p>5 rows × 21 columns</p>\n",
       "</div>"
      ],
      "text/plain": [
       "               tramite_tipo tramite_fecha fecha_inscripcion_inicial  \\\n",
       "0  DENUNCIA DE ROBO O HURTO    2018-01-11                1988-09-06   \n",
       "1  DENUNCIA DE ROBO O HURTO    2018-01-31                2017-03-31   \n",
       "2  DENUNCIA DE ROBO O HURTO    2018-01-11                1999-07-29   \n",
       "3  DENUNCIA DE ROBO O HURTO    2018-01-30                2017-12-07   \n",
       "4  DENUNCIA DE ROBO O HURTO    2018-01-02                2012-05-03   \n",
       "\n",
       "  registro_seccional_descripcion registro_seccional_provincia  \\\n",
       "0        ESTEBAN ECHEVERRIA Nº 1                 Buenos Aires   \n",
       "1                     LANUS Nº 1                 Buenos Aires   \n",
       "2                   QUILMES Nº 1                 Buenos Aires   \n",
       "3               BERAZATEGUI Nº 1                 Buenos Aires   \n",
       "4               SAN ISIDRO Nº 02                 Buenos Aires   \n",
       "\n",
       "  automotor_origen  automotor_anio_modelo automotor_tipo_descripcion  \\\n",
       "0         Nacional                 1988.0                     FURGON   \n",
       "1         Nacional                 2017.0                  SEDAN 4 P   \n",
       "2         Nacional                 1999.0                  SEDAN 3 P   \n",
       "3         Nacional                 2017.0                  SEDAN 4 P   \n",
       "4        Importado                 2012.0                  SEDAN 4 P   \n",
       "\n",
       "  automotor_marca_descripcion automotor_modelo_descripcion  ...  \\\n",
       "0                        FORD                        F-100  ...   \n",
       "1                        FIAT                        PALIO  ...   \n",
       "2                        FIAT                        PALIO  ...   \n",
       "3                     PEUGEOT                          308  ...   \n",
       "4                        AUDI                           A3  ...   \n",
       "\n",
       "  titular_tipo_persona titular_domicilio_localidad  \\\n",
       "0               Física                LUIS GUILLON   \n",
       "1               Física                       LANUS   \n",
       "2               Física                      BERNAL   \n",
       "3               Física                 BERAZATEGUI   \n",
       "4               Física                      BECCAR   \n",
       "\n",
       "  titular_domicilio_provincia titular_genero titular_anio_nacimiento  \\\n",
       "0                BUENOS AIRES      Masculino                  1988.0   \n",
       "1                BUENOS AIRES      Masculino                  1986.0   \n",
       "2                BUENOS AIRES      Masculino                  1996.0   \n",
       "3                BUENOS AIRES       Femenino                  1968.0   \n",
       "4                BUENOS AIRES       Femenino                  1967.0   \n",
       "\n",
       "   titular_pais_nacimiento unico_duenio  fecha_recup  \\\n",
       "0                ARGENTINA          1.0   2019-01-29   \n",
       "1                ARGENTINA          1.0   2018-09-25   \n",
       "2                ARGENTINA          1.0   2018-04-03   \n",
       "3                ARGENTINA          1.0   2018-06-25   \n",
       "4                ARGENTINA          1.0   2018-02-08   \n",
       "\n",
       "                          dias dias_  \n",
       "0  383 days 00:00:00.000000000   383  \n",
       "1  237 days 00:00:00.000000000   237  \n",
       "2   82 days 00:00:00.000000000    82  \n",
       "3  146 days 00:00:00.000000000   146  \n",
       "4   37 days 00:00:00.000000000    37  \n",
       "\n",
       "[5 rows x 21 columns]"
      ]
     },
     "execution_count": 9,
     "metadata": {},
     "output_type": "execute_result"
    }
   ],
   "source": [
    "recup.head()"
   ]
  },
  {
   "cell_type": "code",
   "execution_count": 63,
   "metadata": {
    "Collapsed": "false"
   },
   "outputs": [
    {
     "data": {
      "text/plain": [
       "(0, 600)"
      ]
     },
     "execution_count": 63,
     "metadata": {},
     "output_type": "execute_result"
    },
    {
     "data": {
      "image/png": "[encoded data removed]",
      "text/plain": [
       "<Figure size 576x288 with 1 Axes>"
      ]
     },
     "metadata": {
      "needs_background": "light"
     },
     "output_type": "display_data"
    }
   ],
   "source": [
    "plt.figure(figsize= (8,4))\n",
    "sns.distplot(recup.dias_, bins= 100)\n",
    "plt.xlim(0,600)"
   ]
  },
  {
   "cell_type": "code",
   "execution_count": 11,
   "metadata": {
    "Collapsed": "false"
   },
   "outputs": [
    {
     "data": {
      "text/plain": [
       "count    756.000000\n",
       "mean     120.099206\n",
       "std       97.520503\n",
       "min        0.000000\n",
       "25%       49.000000\n",
       "50%       96.500000\n",
       "75%      164.000000\n",
       "max      525.000000\n",
       "Name: dias_, dtype: float64"
      ]
     },
     "execution_count": 11,
     "metadata": {},
     "output_type": "execute_result"
    }
   ],
   "source": [
    "recup.dias_.describe()"
   ]
  },
  {
   "cell_type": "markdown",
   "metadata": {
    "Collapsed": "false"
   },
   "source": [
    "-------------------------------------------"
   ]
  },
  {
   "cell_type": "markdown",
   "metadata": {
    "Collapsed": "false"
   },
   "source": [
    "# Voy a hacer una regresión para ver si puedo predecir días hasta recupero"
   ]
  },
  {
   "cell_type": "markdown",
   "metadata": {
    "Collapsed": "false"
   },
   "source": [
    "## limpio features y feature engineering"
   ]
  },
  {
   "cell_type": "code",
   "execution_count": 13,
   "metadata": {
    "Collapsed": "false"
   },
   "outputs": [
    {
     "data": {
      "text/plain": [
       "Index(['tramite_tipo', 'tramite_fecha', 'fecha_inscripcion_inicial',\n",
       "       'registro_seccional_descripcion', 'registro_seccional_provincia',\n",
       "       'automotor_origen', 'automotor_anio_modelo',\n",
       "       'automotor_tipo_descripcion', 'automotor_marca_descripcion',\n",
       "       'automotor_modelo_descripcion', 'automotor_uso_descripcion',\n",
       "       'titular_tipo_persona', 'titular_domicilio_localidad',\n",
       "       'titular_domicilio_provincia', 'titular_genero',\n",
       "       'titular_anio_nacimiento', 'titular_pais_nacimiento', 'unico_duenio',\n",
       "       'fecha_recup', 'dias', 'dias_'],\n",
       "      dtype='object')"
      ]
     },
     "execution_count": 13,
     "metadata": {},
     "output_type": "execute_result"
    }
   ],
   "source": [
    "recup.columns"
   ]
  },
  {
   "cell_type": "code",
   "execution_count": 207,
   "metadata": {
    "Collapsed": "false"
   },
   "outputs": [],
   "source": [
    "recup.drop(['tramite_tipo', 'registro_seccional_descripcion', 'titular_domicilio_localidad',\n",
    "            'dias', 'fecha_recup'], axis= 1, inplace = True)"
   ]
  },
  {
   "cell_type": "code",
   "execution_count": 16,
   "metadata": {
    "Collapsed": "false"
   },
   "outputs": [
    {
     "data": {
      "text/plain": [
       "Index(['tramite_fecha', 'fecha_inscripcion_inicial',\n",
       "       'registro_seccional_provincia', 'automotor_origen',\n",
       "       'automotor_anio_modelo', 'automotor_tipo_descripcion',\n",
       "       'automotor_marca_descripcion', 'automotor_modelo_descripcion',\n",
       "       'automotor_uso_descripcion', 'titular_tipo_persona',\n",
       "       'titular_domicilio_provincia', 'titular_genero',\n",
       "       'titular_anio_nacimiento', 'titular_pais_nacimiento', 'unico_duenio',\n",
       "       'dias_'],\n",
       "      dtype='object')"
      ]
     },
     "execution_count": 16,
     "metadata": {},
     "output_type": "execute_result"
    }
   ],
   "source": [
    "recup.columns"
   ]
  },
  {
   "cell_type": "code",
   "execution_count": 17,
   "metadata": {
    "Collapsed": "false"
   },
   "outputs": [],
   "source": [
    "# sacar de fecha de tramite (denuncia robo), mes y día de la semana, dia del año. \n",
    "# sacar de fecha_inscripción_inicial (patentamiento), año\n",
    "# tirar titulpar_domicilio_provincia pero hacer columna que sea si está radicado en prov de domicilio"
   ]
  },
  {
   "cell_type": "code",
   "execution_count": 208,
   "metadata": {
    "Collapsed": "false"
   },
   "outputs": [],
   "source": [
    "recup['tramite_fecha'] = pd.to_datetime(recup['tramite_fecha'])\n",
    "recup['fecha_inscripcion_inicial'] = pd.to_datetime(recup['fecha_inscripcion_inicial'])\n"
   ]
  },
  {
   "cell_type": "code",
   "execution_count": 209,
   "metadata": {
    "Collapsed": "false"
   },
   "outputs": [],
   "source": [
    "recup['dia_robo'] = recup['tramite_fecha'].apply(lambda x: int(x.isoweekday())) #lunes es 1, domingo 7\n",
    "recup['mes_robo'] = recup['tramite_fecha'].apply(lambda x: int(x.month))\n",
    "recup['dia_del_anio'] = recup['tramite_fecha'].apply(lambda x: int(x.timetuple().tm_yday))\n",
    "recup['anio_pat'] = recup['fecha_inscripcion_inicial'].apply(lambda x: int(x.year))"
   ]
  },
  {
   "cell_type": "code",
   "execution_count": 210,
   "metadata": {
    "Collapsed": "false"
   },
   "outputs": [],
   "source": [
    "#recup['tit_radicado'] = \n",
    "recup['tit_radicado'] = (recup['registro_seccional_provincia'] == recup['titular_domicilio_provincia']).astype(int)\n",
    "recup['automotor_anio_modelo'] = recup['automotor_anio_modelo'].astype(int)\n",
    "recup['titular_anio_nacimiento'] = recup['titular_anio_nacimiento'].astype(int)\n"
   ]
  },
  {
   "cell_type": "code",
   "execution_count": 211,
   "metadata": {
    "Collapsed": "false"
   },
   "outputs": [],
   "source": [
    "recup.drop(['tramite_fecha', 'fecha_inscripcion_inicial', 'titular_domicilio_provincia'], axis = 1, inplace= True)"
   ]
  },
  {
   "cell_type": "code",
   "execution_count": 69,
   "metadata": {
    "Collapsed": "false"
   },
   "outputs": [
    {
     "data": {
      "text/html": [
       "<div>\n",
       "<style scoped>\n",
       "    .dataframe tbody tr th:only-of-type {\n",
       "        vertical-align: middle;\n",
       "    }\n",
       "\n",
       "    .dataframe tbody tr th {\n",
       "        vertical-align: top;\n",
       "    }\n",
       "\n",
       "    .dataframe thead th {\n",
       "        text-align: right;\n",
       "    }\n",
       "</style>\n",
       "<table border=\"1\" class=\"dataframe\">\n",
       "  <thead>\n",
       "    <tr style=\"text-align: right;\">\n",
       "      <th></th>\n",
       "      <th>registro_seccional_provincia</th>\n",
       "      <th>automotor_origen</th>\n",
       "      <th>automotor_anio_modelo</th>\n",
       "      <th>automotor_tipo_descripcion</th>\n",
       "      <th>automotor_marca_descripcion</th>\n",
       "      <th>automotor_modelo_descripcion</th>\n",
       "      <th>automotor_uso_descripcion</th>\n",
       "      <th>titular_tipo_persona</th>\n",
       "      <th>titular_genero</th>\n",
       "      <th>titular_anio_nacimiento</th>\n",
       "      <th>titular_pais_nacimiento</th>\n",
       "      <th>unico_duenio</th>\n",
       "      <th>dias_</th>\n",
       "      <th>dia_robo</th>\n",
       "      <th>mes_robo</th>\n",
       "      <th>dia_del_anio</th>\n",
       "      <th>anio_pat</th>\n",
       "      <th>tit_radicado</th>\n",
       "    </tr>\n",
       "  </thead>\n",
       "  <tbody>\n",
       "    <tr>\n",
       "      <td>0</td>\n",
       "      <td>Buenos Aires</td>\n",
       "      <td>Nacional</td>\n",
       "      <td>1988</td>\n",
       "      <td>FURGON</td>\n",
       "      <td>FORD</td>\n",
       "      <td>F-100</td>\n",
       "      <td>Privado</td>\n",
       "      <td>Física</td>\n",
       "      <td>Masculino</td>\n",
       "      <td>1988</td>\n",
       "      <td>ARGENTINA</td>\n",
       "      <td>1.0</td>\n",
       "      <td>383</td>\n",
       "      <td>4</td>\n",
       "      <td>1</td>\n",
       "      <td>11</td>\n",
       "      <td>1988</td>\n",
       "      <td>0</td>\n",
       "    </tr>\n",
       "  </tbody>\n",
       "</table>\n",
       "</div>"
      ],
      "text/plain": [
       "  registro_seccional_provincia automotor_origen  automotor_anio_modelo  \\\n",
       "0                 Buenos Aires         Nacional                   1988   \n",
       "\n",
       "  automotor_tipo_descripcion automotor_marca_descripcion  \\\n",
       "0                     FURGON                        FORD   \n",
       "\n",
       "  automotor_modelo_descripcion automotor_uso_descripcion titular_tipo_persona  \\\n",
       "0                        F-100                   Privado               Física   \n",
       "\n",
       "  titular_genero  titular_anio_nacimiento titular_pais_nacimiento  \\\n",
       "0      Masculino                     1988               ARGENTINA   \n",
       "\n",
       "   unico_duenio  dias_  dia_robo  mes_robo  dia_del_anio  anio_pat  \\\n",
       "0           1.0    383         4         1            11      1988   \n",
       "\n",
       "   tit_radicado  \n",
       "0             0  "
      ]
     },
     "execution_count": 69,
     "metadata": {},
     "output_type": "execute_result"
    }
   ],
   "source": [
    "recup.head(1)"
   ]
  },
  {
   "cell_type": "markdown",
   "metadata": {
    "Collapsed": "false"
   },
   "source": [
    "### separo variable a predecir de X"
   ]
  },
  {
   "cell_type": "code",
   "execution_count": 66,
   "metadata": {
    "Collapsed": "false"
   },
   "outputs": [],
   "source": [
    "#y = recup.dias_"
   ]
  },
  {
   "cell_type": "code",
   "execution_count": 72,
   "metadata": {
    "Collapsed": "false"
   },
   "outputs": [],
   "source": [
    "#X = recup[['tramite_fecha', 'fecha_inscripcion_inicial',\n",
    "       'registro_seccional_provincia', 'automotor_origen',\n",
    "       'automotor_anio_modelo', 'automotor_tipo_descripcion',\n",
    "       'automotor_uso_descripcion', 'titular_tipo_persona',\n",
    "       'titular_domicilio_provincia', 'titular_genero',\n",
    "       'titular_anio_nacimiento', 'titular_pais_nacimiento', 'unico_duenio',\n",
    "       'fecha_recup']]"
   ]
  },
  {
   "cell_type": "code",
   "execution_count": 71,
   "metadata": {
    "Collapsed": "false"
   },
   "outputs": [
    {
     "data": {
      "text/plain": [
       "Index(['registro_seccional_provincia', 'automotor_origen',\n",
       "       'automotor_anio_modelo', 'automotor_tipo_descripcion',\n",
       "       'automotor_marca_descripcion', 'automotor_modelo_descripcion',\n",
       "       'automotor_uso_descripcion', 'titular_tipo_persona', 'titular_genero',\n",
       "       'titular_anio_nacimiento', 'titular_pais_nacimiento', 'unico_duenio',\n",
       "       'dias_', 'dia_robo', 'mes_robo', 'dia_del_anio', 'anio_pat',\n",
       "       'tit_radicado'],\n",
       "      dtype='object')"
      ]
     },
     "execution_count": 71,
     "metadata": {},
     "output_type": "execute_result"
    }
   ],
   "source": [
    "recup.columns"
   ]
  },
  {
   "cell_type": "code",
   "execution_count": 212,
   "metadata": {
    "Collapsed": "false"
   },
   "outputs": [],
   "source": [
    "prov_dummie= pd.get_dummies(recup.registro_seccional_provincia)\n",
    "origen_dummie= pd.get_dummies(recup.automotor_origen)\n",
    "tipo_dummie= pd.get_dummies(recup.automotor_tipo_descripcion)\n",
    "#marca_dummie= pd.get_dummies(recup.automotor_marca_descripcion)\n",
    "modelo_dummie= pd.get_dummies(recup.automotor_modelo_descripcion)\n",
    "uso_dummie= pd.get_dummies(recup.automotor_uso_descripcion)\n",
    "pais_tit_dummie = pd.get_dummies(recup.titular_pais_nacimiento)\n",
    "# MARCA NO LA NECESITAMOS, CON MODELO YA TENÉS MARCA"
   ]
  },
  {
   "cell_type": "code",
   "execution_count": 213,
   "metadata": {
    "Collapsed": "false"
   },
   "outputs": [],
   "source": [
    "recup['titular_pers_fisica'] = np.where(recup['titular_tipo_persona'] == 'Física', 1, 0)"
   ]
  },
  {
   "cell_type": "code",
   "execution_count": 214,
   "metadata": {
    "Collapsed": "false"
   },
   "outputs": [],
   "source": [
    "recup['titular_masculino'] = np.where(recup['titular_genero'] == 'Masculino', 1, 0)"
   ]
  },
  {
   "cell_type": "code",
   "execution_count": 215,
   "metadata": {
    "Collapsed": "false"
   },
   "outputs": [],
   "source": [
    "recup = recup.join([prov_dummie, origen_dummie, tipo_dummie,  modelo_dummie, uso_dummie, pais_tit_dummie]) #marca_dummie,"
   ]
  },
  {
   "cell_type": "code",
   "execution_count": 216,
   "metadata": {
    "Collapsed": "false"
   },
   "outputs": [],
   "source": [
    "recup.drop(['registro_seccional_provincia', 'automotor_origen', 'automotor_uso_descripcion','automotor_tipo_descripcion',\n",
    "        'automotor_marca_descripcion', 'automotor_modelo_descripcion','titular_pais_nacimiento', \n",
    "       'titular_tipo_persona', 'titular_genero'], axis= 1, inplace = True)"
   ]
  },
  {
   "cell_type": "code",
   "execution_count": 218,
   "metadata": {
    "Collapsed": "false"
   },
   "outputs": [],
   "source": [
    "y = recup.dias_"
   ]
  },
  {
   "cell_type": "code",
   "execution_count": 225,
   "metadata": {
    "Collapsed": "false"
   },
   "outputs": [],
   "source": [
    "#X = recup.drop('dias_', axis= 1)\n",
    "# saco todo lo que viene de fecha salvo dia de la semana\n",
    "X = recup.drop('dias_', axis = 1)"
   ]
  },
  {
   "cell_type": "code",
   "execution_count": 137,
   "metadata": {
    "Collapsed": "false"
   },
   "outputs": [
    {
     "data": {
      "text/plain": [
       "756"
      ]
     },
     "execution_count": 137,
     "metadata": {},
     "output_type": "execute_result"
    }
   ],
   "source": [
    "recup['titular_pers_fisica'].sum()"
   ]
  },
  {
   "cell_type": "code",
   "execution_count": 143,
   "metadata": {
    "Collapsed": "false"
   },
   "outputs": [
    {
     "data": {
      "text/plain": [
       "nan"
      ]
     },
     "execution_count": 143,
     "metadata": {},
     "output_type": "execute_result"
    }
   ],
   "source": [
    "#recup.corr()\n",
    "#plt.matshow(recup.corrwith(y))\n",
    "recup['titular_pers_fisica'].corr(y) # NO TIENE CORRELACION, VUELA\n",
    "recup['tit_radicado'].corr(y) # NO TIENE CORRELACION, VUELA"
   ]
  },
  {
   "cell_type": "code",
   "execution_count": 159,
   "metadata": {
    "Collapsed": "false"
   },
   "outputs": [
    {
     "data": {
      "text/html": [
       "<div>\n",
       "<style scoped>\n",
       "    .dataframe tbody tr th:only-of-type {\n",
       "        vertical-align: middle;\n",
       "    }\n",
       "\n",
       "    .dataframe tbody tr th {\n",
       "        vertical-align: top;\n",
       "    }\n",
       "\n",
       "    .dataframe thead th {\n",
       "        text-align: right;\n",
       "    }\n",
       "</style>\n",
       "<table border=\"1\" class=\"dataframe\">\n",
       "  <thead>\n",
       "    <tr style=\"text-align: right;\">\n",
       "      <th></th>\n",
       "      <th>automotor_anio_modelo</th>\n",
       "      <th>unico_duenio</th>\n",
       "      <th>dias_</th>\n",
       "      <th>dia_robo</th>\n",
       "      <th>mes_robo</th>\n",
       "      <th>dia_del_anio</th>\n",
       "      <th>titular_pers_fisica</th>\n",
       "      <th>titular_masculino</th>\n",
       "      <th>titular_anio_nacimiento</th>\n",
       "      <th>anio_pat</th>\n",
       "      <th>tit_radicado</th>\n",
       "    </tr>\n",
       "  </thead>\n",
       "  <tbody>\n",
       "    <tr>\n",
       "      <td>automotor_anio_modelo</td>\n",
       "      <td>1.000000</td>\n",
       "      <td>-0.031519</td>\n",
       "      <td>-0.022931</td>\n",
       "      <td>-0.045278</td>\n",
       "      <td>0.069944</td>\n",
       "      <td>0.067551</td>\n",
       "      <td>NaN</td>\n",
       "      <td>0.056141</td>\n",
       "      <td>-0.067471</td>\n",
       "      <td>0.999795</td>\n",
       "      <td>NaN</td>\n",
       "    </tr>\n",
       "    <tr>\n",
       "      <td>unico_duenio</td>\n",
       "      <td>-0.031519</td>\n",
       "      <td>1.000000</td>\n",
       "      <td>0.033787</td>\n",
       "      <td>0.006832</td>\n",
       "      <td>-0.006608</td>\n",
       "      <td>-0.007534</td>\n",
       "      <td>NaN</td>\n",
       "      <td>0.008488</td>\n",
       "      <td>0.107970</td>\n",
       "      <td>-0.031377</td>\n",
       "      <td>NaN</td>\n",
       "    </tr>\n",
       "    <tr>\n",
       "      <td>dias_</td>\n",
       "      <td>-0.022931</td>\n",
       "      <td>0.033787</td>\n",
       "      <td>1.000000</td>\n",
       "      <td>0.027481</td>\n",
       "      <td>-0.016532</td>\n",
       "      <td>-0.019052</td>\n",
       "      <td>NaN</td>\n",
       "      <td>0.055440</td>\n",
       "      <td>0.034559</td>\n",
       "      <td>-0.022560</td>\n",
       "      <td>NaN</td>\n",
       "    </tr>\n",
       "    <tr>\n",
       "      <td>dia_robo</td>\n",
       "      <td>-0.045278</td>\n",
       "      <td>0.006832</td>\n",
       "      <td>0.027481</td>\n",
       "      <td>1.000000</td>\n",
       "      <td>0.030696</td>\n",
       "      <td>0.027974</td>\n",
       "      <td>NaN</td>\n",
       "      <td>-0.025073</td>\n",
       "      <td>-0.042030</td>\n",
       "      <td>-0.044478</td>\n",
       "      <td>NaN</td>\n",
       "    </tr>\n",
       "    <tr>\n",
       "      <td>mes_robo</td>\n",
       "      <td>0.069944</td>\n",
       "      <td>-0.006608</td>\n",
       "      <td>-0.016532</td>\n",
       "      <td>0.030696</td>\n",
       "      <td>1.000000</td>\n",
       "      <td>0.995806</td>\n",
       "      <td>NaN</td>\n",
       "      <td>0.038847</td>\n",
       "      <td>0.007432</td>\n",
       "      <td>0.069169</td>\n",
       "      <td>NaN</td>\n",
       "    </tr>\n",
       "    <tr>\n",
       "      <td>dia_del_anio</td>\n",
       "      <td>0.067551</td>\n",
       "      <td>-0.007534</td>\n",
       "      <td>-0.019052</td>\n",
       "      <td>0.027974</td>\n",
       "      <td>0.995806</td>\n",
       "      <td>1.000000</td>\n",
       "      <td>NaN</td>\n",
       "      <td>0.042712</td>\n",
       "      <td>0.011977</td>\n",
       "      <td>0.066713</td>\n",
       "      <td>NaN</td>\n",
       "    </tr>\n",
       "    <tr>\n",
       "      <td>titular_pers_fisica</td>\n",
       "      <td>NaN</td>\n",
       "      <td>NaN</td>\n",
       "      <td>NaN</td>\n",
       "      <td>NaN</td>\n",
       "      <td>NaN</td>\n",
       "      <td>NaN</td>\n",
       "      <td>NaN</td>\n",
       "      <td>NaN</td>\n",
       "      <td>NaN</td>\n",
       "      <td>NaN</td>\n",
       "      <td>NaN</td>\n",
       "    </tr>\n",
       "    <tr>\n",
       "      <td>titular_masculino</td>\n",
       "      <td>0.056141</td>\n",
       "      <td>0.008488</td>\n",
       "      <td>0.055440</td>\n",
       "      <td>-0.025073</td>\n",
       "      <td>0.038847</td>\n",
       "      <td>0.042712</td>\n",
       "      <td>NaN</td>\n",
       "      <td>1.000000</td>\n",
       "      <td>0.029498</td>\n",
       "      <td>0.055861</td>\n",
       "      <td>NaN</td>\n",
       "    </tr>\n",
       "    <tr>\n",
       "      <td>titular_anio_nacimiento</td>\n",
       "      <td>-0.067471</td>\n",
       "      <td>0.107970</td>\n",
       "      <td>0.034559</td>\n",
       "      <td>-0.042030</td>\n",
       "      <td>0.007432</td>\n",
       "      <td>0.011977</td>\n",
       "      <td>NaN</td>\n",
       "      <td>0.029498</td>\n",
       "      <td>1.000000</td>\n",
       "      <td>-0.068330</td>\n",
       "      <td>NaN</td>\n",
       "    </tr>\n",
       "    <tr>\n",
       "      <td>anio_pat</td>\n",
       "      <td>0.999795</td>\n",
       "      <td>-0.031377</td>\n",
       "      <td>-0.022560</td>\n",
       "      <td>-0.044478</td>\n",
       "      <td>0.069169</td>\n",
       "      <td>0.066713</td>\n",
       "      <td>NaN</td>\n",
       "      <td>0.055861</td>\n",
       "      <td>-0.068330</td>\n",
       "      <td>1.000000</td>\n",
       "      <td>NaN</td>\n",
       "    </tr>\n",
       "    <tr>\n",
       "      <td>tit_radicado</td>\n",
       "      <td>NaN</td>\n",
       "      <td>NaN</td>\n",
       "      <td>NaN</td>\n",
       "      <td>NaN</td>\n",
       "      <td>NaN</td>\n",
       "      <td>NaN</td>\n",
       "      <td>NaN</td>\n",
       "      <td>NaN</td>\n",
       "      <td>NaN</td>\n",
       "      <td>NaN</td>\n",
       "      <td>NaN</td>\n",
       "    </tr>\n",
       "  </tbody>\n",
       "</table>\n",
       "</div>"
      ],
      "text/plain": [
       "                         automotor_anio_modelo  unico_duenio     dias_  \\\n",
       "automotor_anio_modelo                 1.000000     -0.031519 -0.022931   \n",
       "unico_duenio                         -0.031519      1.000000  0.033787   \n",
       "dias_                                -0.022931      0.033787  1.000000   \n",
       "dia_robo                             -0.045278      0.006832  0.027481   \n",
       "mes_robo                              0.069944     -0.006608 -0.016532   \n",
       "dia_del_anio                          0.067551     -0.007534 -0.019052   \n",
       "titular_pers_fisica                        NaN           NaN       NaN   \n",
       "titular_masculino                     0.056141      0.008488  0.055440   \n",
       "titular_anio_nacimiento              -0.067471      0.107970  0.034559   \n",
       "anio_pat                              0.999795     -0.031377 -0.022560   \n",
       "tit_radicado                               NaN           NaN       NaN   \n",
       "\n",
       "                         dia_robo  mes_robo  dia_del_anio  \\\n",
       "automotor_anio_modelo   -0.045278  0.069944      0.067551   \n",
       "unico_duenio             0.006832 -0.006608     -0.007534   \n",
       "dias_                    0.027481 -0.016532     -0.019052   \n",
       "dia_robo                 1.000000  0.030696      0.027974   \n",
       "mes_robo                 0.030696  1.000000      0.995806   \n",
       "dia_del_anio             0.027974  0.995806      1.000000   \n",
       "titular_pers_fisica           NaN       NaN           NaN   \n",
       "titular_masculino       -0.025073  0.038847      0.042712   \n",
       "titular_anio_nacimiento -0.042030  0.007432      0.011977   \n",
       "anio_pat                -0.044478  0.069169      0.066713   \n",
       "tit_radicado                  NaN       NaN           NaN   \n",
       "\n",
       "                         titular_pers_fisica  titular_masculino  \\\n",
       "automotor_anio_modelo                    NaN           0.056141   \n",
       "unico_duenio                             NaN           0.008488   \n",
       "dias_                                    NaN           0.055440   \n",
       "dia_robo                                 NaN          -0.025073   \n",
       "mes_robo                                 NaN           0.038847   \n",
       "dia_del_anio                             NaN           0.042712   \n",
       "titular_pers_fisica                      NaN                NaN   \n",
       "titular_masculino                        NaN           1.000000   \n",
       "titular_anio_nacimiento                  NaN           0.029498   \n",
       "anio_pat                                 NaN           0.055861   \n",
       "tit_radicado                             NaN                NaN   \n",
       "\n",
       "                         titular_anio_nacimiento  anio_pat  tit_radicado  \n",
       "automotor_anio_modelo                  -0.067471  0.999795           NaN  \n",
       "unico_duenio                            0.107970 -0.031377           NaN  \n",
       "dias_                                   0.034559 -0.022560           NaN  \n",
       "dia_robo                               -0.042030 -0.044478           NaN  \n",
       "mes_robo                                0.007432  0.069169           NaN  \n",
       "dia_del_anio                            0.011977  0.066713           NaN  \n",
       "titular_pers_fisica                          NaN       NaN           NaN  \n",
       "titular_masculino                       0.029498  0.055861           NaN  \n",
       "titular_anio_nacimiento                 1.000000 -0.068330           NaN  \n",
       "anio_pat                               -0.068330  1.000000           NaN  \n",
       "tit_radicado                                 NaN       NaN           NaN  "
      ]
     },
     "execution_count": 159,
     "metadata": {},
     "output_type": "execute_result"
    }
   ],
   "source": [
    "recup[['automotor_anio_modelo','unico_duenio', 'dias_', 'dia_robo', 'mes_robo', 'dia_del_anio',\n",
    "       'titular_pers_fisica', 'titular_masculino', 'titular_anio_nacimiento', 'anio_pat', 'tit_radicado']].corr()"
   ]
  },
  {
   "cell_type": "code",
   "execution_count": 226,
   "metadata": {
    "Collapsed": "false"
   },
   "outputs": [],
   "source": [
    "X.drop(['titular_pers_fisica', 'tit_radicado'], axis=1, inplace= True)"
   ]
  },
  {
   "cell_type": "code",
   "execution_count": 227,
   "metadata": {
    "Collapsed": "false"
   },
   "outputs": [
    {
     "data": {
      "text/plain": [
       "(756, 133)"
      ]
     },
     "execution_count": 227,
     "metadata": {},
     "output_type": "execute_result"
    }
   ],
   "source": [
    "X.shape"
   ]
  },
  {
   "cell_type": "code",
   "execution_count": 81,
   "metadata": {
    "Collapsed": "false"
   },
   "outputs": [
    {
     "data": {
      "text/plain": [
       "Index(['automotor_anio_modelo', 'titular_anio_nacimiento', 'unico_duenio',\n",
       "       'dia_robo', 'mes_robo', 'dia_del_anio', 'anio_pat', 'tit_radicado',\n",
       "       'titular_pers_fisica', 'titular_masculino',\n",
       "       ...\n",
       "       'ARGENTINA', 'BOLIVIA', 'CHILE', 'COREA REPUBLICANA', 'ESPANA',\n",
       "       'ITALIA', 'PARAGUAY', 'PERU', 'URUGUAY', 'VENEZUELA'],\n",
       "      dtype='object', length=151)"
      ]
     },
     "execution_count": 81,
     "metadata": {},
     "output_type": "execute_result"
    }
   ],
   "source": [
    "X.columns"
   ]
  },
  {
   "cell_type": "markdown",
   "metadata": {
    "Collapsed": "false"
   },
   "source": [
    "## Feature selection?"
   ]
  },
  {
   "cell_type": "markdown",
   "metadata": {
    "Collapsed": "false"
   },
   "source": [
    "----------------"
   ]
  },
  {
   "cell_type": "markdown",
   "metadata": {
    "Collapsed": "false"
   },
   "source": [
    "# Importo librerias de regresión"
   ]
  },
  {
   "cell_type": "code",
   "execution_count": 89,
   "metadata": {
    "Collapsed": "false"
   },
   "outputs": [],
   "source": [
    "from sklearn import preprocessing\n",
    "from sklearn.model_selection import train_test_split\n",
    "from sklearn.linear_model import LinearRegression\n",
    "from sklearn.svm import SVR\n",
    "from sklearn.svm import LinearSVR\n",
    "from sklearn.neighbors import KNeighborsRegressor\n",
    "from sklearn.metrics import mean_squared_error, r2_score\n",
    "from sklearn.model_selection import GridSearchCV\n",
    "from sklearn import preprocessing"
   ]
  },
  {
   "cell_type": "markdown",
   "metadata": {
    "Collapsed": "false"
   },
   "source": [
    "## Hago cosita"
   ]
  },
  {
   "cell_type": "code",
   "execution_count": 228,
   "metadata": {
    "Collapsed": "false"
   },
   "outputs": [],
   "source": [
    "# Train test split\n",
    "Xtrain, Xtest, ytrain, ytest = train_test_split(X, y, test_size=0.3, random_state=42)"
   ]
  },
  {
   "cell_type": "code",
   "execution_count": 229,
   "metadata": {
    "Collapsed": "false"
   },
   "outputs": [],
   "source": [
    "# Escalo con el Xtrain\n",
    "scaler = preprocessing.StandardScaler().fit(Xtrain)\n",
    "Xtrain_scal = scaler.transform(Xtrain)  \n",
    "Xtest_scal = scaler.transform(Xtest)  "
   ]
  },
  {
   "cell_type": "code",
   "execution_count": 230,
   "metadata": {
    "Collapsed": "false"
   },
   "outputs": [],
   "source": [
    "#linear regression\n",
    "lr = LinearRegression()"
   ]
  },
  {
   "cell_type": "code",
   "execution_count": 231,
   "metadata": {
    "Collapsed": "false"
   },
   "outputs": [
    {
     "data": {
      "text/plain": [
       "LinearRegression(copy_X=True, fit_intercept=True, n_jobs=None, normalize=False)"
      ]
     },
     "execution_count": 231,
     "metadata": {},
     "output_type": "execute_result"
    }
   ],
   "source": [
    "lr.fit(Xtrain_scal, ytrain)"
   ]
  },
  {
   "cell_type": "code",
   "execution_count": 232,
   "metadata": {
    "Collapsed": "false"
   },
   "outputs": [],
   "source": [
    "ypred = lr.predict(Xtest_scal)"
   ]
  },
  {
   "cell_type": "code",
   "execution_count": 233,
   "metadata": {
    "Collapsed": "false"
   },
   "outputs": [
    {
     "data": {
      "text/plain": [
       "3827604940368590.0"
      ]
     },
     "execution_count": 233,
     "metadata": {},
     "output_type": "execute_result"
    }
   ],
   "source": [
    "np.sqrt(mean_squared_error(ytest, ypred))"
   ]
  },
  {
   "cell_type": "code",
   "execution_count": 234,
   "metadata": {
    "Collapsed": "false"
   },
   "outputs": [
    {
     "data": {
      "text/plain": [
       "<matplotlib.axes._subplots.AxesSubplot at 0x1ebe9a1d860>"
      ]
     },
     "execution_count": 234,
     "metadata": {},
     "output_type": "execute_result"
    },
    {
     "data": {
      "image/png": "[encoded data removed]",
      "text/plain": [
       "<Figure size 432x288 with 1 Axes>"
      ]
     },
     "metadata": {
      "needs_background": "light"
     },
     "output_type": "display_data"
    }
   ],
   "source": [
    "sns.scatterplot(ypred, ytest)"
   ]
  },
  {
   "cell_type": "code",
   "execution_count": 235,
   "metadata": {
    "Collapsed": "false"
   },
   "outputs": [],
   "source": [
    "# KNN\n",
    "neigh = KNeighborsRegressor(weights = \"distance\")"
   ]
  },
  {
   "cell_type": "code",
   "execution_count": 236,
   "metadata": {
    "Collapsed": "false"
   },
   "outputs": [],
   "source": [
    "parameters_k = np.arange(1,50,1)\n"
   ]
  },
  {
   "cell_type": "code",
   "execution_count": 237,
   "metadata": {
    "Collapsed": "false"
   },
   "outputs": [],
   "source": [
    "parameters_knn = [{'n_neighbors': parameters_k}]"
   ]
  },
  {
   "cell_type": "code",
   "execution_count": 238,
   "metadata": {
    "Collapsed": "false"
   },
   "outputs": [],
   "source": [
    "regresor_neigh = GridSearchCV(neigh, parameters_knn, refit = True, cv= 10, verbose=True)"
   ]
  },
  {
   "cell_type": "code",
   "execution_count": 239,
   "metadata": {
    "Collapsed": "false"
   },
   "outputs": [
    {
     "name": "stdout",
     "output_type": "stream",
     "text": [
      "Fitting 10 folds for each of 49 candidates, totalling 490 fits\n"
     ]
    },
    {
     "name": "stderr",
     "output_type": "stream",
     "text": [
      "[Parallel(n_jobs=1)]: Using backend SequentialBackend with 1 concurrent workers.\n",
      "[Parallel(n_jobs=1)]: Done 490 out of 490 | elapsed:    8.7s finished\n",
      "C:\\ProgramData\\Anaconda3\\lib\\site-packages\\sklearn\\model_selection\\_search.py:813: DeprecationWarning: The default of the `iid` parameter will change from True to False in version 0.22 and will be removed in 0.24. This will change numeric results when test-set sizes are unequal.\n",
      "  DeprecationWarning)\n"
     ]
    },
    {
     "data": {
      "text/plain": [
       "GridSearchCV(cv=10, error_score='raise-deprecating',\n",
       "             estimator=KNeighborsRegressor(algorithm='auto', leaf_size=30,\n",
       "                                           metric='minkowski',\n",
       "                                           metric_params=None, n_jobs=None,\n",
       "                                           n_neighbors=5, p=2,\n",
       "                                           weights='distance'),\n",
       "             iid='warn', n_jobs=None,\n",
       "             param_grid=[{'n_neighbors': array([ 1,  2,  3,  4,  5,  6,  7,  8,  9, 10, 11, 12, 13, 14, 15, 16, 17,\n",
       "       18, 19, 20, 21, 22, 23, 24, 25, 26, 27, 28, 29, 30, 31, 32, 33, 34,\n",
       "       35, 36, 37, 38, 39, 40, 41, 42, 43, 44, 45, 46, 47, 48, 49])}],\n",
       "             pre_dispatch='2*n_jobs', refit=True, return_train_score=False,\n",
       "             scoring=None, verbose=True)"
      ]
     },
     "execution_count": 239,
     "metadata": {},
     "output_type": "execute_result"
    }
   ],
   "source": [
    "regresor_neigh.fit(Xtrain_scal, ytrain)"
   ]
  },
  {
   "cell_type": "code",
   "execution_count": 240,
   "metadata": {
    "Collapsed": "false"
   },
   "outputs": [
    {
     "data": {
      "text/plain": [
       "{'n_neighbors': 41}"
      ]
     },
     "execution_count": 240,
     "metadata": {},
     "output_type": "execute_result"
    }
   ],
   "source": [
    "regresor_neigh.best_params_"
   ]
  },
  {
   "cell_type": "code",
   "execution_count": 241,
   "metadata": {
    "Collapsed": "false"
   },
   "outputs": [
    {
     "data": {
      "text/plain": [
       "-0.019778301535125546"
      ]
     },
     "execution_count": 241,
     "metadata": {},
     "output_type": "execute_result"
    }
   ],
   "source": [
    "regresor_neigh.best_score_"
   ]
  },
  {
   "cell_type": "code",
   "execution_count": 242,
   "metadata": {
    "Collapsed": "false"
   },
   "outputs": [],
   "source": [
    "ypred2 = regresor_neigh.predict(Xtest_scal)\n"
   ]
  },
  {
   "cell_type": "code",
   "execution_count": 243,
   "metadata": {
    "Collapsed": "false"
   },
   "outputs": [
    {
     "data": {
      "text/plain": [
       "88.8520122156285"
      ]
     },
     "execution_count": 243,
     "metadata": {},
     "output_type": "execute_result"
    }
   ],
   "source": [
    "np.sqrt(mean_squared_error(ytest, ypred2))"
   ]
  },
  {
   "cell_type": "code",
   "execution_count": 244,
   "metadata": {
    "Collapsed": "false"
   },
   "outputs": [
    {
     "data": {
      "text/plain": [
       "(0, 500)"
      ]
     },
     "execution_count": 244,
     "metadata": {},
     "output_type": "execute_result"
    },
    {
     "data": {
      "image/png": "[encoded data removed]",
      "text/plain": [
       "<Figure size 432x288 with 1 Axes>"
      ]
     },
     "metadata": {
      "needs_background": "light"
     },
     "output_type": "display_data"
    }
   ],
   "source": [
    "sns.scatterplot(ypred2, ytest)\n",
    "plt.xlim(0,200)\n",
    "plt.ylim(0, 500)"
   ]
  },
  {
   "cell_type": "code",
   "execution_count": 201,
   "metadata": {
    "Collapsed": "false"
   },
   "outputs": [
    {
     "data": {
      "text/plain": [
       "<matplotlib.axes._subplots.AxesSubplot at 0x1ebe9722518>"
      ]
     },
     "execution_count": 201,
     "metadata": {},
     "output_type": "execute_result"
    },
    {
     "data": {
      "image/png": "[encoded data removed]",
      "text/plain": [
       "<Figure size 432x288 with 1 Axes>"
      ]
     },
     "metadata": {
      "needs_background": "light"
     },
     "output_type": "display_data"
    }
   ],
   "source": [
    "sns.distplot(ytest)"
   ]
  },
  {
   "cell_type": "code",
   "execution_count": 245,
   "metadata": {
    "Collapsed": "false"
   },
   "outputs": [
    {
     "data": {
      "text/plain": [
       "<matplotlib.axes._subplots.AxesSubplot at 0x1ebe9ad9ef0>"
      ]
     },
     "execution_count": 245,
     "metadata": {},
     "output_type": "execute_result"
    },
    {
     "data": {
      "image/png": "[encoded data removed]",
      "text/plain": [
       "<Figure size 432x288 with 1 Axes>"
      ]
     },
     "metadata": {
      "needs_background": "light"
     },
     "output_type": "display_data"
    }
   ],
   "source": [
    "sns.distplot(ypred3)"
   ]
  },
  {
   "cell_type": "code",
   "execution_count": 246,
   "metadata": {
    "Collapsed": "false"
   },
   "outputs": [],
   "source": [
    "# SVR\n",
    "svreg = SVR()"
   ]
  },
  {
   "cell_type": "code",
   "execution_count": 247,
   "metadata": {
    "Collapsed": "false"
   },
   "outputs": [],
   "source": [
    "parameters_svr = [{'kernel':['rbf', 'linear'] , 'C': [1,10,100],'gamma': [0.1,0.5, 0.01] }]"
   ]
  },
  {
   "cell_type": "code",
   "execution_count": 248,
   "metadata": {
    "Collapsed": "false"
   },
   "outputs": [],
   "source": [
    "regresor_svr = GridSearchCV(svreg, parameters_svr, cv= 5, verbose=True)"
   ]
  },
  {
   "cell_type": "code",
   "execution_count": 249,
   "metadata": {
    "Collapsed": "false",
    "scrolled": true
   },
   "outputs": [
    {
     "name": "stdout",
     "output_type": "stream",
     "text": [
      "Fitting 5 folds for each of 18 candidates, totalling 90 fits\n"
     ]
    },
    {
     "name": "stderr",
     "output_type": "stream",
     "text": [
      "[Parallel(n_jobs=1)]: Using backend SequentialBackend with 1 concurrent workers.\n",
      "[Parallel(n_jobs=1)]: Done  90 out of  90 | elapsed:   27.6s finished\n",
      "C:\\ProgramData\\Anaconda3\\lib\\site-packages\\sklearn\\model_selection\\_search.py:813: DeprecationWarning: The default of the `iid` parameter will change from True to False in version 0.22 and will be removed in 0.24. This will change numeric results when test-set sizes are unequal.\n",
      "  DeprecationWarning)\n"
     ]
    },
    {
     "data": {
      "text/plain": [
       "GridSearchCV(cv=5, error_score='raise-deprecating',\n",
       "             estimator=SVR(C=1.0, cache_size=200, coef0=0.0, degree=3,\n",
       "                           epsilon=0.1, gamma='auto_deprecated', kernel='rbf',\n",
       "                           max_iter=-1, shrinking=True, tol=0.001,\n",
       "                           verbose=False),\n",
       "             iid='warn', n_jobs=None,\n",
       "             param_grid=[{'C': [1, 10, 100], 'gamma': [0.1, 0.5, 0.01],\n",
       "                          'kernel': ['rbf', 'linear']}],\n",
       "             pre_dispatch='2*n_jobs', refit=True, return_train_score=False,\n",
       "             scoring=None, verbose=True)"
      ]
     },
     "execution_count": 249,
     "metadata": {},
     "output_type": "execute_result"
    }
   ],
   "source": [
    "regresor_svr.fit(Xtrain_scal, ytrain)\n"
   ]
  },
  {
   "cell_type": "code",
   "execution_count": 250,
   "metadata": {
    "Collapsed": "false"
   },
   "outputs": [
    {
     "data": {
      "text/plain": [
       "{'C': 100, 'gamma': 0.5, 'kernel': 'rbf'}"
      ]
     },
     "execution_count": 250,
     "metadata": {},
     "output_type": "execute_result"
    }
   ],
   "source": [
    "regresor_svr.best_params_"
   ]
  },
  {
   "cell_type": "code",
   "execution_count": 251,
   "metadata": {
    "Collapsed": "false"
   },
   "outputs": [
    {
     "data": {
      "text/plain": [
       "-0.03594436308410482"
      ]
     },
     "execution_count": 251,
     "metadata": {},
     "output_type": "execute_result"
    }
   ],
   "source": [
    "regresor_svr.best_score_"
   ]
  },
  {
   "cell_type": "code",
   "execution_count": 252,
   "metadata": {
    "Collapsed": "false"
   },
   "outputs": [],
   "source": [
    "ypred3 = regresor_svr.predict(Xtest_scal)\n"
   ]
  },
  {
   "cell_type": "code",
   "execution_count": 253,
   "metadata": {
    "Collapsed": "false"
   },
   "outputs": [
    {
     "data": {
      "text/plain": [
       "91.19114703460623"
      ]
     },
     "execution_count": 253,
     "metadata": {},
     "output_type": "execute_result"
    }
   ],
   "source": [
    "np.sqrt(mean_squared_error(ytest, ypred3))"
   ]
  },
  {
   "cell_type": "code",
   "execution_count": 254,
   "metadata": {
    "Collapsed": "false"
   },
   "outputs": [
    {
     "data": {
      "text/plain": [
       "<matplotlib.axes._subplots.AxesSubplot at 0x1ebe9acfe10>"
      ]
     },
     "execution_count": 254,
     "metadata": {},
     "output_type": "execute_result"
    },
    {
     "data": {
      "image/png": "[encoded data removed]",
      "text/plain": [
       "<Figure size 432x288 with 1 Axes>"
      ]
     },
     "metadata": {
      "needs_background": "light"
     },
     "output_type": "display_data"
    }
   ],
   "source": [
    "sns.scatterplot(ytest, ypred3)"
   ]
  },
  {
   "cell_type": "code",
   "execution_count": 255,
   "metadata": {
    "Collapsed": "false"
   },
   "outputs": [],
   "source": [
    "from sklearn import tree\n",
    "clf = tree.DecisionTreeRegressor()\n",
    "clf = clf.fit(Xtrain_scal, ytrain)"
   ]
  },
  {
   "cell_type": "code",
   "execution_count": 256,
   "metadata": {
    "Collapsed": "false"
   },
   "outputs": [],
   "source": [
    "y_clf = clf.predict(Xtest_scal)"
   ]
  },
  {
   "cell_type": "code",
   "execution_count": 257,
   "metadata": {
    "Collapsed": "false"
   },
   "outputs": [
    {
     "data": {
      "text/plain": [
       "131.73247486447943"
      ]
     },
     "execution_count": 257,
     "metadata": {},
     "output_type": "execute_result"
    }
   ],
   "source": [
    "np.sqrt(mean_squared_error(ytest, y_clf))"
   ]
  },
  {
   "cell_type": "code",
   "execution_count": 258,
   "metadata": {
    "Collapsed": "false"
   },
   "outputs": [
    {
     "data": {
      "text/plain": [
       "<matplotlib.axes._subplots.AxesSubplot at 0x1ebeabdbef0>"
      ]
     },
     "execution_count": 258,
     "metadata": {},
     "output_type": "execute_result"
    },
    {
     "data": {
      "image/png": "[encoded data removed]",
      "text/plain": [
       "<Figure size 432x288 with 1 Axes>"
      ]
     },
     "metadata": {
      "needs_background": "light"
     },
     "output_type": "display_data"
    }
   ],
   "source": [
    "sns.scatterplot(ytest, y_clf)"
   ]
  },
  {
   "cell_type": "code",
   "execution_count": 262,
   "metadata": {
    "Collapsed": "false"
   },
   "outputs": [],
   "source": [
    "#depths = np.arange(1, 21)\n",
    "#num_leafs = [1, 5, 10, 20, 50, 100]\n",
    "#param_grid = [{'max_depth':depths,\n",
    "#              'min_samples_leaf':num_leafs}]"
   ]
  },
  {
   "cell_type": "code",
   "execution_count": 270,
   "metadata": {
    "Collapsed": "false"
   },
   "outputs": [],
   "source": [
    "gst = GridSearchCV(estimator=clf, param_grid={'min_samples_split': range(2, 10)}, cv=10) #scoring=rmse_scorer"
   ]
  },
  {
   "cell_type": "code",
   "execution_count": 271,
   "metadata": {
    "Collapsed": "false"
   },
   "outputs": [
    {
     "name": "stderr",
     "output_type": "stream",
     "text": [
      "C:\\ProgramData\\Anaconda3\\lib\\site-packages\\sklearn\\model_selection\\_search.py:813: DeprecationWarning: The default of the `iid` parameter will change from True to False in version 0.22 and will be removed in 0.24. This will change numeric results when test-set sizes are unequal.\n",
      "  DeprecationWarning)\n"
     ]
    },
    {
     "data": {
      "text/plain": [
       "GridSearchCV(cv=10, error_score='raise-deprecating',\n",
       "             estimator=DecisionTreeRegressor(criterion='mse', max_depth=None,\n",
       "                                             max_features=None,\n",
       "                                             max_leaf_nodes=None,\n",
       "                                             min_impurity_decrease=0.0,\n",
       "                                             min_impurity_split=None,\n",
       "                                             min_samples_leaf=1,\n",
       "                                             min_samples_split=2,\n",
       "                                             min_weight_fraction_leaf=0.0,\n",
       "                                             presort=False, random_state=None,\n",
       "                                             splitter='best'),\n",
       "             iid='warn', n_jobs=None,\n",
       "             param_grid={'min_samples_split': range(2, 10)},\n",
       "             pre_dispatch='2*n_jobs', refit=True, return_train_score=False,\n",
       "             scoring=None, verbose=0)"
      ]
     },
     "execution_count": 271,
     "metadata": {},
     "output_type": "execute_result"
    }
   ],
   "source": [
    "gst.fit(Xtrain_scal, ytrain)"
   ]
  },
  {
   "cell_type": "code",
   "execution_count": 272,
   "metadata": {
    "Collapsed": "false"
   },
   "outputs": [
    {
     "data": {
      "text/plain": [
       "{'min_samples_split': 9}"
      ]
     },
     "execution_count": 272,
     "metadata": {},
     "output_type": "execute_result"
    }
   ],
   "source": [
    "gst.best_params_"
   ]
  },
  {
   "cell_type": "code",
   "execution_count": 273,
   "metadata": {
    "Collapsed": "false"
   },
   "outputs": [],
   "source": [
    "y_gst = gst.predict(Xtest_scal)"
   ]
  },
  {
   "cell_type": "code",
   "execution_count": 274,
   "metadata": {
    "Collapsed": "false"
   },
   "outputs": [
    {
     "data": {
      "text/plain": [
       "118.68018769767411"
      ]
     },
     "execution_count": 274,
     "metadata": {},
     "output_type": "execute_result"
    }
   ],
   "source": [
    "np.sqrt(mean_squared_error(ytest, y_gst))"
   ]
  },
  {
   "cell_type": "code",
   "execution_count": 275,
   "metadata": {
    "Collapsed": "false"
   },
   "outputs": [
    {
     "data": {
      "text/plain": [
       "<matplotlib.axes._subplots.AxesSubplot at 0x1ebeac5b780>"
      ]
     },
     "execution_count": 275,
     "metadata": {},
     "output_type": "execute_result"
    },
    {
     "data": {
      "image/png": "[encoded data removed]",
      "text/plain": [
       "<Figure size 432x288 with 1 Axes>"
      ]
     },
     "metadata": {
      "needs_background": "light"
     },
     "output_type": "display_data"
    }
   ],
   "source": [
    "sns.scatterplot(ytest, y_gst) # TODO MAL"
   ]
  },
  {
   "cell_type": "code",
   "execution_count": null,
   "metadata": {
    "Collapsed": "false"
   },
   "outputs": [],
   "source": []
  }
 ],
 "metadata": {
  "kernelspec": {
   "display_name": "Python 3",
   "language": "python",
   "name": "python3"
  },
  "language_info": {
   "codemirror_mode": {
    "name": "ipython",
    "version": 3
   },
   "file_extension": ".py",
   "mimetype": "text/x-python",
   "name": "python",
   "nbconvert_exporter": "python",
   "pygments_lexer": "ipython3",
   "version": "3.7.1"
  }
 },
 "nbformat": 4,
 "nbformat_minor": 4
}
