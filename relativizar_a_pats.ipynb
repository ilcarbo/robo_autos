{
 "cells": [
  {
   "cell_type": "markdown",
   "metadata": {
    "Collapsed": "false"
   },
   "source": [
    "## Este notebook toma los datos de los autos patentados para poder relativizar los robos de marcas y modelos"
   ]
  },
  {
   "cell_type": "code",
   "execution_count": 1,
   "metadata": {
    "Collapsed": "false"
   },
   "outputs": [],
   "source": [
    "import pandas as pd\n",
    "import numpy as np\n",
    "import seaborn as sns\n",
    "import matplotlib.pyplot as plt\n",
    "\n",
    "%matplotlib inline"
   ]
  },
  {
   "cell_type": "code",
   "execution_count": 3,
   "metadata": {
    "Collapsed": "false"
   },
   "outputs": [],
   "source": [
    "pats = pd.read_csv('C:/Users/Ilcarbo/Documents/DATA/backup cagadas/pats_final.csv')"
   ]
  },
  {
   "cell_type": "code",
   "execution_count": 2,
   "metadata": {
    "Collapsed": "false"
   },
   "outputs": [],
   "source": [
    "robos = pd.read_csv('./curados/para_EDA.csv')"
   ]
  },
  {
   "cell_type": "code",
   "execution_count": 6,
   "metadata": {
    "Collapsed": "false"
   },
   "outputs": [],
   "source": [
    "#agarro el año de patentamiento de los robados\n",
    "robos['año_pat'] = robos['fecha_inscripcion_inicial'].apply(lambda x: x.split('-')[0])"
   ]
  },
  {
   "cell_type": "code",
   "execution_count": 7,
   "metadata": {
    "Collapsed": "false"
   },
   "outputs": [],
   "source": [
    "#me quedo solo con los robados que fueron patentados en 2018 y 2019\n",
    "robos18_19 = robos[(robos['año_pat'] == '2018') | (robos['año_pat'] == '2019')]"
   ]
  },
  {
   "cell_type": "code",
   "execution_count": 9,
   "metadata": {
    "Collapsed": "false"
   },
   "outputs": [],
   "source": [
    "#dropeo la columna falopa de año 20\n",
    "robos18_19.drop(robos18_19[robos18_19['automotor_anio_modelo'] == 20].index, axis = 0, inplace= True)"
   ]
  },
  {
   "cell_type": "code",
   "execution_count": 10,
   "metadata": {
    "Collapsed": "false"
   },
   "outputs": [
    {
     "data": {
      "text/plain": [
       "(1255, 19)"
      ]
     },
     "execution_count": 10,
     "metadata": {},
     "output_type": "execute_result"
    }
   ],
   "source": [
    "robos18_19.shape"
   ]
  },
  {
   "cell_type": "code",
   "execution_count": 57,
   "metadata": {
    "Collapsed": "false"
   },
   "outputs": [],
   "source": [
    "# conteo de robos por marca (me quedo con los primeros 10, los que tienen más de 10 robados)\n",
    "marca = pd.DataFrame(robos18_19['automotor_marca_descripcion'].value_counts())[0:11]"
   ]
  },
  {
   "cell_type": "code",
   "execution_count": 70,
   "metadata": {
    "Collapsed": "false"
   },
   "outputs": [],
   "source": [
    "# conteos de robos por modelo\n",
    "modelo = pd.DataFrame(robos18_19['automotor_modelo_descripcion'].value_counts())"
   ]
  },
  {
   "cell_type": "code",
   "execution_count": 32,
   "metadata": {
    "Collapsed": "false"
   },
   "outputs": [],
   "source": [
    "# conteos de patentamientos por marca\n",
    "marca_pats = pd.DataFrame(pats['automotor_marca_descripcion'].value_counts())"
   ]
  },
  {
   "cell_type": "code",
   "execution_count": 58,
   "metadata": {
    "Collapsed": "false"
   },
   "outputs": [],
   "source": [
    "# reseteo el indice para que marca quede como columna y cambio nombres de columnas\n",
    "marca.reset_index(inplace= True)\n",
    "marca.columns = ['marca', 'robados']"
   ]
  },
  {
   "cell_type": "code",
   "execution_count": 44,
   "metadata": {
    "Collapsed": "false"
   },
   "outputs": [],
   "source": [
    "# reseteo el indice para que marca quede como columna y cambio nombres de columnas\n",
    "marca_pats.reset_index(inplace = True)\n",
    "marca_pats.columns = ['marca', 'robados']"
   ]
  },
  {
   "cell_type": "code",
   "execution_count": 38,
   "metadata": {
    "Collapsed": "false"
   },
   "outputs": [],
   "source": [
    "#marca['rob_c_100m'] = (marca['robados'] * 100000) / marca_pats.loc[marca['marca']]['automotor_marca_descripcion']"
   ]
  },
  {
   "cell_type": "code",
   "execution_count": 59,
   "metadata": {
    "Collapsed": "false"
   },
   "outputs": [],
   "source": [
    "# mergeo robados por marca con patentados por marca\n",
    "marca_rel = marca.merge(marca_pats, how= 'left', on= 'marca')"
   ]
  },
  {
   "cell_type": "code",
   "execution_count": 60,
   "metadata": {
    "Collapsed": "false"
   },
   "outputs": [],
   "source": [
    "# cambio nombre de columnas\n",
    "marca_rel.columns = ('marca', 'robados', 'patentados')"
   ]
  },
  {
   "cell_type": "code",
   "execution_count": 61,
   "metadata": {
    "Collapsed": "false"
   },
   "outputs": [],
   "source": [
    "# genero columna de robos relativos\n",
    "marca_rel['rob_c_100m'] = (marca_rel['robados'] * 100000) / marca_rel['patentados']"
   ]
  },
  {
   "cell_type": "code",
   "execution_count": 65,
   "metadata": {
    "Collapsed": "false"
   },
   "outputs": [],
   "source": [
    "marca_rel.sort_values(by= 'rob_c_100m', ascending= False, inplace = True)"
   ]
  },
  {
   "cell_type": "code",
   "execution_count": 71,
   "metadata": {
    "Collapsed": "false"
   },
   "outputs": [],
   "source": [
    "# lo mismo con modelos\n",
    "modelo_pats = pd.DataFrame(pats['automotor_modelo_descripcion'].value_counts())"
   ]
  },
  {
   "cell_type": "code",
   "execution_count": 72,
   "metadata": {
    "Collapsed": "false"
   },
   "outputs": [],
   "source": [
    "modelo.reset_index(inplace= True)\n",
    "modelo.columns = ['modelo', 'robados']\n",
    "modelo_pats.reset_index(inplace= True)\n",
    "modelo_pats.columns = ['modelo', 'patentados']"
   ]
  },
  {
   "cell_type": "code",
   "execution_count": 104,
   "metadata": {
    "Collapsed": "false"
   },
   "outputs": [],
   "source": [
    "#quedarme con aquellos que tienen mas de 10 robos\n",
    "modelo = modelo[modelo['robados'] >=10]"
   ]
  },
  {
   "cell_type": "code",
   "execution_count": 105,
   "metadata": {
    "Collapsed": "false"
   },
   "outputs": [],
   "source": [
    "modelo_rel = modelo.merge(modelo_pats, how= 'left', on= 'modelo')"
   ]
  },
  {
   "cell_type": "code",
   "execution_count": 106,
   "metadata": {
    "Collapsed": "false"
   },
   "outputs": [],
   "source": [
    "modelo_rel.columns = ('modelo', 'robados', 'patentados')"
   ]
  },
  {
   "cell_type": "code",
   "execution_count": 107,
   "metadata": {
    "Collapsed": "false"
   },
   "outputs": [],
   "source": [
    "modelo_rel['rob_c_100m'] = (modelo_rel['robados'] * 100000) / modelo_rel['patentados']"
   ]
  },
  {
   "cell_type": "code",
   "execution_count": 108,
   "metadata": {
    "Collapsed": "false"
   },
   "outputs": [],
   "source": [
    "modelo_rel.sort_values(by= 'rob_c_100m', ascending= False, inplace= True) # inplace = True"
   ]
  },
  {
   "cell_type": "code",
   "execution_count": 83,
   "metadata": {
    "Collapsed": "false"
   },
   "outputs": [],
   "source": [
    "# veo recuperados patentados en 18/19\n",
    "recup = robos[robos['tramite_tipo'] == 'COMUNICACIÓN DE RECUPERO']"
   ]
  },
  {
   "cell_type": "code",
   "execution_count": 85,
   "metadata": {
    "Collapsed": "false"
   },
   "outputs": [],
   "source": [
    "recup18_19 = recup[(recup['año_pat'] == '2018') | (recup['año_pat'] == '2019')]"
   ]
  },
  {
   "cell_type": "code",
   "execution_count": 86,
   "metadata": {
    "Collapsed": "false"
   },
   "outputs": [
    {
     "data": {
      "text/plain": [
       "(58, 19)"
      ]
     },
     "execution_count": 86,
     "metadata": {},
     "output_type": "execute_result"
    }
   ],
   "source": [
    "recup18_19.shape"
   ]
  },
  {
   "cell_type": "code",
   "execution_count": 110,
   "metadata": {
    "Collapsed": "false"
   },
   "outputs": [
    {
     "data": {
      "text/html": [
       "<div>\n",
       "<style scoped>\n",
       "    .dataframe tbody tr th:only-of-type {\n",
       "        vertical-align: middle;\n",
       "    }\n",
       "\n",
       "    .dataframe tbody tr th {\n",
       "        vertical-align: top;\n",
       "    }\n",
       "\n",
       "    .dataframe thead th {\n",
       "        text-align: right;\n",
       "    }\n",
       "</style>\n",
       "<table border=\"1\" class=\"dataframe\">\n",
       "  <thead>\n",
       "    <tr style=\"text-align: right;\">\n",
       "      <th></th>\n",
       "      <th>modelo</th>\n",
       "      <th>robados</th>\n",
       "      <th>patentados</th>\n",
       "      <th>rob_c_100m</th>\n",
       "    </tr>\n",
       "  </thead>\n",
       "  <tbody>\n",
       "    <tr>\n",
       "      <td>32</td>\n",
       "      <td>FOX</td>\n",
       "      <td>12</td>\n",
       "      <td>3332</td>\n",
       "      <td>360.144058</td>\n",
       "    </tr>\n",
       "    <tr>\n",
       "      <td>28</td>\n",
       "      <td>MOVE</td>\n",
       "      <td>14</td>\n",
       "      <td>4006</td>\n",
       "      <td>349.475786</td>\n",
       "    </tr>\n",
       "    <tr>\n",
       "      <td>20</td>\n",
       "      <td>GOLF</td>\n",
       "      <td>24</td>\n",
       "      <td>6924</td>\n",
       "      <td>346.620451</td>\n",
       "    </tr>\n",
       "    <tr>\n",
       "      <td>19</td>\n",
       "      <td>BERLINGO</td>\n",
       "      <td>24</td>\n",
       "      <td>7149</td>\n",
       "      <td>335.711288</td>\n",
       "    </tr>\n",
       "    <tr>\n",
       "      <td>0</td>\n",
       "      <td>208</td>\n",
       "      <td>80</td>\n",
       "      <td>32160</td>\n",
       "      <td>248.756219</td>\n",
       "    </tr>\n",
       "    <tr>\n",
       "      <td>1</td>\n",
       "      <td>AMAROK</td>\n",
       "      <td>59</td>\n",
       "      <td>27113</td>\n",
       "      <td>217.607790</td>\n",
       "    </tr>\n",
       "    <tr>\n",
       "      <td>11</td>\n",
       "      <td>SURAN</td>\n",
       "      <td>31</td>\n",
       "      <td>15546</td>\n",
       "      <td>199.408208</td>\n",
       "    </tr>\n",
       "    <tr>\n",
       "      <td>30</td>\n",
       "      <td>HIGH</td>\n",
       "      <td>14</td>\n",
       "      <td>7408</td>\n",
       "      <td>188.984881</td>\n",
       "    </tr>\n",
       "    <tr>\n",
       "      <td>8</td>\n",
       "      <td>POLO</td>\n",
       "      <td>43</td>\n",
       "      <td>24570</td>\n",
       "      <td>175.010175</td>\n",
       "    </tr>\n",
       "    <tr>\n",
       "      <td>13</td>\n",
       "      <td>FIESTA</td>\n",
       "      <td>31</td>\n",
       "      <td>18018</td>\n",
       "      <td>172.050172</td>\n",
       "    </tr>\n",
       "    <tr>\n",
       "      <td>17</td>\n",
       "      <td>RENEGADE</td>\n",
       "      <td>28</td>\n",
       "      <td>16478</td>\n",
       "      <td>169.923534</td>\n",
       "    </tr>\n",
       "    <tr>\n",
       "      <td>29</td>\n",
       "      <td>FIORINO</td>\n",
       "      <td>14</td>\n",
       "      <td>8773</td>\n",
       "      <td>159.580531</td>\n",
       "    </tr>\n",
       "    <tr>\n",
       "      <td>12</td>\n",
       "      <td>LOGAN</td>\n",
       "      <td>31</td>\n",
       "      <td>19587</td>\n",
       "      <td>158.268239</td>\n",
       "    </tr>\n",
       "    <tr>\n",
       "      <td>4</td>\n",
       "      <td>SANDERO</td>\n",
       "      <td>48</td>\n",
       "      <td>31156</td>\n",
       "      <td>154.063423</td>\n",
       "    </tr>\n",
       "    <tr>\n",
       "      <td>14</td>\n",
       "      <td>KANGOO</td>\n",
       "      <td>30</td>\n",
       "      <td>20929</td>\n",
       "      <td>143.341775</td>\n",
       "    </tr>\n",
       "    <tr>\n",
       "      <td>33</td>\n",
       "      <td>SPIN</td>\n",
       "      <td>12</td>\n",
       "      <td>8447</td>\n",
       "      <td>142.062271</td>\n",
       "    </tr>\n",
       "    <tr>\n",
       "      <td>23</td>\n",
       "      <td>MOBI</td>\n",
       "      <td>23</td>\n",
       "      <td>16235</td>\n",
       "      <td>141.669233</td>\n",
       "    </tr>\n",
       "    <tr>\n",
       "      <td>9</td>\n",
       "      <td>ARGO</td>\n",
       "      <td>39</td>\n",
       "      <td>28199</td>\n",
       "      <td>138.302777</td>\n",
       "    </tr>\n",
       "    <tr>\n",
       "      <td>26</td>\n",
       "      <td>C3</td>\n",
       "      <td>18</td>\n",
       "      <td>13052</td>\n",
       "      <td>137.909899</td>\n",
       "    </tr>\n",
       "    <tr>\n",
       "      <td>5</td>\n",
       "      <td>GOL</td>\n",
       "      <td>47</td>\n",
       "      <td>34193</td>\n",
       "      <td>137.455035</td>\n",
       "    </tr>\n",
       "    <tr>\n",
       "      <td>24</td>\n",
       "      <td>FOCUS</td>\n",
       "      <td>22</td>\n",
       "      <td>16116</td>\n",
       "      <td>136.510300</td>\n",
       "    </tr>\n",
       "    <tr>\n",
       "      <td>15</td>\n",
       "      <td>RANGER</td>\n",
       "      <td>30</td>\n",
       "      <td>22874</td>\n",
       "      <td>131.153274</td>\n",
       "    </tr>\n",
       "    <tr>\n",
       "      <td>35</td>\n",
       "      <td>308</td>\n",
       "      <td>11</td>\n",
       "      <td>8648</td>\n",
       "      <td>127.197040</td>\n",
       "    </tr>\n",
       "    <tr>\n",
       "      <td>16</td>\n",
       "      <td>ECOSPORT</td>\n",
       "      <td>30</td>\n",
       "      <td>24833</td>\n",
       "      <td>120.806991</td>\n",
       "    </tr>\n",
       "    <tr>\n",
       "      <td>3</td>\n",
       "      <td>KA</td>\n",
       "      <td>52</td>\n",
       "      <td>43149</td>\n",
       "      <td>120.512642</td>\n",
       "    </tr>\n",
       "    <tr>\n",
       "      <td>2</td>\n",
       "      <td>HILUX</td>\n",
       "      <td>54</td>\n",
       "      <td>47700</td>\n",
       "      <td>113.207547</td>\n",
       "    </tr>\n",
       "    <tr>\n",
       "      <td>27</td>\n",
       "      <td>2008</td>\n",
       "      <td>16</td>\n",
       "      <td>14154</td>\n",
       "      <td>113.042250</td>\n",
       "    </tr>\n",
       "    <tr>\n",
       "      <td>10</td>\n",
       "      <td>KWID</td>\n",
       "      <td>33</td>\n",
       "      <td>30653</td>\n",
       "      <td>107.656673</td>\n",
       "    </tr>\n",
       "    <tr>\n",
       "      <td>6</td>\n",
       "      <td>ONIX</td>\n",
       "      <td>46</td>\n",
       "      <td>43257</td>\n",
       "      <td>106.341170</td>\n",
       "    </tr>\n",
       "    <tr>\n",
       "      <td>22</td>\n",
       "      <td>CRONOS</td>\n",
       "      <td>23</td>\n",
       "      <td>22338</td>\n",
       "      <td>102.963560</td>\n",
       "    </tr>\n",
       "    <tr>\n",
       "      <td>7</td>\n",
       "      <td>ETIOS</td>\n",
       "      <td>45</td>\n",
       "      <td>44011</td>\n",
       "      <td>102.247165</td>\n",
       "    </tr>\n",
       "    <tr>\n",
       "      <td>31</td>\n",
       "      <td>C4</td>\n",
       "      <td>12</td>\n",
       "      <td>12248</td>\n",
       "      <td>97.975180</td>\n",
       "    </tr>\n",
       "    <tr>\n",
       "      <td>25</td>\n",
       "      <td>COROLLA</td>\n",
       "      <td>20</td>\n",
       "      <td>21163</td>\n",
       "      <td>94.504560</td>\n",
       "    </tr>\n",
       "    <tr>\n",
       "      <td>36</td>\n",
       "      <td>TORO</td>\n",
       "      <td>10</td>\n",
       "      <td>10731</td>\n",
       "      <td>93.187960</td>\n",
       "    </tr>\n",
       "    <tr>\n",
       "      <td>18</td>\n",
       "      <td>PRISMA</td>\n",
       "      <td>27</td>\n",
       "      <td>35057</td>\n",
       "      <td>77.017429</td>\n",
       "    </tr>\n",
       "    <tr>\n",
       "      <td>34</td>\n",
       "      <td>PARTNER</td>\n",
       "      <td>11</td>\n",
       "      <td>14388</td>\n",
       "      <td>76.452599</td>\n",
       "    </tr>\n",
       "    <tr>\n",
       "      <td>21</td>\n",
       "      <td>DUSTER</td>\n",
       "      <td>24</td>\n",
       "      <td>39078</td>\n",
       "      <td>61.415630</td>\n",
       "    </tr>\n",
       "  </tbody>\n",
       "</table>\n",
       "</div>"
      ],
      "text/plain": [
       "      modelo  robados  patentados  rob_c_100m\n",
       "32       FOX       12        3332  360.144058\n",
       "28      MOVE       14        4006  349.475786\n",
       "20      GOLF       24        6924  346.620451\n",
       "19  BERLINGO       24        7149  335.711288\n",
       "0        208       80       32160  248.756219\n",
       "1     AMAROK       59       27113  217.607790\n",
       "11     SURAN       31       15546  199.408208\n",
       "30      HIGH       14        7408  188.984881\n",
       "8       POLO       43       24570  175.010175\n",
       "13    FIESTA       31       18018  172.050172\n",
       "17  RENEGADE       28       16478  169.923534\n",
       "29   FIORINO       14        8773  159.580531\n",
       "12     LOGAN       31       19587  158.268239\n",
       "4    SANDERO       48       31156  154.063423\n",
       "14    KANGOO       30       20929  143.341775\n",
       "33      SPIN       12        8447  142.062271\n",
       "23      MOBI       23       16235  141.669233\n",
       "9       ARGO       39       28199  138.302777\n",
       "26        C3       18       13052  137.909899\n",
       "5        GOL       47       34193  137.455035\n",
       "24     FOCUS       22       16116  136.510300\n",
       "15    RANGER       30       22874  131.153274\n",
       "35       308       11        8648  127.197040\n",
       "16  ECOSPORT       30       24833  120.806991\n",
       "3         KA       52       43149  120.512642\n",
       "2      HILUX       54       47700  113.207547\n",
       "27      2008       16       14154  113.042250\n",
       "10      KWID       33       30653  107.656673\n",
       "6       ONIX       46       43257  106.341170\n",
       "22    CRONOS       23       22338  102.963560\n",
       "7      ETIOS       45       44011  102.247165\n",
       "31        C4       12       12248   97.975180\n",
       "25   COROLLA       20       21163   94.504560\n",
       "36      TORO       10       10731   93.187960\n",
       "18    PRISMA       27       35057   77.017429\n",
       "34   PARTNER       11       14388   76.452599\n",
       "21    DUSTER       24       39078   61.415630"
      ]
     },
     "execution_count": 110,
     "metadata": {},
     "output_type": "execute_result"
    }
   ],
   "source": [
    "modelo_rel #ver bien lo de los modelos del UP (MOVE, HIGH)"
   ]
  },
  {
   "cell_type": "code",
   "execution_count": 111,
   "metadata": {
    "Collapsed": "false"
   },
   "outputs": [],
   "source": [
    "marca_rel.to_csv('./curados/robos_por_marca.csv', index= False)\n",
    "modelo_rel.to_csv('./curados/robos_por_modelo.csv', index= False)"
   ]
  },
  {
   "cell_type": "code",
   "execution_count": null,
   "metadata": {
    "Collapsed": "false"
   },
   "outputs": [],
   "source": []
  }
 ],
 "metadata": {
  "kernelspec": {
   "display_name": "Python 3",
   "language": "python",
   "name": "python3"
  },
  "language_info": {
   "codemirror_mode": {
    "name": "ipython",
    "version": 3
   },
   "file_extension": ".py",
   "mimetype": "text/x-python",
   "name": "python",
   "nbconvert_exporter": "python",
   "pygments_lexer": "ipython3",
   "version": "3.7.1"
  }
 },
 "nbformat": 4,
 "nbformat_minor": 4
}
